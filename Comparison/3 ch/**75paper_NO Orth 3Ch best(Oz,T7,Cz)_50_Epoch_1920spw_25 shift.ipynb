{
  "nbformat": 4,
  "nbformat_minor": 0,
  "metadata": {
    "colab": {
      "name": "paper model_109s_20Ch_Base_Normal_FitGenerate_15 Epoch.ipynb",
      "provenance": [],
      "collapsed_sections": [],
      "include_colab_link": true
    },
    "kernelspec": {
      "name": "python3",
      "display_name": "Python 3"
    },
    "accelerator": "GPU"
  },
  "cells": [
    {
      "cell_type": "markdown",
      "metadata": {
        "id": "view-in-github",
        "colab_type": "text"
      },
      "source": [
        "<a href=\"https://colab.research.google.com/github/helmana/DLeeg/blob/master/Comparison/3%20ch/**75paper_NO%20Orth%203Ch%20best(Oz%2CT7%2CCz)_50_Epoch_1920spw_25%20shift.ipynb\" target=\"_parent\"><img src=\"https://colab.research.google.com/assets/colab-badge.svg\" alt=\"Open In Colab\"/></a>"
      ]
    },
    {
      "cell_type": "code",
      "metadata": {
        "id": "rN9u930n3lP2",
        "colab_type": "code",
        "outputId": "bb98aa69-e8f1-4a70-b661-b4eb7ab2c2da",
        "colab": {
          "base_uri": "https://localhost:8080/",
          "height": 54
        }
      },
      "source": [
        "'''\n",
        "model : paper \"Convolutional Network for EEG-Based Biometric\"\n",
        "\n",
        ">> NO Orthogonal - 75% train data \n",
        "\n",
        "109 subject\n",
        "3 channel [61,40,10] \n",
        "trian task: REO \n",
        "sample_per_window = 1920\n",
        "** Train_sample_shift = 25\n",
        "\n",
        "TrainResult ([loss , acc])= [0.0012397207327861915, 0.9996827411167513]\n",
        "ValidationResult ([loss , acc])= [0.010172387735352298, 0.9978243670886076]\n",
        "TestResult ([loss , acc])= [0.00846302564962073, 0.9967570754716981]\n",
        "'''"
      ],
      "execution_count": 0,
      "outputs": [
        {
          "output_type": "execute_result",
          "data": {
            "text/plain": [
              "'\\nmodel : paper \"Convolutional Network for EEG-Based Biometric\"\\n\\n109 subject\\n3 channel [61,33,37] \\ntrian task: REO \\nsample_per_window = 1920\\n** Train_sample_shift = 8\\n\\nTrainResult ([loss , acc])= [0.002043920272163172, 1.0]\\nValidationResult ([loss , acc])= [0.028234976286043864, 0.989938446969697]\\nTestResult ([loss , acc])= [0.033901678802177426, 0.9881628787878788]\\n\\n'"
            ]
          },
          "metadata": {
            "tags": []
          },
          "execution_count": 33
        }
      ]
    },
    {
      "cell_type": "code",
      "metadata": {
        "id": "m0mZ_mkGW9ei",
        "colab_type": "code",
        "outputId": "8bfb4e53-c0fb-4016-f739-32bbb6c6963c",
        "colab": {
          "base_uri": "https://localhost:8080/",
          "height": 121
        }
      },
      "source": [
        "from google.colab import drive\n",
        "drive.mount('/content/drive')"
      ],
      "execution_count": 3,
      "outputs": [
        {
          "output_type": "stream",
          "text": [
            "Go to this URL in a browser: https://accounts.google.com/o/oauth2/auth?client_id=947318989803-6bn6qk8qdgf4n4g3pfee6491hc0brc4i.apps.googleusercontent.com&redirect_uri=urn%3aietf%3awg%3aoauth%3a2.0%3aoob&response_type=code&scope=email%20https%3a%2f%2fwww.googleapis.com%2fauth%2fdocs.test%20https%3a%2f%2fwww.googleapis.com%2fauth%2fdrive%20https%3a%2f%2fwww.googleapis.com%2fauth%2fdrive.photos.readonly%20https%3a%2f%2fwww.googleapis.com%2fauth%2fpeopleapi.readonly\n",
            "\n",
            "Enter your authorization code:\n",
            "··········\n",
            "Mounted at /content/drive\n"
          ],
          "name": "stdout"
        }
      ]
    },
    {
      "cell_type": "code",
      "metadata": {
        "id": "PrJcmKM5W_Tp",
        "colab_type": "code",
        "outputId": "03473d0c-ae40-4049-f243-6d4039227e69",
        "colab": {
          "base_uri": "https://localhost:8080/",
          "height": 155
        }
      },
      "source": [
        "!pip install mne"
      ],
      "execution_count": 4,
      "outputs": [
        {
          "output_type": "stream",
          "text": [
            "Collecting mne\n",
            "\u001b[?25l  Downloading https://files.pythonhosted.org/packages/a1/7c/ad1b52a3fdd4be8f55e183f1eff7d76f48cd1bee83c5630f9c26770e032e/mne-0.19.2-py3-none-any.whl (6.4MB)\n",
            "\u001b[K     |████████████████████████████████| 6.4MB 5.7MB/s \n",
            "\u001b[?25hRequirement already satisfied: numpy>=1.11.3 in /usr/local/lib/python3.6/dist-packages (from mne) (1.17.4)\n",
            "Requirement already satisfied: scipy>=0.17.1 in /usr/local/lib/python3.6/dist-packages (from mne) (1.3.3)\n",
            "Installing collected packages: mne\n",
            "Successfully installed mne-0.19.2\n"
          ],
          "name": "stdout"
        }
      ]
    },
    {
      "cell_type": "code",
      "metadata": {
        "id": "b0m9ijkKXNdn",
        "colab_type": "code",
        "outputId": "5ac84b52-4096-4840-f33e-de82a8168531",
        "colab": {
          "base_uri": "https://localhost:8080/",
          "height": 167
        }
      },
      "source": [
        "# For Visualization\n",
        "import matplotlib\n",
        "from matplotlib import pyplot as plt\n",
        "from mpl_toolkits.mplot3d import Axes3D  # noqa\n",
        "\n",
        "# General use\n",
        "import numpy as np\n",
        "import math\n",
        "import random\n",
        "\n",
        "\n",
        "# For model training\n",
        "from keras import layers\n",
        "from keras import models\n",
        "from keras import regularizers\n",
        "from keras.utils import to_categorical\n",
        "from keras import optimizers\n",
        "from keras import backend as KerasBackend\n",
        "\n",
        "\n",
        "# EEG Tools\n",
        "import mne\n",
        "from mne.preprocessing import create_ecg_epochs, create_eog_epochs\n",
        "from mne import io\n",
        "from mne import viz\n",
        "from mne import Epochs, io, pick_types\n",
        "from mne.event import define_target_events\n",
        "from mne.time_frequency import psd_welch\n",
        "print(__doc__)\n",
        "\n"
      ],
      "execution_count": 5,
      "outputs": [
        {
          "output_type": "stream",
          "text": [
            "Using TensorFlow backend.\n"
          ],
          "name": "stderr"
        },
        {
          "output_type": "display_data",
          "data": {
            "text/html": [
              "<p style=\"color: red;\">\n",
              "The default version of TensorFlow in Colab will soon switch to TensorFlow 2.x.<br>\n",
              "We recommend you <a href=\"https://www.tensorflow.org/guide/migrate\" target=\"_blank\">upgrade</a> now \n",
              "or ensure your notebook will continue to use TensorFlow 1.x via the <code>%tensorflow_version 1.x</code> magic:\n",
              "<a href=\"https://colab.research.google.com/notebooks/tensorflow_version.ipynb\" target=\"_blank\">more info</a>.</p>\n"
            ],
            "text/plain": [
              "<IPython.core.display.HTML object>"
            ]
          },
          "metadata": {
            "tags": []
          }
        },
        {
          "output_type": "stream",
          "text": [
            "/usr/local/lib/python3.6/dist-packages/numba/decorators.py:146: RuntimeWarning: Caching is not available when the 'parallel' target is in use. Caching is now being disabled to allow execution to continue.\n",
            "  warnings.warn(msg, RuntimeWarning)\n"
          ],
          "name": "stderr"
        },
        {
          "output_type": "stream",
          "text": [
            "Automatically created module for IPython interactive environment\n"
          ],
          "name": "stdout"
        }
      ]
    },
    {
      "cell_type": "code",
      "metadata": {
        "id": "iRRgIG0hXPuZ",
        "colab_type": "code",
        "colab": {}
      },
      "source": [
        "# Parameters:\n",
        "Orthogonal=0\n",
        "seed = 14\n",
        "EpochNum=50\n",
        "subject_number=109\n",
        "list_channel=[61,40,10] #(Oz, T7, Cz)\n",
        "#list_channel=[61] #Oz\n",
        "ch_number=len(list_channel)\n",
        "\n",
        "task_index = [1,2] # task: REO, REC\n",
        "train_task = 0\n",
        "test_task = 1\n",
        "task_number= len(task_index)\n",
        "task_time = 60\n",
        "sampel_number_per_sec =  160 # sampel rate\n",
        "total_sampel_number =  sampel_number_per_sec *task_time # 60*160\n",
        "\n",
        "sample_per_window = 1920 # 160 * 12 s\n",
        "\n",
        "Test_sample_shift = 25  # step len\n",
        "Train_sample_shift = 25  # step len\n",
        "\n",
        "window_len = 1\n",
        "batch_size = 64\n",
        "\n",
        "\n",
        "\n"
      ],
      "execution_count": 0,
      "outputs": []
    },
    {
      "cell_type": "code",
      "metadata": {
        "id": "yuVRJ97LXR74",
        "colab_type": "code",
        "colab": {}
      },
      "source": [
        "# load dataset in array\n",
        "task_number= len(task_index)\n",
        "\n",
        "# load dataset in array\n",
        "list_raw_fnames = [[0]*task_number]*subject_number\n",
        "for x in range(subject_number):\n",
        "  list_raw_fnames[x] = mne.datasets.eegbci.load_data(x+1,task_index,path='/content/drive/My Drive/Deep Results/Database')\n",
        "\n",
        "list_rawdata = np.zeros((subject_number,task_number), dtype='object')\n",
        "\n",
        "for i in range(subject_number):\n",
        "  for j in range(task_number):\n",
        "    list_rawdata[i][j] = mne.io.read_raw_edf(list_raw_fnames[i][j], preload=True)\n"
      ],
      "execution_count": 0,
      "outputs": []
    },
    {
      "cell_type": "code",
      "metadata": {
        "id": "jvR-l6hPXX-m",
        "colab_type": "code",
        "outputId": "53ba5357-c44e-4c4d-88e7-016d0ab822cc",
        "colab": {
          "base_uri": "https://localhost:8080/",
          "height": 51
        }
      },
      "source": [
        "# img for each subject\n",
        "Test_subject_img_number = math.floor((total_sampel_number - sample_per_window ) / Test_sample_shift) +1\n",
        "Train_subject_img_number = math.floor((total_sampel_number - sample_per_window ) / Train_sample_shift) +1\n",
        "\n",
        "np.random.seed(seed)  \n",
        "\n",
        "# subject number shuff\n",
        "subject_number_array_shuffled=np.arange(subject_number)\n",
        "np.random.shuffle(subject_number_array_shuffled)\n",
        "\n",
        "# test img shuff\n",
        "Test_subject_img_number_array_shuffled=np.arange(Test_subject_img_number)\n",
        "np.random.shuffle(Test_subject_img_number_array_shuffled)\n",
        "\n",
        "# train img suff\n",
        "Train_subject_img_number_array_shuffled=np.arange(Train_subject_img_number)\n",
        "np.random.shuffle(Train_subject_img_number_array_shuffled)\n",
        "\n",
        "\n",
        "train_index = math.floor(len(Train_subject_img_number_array_shuffled)* 0.75)\n",
        "val_index = train_index + (train_index//5)\n",
        "\n",
        "\n",
        "train_shuff = Train_subject_img_number_array_shuffled[:train_index]\n",
        "val_shuff = Train_subject_img_number_array_shuffled[train_index:val_index]\n",
        "test_shuff = Train_subject_img_number_array_shuffled[val_index:]\n",
        "\n",
        "#test_shuff = Test_subject_img_number_array_shuffled\n",
        "\n",
        "\n",
        "train_number = len(train_shuff)\n",
        "val_number = len(val_shuff)\n",
        "test_number = len(test_shuff)\n",
        "\n",
        "print(train_number , val_number, test_number)\n",
        "Train_subject_img_number"
      ],
      "execution_count": 29,
      "outputs": [
        {
          "output_type": "stream",
          "text": [
            "231 46 31\n"
          ],
          "name": "stdout"
        },
        {
          "output_type": "execute_result",
          "data": {
            "text/plain": [
              "308"
            ]
          },
          "metadata": {
            "tags": []
          },
          "execution_count": 29
        }
      ]
    },
    {
      "cell_type": "code",
      "metadata": {
        "id": "QWNMmJHMYQt5",
        "colab_type": "code",
        "colab": {}
      },
      "source": [
        "def normalize_channel_data(ch , i, ch_min, ch_max):\n",
        "  ch = ((ch - ch_min[i]) / (ch_max[i] - ch_min[i] ))\n",
        "  return ch\n",
        "\n",
        "\n",
        "def ProjectionVector(VecA,VecB):\n",
        "    Projeted_VecB_on_VecA=np.dot(VecA,VecB)/np.dot(VecA,VecA)*VecA\n",
        "    return Projeted_VecB_on_VecA\n",
        "\n"
      ],
      "execution_count": 0,
      "outputs": []
    },
    {
      "cell_type": "code",
      "metadata": {
        "id": "B6U5trsFYomx",
        "colab_type": "code",
        "colab": {}
      },
      "source": [
        "#################################################################################################\n",
        "## Define General Data Generator\n",
        "def GenerateGeneralData(task,ListChannel, BatchSize,ListRawDataMain,SubjectArrayShuffled,ImageArrayShuffled,WindowLen,OrthogonalFlag,SampleShift, SampelNumberPerwindow):\n",
        "    \n",
        "    Iter=0\n",
        "    #ch_number=64\n",
        "    \n",
        "    \n",
        "    ##########################################################\n",
        "    # Pre-Proceesing On Raw Data\n",
        "    ListRawDataTemp=ListRawDataMain.copy()\n",
        "    \n",
        "    DataAllChannelsRawPerSubject, times =(ListRawDataTemp[0][task][:64,:total_sampel_number])\n",
        "\n",
        "    DataChannelsRaw   =np.zeros((len(SubjectArrayShuffled),ch_number,times.size),dtype = float)\n",
        "    DataChannelsNormal=np.zeros((len(SubjectArrayShuffled),ch_number,times.size),dtype = float)\n",
        "    DataChannelsOrt   =np.zeros((len(SubjectArrayShuffled),ch_number,times.size),dtype = float)\n",
        "\n",
        "        \n",
        "    for s in SubjectArrayShuffled:\n",
        "\n",
        "        DataAllChannelsRawPerSubject, times =(ListRawDataTemp[s][task][:64,:total_sampel_number])\n",
        "        \n",
        "        # Extrac Channel T9 or T10 as Baseline\n",
        "        #DataChannelT9Raw =DataAllChannelsRawPerSubject[43]# Ch T9 (42) or T10 (43)\n",
        "\n",
        "\n",
        "        ch_max =[]\n",
        "        ch_min =[]\n",
        "        # Extract Selected Channels+ Remove Baseline+ Normailze\n",
        "        for i in range(len(ListChannel)):\n",
        "            DataChannelsRaw[s][i]=DataAllChannelsRawPerSubject[ListChannel[i]].copy() #-DataChannelT9Raw*RemoveBaseLineFlag\n",
        "\n",
        "            ch_max = np.append(ch_max, max(DataChannelsRaw[s][i])) # max for each cannel\n",
        "            ch_min = np.append(ch_min, min(DataChannelsRaw[s][i])) # min for each cannel\n",
        "\n",
        "            DataChannelsNormal[s][i]=normalize_channel_data(DataChannelsRaw[s][i].copy(), i, ch_min, ch_max)\n",
        "\n",
        "        # make Channels Orthogonal\n",
        "        DataChannelsOrt[s][0]=DataChannelsNormal[s][0]\n",
        "        DataChannelsOrt[s][1]=DataChannelsNormal[s][1]-ProjectionVector(DataChannelsOrt[s][0].copy(),DataChannelsNormal[s][1].copy())*OrthogonalFlag\n",
        "        DataChannelsOrt[s][2]=DataChannelsNormal[s][2]-ProjectionVector(DataChannelsOrt[s][0].copy(),DataChannelsNormal[s][2].copy())*OrthogonalFlag\\\n",
        "                                                      -ProjectionVector(DataChannelsOrt[s][1].copy(),DataChannelsNormal[s][2].copy())*OrthogonalFlag\n",
        "\n",
        "        \n",
        "        \n",
        "    ##########################################################\n",
        "    # Generate Data for Network\n",
        "    while True:\n",
        "\n",
        "      for j in ImageArrayShuffled:\n",
        "          for s in SubjectArrayShuffled:\n",
        "\n",
        "              if Iter ==0:\n",
        "                  Image=np.zeros((BatchSize, ch_number, WindowLen, SampelNumberPerwindow), dtype = float)\n",
        "                  Label=np.zeros((BatchSize),dtype=int)\n",
        "\n",
        "              for i in range(len(ListChannel)):\n",
        "                  for z in range (WindowLen):\n",
        "                      ExtractedData = DataChannelsOrt[s][i][0+j*SampleShift : SampelNumberPerwindow+ j*SampleShift]\n",
        "                      Image[Iter][i][z] = ExtractedData.copy()# Data\n",
        "\n",
        "              Label[Iter] = s # label\n",
        "\n",
        "              Iter=Iter+1\n",
        "              #Count=Count+1\n",
        "              if Iter==BatchSize:\n",
        "                Iter=0\n",
        "                #print('Count=',Count)\n",
        "                LabelClass=to_categorical(Label,len(SubjectArrayShuffled))\n",
        "                TI = np.moveaxis(Image, 1, -1)\n",
        "                yield TI, LabelClass \n",
        "\n",
        "                "
      ],
      "execution_count": 0,
      "outputs": []
    },
    {
      "cell_type": "code",
      "metadata": {
        "id": "A9T22r9ywTX2",
        "colab_type": "code",
        "colab": {}
      },
      "source": [
        "#####################################################################################################\n",
        "\n",
        "# Reset Model and Data Arrays\n",
        "\n",
        "list_rawdataTemp=list_rawdata.copy()\n",
        "\n",
        "    \n",
        "#################################################################################################\n",
        "# Construct Data Generator\n",
        "\n",
        "#task, BatchSize,ListRawDataMain,SubjectArrayShuffled, RemoveBaseLineFlag,\n",
        "#ImageArrayShuffled,WindowLen,SampleShift, SampelNumberPerwindow\n",
        "\n",
        "GenTrainData=GenerateGeneralData( task= train_task,\n",
        "                                  ListChannel=list_channel,\n",
        "                                  BatchSize=batch_size,\n",
        "                                  ListRawDataMain= list_rawdataTemp.copy(),\n",
        "                                  SubjectArrayShuffled= subject_number_array_shuffled,\n",
        "                                  ImageArrayShuffled=train_shuff,\n",
        "                                  WindowLen=window_len,\n",
        "                                  OrthogonalFlag=Orthogonal,\n",
        "                                  SampleShift= Train_sample_shift,\n",
        "                                  SampelNumberPerwindow =sample_per_window)\n",
        "\n",
        "GenValidationData =GenerateGeneralData( task= train_task,\n",
        "                                        ListChannel=list_channel,\n",
        "                                        BatchSize=batch_size,\n",
        "                                        ListRawDataMain=list_rawdataTemp.copy(),\n",
        "                                        SubjectArrayShuffled=subject_number_array_shuffled,\n",
        "                                        ImageArrayShuffled=val_shuff,\n",
        "                                        WindowLen=window_len,\n",
        "                                        OrthogonalFlag=Orthogonal,\n",
        "                                        SampleShift= Train_sample_shift, \n",
        "                                        SampelNumberPerwindow =sample_per_window)\n",
        "\n",
        "GenTestData=GenerateGeneralData(task= train_task,\n",
        "                                ListChannel=list_channel,\n",
        "                                BatchSize=batch_size,\n",
        "                                ListRawDataMain=list_rawdataTemp.copy(),\n",
        "                                SubjectArrayShuffled=subject_number_array_shuffled,\n",
        "                                ImageArrayShuffled=test_shuff,\n",
        "                                WindowLen=window_len,\n",
        "                                OrthogonalFlag=Orthogonal,\n",
        "                                SampleShift= Test_sample_shift,\n",
        "                                SampelNumberPerwindow =sample_per_window)\n",
        "\n",
        "#################################################################################################\n"
      ],
      "execution_count": 0,
      "outputs": []
    },
    {
      "cell_type": "code",
      "metadata": {
        "id": "WfpfYbUb0YrT",
        "colab_type": "code",
        "outputId": "11819833-02cc-414d-a095-c8548e765ff9",
        "colab": {
          "base_uri": "https://localhost:8080/",
          "height": 101
        }
      },
      "source": [
        "# Create Model\n",
        "model = models.Sequential()\n",
        "model.add(layers.Conv2D(filters=96, kernel_size=(1,11), activation = 'relu', input_shape = (window_len,sample_per_window,ch_number) ))\n",
        "print(model.output.shape)\n",
        "model.add(layers.MaxPooling2D(pool_size=(1,2), strides=4 ))\n",
        "print(model.output.shape)\n",
        "model.add(layers.Conv2D(filters=128, kernel_size=(1,9), activation = 'relu' ))\n",
        "print(model.output.shape)\n",
        "model.add(layers.MaxPooling2D(pool_size=(1,2), strides=2))\n",
        "print(model.output.shape)\n",
        "model.add(layers.Conv2D(filters=256, kernel_size=(1,9), activation = 'relu' ))\n",
        "print(model.output.shape)\n",
        "model.add(layers.MaxPooling2D(pool_size=(1,2), strides=2))\n",
        "\n",
        "model.add(layers.Flatten())\n",
        "model.add(layers.Dense(256, activation = 'relu'))\n",
        "model.add(layers.Dropout(0.5))\n",
        "model.add(layers.Dense(subject_number, activation = 'softmax'))\n",
        "\n",
        "model.compile(loss= 'categorical_crossentropy',\n",
        "              optimizer= optimizers.RMSprop(lr= 1e-4),\n",
        "              metrics = ['acc'])\n"
      ],
      "execution_count": 34,
      "outputs": [
        {
          "output_type": "stream",
          "text": [
            "(?, 1, 1910, 96)\n",
            "(?, 1, 478, 96)\n",
            "(?, 1, 470, 128)\n",
            "(?, 1, 235, 128)\n",
            "(?, 1, 227, 256)\n"
          ],
          "name": "stdout"
        }
      ]
    },
    {
      "cell_type": "code",
      "metadata": {
        "id": "8s7IeN4kwouS",
        "colab_type": "code",
        "outputId": "0a171fb4-1aa9-46b8-9c94-d5cbc24580af",
        "colab": {
          "base_uri": "https://localhost:8080/",
          "height": 1000
        }
      },
      "source": [
        "# Train the Model\n",
        "history = model.fit_generator(epochs =EpochNum,\n",
        "                              generator=GenTrainData,\n",
        "                              steps_per_epoch=np.ceil(train_number*subject_number/batch_size),\n",
        "                              validation_data=GenValidationData,\n",
        "                              validation_steps =np.ceil(val_number*subject_number/batch_size),\n",
        "                              use_multiprocessing=False,\n",
        "                              workers=1)\n",
        "\n",
        "#################################################################################################\n",
        "# Evalute the Model\n",
        "TrainResult      =model.evaluate_generator(GenTrainData,steps=np.ceil(train_number*subject_number/batch_size))\n",
        "ValidationResult =model.evaluate_generator(GenValidationData,steps=np.ceil(val_number*subject_number/batch_size))\n",
        "TestResult       =model.evaluate_generator(GenTestData,steps=np.ceil(test_number*subject_number/batch_size))\n",
        "print('     TrainResult ([loss , acc])=',TrainResult)\n",
        "print('ValidationResult ([loss , acc])=',ValidationResult)\n",
        "print('      TestResult ([loss , acc])=',TestResult)\n",
        "\n",
        "#################################################################################################\n",
        "# plot accuracy\n",
        "history_dict = history.history \n",
        "acc_values = history_dict ['acc'] \n",
        "val_acc_values = history_dict['val_acc']\n",
        "epochs = range(1, len(acc_values) + 1)\n",
        "\n",
        "\n",
        "#plt.clf()\n",
        "plt.plot(epochs, acc_values, 'bo', label='Training acc') \n",
        "plt.plot(epochs, val_acc_values, 'b', label='Validation acc') \n",
        "plt.title('Training and validation acc') \n",
        "plt.xlabel('Epochs') \n",
        "plt.ylabel('acc') \n",
        "plt.legend()\n",
        "plt.show()\n",
        "\n",
        "\n",
        "history_dict = history.history \n",
        "loss_values = history_dict ['loss'] \n",
        "val_loss_values = history_dict['val_loss']\n",
        "epochs = range(1, len(loss_values) + 1)\n",
        "\n",
        "plt.plot(epochs, loss_values, 'bo', label='Training loss') \n",
        "plt.plot(epochs, val_loss_values, 'b', label='Validation loss') \n",
        "plt.title('Training and validation loss') \n",
        "plt.xlabel('Epochs') \n",
        "plt.ylabel('Loss') \n",
        "plt.legend()\n",
        "plt.show()\n"
      ],
      "execution_count": 35,
      "outputs": [
        {
          "output_type": "stream",
          "text": [
            "Epoch 1/50\n",
            "394/394 [==============================] - 11s 27ms/step - loss: 4.0148 - acc: 0.0786 - val_loss: 3.0627 - val_acc: 0.2530\n",
            "Epoch 2/50\n",
            "394/394 [==============================] - 8s 21ms/step - loss: 2.9928 - acc: 0.2134 - val_loss: 2.2368 - val_acc: 0.3962\n",
            "Epoch 3/50\n",
            "394/394 [==============================] - 8s 21ms/step - loss: 2.3499 - acc: 0.3334 - val_loss: 1.6286 - val_acc: 0.5993\n",
            "Epoch 4/50\n",
            "394/394 [==============================] - 8s 20ms/step - loss: 1.8908 - acc: 0.4411 - val_loss: 1.1425 - val_acc: 0.7385\n",
            "Epoch 5/50\n",
            "394/394 [==============================] - 8s 20ms/step - loss: 1.5594 - acc: 0.5190 - val_loss: 1.0755 - val_acc: 0.6800\n",
            "Epoch 6/50\n",
            "394/394 [==============================] - 8s 21ms/step - loss: 1.3050 - acc: 0.5873 - val_loss: 0.7699 - val_acc: 0.8273\n",
            "Epoch 7/50\n",
            "394/394 [==============================] - 8s 20ms/step - loss: 1.0846 - acc: 0.6551 - val_loss: 0.7327 - val_acc: 0.7763\n",
            "Epoch 8/50\n",
            "394/394 [==============================] - 8s 20ms/step - loss: 0.9228 - acc: 0.7000 - val_loss: 0.4459 - val_acc: 0.8908\n",
            "Epoch 9/50\n",
            "394/394 [==============================] - 8s 21ms/step - loss: 0.8048 - acc: 0.7397 - val_loss: 0.3655 - val_acc: 0.9169\n",
            "Epoch 10/50\n",
            "394/394 [==============================] - 8s 20ms/step - loss: 0.6960 - acc: 0.7741 - val_loss: 0.3106 - val_acc: 0.9241\n",
            "Epoch 11/50\n",
            "394/394 [==============================] - 8s 20ms/step - loss: 0.6098 - acc: 0.7980 - val_loss: 0.2395 - val_acc: 0.9430\n",
            "Epoch 12/50\n",
            "394/394 [==============================] - 8s 20ms/step - loss: 0.5460 - acc: 0.8193 - val_loss: 0.2084 - val_acc: 0.9513\n",
            "Epoch 13/50\n",
            "394/394 [==============================] - 8s 21ms/step - loss: 0.4860 - acc: 0.8375 - val_loss: 0.1838 - val_acc: 0.9581\n",
            "Epoch 14/50\n",
            "394/394 [==============================] - 8s 20ms/step - loss: 0.4292 - acc: 0.8578 - val_loss: 0.2689 - val_acc: 0.9177\n",
            "Epoch 15/50\n",
            "394/394 [==============================] - 8s 20ms/step - loss: 0.3895 - acc: 0.8711 - val_loss: 0.1344 - val_acc: 0.9662\n",
            "Epoch 16/50\n",
            "394/394 [==============================] - 8s 20ms/step - loss: 0.3513 - acc: 0.8867 - val_loss: 0.1067 - val_acc: 0.9735\n",
            "Epoch 17/50\n",
            "394/394 [==============================] - 8s 20ms/step - loss: 0.3209 - acc: 0.8931 - val_loss: 0.1094 - val_acc: 0.9693\n",
            "Epoch 18/50\n",
            "394/394 [==============================] - 8s 21ms/step - loss: 0.2887 - acc: 0.9022 - val_loss: 0.0882 - val_acc: 0.9784\n",
            "Epoch 19/50\n",
            "394/394 [==============================] - 8s 21ms/step - loss: 0.2676 - acc: 0.9097 - val_loss: 0.0802 - val_acc: 0.9771\n",
            "Epoch 20/50\n",
            "394/394 [==============================] - 8s 21ms/step - loss: 0.2449 - acc: 0.9188 - val_loss: 0.0758 - val_acc: 0.9802\n",
            "Epoch 21/50\n",
            "394/394 [==============================] - 8s 20ms/step - loss: 0.2302 - acc: 0.9242 - val_loss: 0.0609 - val_acc: 0.9871\n",
            "Epoch 22/50\n",
            "394/394 [==============================] - 8s 20ms/step - loss: 0.2170 - acc: 0.9277 - val_loss: 0.0834 - val_acc: 0.9808\n",
            "Epoch 23/50\n",
            "394/394 [==============================] - 8s 20ms/step - loss: 0.1987 - acc: 0.9323 - val_loss: 0.0524 - val_acc: 0.9871\n",
            "Epoch 24/50\n",
            "394/394 [==============================] - 8s 20ms/step - loss: 0.1801 - acc: 0.9397 - val_loss: 0.0841 - val_acc: 0.9735\n",
            "Epoch 25/50\n",
            "394/394 [==============================] - 8s 20ms/step - loss: 0.1718 - acc: 0.9435 - val_loss: 0.0832 - val_acc: 0.9759\n",
            "Epoch 26/50\n",
            "394/394 [==============================] - 8s 20ms/step - loss: 0.1641 - acc: 0.9458 - val_loss: 0.0545 - val_acc: 0.9818\n",
            "Epoch 27/50\n",
            "394/394 [==============================] - 8s 20ms/step - loss: 0.1426 - acc: 0.9528 - val_loss: 0.0289 - val_acc: 0.9931\n",
            "Epoch 28/50\n",
            "394/394 [==============================] - 8s 20ms/step - loss: 0.1429 - acc: 0.9513 - val_loss: 0.0268 - val_acc: 0.9945\n",
            "Epoch 29/50\n",
            "394/394 [==============================] - 8s 21ms/step - loss: 0.1382 - acc: 0.9552 - val_loss: 0.0248 - val_acc: 0.9933\n",
            "Epoch 30/50\n",
            "394/394 [==============================] - 8s 20ms/step - loss: 0.1307 - acc: 0.9561 - val_loss: 0.0333 - val_acc: 0.9899\n",
            "Epoch 31/50\n",
            "394/394 [==============================] - 8s 21ms/step - loss: 0.1231 - acc: 0.9594 - val_loss: 0.0242 - val_acc: 0.9937\n",
            "Epoch 32/50\n",
            "394/394 [==============================] - 8s 21ms/step - loss: 0.1089 - acc: 0.9625 - val_loss: 0.0516 - val_acc: 0.9850\n",
            "Epoch 33/50\n",
            "394/394 [==============================] - 8s 21ms/step - loss: 0.1104 - acc: 0.9633 - val_loss: 0.0583 - val_acc: 0.9802\n",
            "Epoch 34/50\n",
            "394/394 [==============================] - 8s 20ms/step - loss: 0.1103 - acc: 0.9642 - val_loss: 0.0239 - val_acc: 0.9947\n",
            "Epoch 35/50\n",
            "394/394 [==============================] - 8s 20ms/step - loss: 0.0983 - acc: 0.9676 - val_loss: 0.0203 - val_acc: 0.9960\n",
            "Epoch 36/50\n",
            "394/394 [==============================] - 8s 20ms/step - loss: 0.0922 - acc: 0.9688 - val_loss: 0.0384 - val_acc: 0.9895\n",
            "Epoch 37/50\n",
            "394/394 [==============================] - 8s 20ms/step - loss: 0.0931 - acc: 0.9685 - val_loss: 0.0227 - val_acc: 0.9951\n",
            "Epoch 38/50\n",
            "394/394 [==============================] - 8s 20ms/step - loss: 0.0950 - acc: 0.9689 - val_loss: 0.1825 - val_acc: 0.9401\n",
            "Epoch 39/50\n",
            "394/394 [==============================] - 8s 21ms/step - loss: 0.0853 - acc: 0.9729 - val_loss: 0.0128 - val_acc: 0.9976\n",
            "Epoch 40/50\n",
            "394/394 [==============================] - 8s 20ms/step - loss: 0.0812 - acc: 0.9741 - val_loss: 0.0127 - val_acc: 0.9970\n",
            "Epoch 41/50\n",
            "394/394 [==============================] - 8s 21ms/step - loss: 0.0815 - acc: 0.9731 - val_loss: 0.1484 - val_acc: 0.9468\n",
            "Epoch 42/50\n",
            "394/394 [==============================] - 8s 21ms/step - loss: 0.0760 - acc: 0.9758 - val_loss: 0.0102 - val_acc: 0.9978\n",
            "Epoch 43/50\n",
            "394/394 [==============================] - 8s 20ms/step - loss: 0.0737 - acc: 0.9759 - val_loss: 0.0392 - val_acc: 0.9887\n",
            "Epoch 44/50\n",
            "394/394 [==============================] - 8s 20ms/step - loss: 0.0744 - acc: 0.9754 - val_loss: 0.0119 - val_acc: 0.9970\n",
            "Epoch 45/50\n",
            "394/394 [==============================] - 8s 21ms/step - loss: 0.0670 - acc: 0.9778 - val_loss: 0.0126 - val_acc: 0.9970\n",
            "Epoch 46/50\n",
            "394/394 [==============================] - 8s 21ms/step - loss: 0.0690 - acc: 0.9773 - val_loss: 0.0104 - val_acc: 0.9980\n",
            "Epoch 47/50\n",
            "394/394 [==============================] - 8s 20ms/step - loss: 0.0699 - acc: 0.9769 - val_loss: 0.0103 - val_acc: 0.9984\n",
            "Epoch 48/50\n",
            "394/394 [==============================] - 8s 20ms/step - loss: 0.0676 - acc: 0.9782 - val_loss: 0.0145 - val_acc: 0.9968\n",
            "Epoch 49/50\n",
            "394/394 [==============================] - 8s 20ms/step - loss: 0.0651 - acc: 0.9795 - val_loss: 0.0693 - val_acc: 0.9751\n",
            "Epoch 50/50\n",
            "394/394 [==============================] - 8s 21ms/step - loss: 0.0609 - acc: 0.9802 - val_loss: 0.0102 - val_acc: 0.9978\n",
            "     TrainResult ([loss , acc])= [0.0012397207327861915, 0.9996827411167513]\n",
            "ValidationResult ([loss , acc])= [0.010172387735352298, 0.9978243670886076]\n",
            "      TestResult ([loss , acc])= [0.00846302564962073, 0.9967570754716981]\n"
          ],
          "name": "stdout"
        },
        {
          "output_type": "display_data",
          "data": {
            "image/png": "[encoded data removed]",
            "text/plain": [
              "<Figure size 432x288 with 1 Axes>"
            ]
          },
          "metadata": {
            "tags": []
          }
        },
        {
          "output_type": "display_data",
          "data": {
            "image/png": "[encoded data removed]",
            "text/plain": [
              "<Figure size 432x288 with 1 Axes>"
            ]
          },
          "metadata": {
            "tags": []
          }
        }
      ]
    },
    {
      "cell_type": "code",
      "metadata": {
        "id": "KjlN5Tg4mNMb",
        "colab_type": "code",
        "colab": {}
      },
      "source": [
        ""
      ],
      "execution_count": 0,
      "outputs": []
    }
  ]
}