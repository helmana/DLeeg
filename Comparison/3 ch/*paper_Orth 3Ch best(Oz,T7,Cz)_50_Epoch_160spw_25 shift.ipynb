{
  "nbformat": 4,
  "nbformat_minor": 0,
  "metadata": {
    "colab": {
      "name": "paper model_109s_20Ch_Base_Normal_FitGenerate_15 Epoch.ipynb",
      "provenance": [],
      "collapsed_sections": [],
      "include_colab_link": true
    },
    "kernelspec": {
      "name": "python3",
      "display_name": "Python 3"
    },
    "accelerator": "GPU"
  },
  "cells": [
    {
      "cell_type": "markdown",
      "metadata": {
        "id": "view-in-github",
        "colab_type": "text"
      },
      "source": [
        "<a href=\"https://colab.research.google.com/github/helmana/DLeeg/blob/master/Comparison/3%20ch/*paper_Orth%203Ch%20best(Oz%2CT7%2CCz)_50_Epoch_25%20shift.ipynb\" target=\"_parent\"><img src=\"https://colab.research.google.com/assets/colab-badge.svg\" alt=\"Open In Colab\"/></a>"
      ]
    },
    {
      "cell_type": "code",
      "metadata": {
        "id": "rN9u930n3lP2",
        "colab_type": "code",
        "outputId": "bb98aa69-e8f1-4a70-b661-b4eb7ab2c2da",
        "colab": {
          "base_uri": "https://localhost:8080/",
          "height": 54
        }
      },
      "source": [
        "'''\n",
        "model : paper \"Convolutional Network for EEG-Based Biometric\"\n",
        "\n",
        ">> Orthogonal\n",
        "\n",
        "109 subject\n",
        "3 channel [61,40,10] \n",
        "trian task: REO \n",
        "sample_per_window = 160\n",
        "** Train_sample_shift = 25\n",
        "\n",
        "TrainResult ([loss , acc])= [0.8115997651348943, 0.7597534937888198]\n",
        "ValidationResult ([loss , acc])= [0.8486951434093973, 0.7389363354037267]\n",
        "TestResult ([loss , acc])= [0.9038658874270357, 0.7295524691358025]\n",
        "\n",
        "'''"
      ],
      "execution_count": 0,
      "outputs": [
        {
          "output_type": "execute_result",
          "data": {
            "text/plain": [
              "'\\nmodel : paper \"Convolutional Network for EEG-Based Biometric\"\\n\\n109 subject\\n3 channel [61,33,37] \\ntrian task: REO \\nsample_per_window = 1920\\n** Train_sample_shift = 8\\n\\nTrainResult ([loss , acc])= [0.002043920272163172, 1.0]\\nValidationResult ([loss , acc])= [0.028234976286043864, 0.989938446969697]\\nTestResult ([loss , acc])= [0.033901678802177426, 0.9881628787878788]\\n\\n'"
            ]
          },
          "metadata": {
            "tags": []
          },
          "execution_count": 33
        }
      ]
    },
    {
      "cell_type": "code",
      "metadata": {
        "id": "m0mZ_mkGW9ei",
        "colab_type": "code",
        "outputId": "0f23ee6b-d6cd-49ac-acee-cc20df07bd41",
        "colab": {
          "base_uri": "https://localhost:8080/",
          "height": 121
        }
      },
      "source": [
        "from google.colab import drive\n",
        "drive.mount('/content/drive')"
      ],
      "execution_count": 1,
      "outputs": [
        {
          "output_type": "stream",
          "text": [
            "Go to this URL in a browser: https://accounts.google.com/o/oauth2/auth?client_id=947318989803-6bn6qk8qdgf4n4g3pfee6491hc0brc4i.apps.googleusercontent.com&redirect_uri=urn%3aietf%3awg%3aoauth%3a2.0%3aoob&response_type=code&scope=email%20https%3a%2f%2fwww.googleapis.com%2fauth%2fdocs.test%20https%3a%2f%2fwww.googleapis.com%2fauth%2fdrive%20https%3a%2f%2fwww.googleapis.com%2fauth%2fdrive.photos.readonly%20https%3a%2f%2fwww.googleapis.com%2fauth%2fpeopleapi.readonly\n",
            "\n",
            "Enter your authorization code:\n",
            "··········\n",
            "Mounted at /content/drive\n"
          ],
          "name": "stdout"
        }
      ]
    },
    {
      "cell_type": "code",
      "metadata": {
        "id": "PrJcmKM5W_Tp",
        "colab_type": "code",
        "outputId": "8afcc162-1185-4d56-dfc6-4c0fb02fdbb3",
        "colab": {
          "base_uri": "https://localhost:8080/",
          "height": 67
        }
      },
      "source": [
        "!pip install mne"
      ],
      "execution_count": 3,
      "outputs": [
        {
          "output_type": "stream",
          "text": [
            "Requirement already satisfied: mne in /usr/local/lib/python3.6/dist-packages (0.19.2)\n",
            "Requirement already satisfied: numpy>=1.11.3 in /usr/local/lib/python3.6/dist-packages (from mne) (1.17.4)\n",
            "Requirement already satisfied: scipy>=0.17.1 in /usr/local/lib/python3.6/dist-packages (from mne) (1.3.3)\n"
          ],
          "name": "stdout"
        }
      ]
    },
    {
      "cell_type": "code",
      "metadata": {
        "id": "b0m9ijkKXNdn",
        "colab_type": "code",
        "outputId": "1349e12f-9444-4057-f9fd-5f43ba28b4a0",
        "colab": {
          "base_uri": "https://localhost:8080/",
          "height": 167
        }
      },
      "source": [
        "# For Visualization\n",
        "import matplotlib\n",
        "from matplotlib import pyplot as plt\n",
        "from mpl_toolkits.mplot3d import Axes3D  # noqa\n",
        "\n",
        "# General use\n",
        "import numpy as np\n",
        "import math\n",
        "import random\n",
        "\n",
        "\n",
        "# For model training\n",
        "from keras import layers\n",
        "from keras import models\n",
        "from keras import regularizers\n",
        "from keras.utils import to_categorical\n",
        "from keras import optimizers\n",
        "from keras import backend as KerasBackend\n",
        "\n",
        "\n",
        "# EEG Tools\n",
        "import mne\n",
        "from mne.preprocessing import create_ecg_epochs, create_eog_epochs\n",
        "from mne import io\n",
        "from mne import viz\n",
        "from mne import Epochs, io, pick_types\n",
        "from mne.event import define_target_events\n",
        "from mne.time_frequency import psd_welch\n",
        "print(__doc__)\n",
        "\n"
      ],
      "execution_count": 4,
      "outputs": [
        {
          "output_type": "stream",
          "text": [
            "Using TensorFlow backend.\n"
          ],
          "name": "stderr"
        },
        {
          "output_type": "display_data",
          "data": {
            "text/html": [
              "<p style=\"color: red;\">\n",
              "The default version of TensorFlow in Colab will soon switch to TensorFlow 2.x.<br>\n",
              "We recommend you <a href=\"https://www.tensorflow.org/guide/migrate\" target=\"_blank\">upgrade</a> now \n",
              "or ensure your notebook will continue to use TensorFlow 1.x via the <code>%tensorflow_version 1.x</code> magic:\n",
              "<a href=\"https://colab.research.google.com/notebooks/tensorflow_version.ipynb\" target=\"_blank\">more info</a>.</p>\n"
            ],
            "text/plain": [
              "<IPython.core.display.HTML object>"
            ]
          },
          "metadata": {
            "tags": []
          }
        },
        {
          "output_type": "stream",
          "text": [
            "/usr/local/lib/python3.6/dist-packages/numba/decorators.py:146: RuntimeWarning: Caching is not available when the 'parallel' target is in use. Caching is now being disabled to allow execution to continue.\n",
            "  warnings.warn(msg, RuntimeWarning)\n"
          ],
          "name": "stderr"
        },
        {
          "output_type": "stream",
          "text": [
            "Automatically created module for IPython interactive environment\n"
          ],
          "name": "stdout"
        }
      ]
    },
    {
      "cell_type": "code",
      "metadata": {
        "id": "iRRgIG0hXPuZ",
        "colab_type": "code",
        "colab": {}
      },
      "source": [
        "# Parameters:\n",
        "Orthogonal=1\n",
        "seed = 14\n",
        "EpochNum=50\n",
        "subject_number=109\n",
        "list_channel=[61,40,10] #(Oz, T7, Cz)\n",
        "#list_channel=[61] #Oz\n",
        "ch_number=len(list_channel)\n",
        "\n",
        "task_index = [1,2] # task: REO, REC\n",
        "train_task = 0\n",
        "test_task = 1\n",
        "task_number= len(task_index)\n",
        "task_time = 60\n",
        "sampel_number_per_sec =  160 # sampel rate\n",
        "total_sampel_number =  sampel_number_per_sec *task_time # 60*160\n",
        "\n",
        "sample_per_window = 160 # 160 * 1 s\n",
        "\n",
        "Test_sample_shift = 25  # step len\n",
        "Train_sample_shift = 25  # step len\n",
        "\n",
        "window_len = 1\n",
        "batch_size = 64\n",
        "\n",
        "\n",
        "\n"
      ],
      "execution_count": 0,
      "outputs": []
    },
    {
      "cell_type": "code",
      "metadata": {
        "id": "yuVRJ97LXR74",
        "colab_type": "code",
        "colab": {}
      },
      "source": [
        "# load dataset in array\n",
        "task_number= len(task_index)\n",
        "\n",
        "# load dataset in array\n",
        "list_raw_fnames = [[0]*task_number]*subject_number\n",
        "for x in range(subject_number):\n",
        "  list_raw_fnames[x] = mne.datasets.eegbci.load_data(x+1,task_index,path='/content/drive/My Drive/Deep Results/Database')\n",
        "\n",
        "list_rawdata = np.zeros((subject_number,task_number), dtype='object')\n",
        "\n",
        "for i in range(subject_number):\n",
        "  for j in range(task_number):\n",
        "    list_rawdata[i][j] = mne.io.read_raw_edf(list_raw_fnames[i][j], preload=True)\n"
      ],
      "execution_count": 0,
      "outputs": []
    },
    {
      "cell_type": "code",
      "metadata": {
        "id": "jvR-l6hPXX-m",
        "colab_type": "code",
        "outputId": "d4c5bd0c-ccc4-4fc5-ec38-d64d8d2145cf",
        "colab": {
          "base_uri": "https://localhost:8080/",
          "height": 51
        }
      },
      "source": [
        "# img for each subject\n",
        "Test_subject_img_number = math.floor((total_sampel_number - sample_per_window ) / Test_sample_shift) +1\n",
        "Train_subject_img_number = math.floor((total_sampel_number - sample_per_window ) / Train_sample_shift) +1\n",
        "\n",
        "np.random.seed(seed)  \n",
        "\n",
        "# subject number shuff\n",
        "subject_number_array_shuffled=np.arange(subject_number)\n",
        "np.random.shuffle(subject_number_array_shuffled)\n",
        "\n",
        "# test img shuff\n",
        "Test_subject_img_number_array_shuffled=np.arange(Test_subject_img_number)\n",
        "np.random.shuffle(Test_subject_img_number_array_shuffled)\n",
        "\n",
        "# train img suff\n",
        "Train_subject_img_number_array_shuffled=np.arange(Train_subject_img_number)\n",
        "np.random.shuffle(Train_subject_img_number_array_shuffled)\n",
        "\n",
        "\n",
        "train_index = len(Train_subject_img_number_array_shuffled) // 2\n",
        "val_index = train_index + len(Train_subject_img_number_array_shuffled)//4\n",
        "\n",
        "\n",
        "train_shuff = Train_subject_img_number_array_shuffled[:train_index]\n",
        "val_shuff = Train_subject_img_number_array_shuffled[train_index:val_index]\n",
        "test_shuff = Train_subject_img_number_array_shuffled[val_index:]\n",
        "\n",
        "#test_shuff = Test_subject_img_number_array_shuffled\n",
        "\n",
        "\n",
        "train_number = len(train_shuff)\n",
        "val_number = len(val_shuff)\n",
        "test_number = len(test_shuff)\n",
        "\n",
        "print(train_number , val_number, test_number)\n",
        "Train_subject_img_number"
      ],
      "execution_count": 21,
      "outputs": [
        {
          "output_type": "stream",
          "text": [
            "189 94 95\n"
          ],
          "name": "stdout"
        },
        {
          "output_type": "execute_result",
          "data": {
            "text/plain": [
              "378"
            ]
          },
          "metadata": {
            "tags": []
          },
          "execution_count": 21
        }
      ]
    },
    {
      "cell_type": "code",
      "metadata": {
        "id": "QWNMmJHMYQt5",
        "colab_type": "code",
        "colab": {}
      },
      "source": [
        "def normalize_channel_data(ch , i, ch_min, ch_max):\n",
        "  ch = ((ch - ch_min[i]) / (ch_max[i] - ch_min[i] ))\n",
        "  return ch\n",
        "\n",
        "\n",
        "def ProjectionVector(VecA,VecB):\n",
        "    Projeted_VecB_on_VecA=np.dot(VecA,VecB)/np.dot(VecA,VecA)*VecA\n",
        "    return Projeted_VecB_on_VecA\n",
        "\n"
      ],
      "execution_count": 0,
      "outputs": []
    },
    {
      "cell_type": "code",
      "metadata": {
        "id": "B6U5trsFYomx",
        "colab_type": "code",
        "colab": {}
      },
      "source": [
        "#################################################################################################\n",
        "## Define General Data Generator\n",
        "def GenerateGeneralData(task,ListChannel, BatchSize,ListRawDataMain,SubjectArrayShuffled,ImageArrayShuffled,WindowLen,OrthogonalFlag,SampleShift, SampelNumberPerwindow):\n",
        "    \n",
        "    Iter=0\n",
        "    #ch_number=64\n",
        "    \n",
        "    \n",
        "    ##########################################################\n",
        "    # Pre-Proceesing On Raw Data\n",
        "    ListRawDataTemp=ListRawDataMain.copy()\n",
        "    \n",
        "    DataAllChannelsRawPerSubject, times =(ListRawDataTemp[0][task][:64,:total_sampel_number])\n",
        "\n",
        "    DataChannelsRaw   =np.zeros((len(SubjectArrayShuffled),ch_number,times.size),dtype = float)\n",
        "    DataChannelsNormal=np.zeros((len(SubjectArrayShuffled),ch_number,times.size),dtype = float)\n",
        "    DataChannelsOrt   =np.zeros((len(SubjectArrayShuffled),ch_number,times.size),dtype = float)\n",
        "\n",
        "        \n",
        "    for s in SubjectArrayShuffled:\n",
        "\n",
        "        DataAllChannelsRawPerSubject, times =(ListRawDataTemp[s][task][:64,:total_sampel_number])\n",
        "        \n",
        "        # Extrac Channel T9 or T10 as Baseline\n",
        "        #DataChannelT9Raw =DataAllChannelsRawPerSubject[43]# Ch T9 (42) or T10 (43)\n",
        "\n",
        "\n",
        "        ch_max =[]\n",
        "        ch_min =[]\n",
        "        # Extract Selected Channels+ Remove Baseline+ Normailze\n",
        "        for i in range(len(ListChannel)):\n",
        "            DataChannelsRaw[s][i]=DataAllChannelsRawPerSubject[ListChannel[i]].copy() #-DataChannelT9Raw*RemoveBaseLineFlag\n",
        "\n",
        "            ch_max = np.append(ch_max, max(DataChannelsRaw[s][i])) # max for each cannel\n",
        "            ch_min = np.append(ch_min, min(DataChannelsRaw[s][i])) # min for each cannel\n",
        "\n",
        "            DataChannelsNormal[s][i]=normalize_channel_data(DataChannelsRaw[s][i].copy(), i, ch_min, ch_max)\n",
        "\n",
        "        # make Channels Orthogonal\n",
        "        DataChannelsOrt[s][0]=DataChannelsNormal[s][0]\n",
        "        DataChannelsOrt[s][1]=DataChannelsNormal[s][1]-ProjectionVector(DataChannelsOrt[s][0].copy(),DataChannelsNormal[s][1].copy())*OrthogonalFlag\n",
        "        DataChannelsOrt[s][2]=DataChannelsNormal[s][2]-ProjectionVector(DataChannelsOrt[s][0].copy(),DataChannelsNormal[s][2].copy())*OrthogonalFlag\\\n",
        "                                                      -ProjectionVector(DataChannelsOrt[s][1].copy(),DataChannelsNormal[s][2].copy())*OrthogonalFlag\n",
        "\n",
        "        \n",
        "        \n",
        "    ##########################################################\n",
        "    # Generate Data for Network\n",
        "    while True:\n",
        "\n",
        "      for j in ImageArrayShuffled:\n",
        "          for s in SubjectArrayShuffled:\n",
        "\n",
        "              if Iter ==0:\n",
        "                  Image=np.zeros((BatchSize, ch_number, WindowLen, SampelNumberPerwindow), dtype = float)\n",
        "                  Label=np.zeros((BatchSize),dtype=int)\n",
        "\n",
        "              for i in range(len(ListChannel)):\n",
        "                  for z in range (WindowLen):\n",
        "                      ExtractedData = DataChannelsOrt[s][i][0+j*SampleShift : SampelNumberPerwindow+ j*SampleShift]\n",
        "                      Image[Iter][i][z] = ExtractedData.copy()# Data\n",
        "\n",
        "              Label[Iter] = s # label\n",
        "\n",
        "              Iter=Iter+1\n",
        "              #Count=Count+1\n",
        "              if Iter==BatchSize:\n",
        "                Iter=0\n",
        "                #print('Count=',Count)\n",
        "                LabelClass=to_categorical(Label,len(SubjectArrayShuffled))\n",
        "                TI = np.moveaxis(Image, 1, -1)\n",
        "                yield TI, LabelClass \n",
        "\n",
        "                "
      ],
      "execution_count": 0,
      "outputs": []
    },
    {
      "cell_type": "code",
      "metadata": {
        "id": "A9T22r9ywTX2",
        "colab_type": "code",
        "colab": {}
      },
      "source": [
        "#####################################################################################################\n",
        "\n",
        "# Reset Model and Data Arrays\n",
        "\n",
        "list_rawdataTemp=list_rawdata.copy()\n",
        "\n",
        "    \n",
        "#################################################################################################\n",
        "# Construct Data Generator\n",
        "\n",
        "#task, BatchSize,ListRawDataMain,SubjectArrayShuffled, RemoveBaseLineFlag,\n",
        "#ImageArrayShuffled,WindowLen,SampleShift, SampelNumberPerwindow\n",
        "\n",
        "GenTrainData=GenerateGeneralData( task= train_task,\n",
        "                                  ListChannel=list_channel,\n",
        "                                  BatchSize=batch_size,\n",
        "                                  ListRawDataMain= list_rawdataTemp.copy(),\n",
        "                                  SubjectArrayShuffled= subject_number_array_shuffled,\n",
        "                                  ImageArrayShuffled=train_shuff,\n",
        "                                  WindowLen=window_len,\n",
        "                                  OrthogonalFlag=Orthogonal,\n",
        "                                  SampleShift= Train_sample_shift,\n",
        "                                  SampelNumberPerwindow =sample_per_window)\n",
        "\n",
        "GenValidationData =GenerateGeneralData( task= train_task,\n",
        "                                        ListChannel=list_channel,\n",
        "                                        BatchSize=batch_size,\n",
        "                                        ListRawDataMain=list_rawdataTemp.copy(),\n",
        "                                        SubjectArrayShuffled=subject_number_array_shuffled,\n",
        "                                        ImageArrayShuffled=val_shuff,\n",
        "                                        WindowLen=window_len,\n",
        "                                        OrthogonalFlag=Orthogonal,\n",
        "                                        SampleShift= Train_sample_shift, \n",
        "                                        SampelNumberPerwindow =sample_per_window)\n",
        "\n",
        "GenTestData=GenerateGeneralData(task= train_task,\n",
        "                                ListChannel=list_channel,\n",
        "                                BatchSize=batch_size,\n",
        "                                ListRawDataMain=list_rawdataTemp.copy(),\n",
        "                                SubjectArrayShuffled=subject_number_array_shuffled,\n",
        "                                ImageArrayShuffled=test_shuff,\n",
        "                                WindowLen=window_len,\n",
        "                                OrthogonalFlag=Orthogonal,\n",
        "                                SampleShift= Test_sample_shift,\n",
        "                                SampelNumberPerwindow =sample_per_window)\n",
        "\n",
        "#################################################################################################\n"
      ],
      "execution_count": 0,
      "outputs": []
    },
    {
      "cell_type": "code",
      "metadata": {
        "id": "WfpfYbUb0YrT",
        "colab_type": "code",
        "outputId": "88db4383-9f4f-40b6-bb11-b2ec26f1dc60",
        "colab": {
          "base_uri": "https://localhost:8080/",
          "height": 101
        }
      },
      "source": [
        "# Create Model\n",
        "model = models.Sequential()\n",
        "model.add(layers.Conv2D(filters=96, kernel_size=(1,11), activation = 'relu', input_shape = (window_len,sample_per_window,ch_number) ))\n",
        "print(model.output.shape)\n",
        "model.add(layers.MaxPooling2D(pool_size=(1,2), strides=4 ))\n",
        "print(model.output.shape)\n",
        "model.add(layers.Conv2D(filters=128, kernel_size=(1,9), activation = 'relu' ))\n",
        "print(model.output.shape)\n",
        "model.add(layers.MaxPooling2D(pool_size=(1,2), strides=2))\n",
        "print(model.output.shape)\n",
        "model.add(layers.Conv2D(filters=256, kernel_size=(1,9), activation = 'relu' ))\n",
        "print(model.output.shape)\n",
        "model.add(layers.MaxPooling2D(pool_size=(1,2), strides=2))\n",
        "\n",
        "model.add(layers.Flatten())\n",
        "model.add(layers.Dense(256, activation = 'relu'))\n",
        "model.add(layers.Dropout(0.5))\n",
        "model.add(layers.Dense(subject_number, activation = 'softmax'))\n",
        "\n",
        "model.compile(loss= 'categorical_crossentropy',\n",
        "              optimizer= optimizers.RMSprop(lr= 1e-4),\n",
        "              metrics = ['acc'])\n"
      ],
      "execution_count": 25,
      "outputs": [
        {
          "output_type": "stream",
          "text": [
            "(?, 1, 150, 96)\n",
            "(?, 1, 38, 96)\n",
            "(?, 1, 30, 128)\n",
            "(?, 1, 15, 128)\n",
            "(?, 1, 7, 256)\n"
          ],
          "name": "stdout"
        }
      ]
    },
    {
      "cell_type": "code",
      "metadata": {
        "id": "8s7IeN4kwouS",
        "colab_type": "code",
        "outputId": "43e207f7-9c59-4b50-ce1f-2106e6f6c840",
        "colab": {
          "base_uri": "https://localhost:8080/",
          "height": 1000
        }
      },
      "source": [
        "# Train the Model\n",
        "history = model.fit_generator(epochs =EpochNum,\n",
        "                              generator=GenTrainData,\n",
        "                              steps_per_epoch=np.ceil(train_number*subject_number/batch_size),\n",
        "                              validation_data=GenValidationData,\n",
        "                              validation_steps =np.ceil(val_number*subject_number/batch_size),\n",
        "                              use_multiprocessing=False,\n",
        "                              workers=1)\n",
        "\n",
        "#################################################################################################\n",
        "# Evalute the Model\n",
        "TrainResult      =model.evaluate_generator(GenTrainData,steps=np.ceil(train_number*subject_number/batch_size))\n",
        "ValidationResult =model.evaluate_generator(GenValidationData,steps=np.ceil(val_number*subject_number/batch_size))\n",
        "TestResult       =model.evaluate_generator(GenTestData,steps=np.ceil(test_number*subject_number/batch_size))\n",
        "print('     TrainResult ([loss , acc])=',TrainResult)\n",
        "print('ValidationResult ([loss , acc])=',ValidationResult)\n",
        "print('      TestResult ([loss , acc])=',TestResult)\n",
        "\n",
        "#################################################################################################\n",
        "# plot accuracy\n",
        "history_dict = history.history \n",
        "acc_values = history_dict ['acc'] \n",
        "val_acc_values = history_dict['val_acc']\n",
        "epochs = range(1, len(acc_values) + 1)\n",
        "\n",
        "\n",
        "#plt.clf()\n",
        "plt.plot(epochs, acc_values, 'bo', label='Training acc') \n",
        "plt.plot(epochs, val_acc_values, 'b', label='Validation acc') \n",
        "plt.title('Training and validation acc') \n",
        "plt.xlabel('Epochs') \n",
        "plt.ylabel('acc') \n",
        "plt.legend()\n",
        "plt.show()\n",
        "\n",
        "\n",
        "history_dict = history.history \n",
        "loss_values = history_dict ['loss'] \n",
        "val_loss_values = history_dict['val_loss']\n",
        "epochs = range(1, len(loss_values) + 1)\n",
        "\n",
        "plt.plot(epochs, loss_values, 'bo', label='Training loss') \n",
        "plt.plot(epochs, val_loss_values, 'b', label='Validation loss') \n",
        "plt.title('Training and validation loss') \n",
        "plt.xlabel('Epochs') \n",
        "plt.ylabel('Loss') \n",
        "plt.legend()\n",
        "plt.show()\n"
      ],
      "execution_count": 26,
      "outputs": [
        {
          "output_type": "stream",
          "text": [
            "Epoch 1/50\n",
            "322/322 [==============================] - 4s 14ms/step - loss: 4.5910 - acc: 0.0207 - val_loss: 4.3681 - val_acc: 0.0288\n",
            "Epoch 2/50\n",
            "322/322 [==============================] - 2s 7ms/step - loss: 4.3006 - acc: 0.0358 - val_loss: 4.0521 - val_acc: 0.0494\n",
            "Epoch 3/50\n",
            "322/322 [==============================] - 2s 7ms/step - loss: 4.0780 - acc: 0.0500 - val_loss: 3.7937 - val_acc: 0.0757\n",
            "Epoch 4/50\n",
            "322/322 [==============================] - 2s 7ms/step - loss: 3.8644 - acc: 0.0660 - val_loss: 3.5543 - val_acc: 0.1049\n",
            "Epoch 5/50\n",
            "322/322 [==============================] - 2s 7ms/step - loss: 3.6946 - acc: 0.0824 - val_loss: 3.4523 - val_acc: 0.1276\n",
            "Epoch 6/50\n",
            "322/322 [==============================] - 2s 7ms/step - loss: 3.5526 - acc: 0.0979 - val_loss: 3.2448 - val_acc: 0.1675\n",
            "Epoch 7/50\n",
            "322/322 [==============================] - 2s 7ms/step - loss: 3.4255 - acc: 0.1121 - val_loss: 3.2021 - val_acc: 0.1768\n",
            "Epoch 8/50\n",
            "322/322 [==============================] - 2s 7ms/step - loss: 3.3132 - acc: 0.1257 - val_loss: 2.9786 - val_acc: 0.2319\n",
            "Epoch 9/50\n",
            "322/322 [==============================] - 2s 7ms/step - loss: 3.1789 - acc: 0.1469 - val_loss: 2.9178 - val_acc: 0.2342\n",
            "Epoch 10/50\n",
            "322/322 [==============================] - 2s 7ms/step - loss: 3.0416 - acc: 0.1766 - val_loss: 2.6933 - val_acc: 0.2812\n",
            "Epoch 11/50\n",
            "322/322 [==============================] - 2s 7ms/step - loss: 2.9215 - acc: 0.1908 - val_loss: 2.5837 - val_acc: 0.3055\n",
            "Epoch 12/50\n",
            "322/322 [==============================] - 2s 7ms/step - loss: 2.8000 - acc: 0.2154 - val_loss: 2.4333 - val_acc: 0.3553\n",
            "Epoch 13/50\n",
            "322/322 [==============================] - 2s 7ms/step - loss: 2.7080 - acc: 0.2341 - val_loss: 2.3772 - val_acc: 0.3515\n",
            "Epoch 14/50\n",
            "322/322 [==============================] - 2s 7ms/step - loss: 2.6308 - acc: 0.2489 - val_loss: 2.2258 - val_acc: 0.4143\n",
            "Epoch 15/50\n",
            "322/322 [==============================] - 2s 7ms/step - loss: 2.5348 - acc: 0.2664 - val_loss: 2.1553 - val_acc: 0.4318\n",
            "Epoch 16/50\n",
            "322/322 [==============================] - 2s 7ms/step - loss: 2.4475 - acc: 0.2874 - val_loss: 2.0633 - val_acc: 0.4623\n",
            "Epoch 17/50\n",
            "322/322 [==============================] - 2s 7ms/step - loss: 2.3571 - acc: 0.3118 - val_loss: 1.9954 - val_acc: 0.4689\n",
            "Epoch 18/50\n",
            "322/322 [==============================] - 2s 7ms/step - loss: 2.2833 - acc: 0.3288 - val_loss: 1.8778 - val_acc: 0.4984\n",
            "Epoch 19/50\n",
            "322/322 [==============================] - 2s 7ms/step - loss: 2.1908 - acc: 0.3499 - val_loss: 1.8408 - val_acc: 0.4999\n",
            "Epoch 20/50\n",
            "322/322 [==============================] - 2s 7ms/step - loss: 2.1168 - acc: 0.3662 - val_loss: 1.7143 - val_acc: 0.5348\n",
            "Epoch 21/50\n",
            "322/322 [==============================] - 2s 7ms/step - loss: 2.0511 - acc: 0.3861 - val_loss: 1.7498 - val_acc: 0.5091\n",
            "Epoch 22/50\n",
            "322/322 [==============================] - 2s 7ms/step - loss: 1.9958 - acc: 0.3976 - val_loss: 1.7487 - val_acc: 0.4968\n",
            "Epoch 23/50\n",
            "322/322 [==============================] - 2s 7ms/step - loss: 1.9423 - acc: 0.4107 - val_loss: 1.6571 - val_acc: 0.5266\n",
            "Epoch 24/50\n",
            "322/322 [==============================] - 2s 7ms/step - loss: 1.8828 - acc: 0.4264 - val_loss: 1.6586 - val_acc: 0.5037\n",
            "Epoch 25/50\n",
            "322/322 [==============================] - 2s 7ms/step - loss: 1.8322 - acc: 0.4384 - val_loss: 1.5551 - val_acc: 0.5439\n",
            "Epoch 26/50\n",
            "322/322 [==============================] - 2s 7ms/step - loss: 1.7855 - acc: 0.4530 - val_loss: 1.4735 - val_acc: 0.5740\n",
            "Epoch 27/50\n",
            "322/322 [==============================] - 2s 7ms/step - loss: 1.7354 - acc: 0.4645 - val_loss: 1.4545 - val_acc: 0.5878\n",
            "Epoch 28/50\n",
            "322/322 [==============================] - 2s 7ms/step - loss: 1.6833 - acc: 0.4821 - val_loss: 1.3560 - val_acc: 0.6054\n",
            "Epoch 29/50\n",
            "322/322 [==============================] - 2s 7ms/step - loss: 1.6471 - acc: 0.4892 - val_loss: 1.3458 - val_acc: 0.6093\n",
            "Epoch 30/50\n",
            "322/322 [==============================] - 2s 7ms/step - loss: 1.6022 - acc: 0.5055 - val_loss: 1.2894 - val_acc: 0.6221\n",
            "Epoch 31/50\n",
            "322/322 [==============================] - 2s 7ms/step - loss: 1.5627 - acc: 0.5132 - val_loss: 1.2647 - val_acc: 0.6266\n",
            "Epoch 32/50\n",
            "322/322 [==============================] - 2s 7ms/step - loss: 1.5055 - acc: 0.5297 - val_loss: 1.2045 - val_acc: 0.6480\n",
            "Epoch 33/50\n",
            "322/322 [==============================] - 2s 7ms/step - loss: 1.4788 - acc: 0.5400 - val_loss: 1.2567 - val_acc: 0.6206\n",
            "Epoch 34/50\n",
            "322/322 [==============================] - 2s 7ms/step - loss: 1.4359 - acc: 0.5516 - val_loss: 1.1392 - val_acc: 0.6627\n",
            "Epoch 35/50\n",
            "322/322 [==============================] - 2s 7ms/step - loss: 1.3962 - acc: 0.5626 - val_loss: 1.1760 - val_acc: 0.6374\n",
            "Epoch 36/50\n",
            "322/322 [==============================] - 2s 7ms/step - loss: 1.3619 - acc: 0.5732 - val_loss: 1.0605 - val_acc: 0.6916\n",
            "Epoch 37/50\n",
            "322/322 [==============================] - 2s 7ms/step - loss: 1.3329 - acc: 0.5831 - val_loss: 1.0561 - val_acc: 0.6878\n",
            "Epoch 38/50\n",
            "322/322 [==============================] - 2s 7ms/step - loss: 1.2971 - acc: 0.5932 - val_loss: 1.0222 - val_acc: 0.6985\n",
            "Epoch 39/50\n",
            "322/322 [==============================] - 2s 7ms/step - loss: 1.2661 - acc: 0.6004 - val_loss: 1.0335 - val_acc: 0.6911\n",
            "Epoch 40/50\n",
            "322/322 [==============================] - 2s 7ms/step - loss: 1.2484 - acc: 0.6053 - val_loss: 0.9749 - val_acc: 0.7096\n",
            "Epoch 41/50\n",
            "322/322 [==============================] - 2s 7ms/step - loss: 1.2175 - acc: 0.6138 - val_loss: 1.0036 - val_acc: 0.6910\n",
            "Epoch 42/50\n",
            "322/322 [==============================] - 2s 7ms/step - loss: 1.1899 - acc: 0.6238 - val_loss: 1.0529 - val_acc: 0.6754\n",
            "Epoch 43/50\n",
            "322/322 [==============================] - 2s 7ms/step - loss: 1.1646 - acc: 0.6309 - val_loss: 0.9155 - val_acc: 0.7294\n",
            "Epoch 44/50\n",
            "322/322 [==============================] - 2s 8ms/step - loss: 1.1447 - acc: 0.6350 - val_loss: 0.9196 - val_acc: 0.7204\n",
            "Epoch 45/50\n",
            "322/322 [==============================] - 2s 7ms/step - loss: 1.1247 - acc: 0.6440 - val_loss: 0.8866 - val_acc: 0.7353\n",
            "Epoch 46/50\n",
            "322/322 [==============================] - 2s 7ms/step - loss: 1.1039 - acc: 0.6505 - val_loss: 0.8797 - val_acc: 0.7400\n",
            "Epoch 47/50\n",
            "322/322 [==============================] - 2s 7ms/step - loss: 1.0806 - acc: 0.6550 - val_loss: 0.8610 - val_acc: 0.7470\n",
            "Epoch 48/50\n",
            "322/322 [==============================] - 2s 7ms/step - loss: 1.0629 - acc: 0.6615 - val_loss: 0.8601 - val_acc: 0.7427\n",
            "Epoch 49/50\n",
            "322/322 [==============================] - 2s 7ms/step - loss: 1.0460 - acc: 0.6669 - val_loss: 1.0413 - val_acc: 0.6665\n",
            "Epoch 50/50\n",
            "322/322 [==============================] - 2s 7ms/step - loss: 1.0265 - acc: 0.6746 - val_loss: 0.8458 - val_acc: 0.7396\n",
            "     TrainResult ([loss , acc])= [0.8115997651348943, 0.7597534937888198]\n",
            "ValidationResult ([loss , acc])= [0.8486951434093973, 0.7389363354037267]\n",
            "      TestResult ([loss , acc])= [0.9038658874270357, 0.7295524691358025]\n"
          ],
          "name": "stdout"
        },
        {
          "output_type": "display_data",
          "data": {
            "image/png": "[encoded data removed]",
            "text/plain": [
              "<Figure size 432x288 with 1 Axes>"
            ]
          },
          "metadata": {
            "tags": []
          }
        },
        {
          "output_type": "display_data",
          "data": {
            "image/png": "[encoded data removed]",
            "text/plain": [
              "<Figure size 432x288 with 1 Axes>"
            ]
          },
          "metadata": {
            "tags": []
          }
        }
      ]
    },
    {
      "cell_type": "code",
      "metadata": {
        "id": "rQE_m_9LS6jU",
        "colab_type": "code",
        "colab": {}
      },
      "source": [
        "Comparison/3 ch/paper_model_109s_3Ch_Normal_FitGenerate_50_Epoch_8 shift.ipynb\n"
      ],
      "execution_count": 0,
      "outputs": []
    }
  ]
}
