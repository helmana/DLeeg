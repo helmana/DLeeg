{
  "nbformat": 4,
  "nbformat_minor": 0,
  "metadata": {
    "colab": {
      "name": "paper model_109s_20Ch_Base_Normal_FitGenerate_15 Epoch.ipynb",
      "provenance": [],
      "collapsed_sections": [],
      "include_colab_link": true
    },
    "kernelspec": {
      "name": "python3",
      "display_name": "Python 3"
    },
    "accelerator": "GPU"
  },
  "cells": [
    {
      "cell_type": "markdown",
      "metadata": {
        "id": "view-in-github",
        "colab_type": "text"
      },
      "source": [
        "<a href=\"https://colab.research.google.com/github/helmana/DLeeg/blob/master/Comparison/3%20ch/**75paper_NO%20Orth%203Ch%20best(Oz%2CT7%2CCz)_50_Epoch_160spw_25%20shift.ipynb\" target=\"_parent\"><img src=\"https://colab.research.google.com/assets/colab-badge.svg\" alt=\"Open In Colab\"/></a>"
      ]
    },
    {
      "cell_type": "code",
      "metadata": {
        "id": "rN9u930n3lP2",
        "colab_type": "code",
        "outputId": "bb98aa69-e8f1-4a70-b661-b4eb7ab2c2da",
        "colab": {
          "base_uri": "https://localhost:8080/",
          "height": 54
        }
      },
      "source": [
        "'''\n",
        "model : paper \"Convolutional Network for EEG-Based Biometric\"\n",
        "\n",
        ">> NO  Orthogonal - 75% train data \n",
        "\n",
        "109 subject\n",
        "3 channel [61,40,10] \n",
        "trian task: REO \n",
        "sample_per_window = 160\n",
        "** Train_sample_shift = 25\n",
        "\n",
        "TrainResult ([loss , acc])= [0.9525255210914058, 0.7143088692946058]\n",
        "ValidationResult ([loss , acc])= [1.0775952984889348, 0.6769205729166666]\n",
        "TestResult ([loss , acc])= [1.0997091255970854, 0.679570895522388]\n",
        "\n",
        "'''"
      ],
      "execution_count": 0,
      "outputs": [
        {
          "output_type": "execute_result",
          "data": {
            "text/plain": [
              "'\\nmodel : paper \"Convolutional Network for EEG-Based Biometric\"\\n\\n109 subject\\n3 channel [61,33,37] \\ntrian task: REO \\nsample_per_window = 1920\\n** Train_sample_shift = 8\\n\\nTrainResult ([loss , acc])= [0.002043920272163172, 1.0]\\nValidationResult ([loss , acc])= [0.028234976286043864, 0.989938446969697]\\nTestResult ([loss , acc])= [0.033901678802177426, 0.9881628787878788]\\n\\n'"
            ]
          },
          "metadata": {
            "tags": []
          },
          "execution_count": 33
        }
      ]
    },
    {
      "cell_type": "code",
      "metadata": {
        "id": "m0mZ_mkGW9ei",
        "colab_type": "code",
        "outputId": "0f23ee6b-d6cd-49ac-acee-cc20df07bd41",
        "colab": {
          "base_uri": "https://localhost:8080/",
          "height": 121
        }
      },
      "source": [
        "from google.colab import drive\n",
        "drive.mount('/content/drive')"
      ],
      "execution_count": 1,
      "outputs": [
        {
          "output_type": "stream",
          "text": [
            "Go to this URL in a browser: https://accounts.google.com/o/oauth2/auth?client_id=947318989803-6bn6qk8qdgf4n4g3pfee6491hc0brc4i.apps.googleusercontent.com&redirect_uri=urn%3aietf%3awg%3aoauth%3a2.0%3aoob&response_type=code&scope=email%20https%3a%2f%2fwww.googleapis.com%2fauth%2fdocs.test%20https%3a%2f%2fwww.googleapis.com%2fauth%2fdrive%20https%3a%2f%2fwww.googleapis.com%2fauth%2fdrive.photos.readonly%20https%3a%2f%2fwww.googleapis.com%2fauth%2fpeopleapi.readonly\n",
            "\n",
            "Enter your authorization code:\n",
            "··········\n",
            "Mounted at /content/drive\n"
          ],
          "name": "stdout"
        }
      ]
    },
    {
      "cell_type": "code",
      "metadata": {
        "id": "PrJcmKM5W_Tp",
        "colab_type": "code",
        "outputId": "8afcc162-1185-4d56-dfc6-4c0fb02fdbb3",
        "colab": {
          "base_uri": "https://localhost:8080/",
          "height": 67
        }
      },
      "source": [
        "!pip install mne"
      ],
      "execution_count": 3,
      "outputs": [
        {
          "output_type": "stream",
          "text": [
            "Requirement already satisfied: mne in /usr/local/lib/python3.6/dist-packages (0.19.2)\n",
            "Requirement already satisfied: numpy>=1.11.3 in /usr/local/lib/python3.6/dist-packages (from mne) (1.17.4)\n",
            "Requirement already satisfied: scipy>=0.17.1 in /usr/local/lib/python3.6/dist-packages (from mne) (1.3.3)\n"
          ],
          "name": "stdout"
        }
      ]
    },
    {
      "cell_type": "code",
      "metadata": {
        "id": "b0m9ijkKXNdn",
        "colab_type": "code",
        "outputId": "1349e12f-9444-4057-f9fd-5f43ba28b4a0",
        "colab": {
          "base_uri": "https://localhost:8080/",
          "height": 167
        }
      },
      "source": [
        "# For Visualization\n",
        "import matplotlib\n",
        "from matplotlib import pyplot as plt\n",
        "from mpl_toolkits.mplot3d import Axes3D  # noqa\n",
        "\n",
        "# General use\n",
        "import numpy as np\n",
        "import math\n",
        "import random\n",
        "\n",
        "\n",
        "# For model training\n",
        "from keras import layers\n",
        "from keras import models\n",
        "from keras import regularizers\n",
        "from keras.utils import to_categorical\n",
        "from keras import optimizers\n",
        "from keras import backend as KerasBackend\n",
        "\n",
        "\n",
        "# EEG Tools\n",
        "import mne\n",
        "from mne.preprocessing import create_ecg_epochs, create_eog_epochs\n",
        "from mne import io\n",
        "from mne import viz\n",
        "from mne import Epochs, io, pick_types\n",
        "from mne.event import define_target_events\n",
        "from mne.time_frequency import psd_welch\n",
        "print(__doc__)\n",
        "\n"
      ],
      "execution_count": 4,
      "outputs": [
        {
          "output_type": "stream",
          "text": [
            "Using TensorFlow backend.\n"
          ],
          "name": "stderr"
        },
        {
          "output_type": "display_data",
          "data": {
            "text/html": [
              "<p style=\"color: red;\">\n",
              "The default version of TensorFlow in Colab will soon switch to TensorFlow 2.x.<br>\n",
              "We recommend you <a href=\"https://www.tensorflow.org/guide/migrate\" target=\"_blank\">upgrade</a> now \n",
              "or ensure your notebook will continue to use TensorFlow 1.x via the <code>%tensorflow_version 1.x</code> magic:\n",
              "<a href=\"https://colab.research.google.com/notebooks/tensorflow_version.ipynb\" target=\"_blank\">more info</a>.</p>\n"
            ],
            "text/plain": [
              "<IPython.core.display.HTML object>"
            ]
          },
          "metadata": {
            "tags": []
          }
        },
        {
          "output_type": "stream",
          "text": [
            "/usr/local/lib/python3.6/dist-packages/numba/decorators.py:146: RuntimeWarning: Caching is not available when the 'parallel' target is in use. Caching is now being disabled to allow execution to continue.\n",
            "  warnings.warn(msg, RuntimeWarning)\n"
          ],
          "name": "stderr"
        },
        {
          "output_type": "stream",
          "text": [
            "Automatically created module for IPython interactive environment\n"
          ],
          "name": "stdout"
        }
      ]
    },
    {
      "cell_type": "code",
      "metadata": {
        "id": "iRRgIG0hXPuZ",
        "colab_type": "code",
        "colab": {}
      },
      "source": [
        "# Parameters:\n",
        "Orthogonal=0\n",
        "seed = 14\n",
        "EpochNum=50\n",
        "subject_number=109\n",
        "list_channel=[61,40,10] #(Oz, T7, Cz)\n",
        "#list_channel=[61] #Oz\n",
        "ch_number=len(list_channel)\n",
        "\n",
        "task_index = [1,2] # task: REO, REC\n",
        "train_task = 0\n",
        "test_task = 1\n",
        "task_number= len(task_index)\n",
        "task_time = 60\n",
        "sampel_number_per_sec =  160 # sampel rate\n",
        "total_sampel_number =  sampel_number_per_sec *task_time # 60*160\n",
        "\n",
        "sample_per_window = 160 # 160 * 12 s\n",
        "\n",
        "Test_sample_shift = 25  # step len\n",
        "Train_sample_shift = 25  # step len\n",
        "\n",
        "window_len = 1\n",
        "batch_size = 64\n",
        "\n",
        "\n",
        "\n"
      ],
      "execution_count": 0,
      "outputs": []
    },
    {
      "cell_type": "code",
      "metadata": {
        "id": "yuVRJ97LXR74",
        "colab_type": "code",
        "colab": {}
      },
      "source": [
        "# load dataset in array\n",
        "task_number= len(task_index)\n",
        "\n",
        "# load dataset in array\n",
        "list_raw_fnames = [[0]*task_number]*subject_number\n",
        "for x in range(subject_number):\n",
        "  list_raw_fnames[x] = mne.datasets.eegbci.load_data(x+1,task_index,path='/content/drive/My Drive/Deep Results/Database')\n",
        "\n",
        "list_rawdata = np.zeros((subject_number,task_number), dtype='object')\n",
        "\n",
        "for i in range(subject_number):\n",
        "  for j in range(task_number):\n",
        "    list_rawdata[i][j] = mne.io.read_raw_edf(list_raw_fnames[i][j], preload=True)\n"
      ],
      "execution_count": 0,
      "outputs": []
    },
    {
      "cell_type": "code",
      "metadata": {
        "id": "jvR-l6hPXX-m",
        "colab_type": "code",
        "outputId": "4f3bed24-7fd1-4a02-9c15-5389b4ef21e0",
        "colab": {
          "base_uri": "https://localhost:8080/",
          "height": 51
        }
      },
      "source": [
        "# img for each subject\n",
        "Test_subject_img_number = math.floor((total_sampel_number - sample_per_window ) / Test_sample_shift) +1\n",
        "Train_subject_img_number = math.floor((total_sampel_number - sample_per_window ) / Train_sample_shift) +1\n",
        "\n",
        "np.random.seed(seed)  \n",
        "\n",
        "# subject number shuff\n",
        "subject_number_array_shuffled=np.arange(subject_number)\n",
        "np.random.shuffle(subject_number_array_shuffled)\n",
        "\n",
        "# test img shuff\n",
        "Test_subject_img_number_array_shuffled=np.arange(Test_subject_img_number)\n",
        "np.random.shuffle(Test_subject_img_number_array_shuffled)\n",
        "\n",
        "# train img suff\n",
        "Train_subject_img_number_array_shuffled=np.arange(Train_subject_img_number)\n",
        "np.random.shuffle(Train_subject_img_number_array_shuffled)\n",
        "\n",
        "\n",
        "train_index = math.floor(len(Train_subject_img_number_array_shuffled)* 0.75)\n",
        "val_index = train_index + (train_index//5)\n",
        "\n",
        "\n",
        "train_shuff = Train_subject_img_number_array_shuffled[:train_index]\n",
        "val_shuff = Train_subject_img_number_array_shuffled[train_index:val_index]\n",
        "test_shuff = Train_subject_img_number_array_shuffled[val_index:]\n",
        "\n",
        "#test_shuff = Test_subject_img_number_array_shuffled\n",
        "\n",
        "\n",
        "train_number = len(train_shuff)\n",
        "val_number = len(val_shuff)\n",
        "test_number = len(test_shuff)\n",
        "\n",
        "print(train_number , val_number, test_number)\n",
        "Train_subject_img_number"
      ],
      "execution_count": 74,
      "outputs": [
        {
          "output_type": "stream",
          "text": [
            "283 56 39\n"
          ],
          "name": "stdout"
        },
        {
          "output_type": "execute_result",
          "data": {
            "text/plain": [
              "378"
            ]
          },
          "metadata": {
            "tags": []
          },
          "execution_count": 74
        }
      ]
    },
    {
      "cell_type": "code",
      "metadata": {
        "id": "QWNMmJHMYQt5",
        "colab_type": "code",
        "colab": {}
      },
      "source": [
        "def normalize_channel_data(ch , i, ch_min, ch_max):\n",
        "  ch = ((ch - ch_min[i]) / (ch_max[i] - ch_min[i] ))\n",
        "  return ch\n",
        "\n",
        "\n",
        "def ProjectionVector(VecA,VecB):\n",
        "    Projeted_VecB_on_VecA=np.dot(VecA,VecB)/np.dot(VecA,VecA)*VecA\n",
        "    return Projeted_VecB_on_VecA\n",
        "\n"
      ],
      "execution_count": 0,
      "outputs": []
    },
    {
      "cell_type": "code",
      "metadata": {
        "id": "B6U5trsFYomx",
        "colab_type": "code",
        "colab": {}
      },
      "source": [
        "#################################################################################################\n",
        "## Define General Data Generator\n",
        "def GenerateGeneralData(task,ListChannel, BatchSize,ListRawDataMain,SubjectArrayShuffled,ImageArrayShuffled,WindowLen,OrthogonalFlag,SampleShift, SampelNumberPerwindow):\n",
        "    \n",
        "    Iter=0\n",
        "    #ch_number=64\n",
        "    \n",
        "    \n",
        "    ##########################################################\n",
        "    # Pre-Proceesing On Raw Data\n",
        "    ListRawDataTemp=ListRawDataMain.copy()\n",
        "    \n",
        "    DataAllChannelsRawPerSubject, times =(ListRawDataTemp[0][task][:64,:total_sampel_number])\n",
        "\n",
        "    DataChannelsRaw   =np.zeros((len(SubjectArrayShuffled),ch_number,times.size),dtype = float)\n",
        "    DataChannelsNormal=np.zeros((len(SubjectArrayShuffled),ch_number,times.size),dtype = float)\n",
        "    DataChannelsOrt   =np.zeros((len(SubjectArrayShuffled),ch_number,times.size),dtype = float)\n",
        "\n",
        "        \n",
        "    for s in SubjectArrayShuffled:\n",
        "\n",
        "        DataAllChannelsRawPerSubject, times =(ListRawDataTemp[s][task][:64,:total_sampel_number])\n",
        "        \n",
        "        # Extrac Channel T9 or T10 as Baseline\n",
        "        #DataChannelT9Raw =DataAllChannelsRawPerSubject[43]# Ch T9 (42) or T10 (43)\n",
        "\n",
        "\n",
        "        ch_max =[]\n",
        "        ch_min =[]\n",
        "        # Extract Selected Channels+ Remove Baseline+ Normailze\n",
        "        for i in range(len(ListChannel)):\n",
        "            DataChannelsRaw[s][i]=DataAllChannelsRawPerSubject[ListChannel[i]].copy() #-DataChannelT9Raw*RemoveBaseLineFlag\n",
        "\n",
        "            ch_max = np.append(ch_max, max(DataChannelsRaw[s][i])) # max for each cannel\n",
        "            ch_min = np.append(ch_min, min(DataChannelsRaw[s][i])) # min for each cannel\n",
        "\n",
        "            DataChannelsNormal[s][i]=normalize_channel_data(DataChannelsRaw[s][i].copy(), i, ch_min, ch_max)\n",
        "\n",
        "        # make Channels Orthogonal\n",
        "        DataChannelsOrt[s][0]=DataChannelsNormal[s][0]\n",
        "        DataChannelsOrt[s][1]=DataChannelsNormal[s][1]-ProjectionVector(DataChannelsOrt[s][0].copy(),DataChannelsNormal[s][1].copy())*OrthogonalFlag\n",
        "        DataChannelsOrt[s][2]=DataChannelsNormal[s][2]-ProjectionVector(DataChannelsOrt[s][0].copy(),DataChannelsNormal[s][2].copy())*OrthogonalFlag\\\n",
        "                                                      -ProjectionVector(DataChannelsOrt[s][1].copy(),DataChannelsNormal[s][2].copy())*OrthogonalFlag\n",
        "\n",
        "        \n",
        "        \n",
        "    ##########################################################\n",
        "    # Generate Data for Network\n",
        "    while True:\n",
        "\n",
        "      for j in ImageArrayShuffled:\n",
        "          for s in SubjectArrayShuffled:\n",
        "\n",
        "              if Iter ==0:\n",
        "                  Image=np.zeros((BatchSize, ch_number, WindowLen, SampelNumberPerwindow), dtype = float)\n",
        "                  Label=np.zeros((BatchSize),dtype=int)\n",
        "\n",
        "              for i in range(len(ListChannel)):\n",
        "                  for z in range (WindowLen):\n",
        "                      ExtractedData = DataChannelsOrt[s][i][0+j*SampleShift : SampelNumberPerwindow+ j*SampleShift]\n",
        "                      Image[Iter][i][z] = ExtractedData.copy()# Data\n",
        "\n",
        "              Label[Iter] = s # label\n",
        "\n",
        "              Iter=Iter+1\n",
        "              #Count=Count+1\n",
        "              if Iter==BatchSize:\n",
        "                Iter=0\n",
        "                #print('Count=',Count)\n",
        "                LabelClass=to_categorical(Label,len(SubjectArrayShuffled))\n",
        "                TI = np.moveaxis(Image, 1, -1)\n",
        "                yield TI, LabelClass \n",
        "\n",
        "                "
      ],
      "execution_count": 0,
      "outputs": []
    },
    {
      "cell_type": "code",
      "metadata": {
        "id": "A9T22r9ywTX2",
        "colab_type": "code",
        "colab": {}
      },
      "source": [
        "#####################################################################################################\n",
        "\n",
        "# Reset Model and Data Arrays\n",
        "\n",
        "list_rawdataTemp=list_rawdata.copy()\n",
        "\n",
        "    \n",
        "#################################################################################################\n",
        "# Construct Data Generator\n",
        "\n",
        "#task, BatchSize,ListRawDataMain,SubjectArrayShuffled, RemoveBaseLineFlag,\n",
        "#ImageArrayShuffled,WindowLen,SampleShift, SampelNumberPerwindow\n",
        "\n",
        "GenTrainData=GenerateGeneralData( task= train_task,\n",
        "                                  ListChannel=list_channel,\n",
        "                                  BatchSize=batch_size,\n",
        "                                  ListRawDataMain= list_rawdataTemp.copy(),\n",
        "                                  SubjectArrayShuffled= subject_number_array_shuffled,\n",
        "                                  ImageArrayShuffled=train_shuff,\n",
        "                                  WindowLen=window_len,\n",
        "                                  OrthogonalFlag=Orthogonal,\n",
        "                                  SampleShift= Train_sample_shift,\n",
        "                                  SampelNumberPerwindow =sample_per_window)\n",
        "\n",
        "GenValidationData =GenerateGeneralData( task= train_task,\n",
        "                                        ListChannel=list_channel,\n",
        "                                        BatchSize=batch_size,\n",
        "                                        ListRawDataMain=list_rawdataTemp.copy(),\n",
        "                                        SubjectArrayShuffled=subject_number_array_shuffled,\n",
        "                                        ImageArrayShuffled=val_shuff,\n",
        "                                        WindowLen=window_len,\n",
        "                                        OrthogonalFlag=Orthogonal,\n",
        "                                        SampleShift= Train_sample_shift, \n",
        "                                        SampelNumberPerwindow =sample_per_window)\n",
        "\n",
        "GenTestData=GenerateGeneralData(task= train_task,\n",
        "                                ListChannel=list_channel,\n",
        "                                BatchSize=batch_size,\n",
        "                                ListRawDataMain=list_rawdataTemp.copy(),\n",
        "                                SubjectArrayShuffled=subject_number_array_shuffled,\n",
        "                                ImageArrayShuffled=test_shuff,\n",
        "                                WindowLen=window_len,\n",
        "                                OrthogonalFlag=Orthogonal,\n",
        "                                SampleShift= Test_sample_shift,\n",
        "                                SampelNumberPerwindow =sample_per_window)\n",
        "\n",
        "#################################################################################################\n"
      ],
      "execution_count": 0,
      "outputs": []
    },
    {
      "cell_type": "code",
      "metadata": {
        "id": "WfpfYbUb0YrT",
        "colab_type": "code",
        "outputId": "4a33e8fc-d784-4790-9874-5ab197ad8314",
        "colab": {
          "base_uri": "https://localhost:8080/",
          "height": 101
        }
      },
      "source": [
        "# Create Model\n",
        "model = models.Sequential()\n",
        "model.add(layers.Conv2D(filters=96, kernel_size=(1,11), activation = 'relu', input_shape = (window_len,sample_per_window,ch_number) ))\n",
        "print(model.output.shape)\n",
        "model.add(layers.MaxPooling2D(pool_size=(1,2), strides=4 ))\n",
        "print(model.output.shape)\n",
        "model.add(layers.Conv2D(filters=128, kernel_size=(1,9), activation = 'relu' ))\n",
        "print(model.output.shape)\n",
        "model.add(layers.MaxPooling2D(pool_size=(1,2), strides=2))\n",
        "print(model.output.shape)\n",
        "model.add(layers.Conv2D(filters=256, kernel_size=(1,9), activation = 'relu' ))\n",
        "print(model.output.shape)\n",
        "model.add(layers.MaxPooling2D(pool_size=(1,2), strides=2))\n",
        "\n",
        "model.add(layers.Flatten())\n",
        "model.add(layers.Dense(256, activation = 'relu'))\n",
        "model.add(layers.Dropout(0.5))\n",
        "model.add(layers.Dense(subject_number, activation = 'softmax'))\n",
        "\n",
        "model.compile(loss= 'categorical_crossentropy',\n",
        "              optimizer= optimizers.RMSprop(lr= 1e-4),\n",
        "              metrics = ['acc'])\n"
      ],
      "execution_count": 78,
      "outputs": [
        {
          "output_type": "stream",
          "text": [
            "(?, 1, 150, 96)\n",
            "(?, 1, 38, 96)\n",
            "(?, 1, 30, 128)\n",
            "(?, 1, 15, 128)\n",
            "(?, 1, 7, 256)\n"
          ],
          "name": "stdout"
        }
      ]
    },
    {
      "cell_type": "code",
      "metadata": {
        "id": "8s7IeN4kwouS",
        "colab_type": "code",
        "outputId": "78a4d181-332c-4018-ff58-7cdc10d2a108",
        "colab": {
          "base_uri": "https://localhost:8080/",
          "height": 1000
        }
      },
      "source": [
        "# Train the Model\n",
        "history = model.fit_generator(epochs =EpochNum,\n",
        "                              generator=GenTrainData,\n",
        "                              steps_per_epoch=np.ceil(train_number*subject_number/batch_size),\n",
        "                              validation_data=GenValidationData,\n",
        "                              validation_steps =np.ceil(val_number*subject_number/batch_size),\n",
        "                              use_multiprocessing=False,\n",
        "                              workers=1)\n",
        "\n",
        "#################################################################################################\n",
        "# Evalute the Model\n",
        "TrainResult      =model.evaluate_generator(GenTrainData,steps=np.ceil(train_number*subject_number/batch_size))\n",
        "ValidationResult =model.evaluate_generator(GenValidationData,steps=np.ceil(val_number*subject_number/batch_size))\n",
        "TestResult       =model.evaluate_generator(GenTestData,steps=np.ceil(test_number*subject_number/batch_size))\n",
        "print('     TrainResult ([loss , acc])=',TrainResult)\n",
        "print('ValidationResult ([loss , acc])=',ValidationResult)\n",
        "print('      TestResult ([loss , acc])=',TestResult)\n",
        "\n",
        "#################################################################################################\n",
        "# plot accuracy\n",
        "history_dict = history.history \n",
        "acc_values = history_dict ['acc'] \n",
        "val_acc_values = history_dict['val_acc']\n",
        "epochs = range(1, len(acc_values) + 1)\n",
        "\n",
        "\n",
        "#plt.clf()\n",
        "plt.plot(epochs, acc_values, 'bo', label='Training acc') \n",
        "plt.plot(epochs, val_acc_values, 'b', label='Validation acc') \n",
        "plt.title('Training and validation acc') \n",
        "plt.xlabel('Epochs') \n",
        "plt.ylabel('acc') \n",
        "plt.legend()\n",
        "plt.show()\n",
        "\n",
        "\n",
        "history_dict = history.history \n",
        "loss_values = history_dict ['loss'] \n",
        "val_loss_values = history_dict['val_loss']\n",
        "epochs = range(1, len(loss_values) + 1)\n",
        "\n",
        "plt.plot(epochs, loss_values, 'bo', label='Training loss') \n",
        "plt.plot(epochs, val_loss_values, 'b', label='Validation loss') \n",
        "plt.title('Training and validation loss') \n",
        "plt.xlabel('Epochs') \n",
        "plt.ylabel('Loss') \n",
        "plt.legend()\n",
        "plt.show()\n"
      ],
      "execution_count": 79,
      "outputs": [
        {
          "output_type": "stream",
          "text": [
            "Epoch 1/50\n",
            "482/482 [==============================] - 6s 12ms/step - loss: 4.5035 - acc: 0.0305 - val_loss: 4.0929 - val_acc: 0.0892\n",
            "Epoch 2/50\n",
            "482/482 [==============================] - 3s 7ms/step - loss: 3.9998 - acc: 0.0818 - val_loss: 3.6295 - val_acc: 0.1660\n",
            "Epoch 3/50\n",
            "482/482 [==============================] - 3s 7ms/step - loss: 3.6929 - acc: 0.1196 - val_loss: 3.3430 - val_acc: 0.2298\n",
            "Epoch 4/50\n",
            "482/482 [==============================] - 3s 7ms/step - loss: 3.4817 - acc: 0.1509 - val_loss: 3.1656 - val_acc: 0.2523\n",
            "Epoch 5/50\n",
            "482/482 [==============================] - 3s 7ms/step - loss: 3.3008 - acc: 0.1821 - val_loss: 3.0070 - val_acc: 0.2827\n",
            "Epoch 6/50\n",
            "482/482 [==============================] - 3s 7ms/step - loss: 3.1549 - acc: 0.2053 - val_loss: 2.8569 - val_acc: 0.3179\n",
            "Epoch 7/50\n",
            "482/482 [==============================] - 3s 7ms/step - loss: 3.0071 - acc: 0.2346 - val_loss: 2.6699 - val_acc: 0.3530\n",
            "Epoch 8/50\n",
            "482/482 [==============================] - 3s 7ms/step - loss: 2.8665 - acc: 0.2657 - val_loss: 2.8013 - val_acc: 0.2899\n",
            "Epoch 9/50\n",
            "482/482 [==============================] - 3s 7ms/step - loss: 2.7449 - acc: 0.2871 - val_loss: 2.4329 - val_acc: 0.4012\n",
            "Epoch 10/50\n",
            "482/482 [==============================] - 3s 7ms/step - loss: 2.6542 - acc: 0.3099 - val_loss: 2.4166 - val_acc: 0.3867\n",
            "Epoch 11/50\n",
            "482/482 [==============================] - 3s 7ms/step - loss: 2.5768 - acc: 0.3250 - val_loss: 2.6225 - val_acc: 0.3201\n",
            "Epoch 12/50\n",
            "482/482 [==============================] - 3s 7ms/step - loss: 2.5062 - acc: 0.3388 - val_loss: 2.5674 - val_acc: 0.3343\n",
            "Epoch 13/50\n",
            "482/482 [==============================] - 3s 7ms/step - loss: 2.4416 - acc: 0.3508 - val_loss: 2.3827 - val_acc: 0.3774\n",
            "Epoch 14/50\n",
            "482/482 [==============================] - 3s 7ms/step - loss: 2.3839 - acc: 0.3636 - val_loss: 2.2953 - val_acc: 0.3879\n",
            "Epoch 15/50\n",
            "482/482 [==============================] - 3s 7ms/step - loss: 2.3383 - acc: 0.3725 - val_loss: 2.2093 - val_acc: 0.4118\n",
            "Epoch 16/50\n",
            "482/482 [==============================] - 3s 7ms/step - loss: 2.2896 - acc: 0.3817 - val_loss: 2.1673 - val_acc: 0.4230\n",
            "Epoch 17/50\n",
            "482/482 [==============================] - 3s 7ms/step - loss: 2.2428 - acc: 0.3942 - val_loss: 2.2194 - val_acc: 0.4048\n",
            "Epoch 18/50\n",
            "482/482 [==============================] - 3s 7ms/step - loss: 2.2052 - acc: 0.3981 - val_loss: 1.9350 - val_acc: 0.4762\n",
            "Epoch 19/50\n",
            "482/482 [==============================] - 3s 7ms/step - loss: 2.1592 - acc: 0.4119 - val_loss: 1.9050 - val_acc: 0.4762\n",
            "Epoch 20/50\n",
            "482/482 [==============================] - 3s 7ms/step - loss: 2.1268 - acc: 0.4145 - val_loss: 1.9512 - val_acc: 0.4634\n",
            "Epoch 21/50\n",
            "482/482 [==============================] - 3s 7ms/step - loss: 2.0766 - acc: 0.4228 - val_loss: 2.1424 - val_acc: 0.4082\n",
            "Epoch 22/50\n",
            "482/482 [==============================] - 3s 7ms/step - loss: 2.0420 - acc: 0.4329 - val_loss: 1.8084 - val_acc: 0.4989\n",
            "Epoch 23/50\n",
            "482/482 [==============================] - 3s 7ms/step - loss: 1.9985 - acc: 0.4428 - val_loss: 2.1121 - val_acc: 0.4193\n",
            "Epoch 24/50\n",
            "482/482 [==============================] - 3s 7ms/step - loss: 1.9663 - acc: 0.4507 - val_loss: 1.7218 - val_acc: 0.5226\n",
            "Epoch 25/50\n",
            "482/482 [==============================] - 3s 7ms/step - loss: 1.9239 - acc: 0.4602 - val_loss: 1.7544 - val_acc: 0.5028\n",
            "Epoch 26/50\n",
            "482/482 [==============================] - 3s 7ms/step - loss: 1.8788 - acc: 0.4707 - val_loss: 1.6428 - val_acc: 0.5405\n",
            "Epoch 27/50\n",
            "482/482 [==============================] - 3s 7ms/step - loss: 1.8414 - acc: 0.4789 - val_loss: 1.6670 - val_acc: 0.5299\n",
            "Epoch 28/50\n",
            "482/482 [==============================] - 3s 7ms/step - loss: 1.7943 - acc: 0.4906 - val_loss: 1.6207 - val_acc: 0.5369\n",
            "Epoch 29/50\n",
            "482/482 [==============================] - 3s 7ms/step - loss: 1.7552 - acc: 0.4985 - val_loss: 1.7104 - val_acc: 0.5104\n",
            "Epoch 30/50\n",
            "482/482 [==============================] - 3s 7ms/step - loss: 1.7193 - acc: 0.5086 - val_loss: 1.5990 - val_acc: 0.5376\n",
            "Epoch 31/50\n",
            "482/482 [==============================] - 3s 7ms/step - loss: 1.6800 - acc: 0.5196 - val_loss: 1.4502 - val_acc: 0.5879\n",
            "Epoch 32/50\n",
            "482/482 [==============================] - 3s 7ms/step - loss: 1.6463 - acc: 0.5254 - val_loss: 1.5318 - val_acc: 0.5643\n",
            "Epoch 33/50\n",
            "482/482 [==============================] - 3s 7ms/step - loss: 1.6112 - acc: 0.5318 - val_loss: 1.9075 - val_acc: 0.4544\n",
            "Epoch 34/50\n",
            "482/482 [==============================] - 3s 7ms/step - loss: 1.5770 - acc: 0.5416 - val_loss: 1.4779 - val_acc: 0.5747\n",
            "Epoch 35/50\n",
            "482/482 [==============================] - 3s 7ms/step - loss: 1.5435 - acc: 0.5479 - val_loss: 1.3171 - val_acc: 0.6172\n",
            "Epoch 36/50\n",
            "482/482 [==============================] - 3s 7ms/step - loss: 1.5142 - acc: 0.5561 - val_loss: 1.3922 - val_acc: 0.5960\n",
            "Epoch 37/50\n",
            "482/482 [==============================] - 3s 7ms/step - loss: 1.4965 - acc: 0.5599 - val_loss: 1.2797 - val_acc: 0.6294\n",
            "Epoch 38/50\n",
            "482/482 [==============================] - 3s 7ms/step - loss: 1.4580 - acc: 0.5681 - val_loss: 1.2841 - val_acc: 0.6234\n",
            "Epoch 39/50\n",
            "482/482 [==============================] - 3s 7ms/step - loss: 1.4353 - acc: 0.5777 - val_loss: 1.4937 - val_acc: 0.5599\n",
            "Epoch 40/50\n",
            "482/482 [==============================] - 3s 7ms/step - loss: 1.4111 - acc: 0.5831 - val_loss: 1.3131 - val_acc: 0.6104\n",
            "Epoch 41/50\n",
            "482/482 [==============================] - 3s 7ms/step - loss: 1.3852 - acc: 0.5899 - val_loss: 1.2244 - val_acc: 0.6398\n",
            "Epoch 42/50\n",
            "482/482 [==============================] - 3s 7ms/step - loss: 1.3691 - acc: 0.5898 - val_loss: 1.2179 - val_acc: 0.6398\n",
            "Epoch 43/50\n",
            "482/482 [==============================] - 3s 7ms/step - loss: 1.3332 - acc: 0.6047 - val_loss: 1.2046 - val_acc: 0.6423\n",
            "Epoch 44/50\n",
            "482/482 [==============================] - 3s 7ms/step - loss: 1.3156 - acc: 0.6069 - val_loss: 1.1410 - val_acc: 0.6624\n",
            "Epoch 45/50\n",
            "482/482 [==============================] - 3s 7ms/step - loss: 1.2992 - acc: 0.6091 - val_loss: 1.2256 - val_acc: 0.6338\n",
            "Epoch 46/50\n",
            "482/482 [==============================] - 3s 7ms/step - loss: 1.2734 - acc: 0.6187 - val_loss: 1.6463 - val_acc: 0.5096\n",
            "Epoch 47/50\n",
            "482/482 [==============================] - 3s 7ms/step - loss: 1.2503 - acc: 0.6260 - val_loss: 1.1706 - val_acc: 0.6466\n",
            "Epoch 48/50\n",
            "482/482 [==============================] - 3s 7ms/step - loss: 1.2295 - acc: 0.6268 - val_loss: 1.3005 - val_acc: 0.6011\n",
            "Epoch 49/50\n",
            "482/482 [==============================] - 3s 7ms/step - loss: 1.2047 - acc: 0.6377 - val_loss: 1.2665 - val_acc: 0.6143\n",
            "Epoch 50/50\n",
            "482/482 [==============================] - 3s 7ms/step - loss: 1.1847 - acc: 0.6437 - val_loss: 1.0748 - val_acc: 0.6777\n",
            "     TrainResult ([loss , acc])= [0.9525255210914058, 0.7143088692946058]\n",
            "ValidationResult ([loss , acc])= [1.0775952984889348, 0.6769205729166666]\n",
            "      TestResult ([loss , acc])= [1.0997091255970854, 0.679570895522388]\n"
          ],
          "name": "stdout"
        },
        {
          "output_type": "display_data",
          "data": {
            "image/png": "[encoded data removed]",
            "text/plain": [
              "<Figure size 432x288 with 1 Axes>"
            ]
          },
          "metadata": {
            "tags": []
          }
        },
        {
          "output_type": "display_data",
          "data": {
            "image/png": "[encoded data removed]",
            "text/plain": [
              "<Figure size 432x288 with 1 Axes>"
            ]
          },
          "metadata": {
            "tags": []
          }
        }
      ]
    },
    {
      "cell_type": "code",
      "metadata": {
        "id": "rQE_m_9LS6jU",
        "colab_type": "code",
        "colab": {}
      },
      "source": [
        "Comparison/3 ch/paper_model_109s_3Ch_Normal_FitGenerate_50_Epoch_8 shift.ipynb\n"
      ],
      "execution_count": 0,
      "outputs": []
    }
  ]
}