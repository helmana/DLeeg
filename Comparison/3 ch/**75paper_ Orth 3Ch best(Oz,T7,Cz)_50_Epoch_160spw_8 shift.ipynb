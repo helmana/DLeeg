{
  "nbformat": 4,
  "nbformat_minor": 0,
  "metadata": {
    "colab": {
      "name": "paper model_109s_20Ch_Base_Normal_FitGenerate_15 Epoch.ipynb",
      "provenance": [],
      "collapsed_sections": [],
      "include_colab_link": true
    },
    "kernelspec": {
      "name": "python3",
      "display_name": "Python 3"
    },
    "accelerator": "GPU"
  },
  "cells": [
    {
      "cell_type": "markdown",
      "metadata": {
        "id": "view-in-github",
        "colab_type": "text"
      },
      "source": [
        "<a href=\"https://colab.research.google.com/github/helmana/DLeeg/blob/master/Comparison/3%20ch/**75paper_%20Orth%203Ch%20best(Oz%2CT7%2CCz)_50_Epoch_160spw_8%20shift.ipynb\" target=\"_parent\"><img src=\"https://colab.research.google.com/assets/colab-badge.svg\" alt=\"Open In Colab\"/></a>"
      ]
    },
    {
      "cell_type": "code",
      "metadata": {
        "id": "rN9u930n3lP2",
        "colab_type": "code",
        "outputId": "bb98aa69-e8f1-4a70-b661-b4eb7ab2c2da",
        "colab": {
          "base_uri": "https://localhost:8080/",
          "height": 54
        }
      },
      "source": [
        "'''\n",
        "model : paper \"Convolutional Network for EEG-Based Biometric\"\n",
        "\n",
        ">>  Orthogonal - 75% train data \n",
        "\n",
        "109 subject\n",
        "3 channel [61,40,10] \n",
        "trian task: REO \n",
        "sample_per_window = 160\n",
        "** Train_sample_shift = 8\n",
        "\n",
        "TrainResult ([loss , acc])= [0.07713012590316379, 0.9750290119363395]\n",
        "ValidationResult ([loss , acc])= [0.10300535656857175, 0.9666287251655629]\n",
        "TestResult ([loss , acc])= [0.11215215115785011, 0.962823275862069]\n",
        "\n",
        "'''"
      ],
      "execution_count": 0,
      "outputs": [
        {
          "output_type": "execute_result",
          "data": {
            "text/plain": [
              "'\\nmodel : paper \"Convolutional Network for EEG-Based Biometric\"\\n\\n109 subject\\n3 channel [61,33,37] \\ntrian task: REO \\nsample_per_window = 1920\\n** Train_sample_shift = 8\\n\\nTrainResult ([loss , acc])= [0.002043920272163172, 1.0]\\nValidationResult ([loss , acc])= [0.028234976286043864, 0.989938446969697]\\nTestResult ([loss , acc])= [0.033901678802177426, 0.9881628787878788]\\n\\n'"
            ]
          },
          "metadata": {
            "tags": []
          },
          "execution_count": 33
        }
      ]
    },
    {
      "cell_type": "code",
      "metadata": {
        "id": "m0mZ_mkGW9ei",
        "colab_type": "code",
        "outputId": "0f23ee6b-d6cd-49ac-acee-cc20df07bd41",
        "colab": {
          "base_uri": "https://localhost:8080/",
          "height": 121
        }
      },
      "source": [
        "from google.colab import drive\n",
        "drive.mount('/content/drive')"
      ],
      "execution_count": 1,
      "outputs": [
        {
          "output_type": "stream",
          "text": [
            "Go to this URL in a browser: https://accounts.google.com/o/oauth2/auth?client_id=947318989803-6bn6qk8qdgf4n4g3pfee6491hc0brc4i.apps.googleusercontent.com&redirect_uri=urn%3aietf%3awg%3aoauth%3a2.0%3aoob&response_type=code&scope=email%20https%3a%2f%2fwww.googleapis.com%2fauth%2fdocs.test%20https%3a%2f%2fwww.googleapis.com%2fauth%2fdrive%20https%3a%2f%2fwww.googleapis.com%2fauth%2fdrive.photos.readonly%20https%3a%2f%2fwww.googleapis.com%2fauth%2fpeopleapi.readonly\n",
            "\n",
            "Enter your authorization code:\n",
            "··········\n",
            "Mounted at /content/drive\n"
          ],
          "name": "stdout"
        }
      ]
    },
    {
      "cell_type": "code",
      "metadata": {
        "id": "PrJcmKM5W_Tp",
        "colab_type": "code",
        "outputId": "8afcc162-1185-4d56-dfc6-4c0fb02fdbb3",
        "colab": {
          "base_uri": "https://localhost:8080/",
          "height": 67
        }
      },
      "source": [
        "!pip install mne"
      ],
      "execution_count": 3,
      "outputs": [
        {
          "output_type": "stream",
          "text": [
            "Requirement already satisfied: mne in /usr/local/lib/python3.6/dist-packages (0.19.2)\n",
            "Requirement already satisfied: numpy>=1.11.3 in /usr/local/lib/python3.6/dist-packages (from mne) (1.17.4)\n",
            "Requirement already satisfied: scipy>=0.17.1 in /usr/local/lib/python3.6/dist-packages (from mne) (1.3.3)\n"
          ],
          "name": "stdout"
        }
      ]
    },
    {
      "cell_type": "code",
      "metadata": {
        "id": "b0m9ijkKXNdn",
        "colab_type": "code",
        "outputId": "1349e12f-9444-4057-f9fd-5f43ba28b4a0",
        "colab": {
          "base_uri": "https://localhost:8080/",
          "height": 167
        }
      },
      "source": [
        "# For Visualization\n",
        "import matplotlib\n",
        "from matplotlib import pyplot as plt\n",
        "from mpl_toolkits.mplot3d import Axes3D  # noqa\n",
        "\n",
        "# General use\n",
        "import numpy as np\n",
        "import math\n",
        "import random\n",
        "\n",
        "\n",
        "# For model training\n",
        "from keras import layers\n",
        "from keras import models\n",
        "from keras import regularizers\n",
        "from keras.utils import to_categorical\n",
        "from keras import optimizers\n",
        "from keras import backend as KerasBackend\n",
        "\n",
        "\n",
        "# EEG Tools\n",
        "import mne\n",
        "from mne.preprocessing import create_ecg_epochs, create_eog_epochs\n",
        "from mne import io\n",
        "from mne import viz\n",
        "from mne import Epochs, io, pick_types\n",
        "from mne.event import define_target_events\n",
        "from mne.time_frequency import psd_welch\n",
        "print(__doc__)\n",
        "\n"
      ],
      "execution_count": 4,
      "outputs": [
        {
          "output_type": "stream",
          "text": [
            "Using TensorFlow backend.\n"
          ],
          "name": "stderr"
        },
        {
          "output_type": "display_data",
          "data": {
            "text/html": [
              "<p style=\"color: red;\">\n",
              "The default version of TensorFlow in Colab will soon switch to TensorFlow 2.x.<br>\n",
              "We recommend you <a href=\"https://www.tensorflow.org/guide/migrate\" target=\"_blank\">upgrade</a> now \n",
              "or ensure your notebook will continue to use TensorFlow 1.x via the <code>%tensorflow_version 1.x</code> magic:\n",
              "<a href=\"https://colab.research.google.com/notebooks/tensorflow_version.ipynb\" target=\"_blank\">more info</a>.</p>\n"
            ],
            "text/plain": [
              "<IPython.core.display.HTML object>"
            ]
          },
          "metadata": {
            "tags": []
          }
        },
        {
          "output_type": "stream",
          "text": [
            "/usr/local/lib/python3.6/dist-packages/numba/decorators.py:146: RuntimeWarning: Caching is not available when the 'parallel' target is in use. Caching is now being disabled to allow execution to continue.\n",
            "  warnings.warn(msg, RuntimeWarning)\n"
          ],
          "name": "stderr"
        },
        {
          "output_type": "stream",
          "text": [
            "Automatically created module for IPython interactive environment\n"
          ],
          "name": "stdout"
        }
      ]
    },
    {
      "cell_type": "code",
      "metadata": {
        "id": "iRRgIG0hXPuZ",
        "colab_type": "code",
        "colab": {}
      },
      "source": [
        "# Parameters:\n",
        "Orthogonal=1\n",
        "seed = 14\n",
        "EpochNum=50\n",
        "subject_number=109\n",
        "list_channel=[61,40,10] #(Oz, T7, Cz)\n",
        "#list_channel=[61] #Oz\n",
        "ch_number=len(list_channel)\n",
        "\n",
        "task_index = [1,2] # task: REO, REC\n",
        "train_task = 0\n",
        "test_task = 1\n",
        "task_number= len(task_index)\n",
        "task_time = 60\n",
        "sampel_number_per_sec =  160 # sampel rate\n",
        "total_sampel_number =  sampel_number_per_sec *task_time # 60*160\n",
        "\n",
        "sample_per_window = 160 # 160 * 12 s\n",
        "\n",
        "Test_sample_shift = 8  # step len\n",
        "Train_sample_shift = 8  # step len\n",
        "\n",
        "window_len = 1\n",
        "batch_size = 64\n",
        "\n",
        "\n",
        "\n"
      ],
      "execution_count": 0,
      "outputs": []
    },
    {
      "cell_type": "code",
      "metadata": {
        "id": "yuVRJ97LXR74",
        "colab_type": "code",
        "colab": {}
      },
      "source": [
        "# load dataset in array\n",
        "task_number= len(task_index)\n",
        "\n",
        "# load dataset in array\n",
        "list_raw_fnames = [[0]*task_number]*subject_number\n",
        "for x in range(subject_number):\n",
        "  list_raw_fnames[x] = mne.datasets.eegbci.load_data(x+1,task_index,path='/content/drive/My Drive/Deep Results/Database')\n",
        "\n",
        "list_rawdata = np.zeros((subject_number,task_number), dtype='object')\n",
        "\n",
        "for i in range(subject_number):\n",
        "  for j in range(task_number):\n",
        "    list_rawdata[i][j] = mne.io.read_raw_edf(list_raw_fnames[i][j], preload=True)\n"
      ],
      "execution_count": 0,
      "outputs": []
    },
    {
      "cell_type": "code",
      "metadata": {
        "id": "jvR-l6hPXX-m",
        "colab_type": "code",
        "outputId": "84cbbb09-8c16-44c7-9baf-c3e719260e3d",
        "colab": {
          "base_uri": "https://localhost:8080/",
          "height": 51
        }
      },
      "source": [
        "# img for each subject\n",
        "Test_subject_img_number = math.floor((total_sampel_number - sample_per_window ) / Test_sample_shift) +1\n",
        "Train_subject_img_number = math.floor((total_sampel_number - sample_per_window ) / Train_sample_shift) +1\n",
        "\n",
        "np.random.seed(seed)  \n",
        "\n",
        "# subject number shuff\n",
        "subject_number_array_shuffled=np.arange(subject_number)\n",
        "np.random.shuffle(subject_number_array_shuffled)\n",
        "\n",
        "# test img shuff\n",
        "Test_subject_img_number_array_shuffled=np.arange(Test_subject_img_number)\n",
        "np.random.shuffle(Test_subject_img_number_array_shuffled)\n",
        "\n",
        "# train img suff\n",
        "Train_subject_img_number_array_shuffled=np.arange(Train_subject_img_number)\n",
        "np.random.shuffle(Train_subject_img_number_array_shuffled)\n",
        "\n",
        "\n",
        "train_index = math.floor(len(Train_subject_img_number_array_shuffled)* 0.75)\n",
        "val_index = train_index + (train_index//5)\n",
        "\n",
        "\n",
        "train_shuff = Train_subject_img_number_array_shuffled[:train_index]\n",
        "val_shuff = Train_subject_img_number_array_shuffled[train_index:val_index]\n",
        "test_shuff = Train_subject_img_number_array_shuffled[val_index:]\n",
        "\n",
        "#test_shuff = Test_subject_img_number_array_shuffled\n",
        "\n",
        "\n",
        "train_number = len(train_shuff)\n",
        "val_number = len(val_shuff)\n",
        "test_number = len(test_shuff)\n",
        "\n",
        "print(train_number , val_number, test_number)\n",
        "Train_subject_img_number"
      ],
      "execution_count": 88,
      "outputs": [
        {
          "output_type": "stream",
          "text": [
            "885 177 119\n"
          ],
          "name": "stdout"
        },
        {
          "output_type": "execute_result",
          "data": {
            "text/plain": [
              "1181"
            ]
          },
          "metadata": {
            "tags": []
          },
          "execution_count": 88
        }
      ]
    },
    {
      "cell_type": "code",
      "metadata": {
        "id": "QWNMmJHMYQt5",
        "colab_type": "code",
        "colab": {}
      },
      "source": [
        "def normalize_channel_data(ch , i, ch_min, ch_max):\n",
        "  ch = ((ch - ch_min[i]) / (ch_max[i] - ch_min[i] ))\n",
        "  return ch\n",
        "\n",
        "\n",
        "def ProjectionVector(VecA,VecB):\n",
        "    Projeted_VecB_on_VecA=np.dot(VecA,VecB)/np.dot(VecA,VecA)*VecA\n",
        "    return Projeted_VecB_on_VecA\n",
        "\n"
      ],
      "execution_count": 0,
      "outputs": []
    },
    {
      "cell_type": "code",
      "metadata": {
        "id": "B6U5trsFYomx",
        "colab_type": "code",
        "colab": {}
      },
      "source": [
        "#################################################################################################\n",
        "## Define General Data Generator\n",
        "def GenerateGeneralData(task,ListChannel, BatchSize,ListRawDataMain,SubjectArrayShuffled,ImageArrayShuffled,WindowLen,OrthogonalFlag,SampleShift, SampelNumberPerwindow):\n",
        "    \n",
        "    Iter=0\n",
        "    #ch_number=64\n",
        "    \n",
        "    \n",
        "    ##########################################################\n",
        "    # Pre-Proceesing On Raw Data\n",
        "    ListRawDataTemp=ListRawDataMain.copy()\n",
        "    \n",
        "    DataAllChannelsRawPerSubject, times =(ListRawDataTemp[0][task][:64,:total_sampel_number])\n",
        "\n",
        "    DataChannelsRaw   =np.zeros((len(SubjectArrayShuffled),ch_number,times.size),dtype = float)\n",
        "    DataChannelsNormal=np.zeros((len(SubjectArrayShuffled),ch_number,times.size),dtype = float)\n",
        "    DataChannelsOrt   =np.zeros((len(SubjectArrayShuffled),ch_number,times.size),dtype = float)\n",
        "\n",
        "        \n",
        "    for s in SubjectArrayShuffled:\n",
        "\n",
        "        DataAllChannelsRawPerSubject, times =(ListRawDataTemp[s][task][:64,:total_sampel_number])\n",
        "        \n",
        "        # Extrac Channel T9 or T10 as Baseline\n",
        "        #DataChannelT9Raw =DataAllChannelsRawPerSubject[43]# Ch T9 (42) or T10 (43)\n",
        "\n",
        "\n",
        "        ch_max =[]\n",
        "        ch_min =[]\n",
        "        # Extract Selected Channels+ Remove Baseline+ Normailze\n",
        "        for i in range(len(ListChannel)):\n",
        "            DataChannelsRaw[s][i]=DataAllChannelsRawPerSubject[ListChannel[i]].copy() #-DataChannelT9Raw*RemoveBaseLineFlag\n",
        "\n",
        "            ch_max = np.append(ch_max, max(DataChannelsRaw[s][i])) # max for each cannel\n",
        "            ch_min = np.append(ch_min, min(DataChannelsRaw[s][i])) # min for each cannel\n",
        "\n",
        "            DataChannelsNormal[s][i]=normalize_channel_data(DataChannelsRaw[s][i].copy(), i, ch_min, ch_max)\n",
        "\n",
        "        # make Channels Orthogonal\n",
        "        DataChannelsOrt[s][0]=DataChannelsNormal[s][0]\n",
        "        DataChannelsOrt[s][1]=DataChannelsNormal[s][1]-ProjectionVector(DataChannelsOrt[s][0].copy(),DataChannelsNormal[s][1].copy())*OrthogonalFlag\n",
        "        DataChannelsOrt[s][2]=DataChannelsNormal[s][2]-ProjectionVector(DataChannelsOrt[s][0].copy(),DataChannelsNormal[s][2].copy())*OrthogonalFlag\\\n",
        "                                                      -ProjectionVector(DataChannelsOrt[s][1].copy(),DataChannelsNormal[s][2].copy())*OrthogonalFlag\n",
        "\n",
        "        \n",
        "        \n",
        "    ##########################################################\n",
        "    # Generate Data for Network\n",
        "    while True:\n",
        "\n",
        "      for j in ImageArrayShuffled:\n",
        "          for s in SubjectArrayShuffled:\n",
        "\n",
        "              if Iter ==0:\n",
        "                  Image=np.zeros((BatchSize, ch_number, WindowLen, SampelNumberPerwindow), dtype = float)\n",
        "                  Label=np.zeros((BatchSize),dtype=int)\n",
        "\n",
        "              for i in range(len(ListChannel)):\n",
        "                  for z in range (WindowLen):\n",
        "                      ExtractedData = DataChannelsOrt[s][i][0+j*SampleShift : SampelNumberPerwindow+ j*SampleShift]\n",
        "                      Image[Iter][i][z] = ExtractedData.copy()# Data\n",
        "\n",
        "              Label[Iter] = s # label\n",
        "\n",
        "              Iter=Iter+1\n",
        "              #Count=Count+1\n",
        "              if Iter==BatchSize:\n",
        "                Iter=0\n",
        "                #print('Count=',Count)\n",
        "                LabelClass=to_categorical(Label,len(SubjectArrayShuffled))\n",
        "                TI = np.moveaxis(Image, 1, -1)\n",
        "                yield TI, LabelClass \n",
        "\n",
        "                "
      ],
      "execution_count": 0,
      "outputs": []
    },
    {
      "cell_type": "code",
      "metadata": {
        "id": "A9T22r9ywTX2",
        "colab_type": "code",
        "colab": {}
      },
      "source": [
        "#####################################################################################################\n",
        "\n",
        "# Reset Model and Data Arrays\n",
        "\n",
        "list_rawdataTemp=list_rawdata.copy()\n",
        "\n",
        "    \n",
        "#################################################################################################\n",
        "# Construct Data Generator\n",
        "\n",
        "#task, BatchSize,ListRawDataMain,SubjectArrayShuffled, RemoveBaseLineFlag,\n",
        "#ImageArrayShuffled,WindowLen,SampleShift, SampelNumberPerwindow\n",
        "\n",
        "GenTrainData=GenerateGeneralData( task= train_task,\n",
        "                                  ListChannel=list_channel,\n",
        "                                  BatchSize=batch_size,\n",
        "                                  ListRawDataMain= list_rawdataTemp.copy(),\n",
        "                                  SubjectArrayShuffled= subject_number_array_shuffled,\n",
        "                                  ImageArrayShuffled=train_shuff,\n",
        "                                  WindowLen=window_len,\n",
        "                                  OrthogonalFlag=Orthogonal,\n",
        "                                  SampleShift= Train_sample_shift,\n",
        "                                  SampelNumberPerwindow =sample_per_window)\n",
        "\n",
        "GenValidationData =GenerateGeneralData( task= train_task,\n",
        "                                        ListChannel=list_channel,\n",
        "                                        BatchSize=batch_size,\n",
        "                                        ListRawDataMain=list_rawdataTemp.copy(),\n",
        "                                        SubjectArrayShuffled=subject_number_array_shuffled,\n",
        "                                        ImageArrayShuffled=val_shuff,\n",
        "                                        WindowLen=window_len,\n",
        "                                        OrthogonalFlag=Orthogonal,\n",
        "                                        SampleShift= Train_sample_shift, \n",
        "                                        SampelNumberPerwindow =sample_per_window)\n",
        "\n",
        "GenTestData=GenerateGeneralData(task= train_task,\n",
        "                                ListChannel=list_channel,\n",
        "                                BatchSize=batch_size,\n",
        "                                ListRawDataMain=list_rawdataTemp.copy(),\n",
        "                                SubjectArrayShuffled=subject_number_array_shuffled,\n",
        "                                ImageArrayShuffled=test_shuff,\n",
        "                                WindowLen=window_len,\n",
        "                                OrthogonalFlag=Orthogonal,\n",
        "                                SampleShift= Test_sample_shift,\n",
        "                                SampelNumberPerwindow =sample_per_window)\n",
        "\n",
        "#################################################################################################\n"
      ],
      "execution_count": 0,
      "outputs": []
    },
    {
      "cell_type": "code",
      "metadata": {
        "id": "WfpfYbUb0YrT",
        "colab_type": "code",
        "outputId": "9d401ea3-e0f5-42fc-cd33-96a0293ea073",
        "colab": {
          "base_uri": "https://localhost:8080/",
          "height": 101
        }
      },
      "source": [
        "# Create Model\n",
        "model = models.Sequential()\n",
        "model.add(layers.Conv2D(filters=96, kernel_size=(1,11), activation = 'relu', input_shape = (window_len,sample_per_window,ch_number) ))\n",
        "print(model.output.shape)\n",
        "model.add(layers.MaxPooling2D(pool_size=(1,2), strides=4 ))\n",
        "print(model.output.shape)\n",
        "model.add(layers.Conv2D(filters=128, kernel_size=(1,9), activation = 'relu' ))\n",
        "print(model.output.shape)\n",
        "model.add(layers.MaxPooling2D(pool_size=(1,2), strides=2))\n",
        "print(model.output.shape)\n",
        "model.add(layers.Conv2D(filters=256, kernel_size=(1,9), activation = 'relu' ))\n",
        "print(model.output.shape)\n",
        "model.add(layers.MaxPooling2D(pool_size=(1,2), strides=2))\n",
        "\n",
        "model.add(layers.Flatten())\n",
        "model.add(layers.Dense(256, activation = 'relu'))\n",
        "model.add(layers.Dropout(0.5))\n",
        "model.add(layers.Dense(subject_number, activation = 'softmax'))\n",
        "\n",
        "model.compile(loss= 'categorical_crossentropy',\n",
        "              optimizer= optimizers.RMSprop(lr= 1e-4),\n",
        "              metrics = ['acc'])\n"
      ],
      "execution_count": 92,
      "outputs": [
        {
          "output_type": "stream",
          "text": [
            "(?, 1, 150, 96)\n",
            "(?, 1, 38, 96)\n",
            "(?, 1, 30, 128)\n",
            "(?, 1, 15, 128)\n",
            "(?, 1, 7, 256)\n"
          ],
          "name": "stdout"
        }
      ]
    },
    {
      "cell_type": "code",
      "metadata": {
        "id": "8s7IeN4kwouS",
        "colab_type": "code",
        "outputId": "764f16f0-b1a3-4ab9-f89b-d592b7f2ce5a",
        "colab": {
          "base_uri": "https://localhost:8080/",
          "height": 1000
        }
      },
      "source": [
        "# Train the Model\n",
        "history = model.fit_generator(epochs =EpochNum,\n",
        "                              generator=GenTrainData,\n",
        "                              steps_per_epoch=np.ceil(train_number*subject_number/batch_size),\n",
        "                              validation_data=GenValidationData,\n",
        "                              validation_steps =np.ceil(val_number*subject_number/batch_size),\n",
        "                              use_multiprocessing=False,\n",
        "                              workers=1)\n",
        "\n",
        "#################################################################################################\n",
        "# Evalute the Model\n",
        "TrainResult      =model.evaluate_generator(GenTrainData,steps=np.ceil(train_number*subject_number/batch_size))\n",
        "ValidationResult =model.evaluate_generator(GenValidationData,steps=np.ceil(val_number*subject_number/batch_size))\n",
        "TestResult       =model.evaluate_generator(GenTestData,steps=np.ceil(test_number*subject_number/batch_size))\n",
        "print('     TrainResult ([loss , acc])=',TrainResult)\n",
        "print('ValidationResult ([loss , acc])=',ValidationResult)\n",
        "print('      TestResult ([loss , acc])=',TestResult)\n",
        "\n",
        "#################################################################################################\n",
        "# plot accuracy\n",
        "history_dict = history.history \n",
        "acc_values = history_dict ['acc'] \n",
        "val_acc_values = history_dict['val_acc']\n",
        "epochs = range(1, len(acc_values) + 1)\n",
        "\n",
        "\n",
        "#plt.clf()\n",
        "plt.plot(epochs, acc_values, 'bo', label='Training acc') \n",
        "plt.plot(epochs, val_acc_values, 'b', label='Validation acc') \n",
        "plt.title('Training and validation acc') \n",
        "plt.xlabel('Epochs') \n",
        "plt.ylabel('acc') \n",
        "plt.legend()\n",
        "plt.show()\n",
        "\n",
        "\n",
        "history_dict = history.history \n",
        "loss_values = history_dict ['loss'] \n",
        "val_loss_values = history_dict['val_loss']\n",
        "epochs = range(1, len(loss_values) + 1)\n",
        "\n",
        "plt.plot(epochs, loss_values, 'bo', label='Training loss') \n",
        "plt.plot(epochs, val_loss_values, 'b', label='Validation loss') \n",
        "plt.title('Training and validation loss') \n",
        "plt.xlabel('Epochs') \n",
        "plt.ylabel('Loss') \n",
        "plt.legend()\n",
        "plt.show()\n"
      ],
      "execution_count": 93,
      "outputs": [
        {
          "output_type": "stream",
          "text": [
            "Epoch 1/50\n",
            "1508/1508 [==============================] - 13s 8ms/step - loss: 4.1092 - acc: 0.0576 - val_loss: 3.3517 - val_acc: 0.1694\n",
            "Epoch 2/50\n",
            "1508/1508 [==============================] - 10s 7ms/step - loss: 3.1963 - acc: 0.1606 - val_loss: 2.5176 - val_acc: 0.3466\n",
            "Epoch 3/50\n",
            "1508/1508 [==============================] - 10s 7ms/step - loss: 2.6238 - acc: 0.2562 - val_loss: 2.0720 - val_acc: 0.4428\n",
            "Epoch 4/50\n",
            "1508/1508 [==============================] - 10s 7ms/step - loss: 2.2477 - acc: 0.3320 - val_loss: 1.7411 - val_acc: 0.5316\n",
            "Epoch 5/50\n",
            "1508/1508 [==============================] - 10s 7ms/step - loss: 1.9157 - acc: 0.4154 - val_loss: 1.4475 - val_acc: 0.5900\n",
            "Epoch 6/50\n",
            "1508/1508 [==============================] - 10s 7ms/step - loss: 1.6487 - acc: 0.4873 - val_loss: 1.2484 - val_acc: 0.6345\n",
            "Epoch 7/50\n",
            "1508/1508 [==============================] - 10s 7ms/step - loss: 1.4479 - acc: 0.5467 - val_loss: 1.0626 - val_acc: 0.6843\n",
            "Epoch 8/50\n",
            "1508/1508 [==============================] - 10s 7ms/step - loss: 1.2919 - acc: 0.5911 - val_loss: 1.0611 - val_acc: 0.6653\n",
            "Epoch 9/50\n",
            "1508/1508 [==============================] - 10s 7ms/step - loss: 1.1756 - acc: 0.6268 - val_loss: 0.9930 - val_acc: 0.6868\n",
            "Epoch 10/50\n",
            "1508/1508 [==============================] - 10s 7ms/step - loss: 1.0739 - acc: 0.6560 - val_loss: 0.8290 - val_acc: 0.7484\n",
            "Epoch 11/50\n",
            "1508/1508 [==============================] - 10s 7ms/step - loss: 0.9923 - acc: 0.6827 - val_loss: 0.7069 - val_acc: 0.7830\n",
            "Epoch 12/50\n",
            "1508/1508 [==============================] - 10s 7ms/step - loss: 0.9211 - acc: 0.7052 - val_loss: 0.6692 - val_acc: 0.7923\n",
            "Epoch 13/50\n",
            "1508/1508 [==============================] - 10s 7ms/step - loss: 0.8575 - acc: 0.7244 - val_loss: 0.6353 - val_acc: 0.8069\n",
            "Epoch 14/50\n",
            "1508/1508 [==============================] - 10s 7ms/step - loss: 0.7992 - acc: 0.7430 - val_loss: 0.6166 - val_acc: 0.8091\n",
            "Epoch 15/50\n",
            "1508/1508 [==============================] - 10s 7ms/step - loss: 0.7522 - acc: 0.7576 - val_loss: 0.6135 - val_acc: 0.8008\n",
            "Epoch 16/50\n",
            "1508/1508 [==============================] - 10s 7ms/step - loss: 0.7026 - acc: 0.7707 - val_loss: 0.5009 - val_acc: 0.8431\n",
            "Epoch 17/50\n",
            "1508/1508 [==============================] - 10s 7ms/step - loss: 0.6624 - acc: 0.7861 - val_loss: 0.4753 - val_acc: 0.8491\n",
            "Epoch 18/50\n",
            "1508/1508 [==============================] - 10s 7ms/step - loss: 0.6200 - acc: 0.7991 - val_loss: 0.4238 - val_acc: 0.8688\n",
            "Epoch 19/50\n",
            "1508/1508 [==============================] - 10s 7ms/step - loss: 0.5830 - acc: 0.8105 - val_loss: 0.4875 - val_acc: 0.8406\n",
            "Epoch 20/50\n",
            "1508/1508 [==============================] - 10s 7ms/step - loss: 0.5503 - acc: 0.8222 - val_loss: 0.4827 - val_acc: 0.8451\n",
            "Epoch 21/50\n",
            "1508/1508 [==============================] - 10s 7ms/step - loss: 0.5193 - acc: 0.8325 - val_loss: 0.4674 - val_acc: 0.8446\n",
            "Epoch 22/50\n",
            "1508/1508 [==============================] - 10s 7ms/step - loss: 0.4845 - acc: 0.8427 - val_loss: 0.3551 - val_acc: 0.8886\n",
            "Epoch 23/50\n",
            "1508/1508 [==============================] - 10s 7ms/step - loss: 0.4555 - acc: 0.8534 - val_loss: 0.3174 - val_acc: 0.8999\n",
            "Epoch 24/50\n",
            "1508/1508 [==============================] - 10s 7ms/step - loss: 0.4252 - acc: 0.8630 - val_loss: 0.2796 - val_acc: 0.9146\n",
            "Epoch 25/50\n",
            "1508/1508 [==============================] - 10s 7ms/step - loss: 0.4023 - acc: 0.8697 - val_loss: 0.2609 - val_acc: 0.9194\n",
            "Epoch 26/50\n",
            "1508/1508 [==============================] - 10s 7ms/step - loss: 0.3761 - acc: 0.8779 - val_loss: 0.3121 - val_acc: 0.9000\n",
            "Epoch 27/50\n",
            "1508/1508 [==============================] - 10s 7ms/step - loss: 0.3546 - acc: 0.8843 - val_loss: 0.2281 - val_acc: 0.9322\n",
            "Epoch 28/50\n",
            "1508/1508 [==============================] - 10s 7ms/step - loss: 0.3330 - acc: 0.8921 - val_loss: 0.2046 - val_acc: 0.9397\n",
            "Epoch 29/50\n",
            "1508/1508 [==============================] - 10s 7ms/step - loss: 0.3156 - acc: 0.8978 - val_loss: 0.1880 - val_acc: 0.9464\n",
            "Epoch 30/50\n",
            "1508/1508 [==============================] - 10s 7ms/step - loss: 0.2971 - acc: 0.9038 - val_loss: 0.1822 - val_acc: 0.9463\n",
            "Epoch 31/50\n",
            "1508/1508 [==============================] - 10s 7ms/step - loss: 0.2818 - acc: 0.9088 - val_loss: 0.1929 - val_acc: 0.9421\n",
            "Epoch 32/50\n",
            "1508/1508 [==============================] - 10s 7ms/step - loss: 0.2665 - acc: 0.9130 - val_loss: 0.2246 - val_acc: 0.9271\n",
            "Epoch 33/50\n",
            "1508/1508 [==============================] - 10s 7ms/step - loss: 0.2517 - acc: 0.9181 - val_loss: 0.2086 - val_acc: 0.9320\n",
            "Epoch 34/50\n",
            "1508/1508 [==============================] - 10s 7ms/step - loss: 0.2405 - acc: 0.9212 - val_loss: 0.1549 - val_acc: 0.9534\n",
            "Epoch 35/50\n",
            "1508/1508 [==============================] - 10s 7ms/step - loss: 0.2263 - acc: 0.9264 - val_loss: 0.1512 - val_acc: 0.9543\n",
            "Epoch 36/50\n",
            "1508/1508 [==============================] - 10s 7ms/step - loss: 0.2153 - acc: 0.9304 - val_loss: 0.1381 - val_acc: 0.9562\n",
            "Epoch 37/50\n",
            "1508/1508 [==============================] - 10s 7ms/step - loss: 0.2012 - acc: 0.9342 - val_loss: 0.1054 - val_acc: 0.9717\n",
            "Epoch 38/50\n",
            "1508/1508 [==============================] - 10s 7ms/step - loss: 0.1919 - acc: 0.9382 - val_loss: 0.2679 - val_acc: 0.9125\n",
            "Epoch 39/50\n",
            "1508/1508 [==============================] - 10s 7ms/step - loss: 0.1826 - acc: 0.9403 - val_loss: 0.1016 - val_acc: 0.9704\n",
            "Epoch 40/50\n",
            "1508/1508 [==============================] - 10s 7ms/step - loss: 0.1750 - acc: 0.9432 - val_loss: 0.0965 - val_acc: 0.9736\n",
            "Epoch 41/50\n",
            "1508/1508 [==============================] - 10s 7ms/step - loss: 0.1666 - acc: 0.9447 - val_loss: 0.1050 - val_acc: 0.9679\n",
            "Epoch 42/50\n",
            "1508/1508 [==============================] - 10s 7ms/step - loss: 0.1580 - acc: 0.9489 - val_loss: 0.1276 - val_acc: 0.9596\n",
            "Epoch 43/50\n",
            "1508/1508 [==============================] - 10s 7ms/step - loss: 0.1504 - acc: 0.9516 - val_loss: 0.1675 - val_acc: 0.9458\n",
            "Epoch 44/50\n",
            "1508/1508 [==============================] - 10s 7ms/step - loss: 0.1440 - acc: 0.9530 - val_loss: 0.0729 - val_acc: 0.9797\n",
            "Epoch 45/50\n",
            "1508/1508 [==============================] - 10s 7ms/step - loss: 0.1368 - acc: 0.9557 - val_loss: 0.1510 - val_acc: 0.9489\n",
            "Epoch 46/50\n",
            "1508/1508 [==============================] - 10s 7ms/step - loss: 0.1313 - acc: 0.9583 - val_loss: 0.0706 - val_acc: 0.9799\n",
            "Epoch 47/50\n",
            "1508/1508 [==============================] - 10s 7ms/step - loss: 0.1248 - acc: 0.9601 - val_loss: 0.0637 - val_acc: 0.9827\n",
            "Epoch 48/50\n",
            "1508/1508 [==============================] - 10s 7ms/step - loss: 0.1189 - acc: 0.9616 - val_loss: 0.0662 - val_acc: 0.9824\n",
            "Epoch 49/50\n",
            "1508/1508 [==============================] - 10s 7ms/step - loss: 0.1136 - acc: 0.9638 - val_loss: 0.1082 - val_acc: 0.9640\n",
            "Epoch 50/50\n",
            "1508/1508 [==============================] - 10s 7ms/step - loss: 0.1099 - acc: 0.9652 - val_loss: 0.1028 - val_acc: 0.9667\n",
            "     TrainResult ([loss , acc])= [0.07713012590316379, 0.9750290119363395]\n",
            "ValidationResult ([loss , acc])= [0.10300535656857175, 0.9666287251655629]\n",
            "      TestResult ([loss , acc])= [0.11215215115785011, 0.962823275862069]\n"
          ],
          "name": "stdout"
        },
        {
          "output_type": "display_data",
          "data": {
            "image/png": "[encoded data removed]",
            "text/plain": [
              "<Figure size 432x288 with 1 Axes>"
            ]
          },
          "metadata": {
            "tags": []
          }
        },
        {
          "output_type": "display_data",
          "data": {
            "image/png": "[encoded data removed]",
            "text/plain": [
              "<Figure size 432x288 with 1 Axes>"
            ]
          },
          "metadata": {
            "tags": []
          }
        }
      ]
    },
    {
      "cell_type": "code",
      "metadata": {
        "id": "rQE_m_9LS6jU",
        "colab_type": "code",
        "colab": {}
      },
      "source": [
        "Comparison/3 ch/paper_model_109s_3Ch_Normal_FitGenerate_50_Epoch_8 shift.ipynb\n"
      ],
      "execution_count": 0,
      "outputs": []
    }
  ]
}