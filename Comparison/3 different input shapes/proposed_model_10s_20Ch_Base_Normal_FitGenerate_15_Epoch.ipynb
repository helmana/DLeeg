{
  "nbformat": 4,
  "nbformat_minor": 0,
  "metadata": {
    "accelerator": "GPU",
    "celltoolbar": "Raw Cell Format",
    "colab": {
      "name": "proposed model_10s_20Ch_Base_Normal_FitGenerate_15 Epoch.ipynb",
      "provenance": [],
      "collapsed_sections": [],
      "machine_shape": "hm",
      "include_colab_link": true
    },
    "kernelspec": {
      "name": "python3",
      "display_name": "Python 3"
    },
    "language_info": {
      "codemirror_mode": {
        "name": "ipython",
        "version": 3
      },
      "file_extension": ".py",
      "mimetype": "text/x-python",
      "name": "python",
      "nbconvert_exporter": "python",
      "pygments_lexer": "ipython3",
      "version": "3.6.8"
    }
  },
  "cells": [
    {
      "cell_type": "markdown",
      "metadata": {
        "id": "view-in-github",
        "colab_type": "text"
      },
      "source": [
        "<a href=\"https://colab.research.google.com/github/helmana/DLeeg/blob/master/Comparison/proposed_model_10s_20Ch_Base_Normal_FitGenerate_15_Epoch.ipynb\" target=\"_parent\"><img src=\"https://colab.research.google.com/assets/colab-badge.svg\" alt=\"Open In Colab\"/></a>"
      ]
    },
    {
      "cell_type": "code",
      "metadata": {
        "id": "32SoKljybdw4",
        "colab_type": "code",
        "colab": {}
      },
      "source": [
        "'''\n",
        "10 subject\n",
        "20 channel [21,23,29,31,33,35,36,40,8,10,12,41,46,48,50,52,54,60,61,62]\n",
        "trian task: REO \n",
        "epoch: 15 \n",
        "\n",
        "TrainResult ([loss , acc])= [0.00031430401972813894, 1.0]\n",
        "ValidationResult ([loss , acc])= [0.0003190192592623846, 1.0]\n",
        "TestResult ([loss , acc])= [0.00038531293878053395, 1.0]\n",
        "\n",
        "'''"
      ],
      "execution_count": 0,
      "outputs": []
    },
    {
      "cell_type": "code",
      "metadata": {
        "colab_type": "code",
        "id": "fM152eYkDEi0",
        "outputId": "c7f1ba28-415e-4cee-d113-58cf41e653d5",
        "colab": {
          "base_uri": "https://localhost:8080/",
          "height": 121
        }
      },
      "source": [
        "from google.colab import drive\n",
        "drive.mount('/content/drive')"
      ],
      "execution_count": 0,
      "outputs": [
        {
          "output_type": "stream",
          "text": [
            "Go to this URL in a browser: https://accounts.google.com/o/oauth2/auth?client_id=947318989803-6bn6qk8qdgf4n4g3pfee6491hc0brc4i.apps.googleusercontent.com&redirect_uri=urn%3aietf%3awg%3aoauth%3a2.0%3aoob&response_type=code&scope=email%20https%3a%2f%2fwww.googleapis.com%2fauth%2fdocs.test%20https%3a%2f%2fwww.googleapis.com%2fauth%2fdrive%20https%3a%2f%2fwww.googleapis.com%2fauth%2fdrive.photos.readonly%20https%3a%2f%2fwww.googleapis.com%2fauth%2fpeopleapi.readonly\n",
            "\n",
            "Enter your authorization code:\n",
            "··········\n",
            "Mounted at /content/drive\n"
          ],
          "name": "stdout"
        }
      ]
    },
    {
      "cell_type": "code",
      "metadata": {
        "colab_type": "code",
        "id": "v_9QlgWXuZ2E",
        "outputId": "38d3cfd0-949d-489f-bbef-e54534641806",
        "colab": {
          "base_uri": "https://localhost:8080/",
          "height": 67
        }
      },
      "source": [
        "!pip install mne"
      ],
      "execution_count": 0,
      "outputs": [
        {
          "output_type": "stream",
          "text": [
            "Requirement already satisfied: mne in /usr/local/lib/python3.6/dist-packages (0.19.1)\n",
            "Requirement already satisfied: scipy>=0.17.1 in /usr/local/lib/python3.6/dist-packages (from mne) (1.3.2)\n",
            "Requirement already satisfied: numpy>=1.11.3 in /usr/local/lib/python3.6/dist-packages (from mne) (1.17.4)\n"
          ],
          "name": "stdout"
        }
      ]
    },
    {
      "cell_type": "code",
      "metadata": {
        "colab_type": "code",
        "id": "ugNHdREkvO6h",
        "colab": {}
      },
      "source": [
        "'''\n",
        "Rivision:\n",
        "980806:\n",
        "  First version.\n",
        "  \n",
        "  \n",
        "\n",
        "'''"
      ],
      "execution_count": 0,
      "outputs": []
    },
    {
      "cell_type": "code",
      "metadata": {
        "colab_type": "code",
        "id": "HtvZeqTcuZ2M",
        "colab": {}
      },
      "source": [
        "# Parameters:\n",
        "\n",
        "EpochNum=15\n",
        "subject_number=10\n",
        "RemoveBaseLine=0\n",
        "Orthogonal=1\n",
        "task_index = [1] # task: REO\n",
        "Best1Channel=[61] #Oz\n",
        "TryStr='Try1'\n",
        "seed = 14\n",
        "\n",
        "\n",
        "task_number=1\n",
        "task_time = 60\n",
        "sampel_number_per_sec =  160 # sampel rate\n",
        "total_sampel_number =  sampel_number_per_sec *task_time # 60*160\n",
        "#sample_shift = 4 #step len\n",
        "inner_sample_shift = 4 # inner step len\n",
        "outer_sample_shift =8  # outer step len\n",
        "window_len= 20\n",
        "batch_size=64\n",
        "\n",
        "Search_Space_Channel = [21,23,29,31,33,35,36,40,8,10,12,41,46,48,50,52,54,60,61,62]\n",
        "Search_Space_Channel_Name=[\"Fp1\",\"Fp2\",\"F7\",\"F3\",\"Fz\",\"F4\",\"F8\",\"T7\",\"C3\",\"Cz\",\"C4\",\"T8\",\"P7\",\"P3\",\"Pz\",\"P4\",\"P8\",\"O1\",\"Oz\",\"O2\"]\n",
        "\n",
        "# Channel Indexes:\n",
        "#   Fp1,21\n",
        "#   Fp2,23\n",
        "#   F7,29\n",
        "#   F3,31\n",
        "#   Fz,33\n",
        "#   F4,35\n",
        "#   F8,36\n",
        "#   T7,40\n",
        "#   C3,8\n",
        "#   Cz,10\n",
        "#   C4,12\n",
        "#   T8,41\n",
        "#   P7,46\n",
        "#   P3,48\n",
        "#   Pz,50\n",
        "#   P4,52\n",
        "#   P8,54\n",
        "#   O1,60\n",
        "#   Oz,61\n",
        "#   O2,62\n",
        "\n",
        "#   T9,42\n",
        "#   T10,43\n"
      ],
      "execution_count": 0,
      "outputs": []
    },
    {
      "cell_type": "code",
      "metadata": {
        "colab_type": "code",
        "id": "n5TM1aaTaDZZ",
        "outputId": "8facc6d8-7a48-444e-f8be-e0dc382e8224",
        "colab": {
          "base_uri": "https://localhost:8080/",
          "height": 34
        }
      },
      "source": [
        "# For Visualization\n",
        "import matplotlib\n",
        "from matplotlib import pyplot as plt\n",
        "from mpl_toolkits.mplot3d import Axes3D  # noqa\n",
        "\n",
        "# General use\n",
        "import numpy as np\n",
        "import math\n",
        "import random\n",
        "\n",
        "\n",
        "# For model training\n",
        "from keras import layers\n",
        "from keras import models\n",
        "from keras import regularizers\n",
        "from keras.utils import to_categorical\n",
        "from keras import optimizers\n",
        "from keras import backend as KerasBackend\n",
        "\n",
        "\n",
        "# EEG Tools\n",
        "import mne\n",
        "from mne.preprocessing import create_ecg_epochs, create_eog_epochs\n",
        "from mne import io\n",
        "from mne import viz\n",
        "from mne import Epochs, io, pick_types\n",
        "from mne.event import define_target_events\n",
        "from mne.time_frequency import psd_welch\n",
        "print(__doc__)\n",
        "\n"
      ],
      "execution_count": 0,
      "outputs": [
        {
          "output_type": "stream",
          "text": [
            "Automatically created module for IPython interactive environment\n"
          ],
          "name": "stdout"
        }
      ]
    },
    {
      "cell_type": "code",
      "metadata": {
        "colab_type": "code",
        "id": "EMBxiZ8KvXUP",
        "outputId": "54f467c1-30cb-46f4-f190-ef16f1066f85",
        "colab": {
          "base_uri": "https://localhost:8080/",
          "height": 882
        }
      },
      "source": [
        "# load dataset in array\n",
        "task_number= len(task_index)\n",
        "\n",
        "# load dataset in array\n",
        "list_raw_fnames = [[0]*task_number]*subject_number\n",
        "for x in range(subject_number):\n",
        "  list_raw_fnames[x] = mne.datasets.eegbci.load_data(x+1,task_index,path='/content/drive/My Drive/Deep Results/Database')\n",
        "\n",
        "list_rawdata = np.zeros((subject_number,task_number), dtype='object')\n",
        "\n",
        "for i in range(subject_number):\n",
        "  for j in range(task_number):\n",
        "    list_rawdata[i][j] = mne.io.read_raw_edf(list_raw_fnames[i][j], preload=True)\n"
      ],
      "execution_count": 0,
      "outputs": [
        {
          "output_type": "stream",
          "text": [
            "Extracting EDF parameters from /content/drive/My Drive/Deep Results/Database/MNE-eegbci-data/physiobank/database/eegmmidb/S001/S001R01.edf...\n",
            "EDF file detected\n",
            "Setting channel info structure...\n",
            "Creating raw.info structure...\n",
            "Reading 0 ... 9759  =      0.000 ...    60.994 secs...\n",
            "Extracting EDF parameters from /content/drive/My Drive/Deep Results/Database/MNE-eegbci-data/physiobank/database/eegmmidb/S002/S002R01.edf...\n",
            "EDF file detected\n",
            "Setting channel info structure...\n",
            "Creating raw.info structure...\n",
            "Reading 0 ... 9759  =      0.000 ...    60.994 secs...\n",
            "Extracting EDF parameters from /content/drive/My Drive/Deep Results/Database/MNE-eegbci-data/physiobank/database/eegmmidb/S003/S003R01.edf...\n",
            "EDF file detected\n",
            "Setting channel info structure...\n",
            "Creating raw.info structure...\n",
            "Reading 0 ... 9759  =      0.000 ...    60.994 secs...\n",
            "Extracting EDF parameters from /content/drive/My Drive/Deep Results/Database/MNE-eegbci-data/physiobank/database/eegmmidb/S004/S004R01.edf...\n",
            "EDF file detected\n",
            "Setting channel info structure...\n",
            "Creating raw.info structure...\n",
            "Reading 0 ... 9759  =      0.000 ...    60.994 secs...\n",
            "Extracting EDF parameters from /content/drive/My Drive/Deep Results/Database/MNE-eegbci-data/physiobank/database/eegmmidb/S005/S005R01.edf...\n",
            "EDF file detected\n",
            "Setting channel info structure...\n",
            "Creating raw.info structure...\n",
            "Reading 0 ... 9759  =      0.000 ...    60.994 secs...\n",
            "Extracting EDF parameters from /content/drive/My Drive/Deep Results/Database/MNE-eegbci-data/physiobank/database/eegmmidb/S006/S006R01.edf...\n",
            "EDF file detected\n",
            "Setting channel info structure...\n",
            "Creating raw.info structure...\n",
            "Reading 0 ... 9759  =      0.000 ...    60.994 secs...\n",
            "Extracting EDF parameters from /content/drive/My Drive/Deep Results/Database/MNE-eegbci-data/physiobank/database/eegmmidb/S007/S007R01.edf...\n",
            "EDF file detected\n",
            "Setting channel info structure...\n",
            "Creating raw.info structure...\n",
            "Reading 0 ... 9759  =      0.000 ...    60.994 secs...\n",
            "Extracting EDF parameters from /content/drive/My Drive/Deep Results/Database/MNE-eegbci-data/physiobank/database/eegmmidb/S008/S008R01.edf...\n",
            "EDF file detected\n",
            "Setting channel info structure...\n",
            "Creating raw.info structure...\n",
            "Reading 0 ... 9759  =      0.000 ...    60.994 secs...\n",
            "Extracting EDF parameters from /content/drive/My Drive/Deep Results/Database/MNE-eegbci-data/physiobank/database/eegmmidb/S009/S009R01.edf...\n",
            "EDF file detected\n",
            "Setting channel info structure...\n",
            "Creating raw.info structure...\n",
            "Reading 0 ... 9759  =      0.000 ...    60.994 secs...\n",
            "Extracting EDF parameters from /content/drive/My Drive/Deep Results/Database/MNE-eegbci-data/physiobank/database/eegmmidb/S010/S010R01.edf...\n",
            "EDF file detected\n",
            "Setting channel info structure...\n",
            "Creating raw.info structure...\n",
            "Reading 0 ... 9759  =      0.000 ...    60.994 secs...\n"
          ],
          "name": "stdout"
        }
      ]
    },
    {
      "cell_type": "code",
      "metadata": {
        "colab_type": "code",
        "id": "lltZvYULvrvA",
        "colab": {}
      },
      "source": [
        "# img for each subject\n",
        "subject_img_number = math.floor((total_sampel_number - sampel_number_per_sec - (window_len-1 )*inner_sample_shift) / outer_sample_shift) +1\n",
        "np.random.seed(seed)  \n",
        "subject_number_array_shuffled=np.arange(subject_number)\n",
        "np.random.shuffle(subject_number_array_shuffled)\n",
        "\n",
        "subject_img_number_array_shuffled=np.arange(subject_img_number)\n",
        "np.random.shuffle(subject_img_number_array_shuffled)\n",
        "\n",
        "\n",
        "\n",
        "train_index = len(subject_img_number_array_shuffled)//2\n",
        "val_index = train_index + len(subject_img_number_array_shuffled)//4\n",
        "\n",
        "train_shuff = subject_img_number_array_shuffled[:train_index]\n",
        "val_shuff = subject_img_number_array_shuffled[train_index:val_index]\n",
        "test_shuff = subject_img_number_array_shuffled[val_index:]\n",
        "\n",
        "\n",
        "train_number = len(train_shuff)\n",
        "val_number = len(val_shuff)\n",
        "test_number = len(test_shuff)\n"
      ],
      "execution_count": 0,
      "outputs": []
    },
    {
      "cell_type": "code",
      "metadata": {
        "colab_type": "code",
        "id": "2NuDhT0Y1Fqa",
        "colab": {}
      },
      "source": [
        "def normalize_channel_data(ch , i, ch_min, ch_max):\n",
        "  ch = ((ch - ch_min[i]) / (ch_max[i] - ch_min[i] ))\n",
        "  return ch\n",
        "\n",
        "def ProjectionVector(VecA,VecB):\n",
        "    Projeted_VecB_on_VecA=np.dot(VecA,VecB)/np.dot(VecA,VecA)*VecA\n",
        "    return Projeted_VecB_on_VecA"
      ],
      "execution_count": 0,
      "outputs": []
    },
    {
      "cell_type": "code",
      "metadata": {
        "id": "jyfUojlv76gs",
        "colab_type": "code",
        "colab": {}
      },
      "source": [
        "#################################################################################################\n",
        "## Define General Data Generator\n",
        "def GenerateGeneralData(BatchSize,ListRawDataMain,SubjectArrayShuffled,ListChannel,RemoveBaseLineFlag,OrthogonalFlag,ImageArrayShuffled,WindowLen,OuterSampleShift,InnerSampleShift,SampelNumberPerSec):\n",
        "    \n",
        "    Iter=0\n",
        "    ch_number=len(ListChannel)\n",
        "    \n",
        "    \n",
        "    ##########################################################\n",
        "    # Pre-Proceesing On Raw Data\n",
        "    ListRawDataTemp=ListRawDataMain.copy()\n",
        "    \n",
        "    DataAllChannelsRawPerSubject, times =(ListRawDataTemp[0][0][:64,:9600])\n",
        "\n",
        "    DataChannelsRaw   =np.zeros((len(SubjectArrayShuffled),ch_number,times.size),dtype = float)\n",
        "    DataChannelsNormal=np.zeros((len(SubjectArrayShuffled),ch_number,times.size),dtype = float)\n",
        "    DataChannelsOrt   =np.zeros((len(SubjectArrayShuffled),ch_number,times.size),dtype = float)\n",
        "        \n",
        "    for s in SubjectArrayShuffled:\n",
        "\n",
        "        DataAllChannelsRawPerSubject, times =(ListRawDataTemp[s][0][:64,:9600])\n",
        "        \n",
        "        # Extrac Channel T9 or T10 as Baseline\n",
        "        DataChannelT9Raw =DataAllChannelsRawPerSubject[43]# Ch T9 (42) or T10 (43)\n",
        "\n",
        "\n",
        "        ch_max =[]\n",
        "        ch_min =[]\n",
        "        # Extract Selected Channels+ Remove Baseline+ Normailze\n",
        "        for i in range(len(ListChannel)):\n",
        "            DataChannelsRaw[s][i]=DataAllChannelsRawPerSubject[ListChannel[i]].copy() -DataChannelT9Raw*RemoveBaseLineFlag\n",
        "\n",
        "            ch_max = np.append(ch_max, max(DataChannelsRaw[s][i])) # max for each cannel\n",
        "            ch_min = np.append(ch_min, min(DataChannelsRaw[s][i])) # min for each cannel\n",
        "\n",
        "            DataChannelsNormal[s][i]=normalize_channel_data(DataChannelsRaw[s][i].copy(), i, ch_min, ch_max)\n",
        "\n",
        "\n",
        "        # Orthogonal Channel\n",
        "        #DataChannelsOrt[s][0]=DataChannelsNormal[s][0]\n",
        "        #DataChannelsOrt[s][1]=DataChannelsNormal[s][1]-ProjectionVector(DataChannelsNormal[s][0].copy(),DataChannelsNormal[s][1].copy())*OrthogonalFlag\n",
        "        \n",
        "        \n",
        "        \n",
        "    ##########################################################\n",
        "    # Generate Data for Network\n",
        "    while True:\n",
        "\n",
        "      for j in ImageArrayShuffled:\n",
        "          for s in SubjectArrayShuffled:\n",
        "\n",
        "              if Iter ==0:\n",
        "                  TrainImage=np.zeros((BatchSize, ch_number, WindowLen, SampelNumberPerSec), dtype = float)\n",
        "                  TrainLabel=np.zeros((BatchSize),dtype=int)\n",
        "\n",
        "              for i in range(len(ListChannel)):\n",
        "                  for z in range (WindowLen):\n",
        "                      ExtractedData = DataChannelsNormal[s][i][0+j*OuterSampleShift + z*InnerSampleShift:SampelNumberPerSec+ j*OuterSampleShift + z*InnerSampleShift]\n",
        "                      TrainImage[Iter][i][z] = ExtractedData.copy()# Data\n",
        "\n",
        "              TrainLabel[Iter] = s # label\n",
        "\n",
        "              Iter=Iter+1\n",
        "              #Count=Count+1\n",
        "              if Iter==BatchSize:\n",
        "                Iter=0\n",
        "                #print('Count=',Count)\n",
        "                TrainLabelClass=to_categorical(TrainLabel,len(SubjectArrayShuffled))\n",
        "                TI = np.moveaxis(TrainImage, 1, -1)\n",
        "                yield TI, TrainLabelClass \n",
        "\n",
        "                "
      ],
      "execution_count": 0,
      "outputs": []
    },
    {
      "cell_type": "code",
      "metadata": {
        "colab_type": "code",
        "id": "7Ur_osh2aDZm",
        "outputId": "29fea8d4-baa9-4859-b19b-d608672217c6",
        "colab": {
          "base_uri": "https://localhost:8080/",
          "height": 1000
        }
      },
      "source": [
        "#####################################################################################################\n",
        "\n",
        "# Reset Model and Data Arrays\n",
        "list_channel=[21,23,29,31,33,35,36,40,8,10,12,41,46,48,50,52,54,60,61,62]\n",
        "ch_number=len(list_channel)\n",
        "list_rawdataTemp=list_rawdata.copy()\n",
        "\n",
        "    \n",
        "#################################################################################################\n",
        "# Construct Data Generator\n",
        "\n",
        "GenTrainData=GenerateGeneralData(BatchSize=batch_size,\n",
        "                                  ListRawDataMain=list_rawdataTemp.copy(),\n",
        "                                  SubjectArrayShuffled=subject_number_array_shuffled,\n",
        "                                  ListChannel=list_channel,\n",
        "                                  RemoveBaseLineFlag=RemoveBaseLine,\n",
        "                                  OrthogonalFlag=Orthogonal,\n",
        "                                  WindowLen=window_len,\n",
        "                                  OuterSampleShift=outer_sample_shift,\n",
        "                                  InnerSampleShift=inner_sample_shift,\n",
        "                                  SampelNumberPerSec=sampel_number_per_sec,\n",
        "                                  ImageArrayShuffled=train_shuff)\n",
        "\n",
        "GenValidationData =GenerateGeneralData(BatchSize=batch_size,\n",
        "                                        ListRawDataMain=list_rawdataTemp.copy(),\n",
        "                                        SubjectArrayShuffled=subject_number_array_shuffled,\n",
        "                                        ListChannel=list_channel,\n",
        "                                        RemoveBaseLineFlag=RemoveBaseLine,\n",
        "                                        OrthogonalFlag=Orthogonal,\n",
        "                                        WindowLen=window_len,\n",
        "                                        OuterSampleShift=outer_sample_shift,\n",
        "                                        InnerSampleShift=inner_sample_shift,\n",
        "                                        SampelNumberPerSec=sampel_number_per_sec,\n",
        "                                        ImageArrayShuffled=val_shuff)\n",
        "\n",
        "GenTestData=GenerateGeneralData(BatchSize=batch_size,\n",
        "                                ListRawDataMain=list_rawdataTemp.copy(),\n",
        "                                SubjectArrayShuffled=subject_number_array_shuffled,\n",
        "                                ListChannel=list_channel,\n",
        "                                RemoveBaseLineFlag=RemoveBaseLine,\n",
        "                                OrthogonalFlag=Orthogonal,\n",
        "                                WindowLen=window_len,\n",
        "                                OuterSampleShift=outer_sample_shift,\n",
        "                                InnerSampleShift=inner_sample_shift,\n",
        "                                SampelNumberPerSec=sampel_number_per_sec,\n",
        "                                ImageArrayShuffled=test_shuff)\n",
        "\n",
        "#################################################################################################\n",
        "# Create Model\n",
        "model = models.Sequential()\n",
        "model.add(layers.Conv2D(64, (3,3), activation = 'relu', padding='same', input_shape = (window_len,160, ch_number) ))\n",
        "model.add(layers.MaxPooling2D((2,2)))\n",
        "model.add(layers.Conv2D(128, (3,3), activation = 'relu'))\n",
        "model.add(layers.MaxPooling2D((2,2)))\n",
        "model.add(layers.Conv2D(256, (3,3), activation = 'relu'))\n",
        "model.add(layers.MaxPooling2D((2,2)))\n",
        "\n",
        "model.add(layers.Flatten())\n",
        "model.add(layers.Dense(512, activation = 'relu'))\n",
        "model.add(layers.Dropout(0.5))\n",
        "model.add(layers.Dense(subject_number, activation = 'softmax'))\n",
        "\n",
        "model.compile(loss= 'categorical_crossentropy',\n",
        "              optimizer= optimizers.RMSprop(lr= 1e-4),\n",
        "              metrics = ['acc'])\n",
        "\n",
        "#################################################################################################\n",
        "# Train the Model\n",
        "history = model.fit_generator(epochs =EpochNum,\n",
        "                              generator=GenTrainData,\n",
        "                              steps_per_epoch=np.ceil(train_number*subject_number/batch_size),\n",
        "                              validation_data=GenValidationData,\n",
        "                              validation_steps =np.ceil(val_number*subject_number/batch_size),\n",
        "                              use_multiprocessing=False,\n",
        "                              workers=1)\n",
        "\n",
        "#################################################################################################\n",
        "# Evalute the Model\n",
        "TrainResult      =model.evaluate_generator(GenTrainData,steps=np.ceil(train_number*subject_number/batch_size))\n",
        "ValidationResult =model.evaluate_generator(GenValidationData,steps=np.ceil(val_number*subject_number/batch_size))\n",
        "TestResult       =model.evaluate_generator(GenTestData,steps=np.ceil(test_number*subject_number/batch_size))\n",
        "print('     TrainResult ([loss , acc])=',TrainResult)\n",
        "print('ValidationResult ([loss , acc])=',ValidationResult)\n",
        "print('      TestResult ([loss , acc])=',TestResult)\n",
        "\n",
        "#################################################################################################\n",
        "# plot accuracy\n",
        "history_dict = history.history \n",
        "acc_values = history_dict ['acc'] \n",
        "val_acc_values = history_dict['val_acc']\n",
        "epochs = range(1, len(acc_values) + 1)\n",
        "\n",
        "\n",
        "#plt.clf()\n",
        "plt.plot(epochs, acc_values, 'bo', label='Training acc') \n",
        "plt.plot(epochs, val_acc_values, 'b', label='Validation acc') \n",
        "plt.title('Training and validation acc') \n",
        "plt.xlabel('Epochs') \n",
        "plt.ylabel('acc') \n",
        "plt.legend()\n",
        "plt.show()\n",
        "\n",
        "history_dict = history.history \n",
        "loss_values = history_dict ['loss'] \n",
        "val_loss_values = history_dict['val_loss']\n",
        "epochs = range(1, len(loss_values) + 1)\n",
        "\n",
        "plt.plot(epochs, loss_values, 'bo', label='Training loss') \n",
        "plt.plot(epochs, val_loss_values, 'b', label='Validation loss') \n",
        "plt.title('Training and validation loss') \n",
        "plt.xlabel('Epochs') \n",
        "plt.ylabel('Loss') \n",
        "plt.legend()\n",
        "plt.show()"
      ],
      "execution_count": 0,
      "outputs": [
        {
          "output_type": "stream",
          "text": [
            "Epoch 1/15\n",
            "92/92 [==============================] - 19s 210ms/step - loss: 1.2278 - acc: 0.6264 - val_loss: 0.4836 - val_acc: 0.9134\n",
            "Epoch 2/15\n",
            "92/92 [==============================] - 17s 188ms/step - loss: 0.3613 - acc: 0.9064 - val_loss: 0.1392 - val_acc: 0.9725\n",
            "Epoch 3/15\n",
            "92/92 [==============================] - 17s 189ms/step - loss: 0.1761 - acc: 0.9526 - val_loss: 0.1042 - val_acc: 0.9684\n",
            "Epoch 4/15\n",
            "92/92 [==============================] - 17s 189ms/step - loss: 0.1048 - acc: 0.9693 - val_loss: 0.0411 - val_acc: 0.9918\n",
            "Epoch 5/15\n",
            "92/92 [==============================] - 17s 189ms/step - loss: 0.0807 - acc: 0.9769 - val_loss: 0.0286 - val_acc: 0.9946\n",
            "Epoch 6/15\n",
            "92/92 [==============================] - 18s 193ms/step - loss: 0.0571 - acc: 0.9834 - val_loss: 0.0098 - val_acc: 0.9990\n",
            "Epoch 7/15\n",
            "92/92 [==============================] - 17s 190ms/step - loss: 0.0384 - acc: 0.9890 - val_loss: 0.0059 - val_acc: 0.9993\n",
            "Epoch 8/15\n",
            "92/92 [==============================] - 17s 189ms/step - loss: 0.0380 - acc: 0.9895 - val_loss: 0.0047 - val_acc: 0.9997\n",
            "Epoch 9/15\n",
            "92/92 [==============================] - 18s 191ms/step - loss: 0.0259 - acc: 0.9924 - val_loss: 0.2594 - val_acc: 0.8991\n",
            "Epoch 10/15\n",
            "92/92 [==============================] - 17s 189ms/step - loss: 0.0294 - acc: 0.9912 - val_loss: 0.0028 - val_acc: 0.9993\n",
            "Epoch 11/15\n",
            "92/92 [==============================] - 17s 187ms/step - loss: 0.0203 - acc: 0.9946 - val_loss: 0.0023 - val_acc: 0.9997\n",
            "Epoch 12/15\n",
            "92/92 [==============================] - 17s 189ms/step - loss: 0.0135 - acc: 0.9966 - val_loss: 0.2934 - val_acc: 0.9239\n",
            "Epoch 13/15\n",
            "92/92 [==============================] - 18s 191ms/step - loss: 0.0202 - acc: 0.9947 - val_loss: 9.4430e-04 - val_acc: 1.0000\n",
            "Epoch 14/15\n",
            "92/92 [==============================] - 17s 187ms/step - loss: 0.0160 - acc: 0.9952 - val_loss: 7.0668e-04 - val_acc: 1.0000\n",
            "Epoch 15/15\n",
            "92/92 [==============================] - 18s 191ms/step - loss: 0.0159 - acc: 0.9946 - val_loss: 3.2076e-04 - val_acc: 1.0000\n",
            "     TrainResult ([loss , acc])= [0.00031430401972813894, 1.0]\n",
            "ValidationResult ([loss , acc])= [0.0003190192592623846, 1.0]\n",
            "      TestResult ([loss , acc])= [0.00038531293878053395, 1.0]\n"
          ],
          "name": "stdout"
        },
        {
          "output_type": "display_data",
          "data": {
            "image/png": "[encoded data removed]",
            "text/plain": [
              "<Figure size 432x288 with 1 Axes>"
            ]
          },
          "metadata": {
            "tags": []
          }
        },
        {
          "output_type": "display_data",
          "data": {
            "image/png": "[encoded data removed]",
            "text/plain": [
              "<Figure size 432x288 with 1 Axes>"
            ]
          },
          "metadata": {
            "tags": []
          }
        }
      ]
    },
    {
      "cell_type": "code",
      "metadata": {
        "id": "vTdrkjetWgGz",
        "colab_type": "code",
        "colab": {}
      },
      "source": [
        ""
      ],
      "execution_count": 0,
      "outputs": []
    }
  ]
}