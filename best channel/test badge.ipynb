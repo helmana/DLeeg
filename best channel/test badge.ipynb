{
     "source": [
        "<a href=\"https://colab.research.google.com/github/helmana/DLeeg/blob/master/best%20channel/3%20ch(0%2C28%2C34%2C36%2C41%2C43%2C60%2C61%2C62.%20Fc5%2CAf8%20%2CF2%2CF6%2CT8%2CT10%2CO1%2COz%2CO2)-epoch%2020-batch%2020.ipynb\" target=\"_parent\"><img src=\"https://colab.research.google.com/assets/colab-badge.svg\" alt=\"Open In Colab\"/></a>"
      ]
}