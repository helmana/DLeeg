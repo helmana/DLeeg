{
  "nbformat": 4,
  "nbformat_minor": 0,
  "metadata": {
    "accelerator": "GPU",
    "celltoolbar": "Raw Cell Format",
    "colab": {
      "name": "55 instance _ 2000_s_middle_threshold_eer_Normal_FitGenerate_Test.ipynb",
      "provenance": [],
      "collapsed_sections": [],
      "machine_shape": "hm",
      "include_colab_link": true
    },
    "kernelspec": {
      "name": "python3",
      "display_name": "Python 3"
    },
    "language_info": {
      "codemirror_mode": {
        "name": "ipython",
        "version": 3
      },
      "file_extension": ".py",
      "mimetype": "text/x-python",
      "name": "python",
      "nbconvert_exporter": "python",
      "pygments_lexer": "ipython3",
      "version": "3.6.8"
    }
  },
  "cells": [
    {
      "cell_type": "markdown",
      "metadata": {
        "id": "view-in-github",
        "colab_type": "text"
      },
      "source": [
        "<a href=\"https://colab.research.google.com/github/helmana/DLeeg/blob/master/model%20layers%20pop/10%20instance_Threshold%20verification%20with%20Middle_TP-FN_TN-FP_FAR-FFR-EER.ipynb\" target=\"_parent\"><img src=\"https://colab.research.google.com/assets/colab-badge.svg\" alt=\"Open In Colab\"/></a>"
      ]
    },
    {
      "cell_type": "code",
      "metadata": {
        "id": "mgLxG3mBz0Fx",
        "colab_type": "code",
        "outputId": "bf3f1c96-57ba-400b-b6d5-da6418562bd2",
        "colab": {
          "base_uri": "https://localhost:8080/",
          "height": 54
        }
      },
      "source": [
        "'''\n",
        "* verification with middle of data --- test threshold\n",
        "\n",
        "subject number = 109 >> 90 train subject  + 19 new subject \n",
        "channel number = 20 >> [21,23,29,31,33,35,36,40,8,10,12,41,46,48,50,52,54,60,61,62]\n",
        "\n",
        "model3 -  1 layer pop\n",
        "\n",
        "'''\n"
      ],
      "execution_count": 0,
      "outputs": [
        {
          "output_type": "execute_result",
          "data": {
            "text/plain": [
              "'\\ncounter true and false verification\\n\\nsubject number = 109 >> 90 train subject  + 19 new subject \\nchannel number = 20 >> [21,23,29,31,33,35,36,40,8,10,12,41,46,48,50,52,54,60,61,62]\\n\\nmodel3 -  1 layer pop\\n\\n'"
            ]
          },
          "metadata": {
            "tags": []
          },
          "execution_count": 1
        }
      ]
    },
    {
      "cell_type": "code",
      "metadata": {
        "colab_type": "code",
        "id": "fM152eYkDEi0",
        "outputId": "51df743e-e6b5-4fe7-f6e9-a7954c52f3e5",
        "colab": {
          "base_uri": "https://localhost:8080/",
          "height": 54
        }
      },
      "source": [
        "from google.colab import drive\n",
        "drive.mount('/content/drive')"
      ],
      "execution_count": 16,
      "outputs": [
        {
          "output_type": "stream",
          "text": [
            "Drive already mounted at /content/drive; to attempt to forcibly remount, call drive.mount(\"/content/drive\", force_remount=True).\n"
          ],
          "name": "stdout"
        }
      ]
    },
    {
      "cell_type": "code",
      "metadata": {
        "colab_type": "code",
        "id": "v_9QlgWXuZ2E",
        "outputId": "85e8317a-6a8c-4b27-8011-709e3e0571ef",
        "colab": {
          "base_uri": "https://localhost:8080/",
          "height": 67
        }
      },
      "source": [
        "!pip install mne"
      ],
      "execution_count": 17,
      "outputs": [
        {
          "output_type": "stream",
          "text": [
            "Requirement already satisfied: mne in /usr/local/lib/python3.6/dist-packages (0.19.2)\n",
            "Requirement already satisfied: numpy>=1.11.3 in /usr/local/lib/python3.6/dist-packages (from mne) (1.17.4)\n",
            "Requirement already satisfied: scipy>=0.17.1 in /usr/local/lib/python3.6/dist-packages (from mne) (1.3.3)\n"
          ],
          "name": "stdout"
        }
      ]
    },
    {
      "cell_type": "code",
      "metadata": {
        "colab_type": "code",
        "id": "ugNHdREkvO6h",
        "outputId": "be8dac57-c203-4187-87d5-1c6ccaa2e4c7",
        "colab": {
          "base_uri": "https://localhost:8080/",
          "height": 34
        }
      },
      "source": [
        "'''\n",
        "Rivision:\n",
        "980806:\n",
        "  First version.\n",
        "  \n",
        "  \n",
        "\n",
        "'''"
      ],
      "execution_count": 0,
      "outputs": [
        {
          "output_type": "execute_result",
          "data": {
            "text/plain": [
              "'\\nRivision:\\n980806:\\n  First version.\\n  \\n  \\n\\n'"
            ]
          },
          "metadata": {
            "tags": []
          },
          "execution_count": 3
        }
      ]
    },
    {
      "cell_type": "code",
      "metadata": {
        "colab_type": "code",
        "id": "HtvZeqTcuZ2M",
        "colab": {}
      },
      "source": [
        "# Parameters:\n",
        "\n",
        "EpochNum=60\n",
        "subject_numberT=109\n",
        "RemoveBaseLine=0\n",
        "Orthogonal=1\n",
        "task_index = [1] # task: REO\n",
        "list_channel=[21,23,29,31,33,35,36,40,8,10,12,41,46,48,50,52,54,60,61,62]\n",
        "TryStr='Try1'\n",
        "seed = 14\n",
        "\n",
        "task_number=1\n",
        "task_time = 60\n",
        "sampel_number_per_sec =  160 # sampel rate\n",
        "total_sampel_number =  sampel_number_per_sec *task_time # 60*160\n",
        "#sample_shift = 4 #step len\n",
        "inner_sample_shift = 4 # inner step len\n",
        "outer_sample_shift =160  # outer step len\n",
        "#sample_per_window = 160\n",
        "window_len= 20\n",
        "batch_size=64\n",
        "\n",
        "\n"
      ],
      "execution_count": 0,
      "outputs": []
    },
    {
      "cell_type": "code",
      "metadata": {
        "colab_type": "code",
        "id": "n5TM1aaTaDZZ",
        "outputId": "89246e3c-225c-438c-a824-03a43fbf3f61",
        "colab": {
          "base_uri": "https://localhost:8080/",
          "height": 167
        }
      },
      "source": [
        "# For Visualization\n",
        "import matplotlib\n",
        "from matplotlib import pyplot as plt\n",
        "from mpl_toolkits.mplot3d import Axes3D  # noqa\n",
        "\n",
        "# General use\n",
        "import itertools\n",
        "from itertools import combinations \n",
        "import statistics\n",
        "import csv\n",
        "import os.path\n",
        "from scipy.spatial import distance\n",
        "import numpy as np\n",
        "import math\n",
        "import random\n",
        "import datetime\n",
        "import time\n",
        "import pytz\n",
        "from time import gmtime, strftime\n",
        "\n",
        "# For model training\n",
        "from keras import layers\n",
        "from keras import models\n",
        "from keras import regularizers\n",
        "from keras.utils import to_categorical\n",
        "from keras import optimizers\n",
        "from keras import backend as KerasBackend\n",
        "from keras.models import load_model\n",
        "\n",
        "\n",
        "\n",
        "# EEG Tools\n",
        "import mne\n",
        "from mne.preprocessing import create_ecg_epochs, create_eog_epochs\n",
        "from mne import io\n",
        "from mne import viz\n",
        "from mne import Epochs, io, pick_types\n",
        "from mne.event import define_target_events\n",
        "from mne.time_frequency import psd_welch\n",
        "print(__doc__)\n",
        "\n"
      ],
      "execution_count": 4,
      "outputs": [
        {
          "output_type": "stream",
          "text": [
            "Using TensorFlow backend.\n"
          ],
          "name": "stderr"
        },
        {
          "output_type": "display_data",
          "data": {
            "text/html": [
              "<p style=\"color: red;\">\n",
              "The default version of TensorFlow in Colab will soon switch to TensorFlow 2.x.<br>\n",
              "We recommend you <a href=\"https://www.tensorflow.org/guide/migrate\" target=\"_blank\">upgrade</a> now \n",
              "or ensure your notebook will continue to use TensorFlow 1.x via the <code>%tensorflow_version 1.x</code> magic:\n",
              "<a href=\"https://colab.research.google.com/notebooks/tensorflow_version.ipynb\" target=\"_blank\">more info</a>.</p>\n"
            ],
            "text/plain": [
              "<IPython.core.display.HTML object>"
            ]
          },
          "metadata": {
            "tags": []
          }
        },
        {
          "output_type": "stream",
          "text": [
            "/usr/local/lib/python3.6/dist-packages/numba/decorators.py:146: RuntimeWarning: Caching is not available when the 'parallel' target is in use. Caching is now being disabled to allow execution to continue.\n",
            "  warnings.warn(msg, RuntimeWarning)\n"
          ],
          "name": "stderr"
        },
        {
          "output_type": "stream",
          "text": [
            "Automatically created module for IPython interactive environment\n"
          ],
          "name": "stdout"
        }
      ]
    },
    {
      "cell_type": "code",
      "metadata": {
        "colab_type": "code",
        "id": "EMBxiZ8KvXUP",
        "outputId": "59075f81-b923-4d75-9bc9-9c82ba1ff194",
        "colab": {
          "base_uri": "https://localhost:8080/",
          "height": 1000
        }
      },
      "source": [
        "# load dataset in array\n",
        "task_number= len(task_index)\n",
        "\n",
        "# load dataset in array\n",
        "list_raw_fnames = [[0]*task_number]*subject_numberT\n",
        "for x in range(subject_numberT):\n",
        "  list_raw_fnames[x] = mne.datasets.eegbci.load_data(x+1,task_index,path='/content/drive/My Drive/Deep Results/Database')\n",
        "\n",
        "list_rawdata = np.zeros((subject_numberT,task_number), dtype='object')\n",
        "\n",
        "for i in range(subject_numberT):\n",
        "  for j in range(task_number):\n",
        "    list_rawdata[i][j] = mne.io.read_raw_edf(list_raw_fnames[i][j], preload=True)\n"
      ],
      "execution_count": 5,
      "outputs": [
        {
          "output_type": "stream",
          "text": [
            "Do you want to set the path:\n",
            "    /content/drive/My Drive/Deep Results/Database\n",
            "as the default EEGBCI dataset path in the mne-python config [y]/n? y\n",
            "Attempting to create new mne-python configuration file:\n",
            "/root/.mne/mne-python.json\n",
            "Extracting EDF parameters from /content/drive/My Drive/Deep Results/Database/MNE-eegbci-data/physiobank/database/eegmmidb/S001/S001R01.edf...\n",
            "EDF file detected\n",
            "Setting channel info structure...\n",
            "Creating raw.info structure...\n",
            "Reading 0 ... 9759  =      0.000 ...    60.994 secs...\n",
            "Extracting EDF parameters from /content/drive/My Drive/Deep Results/Database/MNE-eegbci-data/physiobank/database/eegmmidb/S002/S002R01.edf...\n",
            "EDF file detected\n",
            "Setting channel info structure...\n",
            "Creating raw.info structure...\n",
            "Reading 0 ... 9759  =      0.000 ...    60.994 secs...\n",
            "Extracting EDF parameters from /content/drive/My Drive/Deep Results/Database/MNE-eegbci-data/physiobank/database/eegmmidb/S003/S003R01.edf...\n",
            "EDF file detected\n",
            "Setting channel info structure...\n",
            "Creating raw.info structure...\n",
            "Reading 0 ... 9759  =      0.000 ...    60.994 secs...\n",
            "Extracting EDF parameters from /content/drive/My Drive/Deep Results/Database/MNE-eegbci-data/physiobank/database/eegmmidb/S004/S004R01.edf...\n",
            "EDF file detected\n",
            "Setting channel info structure...\n",
            "Creating raw.info structure...\n",
            "Reading 0 ... 9759  =      0.000 ...    60.994 secs...\n",
            "Extracting EDF parameters from /content/drive/My Drive/Deep Results/Database/MNE-eegbci-data/physiobank/database/eegmmidb/S005/S005R01.edf...\n",
            "EDF file detected\n",
            "Setting channel info structure...\n",
            "Creating raw.info structure...\n",
            "Reading 0 ... 9759  =      0.000 ...    60.994 secs...\n",
            "Extracting EDF parameters from /content/drive/My Drive/Deep Results/Database/MNE-eegbci-data/physiobank/database/eegmmidb/S006/S006R01.edf...\n",
            "EDF file detected\n",
            "Setting channel info structure...\n",
            "Creating raw.info structure...\n",
            "Reading 0 ... 9759  =      0.000 ...    60.994 secs...\n",
            "Extracting EDF parameters from /content/drive/My Drive/Deep Results/Database/MNE-eegbci-data/physiobank/database/eegmmidb/S007/S007R01.edf...\n",
            "EDF file detected\n",
            "Setting channel info structure...\n",
            "Creating raw.info structure...\n",
            "Reading 0 ... 9759  =      0.000 ...    60.994 secs...\n",
            "Extracting EDF parameters from /content/drive/My Drive/Deep Results/Database/MNE-eegbci-data/physiobank/database/eegmmidb/S008/S008R01.edf...\n",
            "EDF file detected\n",
            "Setting channel info structure...\n",
            "Creating raw.info structure...\n",
            "Reading 0 ... 9759  =      0.000 ...    60.994 secs...\n",
            "Extracting EDF parameters from /content/drive/My Drive/Deep Results/Database/MNE-eegbci-data/physiobank/database/eegmmidb/S009/S009R01.edf...\n",
            "EDF file detected\n",
            "Setting channel info structure...\n",
            "Creating raw.info structure...\n",
            "Reading 0 ... 9759  =      0.000 ...    60.994 secs...\n",
            "Extracting EDF parameters from /content/drive/My Drive/Deep Results/Database/MNE-eegbci-data/physiobank/database/eegmmidb/S010/S010R01.edf...\n",
            "EDF file detected\n",
            "Setting channel info structure...\n",
            "Creating raw.info structure...\n",
            "Reading 0 ... 9759  =      0.000 ...    60.994 secs...\n",
            "Extracting EDF parameters from /content/drive/My Drive/Deep Results/Database/MNE-eegbci-data/physiobank/database/eegmmidb/S011/S011R01.edf...\n",
            "EDF file detected\n",
            "Setting channel info structure...\n",
            "Creating raw.info structure...\n",
            "Reading 0 ... 9759  =      0.000 ...    60.994 secs...\n",
            "Extracting EDF parameters from /content/drive/My Drive/Deep Results/Database/MNE-eegbci-data/physiobank/database/eegmmidb/S012/S012R01.edf...\n",
            "EDF file detected\n",
            "Setting channel info structure...\n",
            "Creating raw.info structure...\n",
            "Reading 0 ... 9759  =      0.000 ...    60.994 secs...\n",
            "Extracting EDF parameters from /content/drive/My Drive/Deep Results/Database/MNE-eegbci-data/physiobank/database/eegmmidb/S013/S013R01.edf...\n",
            "EDF file detected\n",
            "Setting channel info structure...\n",
            "Creating raw.info structure...\n",
            "Reading 0 ... 9759  =      0.000 ...    60.994 secs...\n",
            "Extracting EDF parameters from /content/drive/My Drive/Deep Results/Database/MNE-eegbci-data/physiobank/database/eegmmidb/S014/S014R01.edf...\n",
            "EDF file detected\n",
            "Setting channel info structure...\n",
            "Creating raw.info structure...\n",
            "Reading 0 ... 9599  =      0.000 ...    59.994 secs...\n",
            "Extracting EDF parameters from /content/drive/My Drive/Deep Results/Database/MNE-eegbci-data/physiobank/database/eegmmidb/S015/S015R01.edf...\n",
            "EDF file detected\n",
            "Setting channel info structure...\n",
            "Creating raw.info structure...\n",
            "Reading 0 ... 9759  =      0.000 ...    60.994 secs...\n",
            "Extracting EDF parameters from /content/drive/My Drive/Deep Results/Database/MNE-eegbci-data/physiobank/database/eegmmidb/S016/S016R01.edf...\n",
            "EDF file detected\n",
            "Setting channel info structure...\n",
            "Creating raw.info structure...\n",
            "Reading 0 ... 9759  =      0.000 ...    60.994 secs...\n",
            "Extracting EDF parameters from /content/drive/My Drive/Deep Results/Database/MNE-eegbci-data/physiobank/database/eegmmidb/S017/S017R01.edf...\n",
            "EDF file detected\n",
            "Setting channel info structure...\n",
            "Creating raw.info structure...\n",
            "Reading 0 ... 9759  =      0.000 ...    60.994 secs...\n",
            "Extracting EDF parameters from /content/drive/My Drive/Deep Results/Database/MNE-eegbci-data/physiobank/database/eegmmidb/S018/S018R01.edf...\n",
            "EDF file detected\n",
            "Setting channel info structure...\n",
            "Creating raw.info structure...\n",
            "Reading 0 ... 9759  =      0.000 ...    60.994 secs...\n",
            "Extracting EDF parameters from /content/drive/My Drive/Deep Results/Database/MNE-eegbci-data/physiobank/database/eegmmidb/S019/S019R01.edf...\n",
            "EDF file detected\n",
            "Setting channel info structure...\n",
            "Creating raw.info structure...\n",
            "Reading 0 ... 9759  =      0.000 ...    60.994 secs...\n",
            "Extracting EDF parameters from /content/drive/My Drive/Deep Results/Database/MNE-eegbci-data/physiobank/database/eegmmidb/S020/S020R01.edf...\n",
            "EDF file detected\n",
            "Setting channel info structure...\n",
            "Creating raw.info structure...\n",
            "Reading 0 ... 9759  =      0.000 ...    60.994 secs...\n",
            "Extracting EDF parameters from /content/drive/My Drive/Deep Results/Database/MNE-eegbci-data/physiobank/database/eegmmidb/S021/S021R01.edf...\n",
            "EDF file detected\n",
            "Setting channel info structure...\n",
            "Creating raw.info structure...\n",
            "Reading 0 ... 9759  =      0.000 ...    60.994 secs...\n",
            "Extracting EDF parameters from /content/drive/My Drive/Deep Results/Database/MNE-eegbci-data/physiobank/database/eegmmidb/S022/S022R01.edf...\n",
            "EDF file detected\n",
            "Setting channel info structure...\n",
            "Creating raw.info structure...\n",
            "Reading 0 ... 9759  =      0.000 ...    60.994 secs...\n",
            "Extracting EDF parameters from /content/drive/My Drive/Deep Results/Database/MNE-eegbci-data/physiobank/database/eegmmidb/S023/S023R01.edf...\n",
            "EDF file detected\n",
            "Setting channel info structure...\n",
            "Creating raw.info structure...\n",
            "Reading 0 ... 9759  =      0.000 ...    60.994 secs...\n",
            "Extracting EDF parameters from /content/drive/My Drive/Deep Results/Database/MNE-eegbci-data/physiobank/database/eegmmidb/S024/S024R01.edf...\n",
            "EDF file detected\n",
            "Setting channel info structure...\n",
            "Creating raw.info structure...\n",
            "Reading 0 ... 9759  =      0.000 ...    60.994 secs...\n",
            "Extracting EDF parameters from /content/drive/My Drive/Deep Results/Database/MNE-eegbci-data/physiobank/database/eegmmidb/S025/S025R01.edf...\n",
            "EDF file detected\n",
            "Setting channel info structure...\n",
            "Creating raw.info structure...\n",
            "Reading 0 ... 9759  =      0.000 ...    60.994 secs...\n",
            "Extracting EDF parameters from /content/drive/My Drive/Deep Results/Database/MNE-eegbci-data/physiobank/database/eegmmidb/S026/S026R01.edf...\n",
            "EDF file detected\n",
            "Setting channel info structure...\n",
            "Creating raw.info structure...\n",
            "Reading 0 ... 9759  =      0.000 ...    60.994 secs...\n",
            "Extracting EDF parameters from /content/drive/My Drive/Deep Results/Database/MNE-eegbci-data/physiobank/database/eegmmidb/S027/S027R01.edf...\n",
            "EDF file detected\n",
            "Setting channel info structure...\n",
            "Creating raw.info structure...\n",
            "Reading 0 ... 9759  =      0.000 ...    60.994 secs...\n",
            "Extracting EDF parameters from /content/drive/My Drive/Deep Results/Database/MNE-eegbci-data/physiobank/database/eegmmidb/S028/S028R01.edf...\n",
            "EDF file detected\n",
            "Setting channel info structure...\n",
            "Creating raw.info structure...\n",
            "Reading 0 ... 9759  =      0.000 ...    60.994 secs...\n",
            "Extracting EDF parameters from /content/drive/My Drive/Deep Results/Database/MNE-eegbci-data/physiobank/database/eegmmidb/S029/S029R01.edf...\n",
            "EDF file detected\n",
            "Setting channel info structure...\n",
            "Creating raw.info structure...\n",
            "Reading 0 ... 9759  =      0.000 ...    60.994 secs...\n",
            "Extracting EDF parameters from /content/drive/My Drive/Deep Results/Database/MNE-eegbci-data/physiobank/database/eegmmidb/S030/S030R01.edf...\n",
            "EDF file detected\n",
            "Setting channel info structure...\n",
            "Creating raw.info structure...\n",
            "Reading 0 ... 9759  =      0.000 ...    60.994 secs...\n",
            "Extracting EDF parameters from /content/drive/My Drive/Deep Results/Database/MNE-eegbci-data/physiobank/database/eegmmidb/S031/S031R01.edf...\n",
            "EDF file detected\n",
            "Setting channel info structure...\n",
            "Creating raw.info structure...\n",
            "Reading 0 ... 9759  =      0.000 ...    60.994 secs...\n",
            "Extracting EDF parameters from /content/drive/My Drive/Deep Results/Database/MNE-eegbci-data/physiobank/database/eegmmidb/S032/S032R01.edf...\n",
            "EDF file detected\n",
            "Setting channel info structure...\n",
            "Creating raw.info structure...\n",
            "Reading 0 ... 9759  =      0.000 ...    60.994 secs...\n",
            "Extracting EDF parameters from /content/drive/My Drive/Deep Results/Database/MNE-eegbci-data/physiobank/database/eegmmidb/S033/S033R01.edf...\n",
            "EDF file detected\n",
            "Setting channel info structure...\n",
            "Creating raw.info structure...\n",
            "Reading 0 ... 9759  =      0.000 ...    60.994 secs...\n",
            "Extracting EDF parameters from /content/drive/My Drive/Deep Results/Database/MNE-eegbci-data/physiobank/database/eegmmidb/S034/S034R01.edf...\n",
            "EDF file detected\n",
            "Setting channel info structure...\n",
            "Creating raw.info structure...\n",
            "Reading 0 ... 9759  =      0.000 ...    60.994 secs...\n",
            "Extracting EDF parameters from /content/drive/My Drive/Deep Results/Database/MNE-eegbci-data/physiobank/database/eegmmidb/S035/S035R01.edf...\n",
            "EDF file detected\n",
            "Setting channel info structure...\n",
            "Creating raw.info structure...\n",
            "Reading 0 ... 9759  =      0.000 ...    60.994 secs...\n",
            "Extracting EDF parameters from /content/drive/My Drive/Deep Results/Database/MNE-eegbci-data/physiobank/database/eegmmidb/S036/S036R01.edf...\n",
            "EDF file detected\n",
            "Setting channel info structure...\n",
            "Creating raw.info structure...\n",
            "Reading 0 ... 9759  =      0.000 ...    60.994 secs...\n",
            "Extracting EDF parameters from /content/drive/My Drive/Deep Results/Database/MNE-eegbci-data/physiobank/database/eegmmidb/S037/S037R01.edf...\n",
            "EDF file detected\n",
            "Setting channel info structure...\n",
            "Creating raw.info structure...\n",
            "Reading 0 ... 9759  =      0.000 ...    60.994 secs...\n",
            "Extracting EDF parameters from /content/drive/My Drive/Deep Results/Database/MNE-eegbci-data/physiobank/database/eegmmidb/S038/S038R01.edf...\n",
            "EDF file detected\n",
            "Setting channel info structure...\n",
            "Creating raw.info structure...\n",
            "Reading 0 ... 9759  =      0.000 ...    60.994 secs...\n",
            "Extracting EDF parameters from /content/drive/My Drive/Deep Results/Database/MNE-eegbci-data/physiobank/database/eegmmidb/S039/S039R01.edf...\n",
            "EDF file detected\n",
            "Setting channel info structure...\n",
            "Creating raw.info structure...\n",
            "Reading 0 ... 9759  =      0.000 ...    60.994 secs...\n",
            "Extracting EDF parameters from /content/drive/My Drive/Deep Results/Database/MNE-eegbci-data/physiobank/database/eegmmidb/S040/S040R01.edf...\n",
            "EDF file detected\n",
            "Setting channel info structure...\n",
            "Creating raw.info structure...\n",
            "Reading 0 ... 9759  =      0.000 ...    60.994 secs...\n",
            "Extracting EDF parameters from /content/drive/My Drive/Deep Results/Database/MNE-eegbci-data/physiobank/database/eegmmidb/S041/S041R01.edf...\n",
            "EDF file detected\n",
            "Setting channel info structure...\n",
            "Creating raw.info structure...\n",
            "Reading 0 ... 9759  =      0.000 ...    60.994 secs...\n",
            "Extracting EDF parameters from /content/drive/My Drive/Deep Results/Database/MNE-eegbci-data/physiobank/database/eegmmidb/S042/S042R01.edf...\n",
            "EDF file detected\n",
            "Setting channel info structure...\n",
            "Creating raw.info structure...\n",
            "Reading 0 ... 9759  =      0.000 ...    60.994 secs...\n",
            "Extracting EDF parameters from /content/drive/My Drive/Deep Results/Database/MNE-eegbci-data/physiobank/database/eegmmidb/S043/S043R01.edf...\n",
            "EDF file detected\n",
            "Setting channel info structure...\n",
            "Creating raw.info structure...\n",
            "Reading 0 ... 9759  =      0.000 ...    60.994 secs...\n",
            "Extracting EDF parameters from /content/drive/My Drive/Deep Results/Database/MNE-eegbci-data/physiobank/database/eegmmidb/S044/S044R01.edf...\n",
            "EDF file detected\n",
            "Setting channel info structure...\n",
            "Creating raw.info structure...\n",
            "Reading 0 ... 9759  =      0.000 ...    60.994 secs...\n",
            "Extracting EDF parameters from /content/drive/My Drive/Deep Results/Database/MNE-eegbci-data/physiobank/database/eegmmidb/S045/S045R01.edf...\n",
            "EDF file detected\n",
            "Setting channel info structure...\n",
            "Creating raw.info structure...\n",
            "Reading 0 ... 9759  =      0.000 ...    60.994 secs...\n",
            "Extracting EDF parameters from /content/drive/My Drive/Deep Results/Database/MNE-eegbci-data/physiobank/database/eegmmidb/S046/S046R01.edf...\n",
            "EDF file detected\n",
            "Setting channel info structure...\n",
            "Creating raw.info structure...\n",
            "Reading 0 ... 9759  =      0.000 ...    60.994 secs...\n",
            "Extracting EDF parameters from /content/drive/My Drive/Deep Results/Database/MNE-eegbci-data/physiobank/database/eegmmidb/S047/S047R01.edf...\n",
            "EDF file detected\n",
            "Setting channel info structure...\n",
            "Creating raw.info structure...\n",
            "Reading 0 ... 9759  =      0.000 ...    60.994 secs...\n",
            "Extracting EDF parameters from /content/drive/My Drive/Deep Results/Database/MNE-eegbci-data/physiobank/database/eegmmidb/S048/S048R01.edf...\n",
            "EDF file detected\n",
            "Setting channel info structure...\n",
            "Creating raw.info structure...\n",
            "Reading 0 ... 9759  =      0.000 ...    60.994 secs...\n",
            "Extracting EDF parameters from /content/drive/My Drive/Deep Results/Database/MNE-eegbci-data/physiobank/database/eegmmidb/S049/S049R01.edf...\n",
            "EDF file detected\n",
            "Setting channel info structure...\n",
            "Creating raw.info structure...\n",
            "Reading 0 ... 9759  =      0.000 ...    60.994 secs...\n",
            "Extracting EDF parameters from /content/drive/My Drive/Deep Results/Database/MNE-eegbci-data/physiobank/database/eegmmidb/S050/S050R01.edf...\n",
            "EDF file detected\n",
            "Setting channel info structure...\n",
            "Creating raw.info structure...\n",
            "Reading 0 ... 9759  =      0.000 ...    60.994 secs...\n",
            "Extracting EDF parameters from /content/drive/My Drive/Deep Results/Database/MNE-eegbci-data/physiobank/database/eegmmidb/S051/S051R01.edf...\n",
            "EDF file detected\n",
            "Setting channel info structure...\n",
            "Creating raw.info structure...\n",
            "Reading 0 ... 9599  =      0.000 ...    59.994 secs...\n",
            "Extracting EDF parameters from /content/drive/My Drive/Deep Results/Database/MNE-eegbci-data/physiobank/database/eegmmidb/S052/S052R01.edf...\n",
            "EDF file detected\n",
            "Setting channel info structure...\n",
            "Creating raw.info structure...\n",
            "Reading 0 ... 9759  =      0.000 ...    60.994 secs...\n",
            "Extracting EDF parameters from /content/drive/My Drive/Deep Results/Database/MNE-eegbci-data/physiobank/database/eegmmidb/S053/S053R01.edf...\n",
            "EDF file detected\n",
            "Setting channel info structure...\n",
            "Creating raw.info structure...\n",
            "Reading 0 ... 9759  =      0.000 ...    60.994 secs...\n",
            "Extracting EDF parameters from /content/drive/My Drive/Deep Results/Database/MNE-eegbci-data/physiobank/database/eegmmidb/S054/S054R01.edf...\n",
            "EDF file detected\n",
            "Setting channel info structure...\n",
            "Creating raw.info structure...\n",
            "Reading 0 ... 9759  =      0.000 ...    60.994 secs...\n",
            "Extracting EDF parameters from /content/drive/My Drive/Deep Results/Database/MNE-eegbci-data/physiobank/database/eegmmidb/S055/S055R01.edf...\n",
            "EDF file detected\n",
            "Setting channel info structure...\n",
            "Creating raw.info structure...\n",
            "Reading 0 ... 9759  =      0.000 ...    60.994 secs...\n",
            "Extracting EDF parameters from /content/drive/My Drive/Deep Results/Database/MNE-eegbci-data/physiobank/database/eegmmidb/S056/S056R01.edf...\n",
            "EDF file detected\n",
            "Setting channel info structure...\n",
            "Creating raw.info structure...\n",
            "Reading 0 ... 9759  =      0.000 ...    60.994 secs...\n",
            "Extracting EDF parameters from /content/drive/My Drive/Deep Results/Database/MNE-eegbci-data/physiobank/database/eegmmidb/S057/S057R01.edf...\n",
            "EDF file detected\n",
            "Setting channel info structure...\n",
            "Creating raw.info structure...\n",
            "Reading 0 ... 9759  =      0.000 ...    60.994 secs...\n",
            "Extracting EDF parameters from /content/drive/My Drive/Deep Results/Database/MNE-eegbci-data/physiobank/database/eegmmidb/S058/S058R01.edf...\n",
            "EDF file detected\n",
            "Setting channel info structure...\n",
            "Creating raw.info structure...\n",
            "Reading 0 ... 9759  =      0.000 ...    60.994 secs...\n",
            "Extracting EDF parameters from /content/drive/My Drive/Deep Results/Database/MNE-eegbci-data/physiobank/database/eegmmidb/S059/S059R01.edf...\n",
            "EDF file detected\n",
            "Setting channel info structure...\n",
            "Creating raw.info structure...\n",
            "Reading 0 ... 9759  =      0.000 ...    60.994 secs...\n",
            "Extracting EDF parameters from /content/drive/My Drive/Deep Results/Database/MNE-eegbci-data/physiobank/database/eegmmidb/S060/S060R01.edf...\n",
            "EDF file detected\n",
            "Setting channel info structure...\n",
            "Creating raw.info structure...\n",
            "Reading 0 ... 9759  =      0.000 ...    60.994 secs...\n",
            "Extracting EDF parameters from /content/drive/My Drive/Deep Results/Database/MNE-eegbci-data/physiobank/database/eegmmidb/S061/S061R01.edf...\n",
            "EDF file detected\n",
            "Setting channel info structure...\n",
            "Creating raw.info structure...\n",
            "Reading 0 ... 9759  =      0.000 ...    60.994 secs...\n",
            "Extracting EDF parameters from /content/drive/My Drive/Deep Results/Database/MNE-eegbci-data/physiobank/database/eegmmidb/S062/S062R01.edf...\n",
            "EDF file detected\n",
            "Setting channel info structure...\n",
            "Creating raw.info structure...\n",
            "Reading 0 ... 9759  =      0.000 ...    60.994 secs...\n",
            "Extracting EDF parameters from /content/drive/My Drive/Deep Results/Database/MNE-eegbci-data/physiobank/database/eegmmidb/S063/S063R01.edf...\n",
            "EDF file detected\n",
            "Setting channel info structure...\n",
            "Creating raw.info structure...\n",
            "Reading 0 ... 9759  =      0.000 ...    60.994 secs...\n",
            "Extracting EDF parameters from /content/drive/My Drive/Deep Results/Database/MNE-eegbci-data/physiobank/database/eegmmidb/S064/S064R01.edf...\n",
            "EDF file detected\n",
            "Setting channel info structure...\n",
            "Creating raw.info structure...\n",
            "Reading 0 ... 9759  =      0.000 ...    60.994 secs...\n",
            "Extracting EDF parameters from /content/drive/My Drive/Deep Results/Database/MNE-eegbci-data/physiobank/database/eegmmidb/S065/S065R01.edf...\n",
            "EDF file detected\n",
            "Setting channel info structure...\n",
            "Creating raw.info structure...\n",
            "Reading 0 ... 9759  =      0.000 ...    60.994 secs...\n",
            "Extracting EDF parameters from /content/drive/My Drive/Deep Results/Database/MNE-eegbci-data/physiobank/database/eegmmidb/S066/S066R01.edf...\n",
            "EDF file detected\n",
            "Setting channel info structure...\n",
            "Creating raw.info structure...\n",
            "Reading 0 ... 9759  =      0.000 ...    60.994 secs...\n",
            "Extracting EDF parameters from /content/drive/My Drive/Deep Results/Database/MNE-eegbci-data/physiobank/database/eegmmidb/S067/S067R01.edf...\n",
            "EDF file detected\n",
            "Setting channel info structure...\n",
            "Creating raw.info structure...\n",
            "Reading 0 ... 9759  =      0.000 ...    60.994 secs...\n",
            "Extracting EDF parameters from /content/drive/My Drive/Deep Results/Database/MNE-eegbci-data/physiobank/database/eegmmidb/S068/S068R01.edf...\n",
            "EDF file detected\n",
            "Setting channel info structure...\n",
            "Creating raw.info structure...\n",
            "Reading 0 ... 9759  =      0.000 ...    60.994 secs...\n",
            "Extracting EDF parameters from /content/drive/My Drive/Deep Results/Database/MNE-eegbci-data/physiobank/database/eegmmidb/S069/S069R01.edf...\n",
            "EDF file detected\n",
            "Setting channel info structure...\n",
            "Creating raw.info structure...\n",
            "Reading 0 ... 9599  =      0.000 ...    59.994 secs...\n",
            "Extracting EDF parameters from /content/drive/My Drive/Deep Results/Database/MNE-eegbci-data/physiobank/database/eegmmidb/S070/S070R01.edf...\n",
            "EDF file detected\n",
            "Setting channel info structure...\n",
            "Creating raw.info structure...\n",
            "Reading 0 ... 9759  =      0.000 ...    60.994 secs...\n",
            "Extracting EDF parameters from /content/drive/My Drive/Deep Results/Database/MNE-eegbci-data/physiobank/database/eegmmidb/S071/S071R01.edf...\n",
            "EDF file detected\n",
            "Setting channel info structure...\n",
            "Creating raw.info structure...\n",
            "Reading 0 ... 9759  =      0.000 ...    60.994 secs...\n",
            "Extracting EDF parameters from /content/drive/My Drive/Deep Results/Database/MNE-eegbci-data/physiobank/database/eegmmidb/S072/S072R01.edf...\n",
            "EDF file detected\n",
            "Setting channel info structure...\n",
            "Creating raw.info structure...\n",
            "Reading 0 ... 9759  =      0.000 ...    60.994 secs...\n",
            "Extracting EDF parameters from /content/drive/My Drive/Deep Results/Database/MNE-eegbci-data/physiobank/database/eegmmidb/S073/S073R01.edf...\n",
            "EDF file detected\n",
            "Setting channel info structure...\n",
            "Creating raw.info structure...\n",
            "Reading 0 ... 9759  =      0.000 ...    60.994 secs...\n",
            "Extracting EDF parameters from /content/drive/My Drive/Deep Results/Database/MNE-eegbci-data/physiobank/database/eegmmidb/S074/S074R01.edf...\n",
            "EDF file detected\n",
            "Setting channel info structure...\n",
            "Creating raw.info structure...\n",
            "Reading 0 ... 9759  =      0.000 ...    60.994 secs...\n",
            "Extracting EDF parameters from /content/drive/My Drive/Deep Results/Database/MNE-eegbci-data/physiobank/database/eegmmidb/S075/S075R01.edf...\n",
            "EDF file detected\n",
            "Setting channel info structure...\n",
            "Creating raw.info structure...\n",
            "Reading 0 ... 9759  =      0.000 ...    60.994 secs...\n",
            "Extracting EDF parameters from /content/drive/My Drive/Deep Results/Database/MNE-eegbci-data/physiobank/database/eegmmidb/S076/S076R01.edf...\n",
            "EDF file detected\n",
            "Setting channel info structure...\n",
            "Creating raw.info structure...\n",
            "Reading 0 ... 9759  =      0.000 ...    60.994 secs...\n",
            "Extracting EDF parameters from /content/drive/My Drive/Deep Results/Database/MNE-eegbci-data/physiobank/database/eegmmidb/S077/S077R01.edf...\n",
            "EDF file detected\n",
            "Setting channel info structure...\n",
            "Creating raw.info structure...\n",
            "Reading 0 ... 9759  =      0.000 ...    60.994 secs...\n",
            "Extracting EDF parameters from /content/drive/My Drive/Deep Results/Database/MNE-eegbci-data/physiobank/database/eegmmidb/S078/S078R01.edf...\n",
            "EDF file detected\n",
            "Setting channel info structure...\n",
            "Creating raw.info structure...\n",
            "Reading 0 ... 9759  =      0.000 ...    60.994 secs...\n",
            "Extracting EDF parameters from /content/drive/My Drive/Deep Results/Database/MNE-eegbci-data/physiobank/database/eegmmidb/S079/S079R01.edf...\n",
            "EDF file detected\n",
            "Setting channel info structure...\n",
            "Creating raw.info structure...\n",
            "Reading 0 ... 9759  =      0.000 ...    60.994 secs...\n",
            "Extracting EDF parameters from /content/drive/My Drive/Deep Results/Database/MNE-eegbci-data/physiobank/database/eegmmidb/S080/S080R01.edf...\n",
            "EDF file detected\n",
            "Setting channel info structure...\n",
            "Creating raw.info structure...\n",
            "Reading 0 ... 9759  =      0.000 ...    60.994 secs...\n",
            "Extracting EDF parameters from /content/drive/My Drive/Deep Results/Database/MNE-eegbci-data/physiobank/database/eegmmidb/S081/S081R01.edf...\n",
            "EDF file detected\n",
            "Setting channel info structure...\n",
            "Creating raw.info structure...\n",
            "Reading 0 ... 9759  =      0.000 ...    60.994 secs...\n",
            "Extracting EDF parameters from /content/drive/My Drive/Deep Results/Database/MNE-eegbci-data/physiobank/database/eegmmidb/S082/S082R01.edf...\n",
            "EDF file detected\n",
            "Setting channel info structure...\n",
            "Creating raw.info structure...\n",
            "Reading 0 ... 9759  =      0.000 ...    60.994 secs...\n",
            "Extracting EDF parameters from /content/drive/My Drive/Deep Results/Database/MNE-eegbci-data/physiobank/database/eegmmidb/S083/S083R01.edf...\n",
            "EDF file detected\n",
            "Setting channel info structure...\n",
            "Creating raw.info structure...\n",
            "Reading 0 ... 9759  =      0.000 ...    60.994 secs...\n",
            "Extracting EDF parameters from /content/drive/My Drive/Deep Results/Database/MNE-eegbci-data/physiobank/database/eegmmidb/S084/S084R01.edf...\n",
            "EDF file detected\n",
            "Setting channel info structure...\n",
            "Creating raw.info structure...\n",
            "Reading 0 ... 9759  =      0.000 ...    60.994 secs...\n",
            "Extracting EDF parameters from /content/drive/My Drive/Deep Results/Database/MNE-eegbci-data/physiobank/database/eegmmidb/S085/S085R01.edf...\n",
            "EDF file detected\n",
            "Setting channel info structure...\n",
            "Creating raw.info structure...\n",
            "Reading 0 ... 9759  =      0.000 ...    60.994 secs...\n",
            "Extracting EDF parameters from /content/drive/My Drive/Deep Results/Database/MNE-eegbci-data/physiobank/database/eegmmidb/S086/S086R01.edf...\n",
            "EDF file detected\n",
            "Setting channel info structure...\n",
            "Creating raw.info structure...\n",
            "Reading 0 ... 9759  =      0.000 ...    60.994 secs...\n",
            "Extracting EDF parameters from /content/drive/My Drive/Deep Results/Database/MNE-eegbci-data/physiobank/database/eegmmidb/S087/S087R01.edf...\n",
            "EDF file detected\n",
            "Setting channel info structure...\n",
            "Creating raw.info structure...\n",
            "Reading 0 ... 9759  =      0.000 ...    60.994 secs...\n",
            "Extracting EDF parameters from /content/drive/My Drive/Deep Results/Database/MNE-eegbci-data/physiobank/database/eegmmidb/S088/S088R01.edf...\n",
            "EDF file detected\n",
            "Setting channel info structure...\n",
            "Creating raw.info structure...\n",
            "Reading 0 ... 9759  =      0.000 ...    60.994 secs...\n",
            "Extracting EDF parameters from /content/drive/My Drive/Deep Results/Database/MNE-eegbci-data/physiobank/database/eegmmidb/S089/S089R01.edf...\n",
            "EDF file detected\n",
            "Setting channel info structure...\n",
            "Creating raw.info structure...\n",
            "Reading 0 ... 9759  =      0.000 ...    60.994 secs...\n",
            "Extracting EDF parameters from /content/drive/My Drive/Deep Results/Database/MNE-eegbci-data/physiobank/database/eegmmidb/S090/S090R01.edf...\n",
            "EDF file detected\n",
            "Setting channel info structure...\n",
            "Creating raw.info structure...\n",
            "Reading 0 ... 9759  =      0.000 ...    60.994 secs...\n",
            "Extracting EDF parameters from /content/drive/My Drive/Deep Results/Database/MNE-eegbci-data/physiobank/database/eegmmidb/S091/S091R01.edf...\n",
            "EDF file detected\n",
            "Setting channel info structure...\n",
            "Creating raw.info structure...\n",
            "Reading 0 ... 9759  =      0.000 ...    60.994 secs...\n",
            "Extracting EDF parameters from /content/drive/My Drive/Deep Results/Database/MNE-eegbci-data/physiobank/database/eegmmidb/S092/S092R01.edf...\n",
            "EDF file detected\n",
            "Setting channel info structure...\n",
            "Creating raw.info structure...\n",
            "Reading 0 ... 9759  =      0.000 ...    60.994 secs...\n",
            "Extracting EDF parameters from /content/drive/My Drive/Deep Results/Database/MNE-eegbci-data/physiobank/database/eegmmidb/S093/S093R01.edf...\n",
            "EDF file detected\n",
            "Setting channel info structure...\n",
            "Creating raw.info structure...\n",
            "Reading 0 ... 9759  =      0.000 ...    60.994 secs...\n",
            "Extracting EDF parameters from /content/drive/My Drive/Deep Results/Database/MNE-eegbci-data/physiobank/database/eegmmidb/S094/S094R01.edf...\n",
            "EDF file detected\n",
            "Setting channel info structure...\n",
            "Creating raw.info structure...\n",
            "Reading 0 ... 9759  =      0.000 ...    60.994 secs...\n",
            "Extracting EDF parameters from /content/drive/My Drive/Deep Results/Database/MNE-eegbci-data/physiobank/database/eegmmidb/S095/S095R01.edf...\n",
            "EDF file detected\n",
            "Setting channel info structure...\n",
            "Creating raw.info structure...\n",
            "Reading 0 ... 9759  =      0.000 ...    60.994 secs...\n",
            "Extracting EDF parameters from /content/drive/My Drive/Deep Results/Database/MNE-eegbci-data/physiobank/database/eegmmidb/S096/S096R01.edf...\n",
            "EDF file detected\n",
            "Setting channel info structure...\n",
            "Creating raw.info structure...\n",
            "Reading 0 ... 9759  =      0.000 ...    60.994 secs...\n",
            "Extracting EDF parameters from /content/drive/My Drive/Deep Results/Database/MNE-eegbci-data/physiobank/database/eegmmidb/S097/S097R01.edf...\n",
            "EDF file detected\n",
            "Setting channel info structure...\n",
            "Creating raw.info structure...\n",
            "Reading 0 ... 9759  =      0.000 ...    60.994 secs...\n",
            "Extracting EDF parameters from /content/drive/My Drive/Deep Results/Database/MNE-eegbci-data/physiobank/database/eegmmidb/S098/S098R01.edf...\n",
            "EDF file detected\n",
            "Setting channel info structure...\n",
            "Creating raw.info structure...\n",
            "Reading 0 ... 9759  =      0.000 ...    60.994 secs...\n",
            "Extracting EDF parameters from /content/drive/My Drive/Deep Results/Database/MNE-eegbci-data/physiobank/database/eegmmidb/S099/S099R01.edf...\n",
            "EDF file detected\n",
            "Setting channel info structure...\n",
            "Creating raw.info structure...\n",
            "Reading 0 ... 9759  =      0.000 ...    60.994 secs...\n",
            "Extracting EDF parameters from /content/drive/My Drive/Deep Results/Database/MNE-eegbci-data/physiobank/database/eegmmidb/S100/S100R01.edf...\n",
            "EDF file detected\n",
            "Setting channel info structure...\n",
            "Creating raw.info structure...\n",
            "Reading 0 ... 9759  =      0.000 ...    60.994 secs...\n",
            "Extracting EDF parameters from /content/drive/My Drive/Deep Results/Database/MNE-eegbci-data/physiobank/database/eegmmidb/S101/S101R01.edf...\n",
            "EDF file detected\n",
            "Setting channel info structure...\n",
            "Creating raw.info structure...\n",
            "Reading 0 ... 9759  =      0.000 ...    60.994 secs...\n",
            "Extracting EDF parameters from /content/drive/My Drive/Deep Results/Database/MNE-eegbci-data/physiobank/database/eegmmidb/S102/S102R01.edf...\n",
            "EDF file detected\n",
            "Setting channel info structure...\n",
            "Creating raw.info structure...\n",
            "Reading 0 ... 9759  =      0.000 ...    60.994 secs...\n",
            "Extracting EDF parameters from /content/drive/My Drive/Deep Results/Database/MNE-eegbci-data/physiobank/database/eegmmidb/S103/S103R01.edf...\n",
            "EDF file detected\n",
            "Setting channel info structure...\n",
            "Creating raw.info structure...\n",
            "Reading 0 ... 9759  =      0.000 ...    60.994 secs...\n",
            "Extracting EDF parameters from /content/drive/My Drive/Deep Results/Database/MNE-eegbci-data/physiobank/database/eegmmidb/S104/S104R01.edf...\n",
            "EDF file detected\n",
            "Setting channel info structure...\n",
            "Creating raw.info structure...\n",
            "Reading 0 ... 9759  =      0.000 ...    60.994 secs...\n",
            "Extracting EDF parameters from /content/drive/My Drive/Deep Results/Database/MNE-eegbci-data/physiobank/database/eegmmidb/S105/S105R01.edf...\n",
            "EDF file detected\n",
            "Setting channel info structure...\n",
            "Creating raw.info structure...\n",
            "Reading 0 ... 9759  =      0.000 ...    60.994 secs...\n",
            "Extracting EDF parameters from /content/drive/My Drive/Deep Results/Database/MNE-eegbci-data/physiobank/database/eegmmidb/S106/S106R01.edf...\n",
            "EDF file detected\n",
            "Setting channel info structure...\n",
            "Creating raw.info structure...\n",
            "Reading 0 ... 9759  =      0.000 ...    60.994 secs...\n",
            "Extracting EDF parameters from /content/drive/My Drive/Deep Results/Database/MNE-eegbci-data/physiobank/database/eegmmidb/S107/S107R01.edf...\n",
            "EDF file detected\n",
            "Setting channel info structure...\n",
            "Creating raw.info structure...\n",
            "Reading 0 ... 9759  =      0.000 ...    60.994 secs...\n",
            "Extracting EDF parameters from /content/drive/My Drive/Deep Results/Database/MNE-eegbci-data/physiobank/database/eegmmidb/S108/S108R01.edf...\n",
            "EDF file detected\n",
            "Setting channel info structure...\n",
            "Creating raw.info structure...\n",
            "Reading 0 ... 9759  =      0.000 ...    60.994 secs...\n",
            "Extracting EDF parameters from /content/drive/My Drive/Deep Results/Database/MNE-eegbci-data/physiobank/database/eegmmidb/S109/S109R01.edf...\n",
            "EDF file detected\n",
            "Setting channel info structure...\n",
            "Creating raw.info structure...\n",
            "Reading 0 ... 9599  =      0.000 ...    59.994 secs...\n"
          ],
          "name": "stdout"
        }
      ]
    },
    {
      "cell_type": "code",
      "metadata": {
        "colab_type": "code",
        "id": "lltZvYULvrvA",
        "outputId": "7219341b-4637-4f1d-f262-799dbe18c4b1",
        "colab": {
          "base_uri": "https://localhost:8080/",
          "height": 51
        }
      },
      "source": [
        "subject_number = 90\n",
        "# new subject\n",
        "new_subject =np.arange(subject_number, subject_numberT)\n",
        "\n",
        "# img for each subject\n",
        "subject_img_number = math.floor((total_sampel_number - sampel_number_per_sec - (window_len-1 )*inner_sample_shift) / outer_sample_shift) +1\n",
        "np.random.seed(seed)  \n",
        "\n",
        "subject_number_array_shuffled=np.arange(subject_number)\n",
        "np.random.shuffle(subject_number_array_shuffled)\n",
        "\n",
        "subject_img_number_array_shuffled=np.arange(subject_img_number)\n",
        "np.random.shuffle(subject_img_number_array_shuffled)\n",
        "\n",
        "train_index = len(subject_img_number_array_shuffled)//2\n",
        "val_index = train_index + len(subject_img_number_array_shuffled)//4\n",
        "\n",
        "train_shuff = subject_img_number_array_shuffled[:train_index]\n",
        "val_shuff = subject_img_number_array_shuffled[train_index:val_index]\n",
        "test_shuff = subject_img_number_array_shuffled[val_index:]\n",
        "\n",
        "\n",
        "train_number = len(train_shuff)\n",
        "val_number = len(val_shuff)\n",
        "test_number = len(test_shuff)\n",
        "print(train_number , val_number, test_number)\n",
        "subject_img_number\n"
      ],
      "execution_count": 19,
      "outputs": [
        {
          "output_type": "stream",
          "text": [
            "29 14 16\n"
          ],
          "name": "stdout"
        },
        {
          "output_type": "execute_result",
          "data": {
            "text/plain": [
              "59"
            ]
          },
          "metadata": {
            "tags": []
          },
          "execution_count": 19
        }
      ]
    },
    {
      "cell_type": "code",
      "metadata": {
        "colab_type": "code",
        "id": "2NuDhT0Y1Fqa",
        "colab": {}
      },
      "source": [
        "def normalize_channel_data(ch , i, ch_min, ch_max):\n",
        "  ch = ((ch - ch_min[i]) / (ch_max[i] - ch_min[i] ))\n",
        "  return ch\n",
        "\n",
        "def ProjectionVector(VecA,VecB):\n",
        "    Projeted_VecB_on_VecA=np.dot(VecA,VecB)/np.dot(VecA,VecA)*VecA\n",
        "    return Projeted_VecB_on_VecA"
      ],
      "execution_count": 0,
      "outputs": []
    },
    {
      "cell_type": "code",
      "metadata": {
        "id": "jyfUojlv76gs",
        "colab_type": "code",
        "colab": {}
      },
      "source": [
        "#################################################################################################\n",
        "## Define General Data Generator\n",
        "def GenerateGeneralData(BatchSize,ListRawDataMain,SubjectArrayShuffled,ListChannel,RemoveBaseLineFlag,OrthogonalFlag,ImageArrayShuffled,WindowLen,OuterSampleShift,InnerSampleShift,SampelNumberPerSec):\n",
        "    \n",
        "    Iter=0\n",
        "    #ch_number=len(ListChannel)\n",
        "    \n",
        "    \n",
        "    ##########################################################\n",
        "    # Pre-Proceesing On Raw Data\n",
        "    ListRawDataTemp=ListRawDataMain.copy()\n",
        "    \n",
        "    DataAllChannelsRawPerSubject, times =(ListRawDataTemp[0][0][:64,:9600])\n",
        "\n",
        "    DataChannelsRaw   =np.zeros((len(SubjectArrayShuffled),ch_number,times.size),dtype = float)\n",
        "    DataChannelsNormal=np.zeros((len(SubjectArrayShuffled),ch_number,times.size),dtype = float)\n",
        "    DataChannelsOrt   =np.zeros((len(SubjectArrayShuffled),ch_number,times.size),dtype = float)\n",
        "    e= 0    \n",
        "    for s in SubjectArrayShuffled:\n",
        "\n",
        "        DataAllChannelsRawPerSubject, times =(ListRawDataTemp[s][0][:64,:9600])\n",
        "        \n",
        "        # Extrac Channel T9 or T10 as Baseline\n",
        "        DataChannelT9Raw =DataAllChannelsRawPerSubject[43]# Ch T9 (42) or T10 (43)\n",
        "\n",
        "\n",
        "        ch_max =[]\n",
        "        ch_min =[]\n",
        "        # Extract Selected Channels+ Remove Baseline+ Normailze\n",
        "        \n",
        "        for i in range(len(ListChannel)):\n",
        "            DataChannelsRaw[e][i]=DataAllChannelsRawPerSubject[ListChannel[i]].copy() -DataChannelT9Raw*RemoveBaseLineFlag\n",
        "\n",
        "            ch_max = np.append(ch_max, max(DataChannelsRaw[e][i])) # max for each cannel\n",
        "            ch_min = np.append(ch_min, min(DataChannelsRaw[e][i])) # min for each cannel\n",
        "\n",
        "            DataChannelsNormal[e][i]=normalize_channel_data(DataChannelsRaw[e][i].copy(), i, ch_min, ch_max)\n",
        "        e = e+1\n",
        "\n",
        "        # Orthogonal Channel\n",
        "        #DataChannelsOrt[e][0]=DataChannelsNormal[e][0]\n",
        "        #DataChannelsOrt[e][1]=DataChannelsNormal[e][1]-ProjectionVector(DataChannelsNormal[e][0].copy(),DataChannelsNormal[e][1].copy())*OrthogonalFlag\n",
        "        \n",
        "        \n",
        "        \n",
        "    ##########################################################\n",
        "    # Generate Data for Network\n",
        "    while True:\n",
        "\n",
        "      for j in ImageArrayShuffled:\n",
        "          r = 0\n",
        "          for s in SubjectArrayShuffled:\n",
        "\n",
        "              if Iter ==0:\n",
        "                  TrainImage=np.zeros((BatchSize, ch_number, WindowLen, SampelNumberPerSec), dtype = float)\n",
        "                  TrainLabel=np.zeros((BatchSize),dtype=int)\n",
        "\n",
        "              for i in range(len(ListChannel)):\n",
        "                  for z in range (WindowLen):\n",
        "                      ExtractedData = DataChannelsNormal[r][i][0+j*OuterSampleShift + z*InnerSampleShift:SampelNumberPerSec+ j*OuterSampleShift + z*InnerSampleShift]\n",
        "                      TrainImage[Iter][i][z] = ExtractedData.copy()# Data\n",
        "              r=r+1\n",
        "\n",
        "              TrainLabel[Iter] = s # label\n",
        "\n",
        "              Iter=Iter+1\n",
        "              #Count=Count+1\n",
        "              if Iter==BatchSize:\n",
        "                Iter=0\n",
        "                #print('Count=',Count)\n",
        "                TrainLabelClass=to_categorical(TrainLabel,subject_numberT)\n",
        "                TI = np.moveaxis(TrainImage, 1, -1)\n",
        "                yield TI, TrainLabelClass \n",
        "\n",
        "                "
      ],
      "execution_count": 0,
      "outputs": []
    },
    {
      "cell_type": "code",
      "metadata": {
        "id": "kkHnIAbUCyGo",
        "colab_type": "code",
        "colab": {}
      },
      "source": [
        "ch_number=len(list_channel)\n",
        "list_rawdataTemp=list_rawdata.copy()\n"
      ],
      "execution_count": 0,
      "outputs": []
    },
    {
      "cell_type": "code",
      "metadata": {
        "id": "ZdbiqiMTRUs3",
        "colab_type": "code",
        "colab": {}
      },
      "source": [
        "#model.save('/content/drive/My Drive/mymodels/model1.h5')"
      ],
      "execution_count": 0,
      "outputs": []
    },
    {
      "cell_type": "code",
      "metadata": {
        "id": "5ccRoCsD68Sh",
        "colab_type": "code",
        "outputId": "6d77b578-c288-460f-e758-26c55d24e40e",
        "colab": {
          "base_uri": "https://localhost:8080/",
          "height": 1000
        }
      },
      "source": [
        "model = load_model('/content/drive/My Drive/mymodels/model2_2.h5')\n",
        "model.summary()\n",
        "model.pop()\n",
        "model.summary()\n"
      ],
      "execution_count": 10,
      "outputs": [
        {
          "output_type": "stream",
          "text": [
            "WARNING:tensorflow:From /usr/local/lib/python3.6/dist-packages/keras/backend/tensorflow_backend.py:541: The name tf.placeholder is deprecated. Please use tf.compat.v1.placeholder instead.\n",
            "\n",
            "WARNING:tensorflow:From /usr/local/lib/python3.6/dist-packages/keras/backend/tensorflow_backend.py:4432: The name tf.random_uniform is deprecated. Please use tf.random.uniform instead.\n",
            "\n",
            "WARNING:tensorflow:From /usr/local/lib/python3.6/dist-packages/keras/backend/tensorflow_backend.py:4267: The name tf.nn.max_pool is deprecated. Please use tf.nn.max_pool2d instead.\n",
            "\n",
            "WARNING:tensorflow:From /usr/local/lib/python3.6/dist-packages/keras/backend/tensorflow_backend.py:66: The name tf.get_default_graph is deprecated. Please use tf.compat.v1.get_default_graph instead.\n",
            "\n",
            "WARNING:tensorflow:From /usr/local/lib/python3.6/dist-packages/keras/backend/tensorflow_backend.py:148: The name tf.placeholder_with_default is deprecated. Please use tf.compat.v1.placeholder_with_default instead.\n",
            "\n",
            "WARNING:tensorflow:From /usr/local/lib/python3.6/dist-packages/keras/backend/tensorflow_backend.py:3733: calling dropout (from tensorflow.python.ops.nn_ops) with keep_prob is deprecated and will be removed in a future version.\n",
            "Instructions for updating:\n",
            "Please use `rate` instead of `keep_prob`. Rate should be set to `rate = 1 - keep_prob`.\n",
            "WARNING:tensorflow:From /usr/local/lib/python3.6/dist-packages/keras/backend/tensorflow_backend.py:190: The name tf.get_default_session is deprecated. Please use tf.compat.v1.get_default_session instead.\n",
            "\n",
            "WARNING:tensorflow:From /usr/local/lib/python3.6/dist-packages/keras/backend/tensorflow_backend.py:197: The name tf.ConfigProto is deprecated. Please use tf.compat.v1.ConfigProto instead.\n",
            "\n",
            "WARNING:tensorflow:From /usr/local/lib/python3.6/dist-packages/keras/backend/tensorflow_backend.py:203: The name tf.Session is deprecated. Please use tf.compat.v1.Session instead.\n",
            "\n",
            "WARNING:tensorflow:From /usr/local/lib/python3.6/dist-packages/keras/backend/tensorflow_backend.py:207: The name tf.global_variables is deprecated. Please use tf.compat.v1.global_variables instead.\n",
            "\n",
            "WARNING:tensorflow:From /usr/local/lib/python3.6/dist-packages/keras/backend/tensorflow_backend.py:216: The name tf.is_variable_initialized is deprecated. Please use tf.compat.v1.is_variable_initialized instead.\n",
            "\n",
            "WARNING:tensorflow:From /usr/local/lib/python3.6/dist-packages/keras/backend/tensorflow_backend.py:223: The name tf.variables_initializer is deprecated. Please use tf.compat.v1.variables_initializer instead.\n",
            "\n",
            "WARNING:tensorflow:From /usr/local/lib/python3.6/dist-packages/keras/optimizers.py:793: The name tf.train.Optimizer is deprecated. Please use tf.compat.v1.train.Optimizer instead.\n",
            "\n",
            "WARNING:tensorflow:From /usr/local/lib/python3.6/dist-packages/keras/backend/tensorflow_backend.py:3576: The name tf.log is deprecated. Please use tf.math.log instead.\n",
            "\n",
            "WARNING:tensorflow:From /usr/local/lib/python3.6/dist-packages/tensorflow_core/python/ops/math_grad.py:1424: where (from tensorflow.python.ops.array_ops) is deprecated and will be removed in a future version.\n",
            "Instructions for updating:\n",
            "Use tf.where in 2.0, which has the same broadcast rule as np.where\n",
            "WARNING:tensorflow:From /usr/local/lib/python3.6/dist-packages/keras/backend/tensorflow_backend.py:1033: The name tf.assign_add is deprecated. Please use tf.compat.v1.assign_add instead.\n",
            "\n",
            "WARNING:tensorflow:From /usr/local/lib/python3.6/dist-packages/keras/backend/tensorflow_backend.py:1020: The name tf.assign is deprecated. Please use tf.compat.v1.assign instead.\n",
            "\n",
            "Model: \"sequential_3\"\n",
            "_________________________________________________________________\n",
            "Layer (type)                 Output Shape              Param #   \n",
            "=================================================================\n",
            "conv2d_7 (Conv2D)            (None, 20, 160, 64)       11584     \n",
            "_________________________________________________________________\n",
            "max_pooling2d_7 (MaxPooling2 (None, 10, 80, 64)        0         \n",
            "_________________________________________________________________\n",
            "conv2d_8 (Conv2D)            (None, 8, 78, 128)        73856     \n",
            "_________________________________________________________________\n",
            "max_pooling2d_8 (MaxPooling2 (None, 4, 39, 128)        0         \n",
            "_________________________________________________________________\n",
            "conv2d_9 (Conv2D)            (None, 2, 37, 256)        295168    \n",
            "_________________________________________________________________\n",
            "max_pooling2d_9 (MaxPooling2 (None, 1, 18, 256)        0         \n",
            "_________________________________________________________________\n",
            "flatten_3 (Flatten)          (None, 4608)              0         \n",
            "_________________________________________________________________\n",
            "dense_7 (Dense)              (None, 512)               2359808   \n",
            "_________________________________________________________________\n",
            "dropout_3 (Dropout)          (None, 512)               0         \n",
            "_________________________________________________________________\n",
            "dense_8 (Dense)              (None, 64)                32832     \n",
            "_________________________________________________________________\n",
            "dense_9 (Dense)              (None, 109)               7085      \n",
            "=================================================================\n",
            "Total params: 2,780,333\n",
            "Trainable params: 2,780,333\n",
            "Non-trainable params: 0\n",
            "_________________________________________________________________\n",
            "Model: \"sequential_3\"\n",
            "_________________________________________________________________\n",
            "Layer (type)                 Output Shape              Param #   \n",
            "=================================================================\n",
            "conv2d_7 (Conv2D)            (None, 20, 160, 64)       11584     \n",
            "_________________________________________________________________\n",
            "max_pooling2d_7 (MaxPooling2 (None, 10, 80, 64)        0         \n",
            "_________________________________________________________________\n",
            "conv2d_8 (Conv2D)            (None, 8, 78, 128)        73856     \n",
            "_________________________________________________________________\n",
            "max_pooling2d_8 (MaxPooling2 (None, 4, 39, 128)        0         \n",
            "_________________________________________________________________\n",
            "conv2d_9 (Conv2D)            (None, 2, 37, 256)        295168    \n",
            "_________________________________________________________________\n",
            "max_pooling2d_9 (MaxPooling2 (None, 1, 18, 256)        0         \n",
            "_________________________________________________________________\n",
            "flatten_3 (Flatten)          (None, 4608)              0         \n",
            "_________________________________________________________________\n",
            "dense_7 (Dense)              (None, 512)               2359808   \n",
            "_________________________________________________________________\n",
            "dropout_3 (Dropout)          (None, 512)               0         \n",
            "_________________________________________________________________\n",
            "dense_8 (Dense)              (None, 64)                32832     \n",
            "=================================================================\n",
            "Total params: 2,780,333\n",
            "Trainable params: 2,780,333\n",
            "Non-trainable params: 0\n",
            "_________________________________________________________________\n"
          ],
          "name": "stdout"
        },
        {
          "output_type": "stream",
          "text": [
            "/usr/local/lib/python3.6/dist-packages/keras/engine/training.py:493: UserWarning: Discrepancy between trainable weights and collected trainable weights, did you set `model.trainable` without calling `model.compile` after ?\n",
            "  'Discrepancy between trainable weights and collected trainable'\n"
          ],
          "name": "stderr"
        }
      ]
    },
    {
      "cell_type": "code",
      "metadata": {
        "id": "D-MFl09D2Scm",
        "colab_type": "code",
        "colab": {}
      },
      "source": [
        "def subject_Predict_generator(batch_size, mymodel, subject_arr, img_arr ):\n",
        "  sn = len(subject_arr)\n",
        "  imgn = len(img_arr)\n",
        "  pre_GenTestData=GenerateGeneralData(BatchSize=batch_size,\n",
        "                                  ListRawDataMain=list_rawdataTemp.copy(),\n",
        "                                  SubjectArrayShuffled= subject_arr,\n",
        "                                  ListChannel=list_channel,\n",
        "                                  RemoveBaseLineFlag=RemoveBaseLine,\n",
        "                                  OrthogonalFlag=Orthogonal,\n",
        "                                  WindowLen=window_len,\n",
        "                                  OuterSampleShift=outer_sample_shift,\n",
        "                                  InnerSampleShift=inner_sample_shift,\n",
        "                                  SampelNumberPerSec=sampel_number_per_sec,\n",
        "                                  ImageArrayShuffled= img_arr)\n",
        "\n",
        "  pre_Subject = mymodel.predict_generator(pre_GenTestData,steps=np.ceil(imgn*sn/batch_size))\n",
        "  return pre_Subject\n"
      ],
      "execution_count": 0,
      "outputs": []
    },
    {
      "cell_type": "code",
      "metadata": {
        "id": "FSyNmN3Rf9yB",
        "colab_type": "code",
        "outputId": "141a7709-0bcc-46f7-cc67-7ff5a9d870ac",
        "colab": {
          "base_uri": "https://localhost:8080/",
          "height": 34
        }
      },
      "source": [
        "\n",
        "path = \"/content/drive/My Drive/zz-160-1000-middle_variance\"\n",
        "\n",
        "try:\n",
        "    os.mkdir(path)\n",
        "except OSError:\n",
        "    print (\"Creation of the directory %s failed\" % path)\n",
        "else:\n",
        "    print (\"Successfully created the directory %s \" % path)"
      ],
      "execution_count": 0,
      "outputs": [
        {
          "output_type": "stream",
          "text": [
            "Creation of the directory /content/drive/My Drive/zz-160-1000-middle_variance failed\n"
          ],
          "name": "stdout"
        }
      ]
    },
    {
      "cell_type": "code",
      "metadata": {
        "id": "Ya_v6nuqvSeG",
        "colab_type": "code",
        "colab": {}
      },
      "source": [
        "### calculate the median and variance of sample median\n",
        "\n",
        "def calc_mid_var(subject_instance_num, start_index_s1, end_index_s1 ,start_index_s2, end_index_s2 ):\n",
        "  same_list_result = []\n",
        "  diff_list_result = []\n",
        "\n",
        "  Same_ResultFileName =str(subject_instance_num)+ \"outer shift 160_ Same subject _middle_variance \" + \"S1(\" + str(start_index_s1) + '-' + str(end_index_s1) + ')'+'.csv'\n",
        "  Diff_ResultFileName = \"outer shift 160_ Different subject _middle_variance \" + \"S1(\" + str(start_index_s1) + '-' + str(end_index_s1) + ')' + \"_S2(\"+ str(start_index_s2) + '-' + str(end_index_s2) + ')'+'.csv'\n",
        "\n",
        "  for i in range(subject_instance_num):\n",
        "\n",
        "    # same subject\n",
        "    same_list_dist = []\n",
        "    S1_rand = random.randint(start_index_s1, end_index_s1)\n",
        "    pre_subject_img_number_array_shuffled=np.arange(subject_img_number)\n",
        "    np.random.shuffle(pre_subject_img_number_array_shuffled)\n",
        "    \n",
        "    pre_S1_rand = subject_Predict_generator(64, model, [S1_rand], pre_subject_img_number_array_shuffled)\n",
        "    \n",
        "    for i in range(len(pre_S1_rand)-1):\n",
        "      dist = distance.euclidean(pre_S1_rand[i] , pre_S1_rand[i+1]) \n",
        "      same_list_dist.append(dist)\n",
        "    #variance   \n",
        "    same_variance_dist = statistics.variance(same_list_dist) \n",
        "    #middle\n",
        "    same_middle_dist = statistics.median_low(same_list_dist)\n",
        "    same_list_result.append([S1_rand,S1_rand, same_middle_dist, same_variance_dist])\n",
        "\n",
        "\n",
        "    #different\n",
        "    diff_list_dist = []\n",
        "    S2_rand = random.randint(start_index_s2, end_index_s2)\n",
        "    while S2_rand == S1_rand:\n",
        "          S2_rand = random.randint(start_index_s2, end_index_s2)\n",
        "    pre_subject_img_number_array_shuffled=np.arange(subject_img_number)\n",
        "    np.random.shuffle(pre_subject_img_number_array_shuffled)\n",
        "\n",
        "    pre_S2_rand = subject_Predict_generator(64, model, [S2_rand], pre_subject_img_number_array_shuffled)\n",
        "    \n",
        "    for i in range(len(pre_S1_rand)):\n",
        "      dist = distance.euclidean(pre_S1_rand[i] , pre_S2_rand[i]) \n",
        "      diff_list_dist.append(dist)\n",
        "    #variance   \n",
        "    diff_variance_dist = statistics.variance(diff_list_dist) \n",
        "    #middle\n",
        "    diff_middle_dist = statistics.median_low(diff_list_dist)\n",
        "    diff_list_result.append([S1_rand, S2_rand, diff_middle_dist, diff_variance_dist])\n",
        "\n",
        "  ##save resulte\n",
        "  # same subject file\n",
        "  with open(path+Same_ResultFileName, 'w+') as csvfile:\n",
        "    spamwriter = csv.writer(csvfile, delimiter=',',\n",
        "                          quotechar='|', quoting=csv.QUOTE_MINIMAL)\n",
        "    spamwriter.writerows(same_list_result)\n",
        "\n",
        "  # different subject file\n",
        "  with open(path+Diff_ResultFileName, 'w+') as csvfile:\n",
        "    spamwriter = csv.writer(csvfile, delimiter=',',\n",
        "                          quotechar='|', quoting=csv.QUOTE_MINIMAL)\n",
        "    spamwriter.writerows(diff_list_result)\n",
        "\n",
        "  return  same_list_result , diff_list_result\n",
        "\n",
        "\n"
      ],
      "execution_count": 0,
      "outputs": []
    },
    {
      "cell_type": "code",
      "metadata": {
        "id": "9w8Lbm5GlRb4",
        "colab_type": "code",
        "outputId": "566a497e-7160-449e-e204-19b71e684adb",
        "colab": {
          "base_uri": "https://localhost:8080/",
          "height": 34
        }
      },
      "source": [
        "same_result, diff_result = calc_mid_var(1000,0,89,0,89)\n",
        "print(\"Done\")\n"
      ],
      "execution_count": 0,
      "outputs": [
        {
          "output_type": "stream",
          "text": [
            "Done\n"
          ],
          "name": "stdout"
        }
      ]
    },
    {
      "cell_type": "code",
      "metadata": {
        "id": "HfJ7M7E47pGu",
        "colab_type": "code",
        "outputId": "6b259370-2650-4114-c473-81a806f33237",
        "colab": {
          "base_uri": "https://localhost:8080/",
          "height": 34
        }
      },
      "source": [
        "same_result, diff_result = calc_mid_var(1000, 90,108,90,108)\n",
        "print(\"Done\")\n"
      ],
      "execution_count": 0,
      "outputs": [
        {
          "output_type": "stream",
          "text": [
            "Done\n"
          ],
          "name": "stdout"
        }
      ]
    },
    {
      "cell_type": "code",
      "metadata": {
        "id": "qRVh1Sq_4Z-0",
        "colab_type": "code",
        "outputId": "e262e1dd-448a-45ee-edfa-eb68fdd99234",
        "colab": {
          "base_uri": "https://localhost:8080/",
          "height": 34
        }
      },
      "source": [
        "same_result, diff_result = calc_mid_var(70, 0,88,90,108)\n",
        "print(\"Done\")\n"
      ],
      "execution_count": 0,
      "outputs": [
        {
          "output_type": "stream",
          "text": [
            "Done\n"
          ],
          "name": "stdout"
        }
      ]
    },
    {
      "cell_type": "code",
      "metadata": {
        "id": "HWohe6K58pfw",
        "colab_type": "code",
        "outputId": "45f3d0dd-b0a5-4c91-f998-e6cdea9e10ed",
        "colab": {
          "base_uri": "https://localhost:8080/",
          "height": 34
        }
      },
      "source": [
        "same_result, diff_result = calc_mid_var(70, 0,108,0,108)\n",
        "print(\"Done\")"
      ],
      "execution_count": 0,
      "outputs": [
        {
          "output_type": "stream",
          "text": [
            "Done\n"
          ],
          "name": "stdout"
        }
      ]
    },
    {
      "cell_type": "code",
      "metadata": {
        "id": "xsXSH-d9VzFG",
        "colab_type": "code",
        "colab": {}
      },
      "source": [
        "### verification with middle of samples\n",
        "\n",
        "def VerifySubject(batch_size,threshold, s1, smp1, s2, smp2):\n",
        "  list_d =[]\n",
        "  vec1 = subject_Predict_generator(batch_size,model, [s1], smp1)\n",
        "  vec2 = subject_Predict_generator(batch_size,model, [s2], smp2)\n",
        "  for i in range(len(vec1)):\n",
        "    d= distance.euclidean(vec1[i], vec2[i])\n",
        "    list_d.append(d)\n",
        "    midd = statistics.median_low(list_d)\n",
        "\n",
        "  if (midd) <threshold :\n",
        "    return 0 # same\n",
        "  else:\n",
        "    return 1 # different\n"
      ],
      "execution_count": 0,
      "outputs": []
    },
    {
      "cell_type": "code",
      "metadata": {
        "id": "y_U-gGqbvhAZ",
        "colab_type": "code",
        "colab": {
          "base_uri": "https://localhost:8080/",
          "height": 34
        },
        "outputId": "ac95a845-c640-49d2-f66f-da836590f7fe"
      },
      "source": [
        "path = \"/content/drive/My Drive/z_Middle Verification Threshold_EER/10 instance\"\n",
        "\n",
        "try:\n",
        "    os.mkdir(path)\n",
        "except OSError:\n",
        "    print (\"Creation of the directory %s failed\" % path)\n",
        "else:\n",
        "    print (\"Successfully created the directory %s \" % path)  \n",
        "\n",
        "def saveres(ii, start_index_s1, end_index_s1 ,start_index_s2, end_index_s2 ):\n",
        "\n",
        "\n",
        "      \n",
        "    csvFileName =str(2000)+\"pair\"+ \"_MIDDLE threshold_S1(\" + str(start_index_s1)+ \"-\" + str(end_index_s1) + \")_S2(\"+ str(start_index_s2)+ \"-\" + str(end_index_s2) + \")\" +\".csv\"\n",
        "    completeName = os.path.join(path, csvFileName )\n",
        "\n",
        "    png_FileName =str(2000)+\"pair\"+ \"_MIDDLE threshold_S1(\" + str(start_index_s1)+ \"-\" + str(end_index_s1) + \")_S2(\"+ str(start_index_s2)+ \"-\" + str(end_index_s2) + \")\" +\".png\"\n",
        "    png_completeName = os.path.join(path, png_FileName )\n",
        "\n",
        "\n",
        "    print(list_threshold_result[4][ii*5:ii*5+5])\n",
        "\n",
        "    with open(completeName, 'w+') as csvfile:\n",
        "      spamwriter = csv.writer(csvfile, delimiter=',',\n",
        "                            quotechar='|', quoting=csv.QUOTE_MINIMAL)\n",
        "      spamwriter.writerows(list_threshold_result[4][ii*5:ii*5+5])\n",
        "\n"
      ],
      "execution_count": 58,
      "outputs": [
        {
          "output_type": "stream",
          "text": [
            "Creation of the directory /content/drive/My Drive/z_Middle Verification Threshold_EER/10 instance failed\n"
          ],
          "name": "stdout"
        }
      ]
    },
    {
      "cell_type": "code",
      "metadata": {
        "id": "B3HxKrAt_aPc",
        "colab_type": "code",
        "outputId": "9ed986cc-3e3c-4796-87f9-5b422b633d7d",
        "colab": {
          "base_uri": "https://localhost:8080/",
          "height": 34
        }
      },
      "source": [
        "path = \"/content/drive/My Drive/z_Middle Verification Threshold_EER/55 instance\"\n",
        "\n",
        "try:\n",
        "    os.mkdir(path)\n",
        "except OSError:\n",
        "    print (\"Creation of the directory %s failed\" % path)\n",
        "else:\n",
        "    print (\"Successfully created the directory %s \" % path)\n",
        "\n",
        "\n",
        "list_threshold = []\n",
        "list_TP = []\n",
        "list_TN = []\n",
        "list_FP = []\n",
        "list_FN = []\n",
        "list_FRR = []\n",
        "list_FAR = []\n",
        "list_EER = []\n",
        "list_Correct_Verifi_Percentage = []\n",
        "list_threshold_result =[]\n",
        "\n",
        "### generate data for verification\n",
        "def counter_true_false_result(start_index_s1, end_index_s1 ,start_index_s2, end_index_s2 ):\n",
        "  \n",
        "  threshold = 0\n",
        "  pair_number = 2000\n",
        "  sample_img_num = 10\n",
        "  Batch_size = 10\n",
        "  ITER = pair_number //2\n",
        "  \n",
        "  ## CSV file name \n",
        "  csvFileName =str(pair_number)+\"pair\"+ \"_MIDDLE threshold_S1(\" + str(start_index_s1)+ \"-\" + str(end_index_s1) + \")_S2(\"+ str(start_index_s2)+ \"-\" + str(end_index_s2) + \")\" +\".csv\"\n",
        "  completeName = os.path.join(path, csvFileName )\n",
        "\n",
        "  png_FileName =str(pair_number)+\"pair\"+ \"_MIDDLE threshold_S1(\" + str(start_index_s1)+ \"-\" + str(end_index_s1) + \")_S2(\"+ str(start_index_s2)+ \"-\" + str(end_index_s2) + \")\" +\".png\"\n",
        "  png_completeName = os.path.join(path, png_FileName )\n",
        "\n",
        "  for j in range(33,38):\n",
        "\n",
        "      threshold = j*2\n",
        "      TP =0\n",
        "      TN =0\n",
        "      FP =0\n",
        "      FN =0\n",
        "      FAR =0\n",
        "      FRR =0\n",
        "      EER =0\n",
        "      true_result= 0\n",
        "      false_result = 0\n",
        "      Correct_Verifi_Percentage = 0\n",
        "\n",
        "      for i in range(ITER):\n",
        "        \n",
        "          # subject 1 Genuine\n",
        "          S1_rand = random.randint(start_index_s1, end_index_s1)\n",
        "          # shuffled img indx array\n",
        "          pre_S1_img_shuffled = np.arange(subject_img_number)\n",
        "          np.random.shuffle(pre_S1_img_shuffled)\n",
        "\n",
        "          # group sample 1\n",
        "          S1_Sample_rand1 = pre_S1_img_shuffled[:sample_img_num]\n",
        "          # group sample 2\n",
        "          S1_Sample_rand2 = pre_S1_img_shuffled[sample_img_num : sample_img_num *2]\n",
        "\n",
        "          # Genuine verify\n",
        "          result1 = VerifySubject(Batch_size, threshold, S1_rand, S1_Sample_rand1, S1_rand, S1_Sample_rand2)\n",
        "          \n",
        "          if result1 == 0:\n",
        "            true_result = true_result+1\n",
        "            TP = TP +1 #TP\n",
        "          else:\n",
        "            false_result = false_result+1\n",
        "            FN = FN +1\n",
        "\n",
        "          # subject 2\n",
        "          S2_rand = random.randint(start_index_s2, end_index_s2)\n",
        "          while S2_rand == S1_rand:\n",
        "            S2_rand = random.randint(start_index_s2, end_index_s2)\n",
        "\n",
        "          # shuffled img indx array\n",
        "          pre_S2_img_shuffled=np.arange(subject_img_number)\n",
        "          np.random.shuffle(pre_S2_img_shuffled)\n",
        "          # group sample\n",
        "          S2_Sample_rand = pre_S2_img_shuffled[:sample_img_num]\n",
        "\n",
        "          # Impostor vrify\n",
        "          result2 = VerifySubject(Batch_size, threshold, S1_rand, S1_Sample_rand1, S2_rand, S2_Sample_rand)\n",
        "\n",
        "          if result2 == 1:\n",
        "            true_result = true_result+1\n",
        "            TN = TN +1\n",
        "          else: \n",
        "            false_result = false_result+1\n",
        "            FP = FP +1\n",
        "        \n",
        "      #print(result1 , result2)\n",
        "      Correct_Verifi_Percentage = (true_result *100) / (true_result + false_result)\n",
        "      FAR = FP / (FP+TN)\n",
        "      FRR = FN / (FN+TP)\n",
        "      EER = (FAR+FRR) / 2\n",
        "\n",
        "      list_threshold.append(threshold)\n",
        "      list_TP.append(TP)\n",
        "      list_TN.append(TN)\n",
        "      list_FP.append(FP)\n",
        "      list_FN.append(FN)\n",
        "      list_FAR.append(FAR)\n",
        "      list_FRR.append(FRR)\n",
        "      list_EER.append(EER)\n",
        "      list_Correct_Verifi_Percentage.append(Correct_Verifi_Percentage)\n",
        "      ## print result\n",
        "      print(threshold,'.', '\\n', Correct_Verifi_Percentage,'%','\\n',\"true_result:\",true_result,\"false_result:\",false_result,'\\n',\"TP:\",TP,\"FN:\",FN,\"FRR:\",FRR ,'\\n',\"TN:\",TN,\"FP:\",FP,\"FAR:\", FAR,'\\n',\"EER:\",EER,'\\n' )\n",
        "\n",
        "  ##plot\n",
        "  plt.plot(list_FRR, list_FAR  ) \n",
        "  plt.xlabel('FRR') \n",
        "  plt.ylabel('FAR') \n",
        "  plt.legend()\n",
        "  plt.savefig(png_completeName) \n",
        "\n",
        "\n",
        "  list_threshold_result.append([(list_threshold[j], list_Correct_Verifi_Percentage[j], list_TP[j], list_FN[j], list_TN[j], list_FP[j], list_FAR[j], list_FRR[j] , list_EER[j] ) for j in range(len(list_Correct_Verifi_Percentage)) ])\n",
        "\n",
        "  with open(completeName, 'w+') as csvfile:\n",
        "    spamwriter = csv.writer(csvfile, delimiter=',',\n",
        "                          quotechar='|', quoting=csv.QUOTE_MINIMAL)\n",
        "    spamwriter.writerows(list_threshold_result[0])\n"
      ],
      "execution_count": 26,
      "outputs": [
        {
          "output_type": "stream",
          "text": [
            "Creation of the directory /content/drive/My Drive/z_Middle Verification Threshold_EER/55 instance failed\n"
          ],
          "name": "stdout"
        }
      ]
    },
    {
      "cell_type": "code",
      "metadata": {
        "id": "LhLF-SnZwnH0",
        "colab_type": "code",
        "colab": {
          "base_uri": "https://localhost:8080/",
          "height": 54
        },
        "outputId": "26726b12-c3d3-4444-8b2a-826dc84cd585"
      },
      "source": [
        "saveres(0,0,89, 0,89) "
      ],
      "execution_count": 59,
      "outputs": [
        {
          "output_type": "stream",
          "text": [
            "[(66, 94.2, 920, 80, 964, 36, 0.036, 0.08, 0.057999999999999996), (68, 94.15, 932, 68, 951, 49, 0.049, 0.068, 0.0585), (70, 94.7, 940, 60, 954, 46, 0.046, 0.06, 0.053), (72, 93.6, 937, 63, 935, 65, 0.065, 0.063, 0.064), (74, 92.85, 955, 45, 902, 98, 0.098, 0.045, 0.07150000000000001)]\n"
          ],
          "name": "stdout"
        }
      ]
    },
    {
      "cell_type": "code",
      "metadata": {
        "id": "R8VzW1QFpzU-",
        "colab_type": "code",
        "outputId": "8efb1aa8-87e9-4894-8a55-246f04242d53",
        "colab": {
          "base_uri": "https://localhost:8080/",
          "height": 888
        }
      },
      "source": [
        "#1. train subject , train subject\n",
        "\n",
        "counter_true_false_result(0,89, 0,89) \n"
      ],
      "execution_count": 27,
      "outputs": [
        {
          "output_type": "stream",
          "text": [
            "66 . \n",
            " 94.2 % \n",
            " true_result: 1884 false_result: 116 \n",
            " TP: 920 FN: 80 FRR: 0.08 \n",
            " TN: 964 FP: 36 FAR: 0.036 \n",
            " EER: 0.057999999999999996 \n",
            "\n",
            "68 . \n",
            " 94.15 % \n",
            " true_result: 1883 false_result: 117 \n",
            " TP: 932 FN: 68 FRR: 0.068 \n",
            " TN: 951 FP: 49 FAR: 0.049 \n",
            " EER: 0.0585 \n",
            "\n",
            "70 . \n",
            " 94.7 % \n",
            " true_result: 1894 false_result: 106 \n",
            " TP: 940 FN: 60 FRR: 0.06 \n",
            " TN: 954 FP: 46 FAR: 0.046 \n",
            " EER: 0.053 \n",
            "\n",
            "72 . \n",
            " 93.6 % \n",
            " true_result: 1872 false_result: 128 \n",
            " TP: 937 FN: 63 FRR: 0.063 \n",
            " TN: 935 FP: 65 FAR: 0.065 \n",
            " EER: 0.064 \n",
            "\n"
          ],
          "name": "stdout"
        },
        {
          "output_type": "stream",
          "text": [
            "No handles with labels found to put in legend.\n"
          ],
          "name": "stderr"
        },
        {
          "output_type": "stream",
          "text": [
            "74 . \n",
            " 92.85 % \n",
            " true_result: 1857 false_result: 143 \n",
            " TP: 955 FN: 45 FRR: 0.045 \n",
            " TN: 902 FP: 98 FAR: 0.098 \n",
            " EER: 0.07150000000000001 \n",
            "\n"
          ],
          "name": "stdout"
        },
        {
          "output_type": "display_data",
          "data": {
            "image/png": "[encoded data removed]",
            "text/plain": [
              "<Figure size 432x288 with 1 Axes>"
            ]
          },
          "metadata": {
            "tags": []
          }
        }
      ]
    },
    {
      "cell_type": "code",
      "metadata": {
        "id": "SLrvmkNdxH2p",
        "colab_type": "code",
        "colab": {
          "base_uri": "https://localhost:8080/",
          "height": 54
        },
        "outputId": "800e7d3f-db08-4e8b-f8e6-4cff4771b916"
      },
      "source": [
        "saveres(1,0,89, 90,108)"
      ],
      "execution_count": 62,
      "outputs": [
        {
          "output_type": "stream",
          "text": [
            "[(66, 92.25, 919, 81, 926, 74, 0.074, 0.081, 0.0775), (68, 90.7, 915, 85, 899, 101, 0.101, 0.085, 0.093), (70, 92.15, 941, 59, 902, 98, 0.098, 0.059, 0.0785), (72, 90.35, 939, 61, 868, 132, 0.132, 0.061, 0.0965), (74, 89.9, 942, 58, 856, 144, 0.144, 0.058, 0.10099999999999999)]\n"
          ],
          "name": "stdout"
        }
      ]
    },
    {
      "cell_type": "code",
      "metadata": {
        "id": "beS51wECxe82",
        "colab_type": "code",
        "outputId": "1685ef8c-c354-4a7a-c9ae-2ef417b7c2a9",
        "colab": {
          "base_uri": "https://localhost:8080/",
          "height": 887
        }
      },
      "source": [
        "#2. train subject , new subject\n",
        "\n",
        "counter_true_false_result(0,89, 90,108)\n"
      ],
      "execution_count": 28,
      "outputs": [
        {
          "output_type": "stream",
          "text": [
            "66 . \n",
            " 92.25 % \n",
            " true_result: 1845 false_result: 155 \n",
            " TP: 919 FN: 81 FRR: 0.081 \n",
            " TN: 926 FP: 74 FAR: 0.074 \n",
            " EER: 0.0775 \n",
            "\n",
            "68 . \n",
            " 90.7 % \n",
            " true_result: 1814 false_result: 186 \n",
            " TP: 915 FN: 85 FRR: 0.085 \n",
            " TN: 899 FP: 101 FAR: 0.101 \n",
            " EER: 0.093 \n",
            "\n",
            "70 . \n",
            " 92.15 % \n",
            " true_result: 1843 false_result: 157 \n",
            " TP: 941 FN: 59 FRR: 0.059 \n",
            " TN: 902 FP: 98 FAR: 0.098 \n",
            " EER: 0.0785 \n",
            "\n",
            "72 . \n",
            " 90.35 % \n",
            " true_result: 1807 false_result: 193 \n",
            " TP: 939 FN: 61 FRR: 0.061 \n",
            " TN: 868 FP: 132 FAR: 0.132 \n",
            " EER: 0.0965 \n",
            "\n"
          ],
          "name": "stdout"
        },
        {
          "output_type": "stream",
          "text": [
            "No handles with labels found to put in legend.\n"
          ],
          "name": "stderr"
        },
        {
          "output_type": "stream",
          "text": [
            "74 . \n",
            " 89.9 % \n",
            " true_result: 1798 false_result: 202 \n",
            " TP: 942 FN: 58 FRR: 0.058 \n",
            " TN: 856 FP: 144 FAR: 0.144 \n",
            " EER: 0.10099999999999999 \n",
            "\n"
          ],
          "name": "stdout"
        },
        {
          "output_type": "display_data",
          "data": {
            "image/png": "[encoded data removed]",
            "text/plain": [
              "<Figure size 432x288 with 1 Axes>"
            ]
          },
          "metadata": {
            "tags": []
          }
        }
      ]
    },
    {
      "cell_type": "code",
      "metadata": {
        "id": "dE3YsCplzhuc",
        "colab_type": "code",
        "colab": {
          "base_uri": "https://localhost:8080/",
          "height": 54
        },
        "outputId": "ab0cade3-3ba8-4268-d8ee-d5aaef377466"
      },
      "source": [
        "saveres(2,90,108, 0,89)"
      ],
      "execution_count": 63,
      "outputs": [
        {
          "output_type": "stream",
          "text": [
            "[(66, 85.8, 781, 219, 935, 65, 0.065, 0.219, 0.14200000000000002), (68, 86.3, 811, 189, 915, 85, 0.085, 0.189, 0.137), (70, 86.45, 839, 161, 890, 110, 0.11, 0.161, 0.1355), (72, 87.5, 873, 127, 877, 123, 0.123, 0.127, 0.125), (74, 86.1, 903, 97, 819, 181, 0.181, 0.097, 0.139)]\n"
          ],
          "name": "stdout"
        }
      ]
    },
    {
      "cell_type": "code",
      "metadata": {
        "id": "V0YUXZvU61vp",
        "colab_type": "code",
        "outputId": "34565f28-722c-4c43-b198-1168734cc823",
        "colab": {
          "base_uri": "https://localhost:8080/",
          "height": 887
        }
      },
      "source": [
        "#3. new subject , new subject\n",
        "\n",
        "counter_true_false_result(90,108, 0,89)"
      ],
      "execution_count": 29,
      "outputs": [
        {
          "output_type": "stream",
          "text": [
            "66 . \n",
            " 85.8 % \n",
            " true_result: 1716 false_result: 284 \n",
            " TP: 781 FN: 219 FRR: 0.219 \n",
            " TN: 935 FP: 65 FAR: 0.065 \n",
            " EER: 0.14200000000000002 \n",
            "\n",
            "68 . \n",
            " 86.3 % \n",
            " true_result: 1726 false_result: 274 \n",
            " TP: 811 FN: 189 FRR: 0.189 \n",
            " TN: 915 FP: 85 FAR: 0.085 \n",
            " EER: 0.137 \n",
            "\n",
            "70 . \n",
            " 86.45 % \n",
            " true_result: 1729 false_result: 271 \n",
            " TP: 839 FN: 161 FRR: 0.161 \n",
            " TN: 890 FP: 110 FAR: 0.11 \n",
            " EER: 0.1355 \n",
            "\n",
            "72 . \n",
            " 87.5 % \n",
            " true_result: 1750 false_result: 250 \n",
            " TP: 873 FN: 127 FRR: 0.127 \n",
            " TN: 877 FP: 123 FAR: 0.123 \n",
            " EER: 0.125 \n",
            "\n"
          ],
          "name": "stdout"
        },
        {
          "output_type": "stream",
          "text": [
            "No handles with labels found to put in legend.\n"
          ],
          "name": "stderr"
        },
        {
          "output_type": "stream",
          "text": [
            "74 . \n",
            " 86.1 % \n",
            " true_result: 1722 false_result: 278 \n",
            " TP: 903 FN: 97 FRR: 0.097 \n",
            " TN: 819 FP: 181 FAR: 0.181 \n",
            " EER: 0.139 \n",
            "\n"
          ],
          "name": "stdout"
        },
        {
          "output_type": "display_data",
          "data": {
            "image/png": "[encoded data removed]",
            "text/plain": [
              "<Figure size 432x288 with 1 Axes>"
            ]
          },
          "metadata": {
            "tags": []
          }
        }
      ]
    },
    {
      "cell_type": "code",
      "metadata": {
        "id": "qBnHN9h3zsjt",
        "colab_type": "code",
        "colab": {
          "base_uri": "https://localhost:8080/",
          "height": 54
        },
        "outputId": "8ca97c64-977e-43a8-f332-2f96160905e6"
      },
      "source": [
        "saveres(3,90,108, 90,108)"
      ],
      "execution_count": 64,
      "outputs": [
        {
          "output_type": "stream",
          "text": [
            "[(66, 81.25, 774, 226, 851, 149, 0.149, 0.226, 0.1875), (68, 82.6, 823, 177, 829, 171, 0.171, 0.177, 0.174), (70, 81.6, 844, 156, 788, 212, 0.212, 0.156, 0.184), (72, 81.2, 869, 131, 755, 245, 0.245, 0.131, 0.188), (74, 78.55, 905, 95, 666, 334, 0.334, 0.095, 0.21450000000000002)]\n"
          ],
          "name": "stdout"
        }
      ]
    },
    {
      "cell_type": "code",
      "metadata": {
        "id": "KErcYIpSxl-y",
        "colab_type": "code",
        "colab": {
          "base_uri": "https://localhost:8080/",
          "height": 887
        },
        "outputId": "f1c43f6b-b0de-44f2-e0e3-db211f34af83"
      },
      "source": [
        "#4. new subject , new subject\n",
        "\n",
        "counter_true_false_result(90,108, 90,108)\n"
      ],
      "execution_count": 30,
      "outputs": [
        {
          "output_type": "stream",
          "text": [
            "66 . \n",
            " 81.25 % \n",
            " true_result: 1625 false_result: 375 \n",
            " TP: 774 FN: 226 FRR: 0.226 \n",
            " TN: 851 FP: 149 FAR: 0.149 \n",
            " EER: 0.1875 \n",
            "\n",
            "68 . \n",
            " 82.6 % \n",
            " true_result: 1652 false_result: 348 \n",
            " TP: 823 FN: 177 FRR: 0.177 \n",
            " TN: 829 FP: 171 FAR: 0.171 \n",
            " EER: 0.174 \n",
            "\n",
            "70 . \n",
            " 81.6 % \n",
            " true_result: 1632 false_result: 368 \n",
            " TP: 844 FN: 156 FRR: 0.156 \n",
            " TN: 788 FP: 212 FAR: 0.212 \n",
            " EER: 0.184 \n",
            "\n",
            "72 . \n",
            " 81.2 % \n",
            " true_result: 1624 false_result: 376 \n",
            " TP: 869 FN: 131 FRR: 0.131 \n",
            " TN: 755 FP: 245 FAR: 0.245 \n",
            " EER: 0.188 \n",
            "\n"
          ],
          "name": "stdout"
        },
        {
          "output_type": "stream",
          "text": [
            "No handles with labels found to put in legend.\n"
          ],
          "name": "stderr"
        },
        {
          "output_type": "stream",
          "text": [
            "74 . \n",
            " 78.55 % \n",
            " true_result: 1571 false_result: 429 \n",
            " TP: 905 FN: 95 FRR: 0.095 \n",
            " TN: 666 FP: 334 FAR: 0.334 \n",
            " EER: 0.21450000000000002 \n",
            "\n"
          ],
          "name": "stdout"
        },
        {
          "output_type": "display_data",
          "data": {
            "image/png": "[encoded data removed]",
            "text/plain": [
              "<Figure size 432x288 with 1 Axes>"
            ]
          },
          "metadata": {
            "tags": []
          }
        }
      ]
    },
    {
      "cell_type": "code",
      "metadata": {
        "id": "l6A0ppi4zxq8",
        "colab_type": "code",
        "colab": {
          "base_uri": "https://localhost:8080/",
          "height": 54
        },
        "outputId": "68a018cc-65ec-4efb-c36c-c10605d723b9"
      },
      "source": [
        "saveres(4,0,108, 0,108)"
      ],
      "execution_count": 65,
      "outputs": [
        {
          "output_type": "stream",
          "text": [
            "[(66, 92.7, 906, 94, 948, 52, 0.052, 0.094, 0.073), (68, 93.2, 906, 94, 958, 42, 0.042, 0.094, 0.068), (70, 92.6, 932, 68, 920, 80, 0.08, 0.068, 0.07400000000000001), (72, 91.5, 920, 80, 910, 90, 0.09, 0.08, 0.08499999999999999), (74, 90.45, 938, 62, 871, 129, 0.129, 0.062, 0.0955)]\n"
          ],
          "name": "stdout"
        }
      ]
    },
    {
      "cell_type": "code",
      "metadata": {
        "id": "tkma0UJzyDb4",
        "colab_type": "code",
        "colab": {
          "base_uri": "https://localhost:8080/",
          "height": 887
        },
        "outputId": "359a1781-d84a-4891-853f-79105277e483"
      },
      "source": [
        "#5. all subject , all subject\n",
        "\n",
        "counter_true_false_result(0,108, 0,108)\n"
      ],
      "execution_count": 31,
      "outputs": [
        {
          "output_type": "stream",
          "text": [
            "66 . \n",
            " 92.7 % \n",
            " true_result: 1854 false_result: 146 \n",
            " TP: 906 FN: 94 FRR: 0.094 \n",
            " TN: 948 FP: 52 FAR: 0.052 \n",
            " EER: 0.073 \n",
            "\n",
            "68 . \n",
            " 93.2 % \n",
            " true_result: 1864 false_result: 136 \n",
            " TP: 906 FN: 94 FRR: 0.094 \n",
            " TN: 958 FP: 42 FAR: 0.042 \n",
            " EER: 0.068 \n",
            "\n",
            "70 . \n",
            " 92.6 % \n",
            " true_result: 1852 false_result: 148 \n",
            " TP: 932 FN: 68 FRR: 0.068 \n",
            " TN: 920 FP: 80 FAR: 0.08 \n",
            " EER: 0.07400000000000001 \n",
            "\n",
            "72 . \n",
            " 91.5 % \n",
            " true_result: 1830 false_result: 170 \n",
            " TP: 920 FN: 80 FRR: 0.08 \n",
            " TN: 910 FP: 90 FAR: 0.09 \n",
            " EER: 0.08499999999999999 \n",
            "\n"
          ],
          "name": "stdout"
        },
        {
          "output_type": "stream",
          "text": [
            "No handles with labels found to put in legend.\n"
          ],
          "name": "stderr"
        },
        {
          "output_type": "stream",
          "text": [
            "74 . \n",
            " 90.45 % \n",
            " true_result: 1809 false_result: 191 \n",
            " TP: 938 FN: 62 FRR: 0.062 \n",
            " TN: 871 FP: 129 FAR: 0.129 \n",
            " EER: 0.0955 \n",
            "\n"
          ],
          "name": "stdout"
        },
        {
          "output_type": "display_data",
          "data": {
            "image/png": "[encoded data removed]",
            "text/plain": [
              "<Figure size 432x288 with 1 Axes>"
            ]
          },
          "metadata": {
            "tags": []
          }
        }
      ]
    },
    {
      "cell_type": "code",
      "metadata": {
        "id": "IIzeaQ_huYL-",
        "colab_type": "code",
        "colab": {
          "base_uri": "https://localhost:8080/",
          "height": 1000
        },
        "outputId": "b3ad25cc-08b4-4492-9f76-511c9601b363"
      },
      "source": [
        "list_threshold_result"
      ],
      "execution_count": 33,
      "outputs": [
        {
          "output_type": "execute_result",
          "data": {
            "text/plain": [
              "[[(66, 94.2, 920, 80, 964, 36, 0.036, 0.08, 0.057999999999999996),\n",
              "  (68, 94.15, 932, 68, 951, 49, 0.049, 0.068, 0.0585),\n",
              "  (70, 94.7, 940, 60, 954, 46, 0.046, 0.06, 0.053),\n",
              "  (72, 93.6, 937, 63, 935, 65, 0.065, 0.063, 0.064),\n",
              "  (74, 92.85, 955, 45, 902, 98, 0.098, 0.045, 0.07150000000000001)],\n",
              " [(66, 94.2, 920, 80, 964, 36, 0.036, 0.08, 0.057999999999999996),\n",
              "  (68, 94.15, 932, 68, 951, 49, 0.049, 0.068, 0.0585),\n",
              "  (70, 94.7, 940, 60, 954, 46, 0.046, 0.06, 0.053),\n",
              "  (72, 93.6, 937, 63, 935, 65, 0.065, 0.063, 0.064),\n",
              "  (74, 92.85, 955, 45, 902, 98, 0.098, 0.045, 0.07150000000000001),\n",
              "  (66, 92.25, 919, 81, 926, 74, 0.074, 0.081, 0.0775),\n",
              "  (68, 90.7, 915, 85, 899, 101, 0.101, 0.085, 0.093),\n",
              "  (70, 92.15, 941, 59, 902, 98, 0.098, 0.059, 0.0785),\n",
              "  (72, 90.35, 939, 61, 868, 132, 0.132, 0.061, 0.0965),\n",
              "  (74, 89.9, 942, 58, 856, 144, 0.144, 0.058, 0.10099999999999999)],\n",
              " [(66, 94.2, 920, 80, 964, 36, 0.036, 0.08, 0.057999999999999996),\n",
              "  (68, 94.15, 932, 68, 951, 49, 0.049, 0.068, 0.0585),\n",
              "  (70, 94.7, 940, 60, 954, 46, 0.046, 0.06, 0.053),\n",
              "  (72, 93.6, 937, 63, 935, 65, 0.065, 0.063, 0.064),\n",
              "  (74, 92.85, 955, 45, 902, 98, 0.098, 0.045, 0.07150000000000001),\n",
              "  (66, 92.25, 919, 81, 926, 74, 0.074, 0.081, 0.0775),\n",
              "  (68, 90.7, 915, 85, 899, 101, 0.101, 0.085, 0.093),\n",
              "  (70, 92.15, 941, 59, 902, 98, 0.098, 0.059, 0.0785),\n",
              "  (72, 90.35, 939, 61, 868, 132, 0.132, 0.061, 0.0965),\n",
              "  (74, 89.9, 942, 58, 856, 144, 0.144, 0.058, 0.10099999999999999),\n",
              "  (66, 85.8, 781, 219, 935, 65, 0.065, 0.219, 0.14200000000000002),\n",
              "  (68, 86.3, 811, 189, 915, 85, 0.085, 0.189, 0.137),\n",
              "  (70, 86.45, 839, 161, 890, 110, 0.11, 0.161, 0.1355),\n",
              "  (72, 87.5, 873, 127, 877, 123, 0.123, 0.127, 0.125),\n",
              "  (74, 86.1, 903, 97, 819, 181, 0.181, 0.097, 0.139)],\n",
              " [(66, 94.2, 920, 80, 964, 36, 0.036, 0.08, 0.057999999999999996),\n",
              "  (68, 94.15, 932, 68, 951, 49, 0.049, 0.068, 0.0585),\n",
              "  (70, 94.7, 940, 60, 954, 46, 0.046, 0.06, 0.053),\n",
              "  (72, 93.6, 937, 63, 935, 65, 0.065, 0.063, 0.064),\n",
              "  (74, 92.85, 955, 45, 902, 98, 0.098, 0.045, 0.07150000000000001),\n",
              "  (66, 92.25, 919, 81, 926, 74, 0.074, 0.081, 0.0775),\n",
              "  (68, 90.7, 915, 85, 899, 101, 0.101, 0.085, 0.093),\n",
              "  (70, 92.15, 941, 59, 902, 98, 0.098, 0.059, 0.0785),\n",
              "  (72, 90.35, 939, 61, 868, 132, 0.132, 0.061, 0.0965),\n",
              "  (74, 89.9, 942, 58, 856, 144, 0.144, 0.058, 0.10099999999999999),\n",
              "  (66, 85.8, 781, 219, 935, 65, 0.065, 0.219, 0.14200000000000002),\n",
              "  (68, 86.3, 811, 189, 915, 85, 0.085, 0.189, 0.137),\n",
              "  (70, 86.45, 839, 161, 890, 110, 0.11, 0.161, 0.1355),\n",
              "  (72, 87.5, 873, 127, 877, 123, 0.123, 0.127, 0.125),\n",
              "  (74, 86.1, 903, 97, 819, 181, 0.181, 0.097, 0.139),\n",
              "  (66, 81.25, 774, 226, 851, 149, 0.149, 0.226, 0.1875),\n",
              "  (68, 82.6, 823, 177, 829, 171, 0.171, 0.177, 0.174),\n",
              "  (70, 81.6, 844, 156, 788, 212, 0.212, 0.156, 0.184),\n",
              "  (72, 81.2, 869, 131, 755, 245, 0.245, 0.131, 0.188),\n",
              "  (74, 78.55, 905, 95, 666, 334, 0.334, 0.095, 0.21450000000000002)],\n",
              " [(66, 94.2, 920, 80, 964, 36, 0.036, 0.08, 0.057999999999999996),\n",
              "  (68, 94.15, 932, 68, 951, 49, 0.049, 0.068, 0.0585),\n",
              "  (70, 94.7, 940, 60, 954, 46, 0.046, 0.06, 0.053),\n",
              "  (72, 93.6, 937, 63, 935, 65, 0.065, 0.063, 0.064),\n",
              "  (74, 92.85, 955, 45, 902, 98, 0.098, 0.045, 0.07150000000000001),\n",
              "  (66, 92.25, 919, 81, 926, 74, 0.074, 0.081, 0.0775),\n",
              "  (68, 90.7, 915, 85, 899, 101, 0.101, 0.085, 0.093),\n",
              "  (70, 92.15, 941, 59, 902, 98, 0.098, 0.059, 0.0785),\n",
              "  (72, 90.35, 939, 61, 868, 132, 0.132, 0.061, 0.0965),\n",
              "  (74, 89.9, 942, 58, 856, 144, 0.144, 0.058, 0.10099999999999999),\n",
              "  (66, 85.8, 781, 219, 935, 65, 0.065, 0.219, 0.14200000000000002),\n",
              "  (68, 86.3, 811, 189, 915, 85, 0.085, 0.189, 0.137),\n",
              "  (70, 86.45, 839, 161, 890, 110, 0.11, 0.161, 0.1355),\n",
              "  (72, 87.5, 873, 127, 877, 123, 0.123, 0.127, 0.125),\n",
              "  (74, 86.1, 903, 97, 819, 181, 0.181, 0.097, 0.139),\n",
              "  (66, 81.25, 774, 226, 851, 149, 0.149, 0.226, 0.1875),\n",
              "  (68, 82.6, 823, 177, 829, 171, 0.171, 0.177, 0.174),\n",
              "  (70, 81.6, 844, 156, 788, 212, 0.212, 0.156, 0.184),\n",
              "  (72, 81.2, 869, 131, 755, 245, 0.245, 0.131, 0.188),\n",
              "  (74, 78.55, 905, 95, 666, 334, 0.334, 0.095, 0.21450000000000002),\n",
              "  (66, 92.7, 906, 94, 948, 52, 0.052, 0.094, 0.073),\n",
              "  (68, 93.2, 906, 94, 958, 42, 0.042, 0.094, 0.068),\n",
              "  (70, 92.6, 932, 68, 920, 80, 0.08, 0.068, 0.07400000000000001),\n",
              "  (72, 91.5, 920, 80, 910, 90, 0.09, 0.08, 0.08499999999999999),\n",
              "  (74, 90.45, 938, 62, 871, 129, 0.129, 0.062, 0.0955)]]"
            ]
          },
          "metadata": {
            "tags": []
          },
          "execution_count": 33
        }
      ]
    },
    {
      "cell_type": "code",
      "metadata": {
        "id": "rDbsLuMAumBT",
        "colab_type": "code",
        "colab": {}
      },
      "source": [
        "  with open(completeName, 'w+') as csvfile:\n",
        "    spamwriter = csv.writer(csvfile, delimiter=',',\n",
        "                          quotechar='|', quoting=csv.QUOTE_MINIMAL)\n",
        "    spamwriter.writerows(list_threshold_result[0])"
      ],
      "execution_count": 0,
      "outputs": []
    },
    {
      "cell_type": "code",
      "metadata": {
        "id": "0UdtlxtEyhyG",
        "colab_type": "code",
        "colab": {
          "base_uri": "https://localhost:8080/",
          "height": 101
        },
        "outputId": "bae070d1-e5a9-4085-864b-b8a2df0c9d8e"
      },
      "source": [
        "list_threshold_result[4][0:5]"
      ],
      "execution_count": 54,
      "outputs": [
        {
          "output_type": "execute_result",
          "data": {
            "text/plain": [
              "[(66, 94.2, 920, 80, 964, 36, 0.036, 0.08, 0.057999999999999996),\n",
              " (68, 94.15, 932, 68, 951, 49, 0.049, 0.068, 0.0585),\n",
              " (70, 94.7, 940, 60, 954, 46, 0.046, 0.06, 0.053),\n",
              " (72, 93.6, 937, 63, 935, 65, 0.065, 0.063, 0.064),\n",
              " (74, 92.85, 955, 45, 902, 98, 0.098, 0.045, 0.07150000000000001)]"
            ]
          },
          "metadata": {
            "tags": []
          },
          "execution_count": 54
        }
      ]
    },
    {
      "cell_type": "code",
      "metadata": {
        "id": "NoBeuZRxyiqW",
        "colab_type": "code",
        "colab": {}
      },
      "source": [
        ""
      ],
      "execution_count": 0,
      "outputs": []
    }
  ]
}