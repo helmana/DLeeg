{
  "nbformat": 4,
  "nbformat_minor": 0,
  "metadata": {
    "accelerator": "GPU",
    "celltoolbar": "Raw Cell Format",
    "colab": {
      "name": "ort 3 ch - O12z _ 60 epoch.ipynb",
      "provenance": [],
      "collapsed_sections": [],
      "machine_shape": "hm",
      "include_colab_link": true
    },
    "kernelspec": {
      "name": "python3",
      "display_name": "Python 3"
    },
    "language_info": {
      "codemirror_mode": {
        "name": "ipython",
        "version": 3
      },
      "file_extension": ".py",
      "mimetype": "text/x-python",
      "name": "python",
      "nbconvert_exporter": "python",
      "pygments_lexer": "ipython3",
      "version": "3.6.8"
    }
  },
  "cells": [
    {
      "cell_type": "markdown",
      "metadata": {
        "id": "view-in-github",
        "colab_type": "text"
      },
      "source": [
        "<a href=\"https://colab.research.google.com/github/helmana/DLeeg/blob/master/Paper%20experiments/experiment1/proposed_109s_64Ch_20%20Epoch.ipynb\" target=\"_parent\"><img src=\"https://colab.research.google.com/assets/colab-badge.svg\" alt=\"Open In Colab\"/></a>"
      ]
    },
    {
      "cell_type": "code",
      "metadata": {
        "id": "mgLxG3mBz0Fx",
        "colab_type": "code",
        "outputId": "9dc248a6-dc53-4fb6-a749-b5f010d91092",
        "colab": {
          "base_uri": "https://localhost:8080/",
          "height": 54
        }
      },
      "source": [
        "'''\n",
        "\n",
        "109 subject\n",
        "64 channel\n",
        "task: REO \n",
        "epoch: 20\n",
        "seed = 14\n",
        "*outer_sample_shift = 8  \n",
        "\n",
        "** Last Model : \n",
        "TrainResult ([loss , acc])= [0.0, 0.9996657967567444]\n",
        "ValidationResult ([loss , acc])= [4.284077803617947e-08, 0.9997386932373047]\n",
        "TestResult ([loss , acc])= [2.384786421316676e-05, 0.9998445510864258]\n",
        "\n",
        "*** Best Model (min loss):\n",
        "TrainResult ([loss , acc])= [1.3038510715546181e-08, 0.9995195269584656]\n",
        "ValidationResult ([loss , acc])= [0.0, 0.9994251728057861]\n",
        "TestResult ([loss , acc])= [3.7620902730850503e-06, 0.9996113181114197]\n",
        "\n",
        "'''\n"
      ],
      "execution_count": 0,
      "outputs": [
        {
          "output_type": "execute_result",
          "data": {
            "text/plain": [
              "'\\nbest channel (Oz)\\nepoch: 120\\n\\nTrainResult ([loss , acc])= [0.018957456561174885, 0.9955648194583752]\\nValidationResult ([loss , acc])= [0.0443783304768607, 0.9868850401606426]\\nTestResult ([loss , acc])= [0.04897509974022275, 0.984312624750499]\\n\\n'"
            ]
          },
          "metadata": {
            "tags": []
          },
          "execution_count": 12
        }
      ]
    },
    {
      "cell_type": "code",
      "metadata": {
        "colab_type": "code",
        "id": "fM152eYkDEi0",
        "outputId": "3e2bf1f2-962b-40e2-b089-d720161a6e17",
        "colab": {
          "base_uri": "https://localhost:8080/",
          "height": 121
        }
      },
      "source": [
        "from google.colab import drive\n",
        "drive.mount('/content/drive')"
      ],
      "execution_count": 1,
      "outputs": [
        {
          "output_type": "stream",
          "text": [
            "Go to this URL in a browser: https://accounts.google.com/o/oauth2/auth?client_id=947318989803-6bn6qk8qdgf4n4g3pfee6491hc0brc4i.apps.googleusercontent.com&redirect_uri=urn%3aietf%3awg%3aoauth%3a2.0%3aoob&response_type=code&scope=email%20https%3a%2f%2fwww.googleapis.com%2fauth%2fdocs.test%20https%3a%2f%2fwww.googleapis.com%2fauth%2fdrive%20https%3a%2f%2fwww.googleapis.com%2fauth%2fdrive.photos.readonly%20https%3a%2f%2fwww.googleapis.com%2fauth%2fpeopleapi.readonly\n",
            "\n",
            "Enter your authorization code:\n",
            "··········\n",
            "Mounted at /content/drive\n"
          ],
          "name": "stdout"
        }
      ]
    },
    {
      "cell_type": "code",
      "metadata": {
        "colab_type": "code",
        "id": "v_9QlgWXuZ2E",
        "outputId": "28fe3d6f-7b46-47cb-c8d6-1395e347e083",
        "colab": {
          "base_uri": "https://localhost:8080/",
          "height": 155
        }
      },
      "source": [
        "!pip install mne"
      ],
      "execution_count": 2,
      "outputs": [
        {
          "output_type": "stream",
          "text": [
            "Collecting mne\n",
            "\u001b[?25l  Downloading https://files.pythonhosted.org/packages/01/af/9c64ac8f75b1c932ca5fb16bc27740cd9b9817f9173a6608ae999e82bb6a/mne-0.20.0-py3-none-any.whl (6.5MB)\n",
            "\u001b[K     |████████████████████████████████| 6.6MB 92kB/s \n",
            "\u001b[?25hRequirement already satisfied: numpy>=1.11.3 in /usr/local/lib/python3.6/dist-packages (from mne) (1.18.2)\n",
            "Requirement already satisfied: scipy>=0.17.1 in /usr/local/lib/python3.6/dist-packages (from mne) (1.4.1)\n",
            "Installing collected packages: mne\n",
            "Successfully installed mne-0.20.0\n"
          ],
          "name": "stdout"
        }
      ]
    },
    {
      "cell_type": "code",
      "metadata": {
        "colab_type": "code",
        "id": "ugNHdREkvO6h",
        "outputId": "2fa6687f-6e96-4fe3-9e62-f952678b5ce6",
        "colab": {
          "base_uri": "https://localhost:8080/",
          "height": 34
        }
      },
      "source": [
        "'''\n",
        "Rivision:\n",
        "980806:\n",
        "  First version.\n",
        "  \n",
        "  \n",
        "\n",
        "'''"
      ],
      "execution_count": 3,
      "outputs": [
        {
          "output_type": "execute_result",
          "data": {
            "text/plain": [
              "'\\nRivision:\\n980806:\\n  First version.\\n  \\n  \\n\\n'"
            ]
          },
          "metadata": {
            "tags": []
          },
          "execution_count": 3
        }
      ]
    },
    {
      "cell_type": "code",
      "metadata": {
        "id": "_zbLUGVgYw8f",
        "colab_type": "code",
        "colab": {
          "base_uri": "https://localhost:8080/",
          "height": 67
        },
        "outputId": "78bf3a18-36a1-4fc7-df5c-9c71ec69201d"
      },
      "source": [
        "a = np.arange(64)\n",
        "print(a)"
      ],
      "execution_count": 8,
      "outputs": [
        {
          "output_type": "stream",
          "text": [
            "[ 0  1  2  3  4  5  6  7  8  9 10 11 12 13 14 15 16 17 18 19 20 21 22 23\n",
            " 24 25 26 27 28 29 30 31 32 33 34 35 36 37 38 39 40 41 42 43 44 45 46 47\n",
            " 48 49 50 51 52 53 54 55 56 57 58 59 60 61 62 63]\n"
          ],
          "name": "stdout"
        }
      ]
    },
    {
      "cell_type": "code",
      "metadata": {
        "colab_type": "code",
        "id": "HtvZeqTcuZ2M",
        "colab": {}
      },
      "source": [
        "# Parameters:\n",
        "\n",
        "EpochNum=50\n",
        "subject_number=109\n",
        "RemoveBaseLine=0\n",
        "Orthogonal=1\n",
        "task_index = [1] # task: REO\n",
        "list_channel=np.arange(64)  # 64 channels \n",
        "ch_number=len(list_channel)\n",
        "TryStr='Try1'\n",
        "seed = 14\n",
        "\n",
        "task_number=1\n",
        "task_time = 60\n",
        "sampel_number_per_sec =  160 # sampel rate\n",
        "total_sampel_number =  sampel_number_per_sec *task_time # 60*160\n",
        "#sample_shift = 4 #step len\n",
        "inner_sample_shift = 4 # inner step len\n",
        "outer_sample_shift = 8  # outer step len\n",
        "window_len= 20\n",
        "batch_size= 64\n"
      ],
      "execution_count": 0,
      "outputs": []
    },
    {
      "cell_type": "code",
      "metadata": {
        "colab_type": "code",
        "id": "n5TM1aaTaDZZ",
        "outputId": "1b88b8cd-5d47-4d4f-d2d5-eaebb69c293f",
        "colab": {
          "base_uri": "https://localhost:8080/",
          "height": 34
        }
      },
      "source": [
        "# For Visualization\n",
        "import matplotlib\n",
        "from matplotlib import pyplot as plt\n",
        "from mpl_toolkits.mplot3d import Axes3D  # noqa\n",
        "\n",
        "# General use\n",
        "import numpy as np\n",
        "import math\n",
        "import random\n",
        "\n",
        "\n",
        "# For model training\n",
        "from keras import layers\n",
        "from keras import models\n",
        "from keras import regularizers\n",
        "from keras.utils import to_categorical\n",
        "from keras import optimizers\n",
        "from keras import backend as KerasBackend\n",
        "from keras.callbacks import EarlyStopping\n",
        "\n",
        "\n",
        "\n",
        "# EEG Tools\n",
        "import mne\n",
        "from mne.preprocessing import create_ecg_epochs, create_eog_epochs\n",
        "from mne import io\n",
        "from mne import viz\n",
        "from mne import Epochs, io, pick_types\n",
        "from mne.event import define_target_events\n",
        "from mne.time_frequency import psd_welch\n",
        "print(__doc__)\n",
        "\n"
      ],
      "execution_count": 10,
      "outputs": [
        {
          "output_type": "stream",
          "text": [
            "Automatically created module for IPython interactive environment\n"
          ],
          "name": "stdout"
        }
      ]
    },
    {
      "cell_type": "code",
      "metadata": {
        "id": "VoEEEL0YeWWI",
        "colab_type": "code",
        "colab": {
          "base_uri": "https://localhost:8080/",
          "height": 34
        },
        "outputId": "5f240290-3bd6-4aec-d9e4-59bd7f43edc5"
      },
      "source": [
        "# For Visualization\n",
        "import matplotlib\n",
        "from matplotlib import pyplot as plt\n",
        "from mpl_toolkits.mplot3d import Axes3D  # noqa\n",
        "\n",
        "# General use\n",
        "import itertools\n",
        "from itertools import combinations \n",
        "\n",
        "import os.path\n",
        "from scipy.spatial import distance\n",
        "import numpy as np\n",
        "import math\n",
        "import random\n",
        "import datetime\n",
        "import time\n",
        "import pytz\n",
        "from time import gmtime, strftime\n",
        "import statistics\n",
        "\n",
        "# General use\n",
        "import itertools\n",
        "from itertools import combinations \n",
        "import statistics\n",
        "import csv\n",
        "import os.path\n",
        "from scipy.spatial import distance\n",
        "import numpy as np\n",
        "import math\n",
        "import random\n",
        "import datetime\n",
        "import time\n",
        "import pytz\n",
        "from time import gmtime, strftime\n",
        "\n",
        "\n",
        "# For model training\n",
        "from keras import layers\n",
        "from keras import models\n",
        "from keras import regularizers\n",
        "from keras.utils import to_categorical\n",
        "from keras import optimizers\n",
        "from keras import backend as KerasBackend\n",
        "from keras.models import load_model\n",
        "from keras import backend as KerasBackend\n",
        "from keras.callbacks import EarlyStopping,ModelCheckpoint\n",
        "\n",
        "\n",
        "\n",
        "# EEG Tools\n",
        "import mne\n",
        "from mne.preprocessing import create_ecg_epochs, create_eog_epochs\n",
        "from mne import io\n",
        "from mne import viz\n",
        "from mne import Epochs, io, pick_types\n",
        "from mne.event import define_target_events\n",
        "from mne.time_frequency import psd_welch\n",
        "print(__doc__)\n",
        "\n"
      ],
      "execution_count": 25,
      "outputs": [
        {
          "output_type": "stream",
          "text": [
            "Automatically created module for IPython interactive environment\n"
          ],
          "name": "stdout"
        }
      ]
    },
    {
      "cell_type": "code",
      "metadata": {
        "colab_type": "code",
        "id": "EMBxiZ8KvXUP",
        "colab": {}
      },
      "source": [
        "# load dataset in array\n",
        "task_number= len(task_index)\n",
        "\n",
        "# load dataset in array\n",
        "list_raw_fnames = [[0]*task_number]*subject_number\n",
        "for x in range(subject_number):\n",
        "  list_raw_fnames[x] = mne.datasets.eegbci.load_data(x+1,task_index,path='/content/drive/My Drive/Deep Results/Database')\n",
        "\n",
        "list_rawdata = np.zeros((subject_number,task_number), dtype='object')\n",
        "\n",
        "for i in range(subject_number):\n",
        "  for j in range(task_number):\n",
        "    list_rawdata[i][j] = mne.io.read_raw_edf(list_raw_fnames[i][j], preload=True)\n"
      ],
      "execution_count": 0,
      "outputs": []
    },
    {
      "cell_type": "code",
      "metadata": {
        "colab_type": "code",
        "id": "lltZvYULvrvA",
        "outputId": "aeb48b97-77f8-46ad-b518-d0ad4eb4b5f7",
        "colab": {
          "base_uri": "https://localhost:8080/",
          "height": 51
        }
      },
      "source": [
        "# img for each subject\n",
        "subject_img_number = math.floor((total_sampel_number - sampel_number_per_sec - (window_len-1 )*inner_sample_shift) / outer_sample_shift) +1\n",
        "np.random.seed(seed)  \n",
        "\n",
        "subject_number_array_shuffled=np.arange(subject_number)\n",
        "np.random.shuffle(subject_number_array_shuffled)\n",
        "\n",
        "subject_img_number_array_shuffled=np.arange(subject_img_number)\n",
        "np.random.shuffle(subject_img_number_array_shuffled)\n",
        "\n",
        "train_index = math.floor(len(subject_img_number_array_shuffled)* 0.75)\n",
        "val_index = train_index + (train_index//5)\n",
        "\n",
        "train_shuff = subject_img_number_array_shuffled[:train_index]\n",
        "val_shuff = subject_img_number_array_shuffled[train_index:val_index]\n",
        "test_shuff = subject_img_number_array_shuffled[val_index:]\n",
        "\n",
        "\n",
        "train_number = len(train_shuff)\n",
        "val_number = len(val_shuff)\n",
        "test_number = len(test_shuff)\n",
        "print(train_number , val_number , test_number)\n",
        "subject_img_number"
      ],
      "execution_count": 42,
      "outputs": [
        {
          "output_type": "stream",
          "text": [
            "878 175 118\n"
          ],
          "name": "stdout"
        },
        {
          "output_type": "execute_result",
          "data": {
            "text/plain": [
              "1171"
            ]
          },
          "metadata": {
            "tags": []
          },
          "execution_count": 42
        }
      ]
    },
    {
      "cell_type": "code",
      "metadata": {
        "colab_type": "code",
        "id": "2NuDhT0Y1Fqa",
        "colab": {}
      },
      "source": [
        "def normalize_channel_data(ch , i, ch_min, ch_max):\n",
        "  ch = ((ch - ch_min[i]) / (ch_max[i] - ch_min[i] ))\n",
        "  return ch\n",
        "\n",
        "def ProjectionVector(VecA,VecB):\n",
        "    Projeted_VecB_on_VecA=np.dot(VecA,VecB)/np.dot(VecA,VecA)*VecA\n",
        "    return Projeted_VecB_on_VecA"
      ],
      "execution_count": 0,
      "outputs": []
    },
    {
      "cell_type": "code",
      "metadata": {
        "id": "jyfUojlv76gs",
        "colab_type": "code",
        "colab": {}
      },
      "source": [
        "#################################################################################################\n",
        "## Define General Data Generator\n",
        "def GenerateGeneralData(BatchSize,ListRawDataMain,SubjectArrayShuffled,ListChannel,RemoveBaseLineFlag,OrthogonalFlag,ImageArrayShuffled,WindowLen,OuterSampleShift,InnerSampleShift,SampelNumberPerSec):\n",
        "    \n",
        "    Iter=0\n",
        "    #ch_number=len(ListChannel)\n",
        "    \n",
        "    \n",
        "    ##########################################################\n",
        "    # Pre-Proceesing On Raw Data\n",
        "    ListRawDataTemp=ListRawDataMain.copy()\n",
        "    \n",
        "    DataAllChannelsRawPerSubject, times =(ListRawDataTemp[0][0][:64,:9600])\n",
        "\n",
        "    DataChannelsRaw   =np.zeros((len(SubjectArrayShuffled),ch_number,times.size),dtype = float)\n",
        "    DataChannelsNormal=np.zeros((len(SubjectArrayShuffled),ch_number,times.size),dtype = float)\n",
        "    #DataChannelsOrt   =np.zeros((len(SubjectArrayShuffled),ch_number,times.size),dtype = float)\n",
        "        \n",
        "    for s in SubjectArrayShuffled:\n",
        "\n",
        "        DataAllChannelsRawPerSubject, times =(ListRawDataTemp[s][0][:64,:9600])\n",
        "        \n",
        "        # Extrac Channel T9 or T10 as Baseline\n",
        "        DataChannelT9Raw =DataAllChannelsRawPerSubject[43]# Ch T9 (42) or T10 (43)\n",
        "\n",
        "\n",
        "        ch_max =[]\n",
        "        ch_min =[]\n",
        "        # Extract Selected Channels+ Remove Baseline+ Normailze\n",
        "        for i in range(len(ListChannel)):\n",
        "            DataChannelsRaw[s][i]=DataAllChannelsRawPerSubject[ListChannel[i]].copy() -DataChannelT9Raw*RemoveBaseLineFlag\n",
        "\n",
        "            ch_max = np.append(ch_max, max(DataChannelsRaw[s][i])) # max for each cannel\n",
        "            ch_min = np.append(ch_min, min(DataChannelsRaw[s][i])) # min for each cannel\n",
        "\n",
        "            DataChannelsNormal[s][i]=normalize_channel_data(DataChannelsRaw[s][i].copy(), i, ch_min, ch_max)\n",
        "\n",
        "\n",
        "        # make Channels Orthogonal\n",
        "       # DataChannelsOrt[s][0]=DataChannelsNormal[s][0]\n",
        "       # DataChannelsOrt[s][1]=DataChannelsNormal[s][1]-ProjectionVector(DataChannelsOrt[s][0].copy(),DataChannelsNormal[s][1].copy())*OrthogonalFlag\n",
        "       # DataChannelsOrt[s][2]=DataChannelsNormal[s][2]-ProjectionVector(DataChannelsOrt[s][0].copy(),DataChannelsNormal[s][2].copy())*OrthogonalFlag\\\n",
        "       #                                               -ProjectionVector(DataChannelsOrt[s][1].copy(),DataChannelsNormal[s][2].copy())*OrthogonalFlag\n",
        "\n",
        "        \n",
        "        \n",
        "    ##########################################################\n",
        "    # Generate Data for Network\n",
        "    while True:\n",
        "\n",
        "      for j in ImageArrayShuffled:\n",
        "          for s in SubjectArrayShuffled:\n",
        "\n",
        "              if Iter ==0:\n",
        "                  TrainImage=np.zeros((BatchSize, ch_number, WindowLen, SampelNumberPerSec), dtype = float)\n",
        "                  TrainLabel=np.zeros((BatchSize),dtype=int)\n",
        "\n",
        "              for i in range(len(ListChannel)):\n",
        "                  for z in range (WindowLen):\n",
        "                      ExtractedData = DataChannelsNormal[s][i][0+j*OuterSampleShift + z*InnerSampleShift:SampelNumberPerSec+ j*OuterSampleShift + z*InnerSampleShift]\n",
        "                      TrainImage[Iter][i][z] = ExtractedData.copy()# Data\n",
        "\n",
        "              TrainLabel[Iter] = s # label\n",
        "\n",
        "              Iter=Iter+1\n",
        "              #Count=Count+1\n",
        "              if Iter==BatchSize:\n",
        "                Iter=0\n",
        "                #print('Count=',Count)\n",
        "                TrainLabelClass=to_categorical(TrainLabel,len(SubjectArrayShuffled))\n",
        "                TI = np.moveaxis(TrainImage, 1, -1)\n",
        "                yield TI, TrainLabelClass \n",
        "\n",
        "                "
      ],
      "execution_count": 0,
      "outputs": []
    },
    {
      "cell_type": "code",
      "metadata": {
        "colab_type": "code",
        "id": "7Ur_osh2aDZm",
        "colab": {}
      },
      "source": [
        "#####################################################################################################\n",
        "\n",
        "# Reset Model and Data Arrays\n",
        "\n",
        "list_rawdataTemp=list_rawdata.copy()\n",
        "\n",
        "    \n",
        "#################################################################################################\n",
        "# Construct Data Generator\n",
        "\n",
        "GenTrainData=GenerateGeneralData(BatchSize=batch_size,\n",
        "                                  ListRawDataMain=list_rawdataTemp.copy(),\n",
        "                                  SubjectArrayShuffled=subject_number_array_shuffled,\n",
        "                                  ListChannel=list_channel,\n",
        "                                  RemoveBaseLineFlag=RemoveBaseLine,\n",
        "                                  OrthogonalFlag=Orthogonal,\n",
        "                                  WindowLen=window_len,\n",
        "                                  OuterSampleShift=outer_sample_shift,\n",
        "                                  InnerSampleShift=inner_sample_shift,\n",
        "                                  SampelNumberPerSec=sampel_number_per_sec,\n",
        "                                  ImageArrayShuffled=train_shuff)\n",
        "\n",
        "GenValidationData =GenerateGeneralData(BatchSize=batch_size,\n",
        "                                        ListRawDataMain=list_rawdataTemp.copy(),\n",
        "                                        SubjectArrayShuffled=subject_number_array_shuffled,\n",
        "                                        ListChannel=list_channel,\n",
        "                                        RemoveBaseLineFlag=RemoveBaseLine,\n",
        "                                        OrthogonalFlag=Orthogonal,\n",
        "                                        WindowLen=window_len,\n",
        "                                        OuterSampleShift=outer_sample_shift,\n",
        "                                        InnerSampleShift=inner_sample_shift,\n",
        "                                        SampelNumberPerSec=sampel_number_per_sec,\n",
        "                                        ImageArrayShuffled=val_shuff)\n",
        "\n",
        "GenTestData=GenerateGeneralData(BatchSize=batch_size,\n",
        "                                ListRawDataMain=list_rawdataTemp.copy(),\n",
        "                                SubjectArrayShuffled=subject_number_array_shuffled,\n",
        "                                ListChannel=list_channel,\n",
        "                                RemoveBaseLineFlag=RemoveBaseLine,\n",
        "                                OrthogonalFlag=Orthogonal,\n",
        "                                WindowLen=window_len,\n",
        "                                OuterSampleShift=outer_sample_shift,\n",
        "                                InnerSampleShift=inner_sample_shift,\n",
        "                                SampelNumberPerSec=sampel_number_per_sec,\n",
        "                                ImageArrayShuffled=test_shuff)\n",
        "\n",
        "#################################################################################################\n",
        "# Create Model\n",
        "model = models.Sequential()\n",
        "model.add(layers.Conv2D(128, (3,3), activation = 'relu', padding='same', input_shape = (window_len,160,ch_number) ))\n",
        "model.add(layers.MaxPooling2D((2,2)))\n",
        "model.add(layers.Conv2D(256, (3,3), activation = 'relu'))\n",
        "model.add(layers.MaxPooling2D((2,2)))\n",
        "model.add(layers.Conv2D(512, (3,3), activation = 'relu'))\n",
        "model.add(layers.MaxPooling2D((2,2)))\n",
        "\n",
        "model.add(layers.Flatten())\n",
        "model.add(layers.Dense(1024, activation = 'relu'))\n",
        "model.add(layers.Dropout(0.25))\n",
        "model.add(layers.Dense(subject_number, activation = 'softmax'))\n",
        "\n",
        "model.compile(loss= 'categorical_crossentropy',\n",
        "              optimizer= optimizers.RMSprop(lr= 1e-4),\n",
        "              metrics = ['acc'])\n"
      ],
      "execution_count": 0,
      "outputs": []
    },
    {
      "cell_type": "code",
      "metadata": {
        "id": "xPXnQcGieCZt",
        "colab_type": "code",
        "colab": {
          "base_uri": "https://localhost:8080/",
          "height": 34
        },
        "outputId": "d3b5a27d-e921-48b3-e1ee-3a6d555142e3"
      },
      "source": [
        "  path = \"/content/drive/My Drive/Best Model/\" \n",
        "\n",
        "  try:\n",
        "      os.mkdir(path)\n",
        "  except OSError:\n",
        "      print (\"Creation of the directory %s failed\" % path)\n",
        "  else:\n",
        "      print (\"Successfully created the directory %s \" % path)"
      ],
      "execution_count": 46,
      "outputs": [
        {
          "output_type": "stream",
          "text": [
            "Creation of the directory /content/drive/My Drive/Best Model/ failed\n"
          ],
          "name": "stdout"
        }
      ]
    },
    {
      "cell_type": "code",
      "metadata": {
        "id": "NHO3x7q8S3qS",
        "colab_type": "code",
        "outputId": "328e422b-0ca4-47a7-bd0c-3db09e5e2f7f",
        "colab": {
          "base_uri": "https://localhost:8080/",
          "height": 763
        }
      },
      "source": [
        "modelfileName = path + \"bestmodel_64channel\"\n",
        "#################################################################################################\n",
        "#earlystopping_callback = EarlyStopping(monitor='val_loss',verbose=0,min_delta=0,patience=10,mode='auto', restore_best_weights=True)\n",
        "saveBest_callback = ModelCheckpoint(modelfileName, monitor='val_loss', verbose=0, save_best_only=True, mode='auto', period=1)\n",
        "# Train the Model\n",
        "history = model.fit_generator(epochs =20,\n",
        "                              generator=GenTrainData,\n",
        "                              steps_per_epoch=np.ceil(train_number*subject_number/batch_size),\n",
        "                              callbacks=[saveBest_callback],\n",
        "                              validation_data=GenValidationData,\n",
        "                              validation_steps =np.ceil(val_number*subject_number/batch_size),\n",
        "                              use_multiprocessing=False,\n",
        "                              workers=1)\n",
        "\n",
        "#################################################################################################\n",
        "# Evalute the Model\n",
        "TrainResult      =model.evaluate_generator(GenTrainData,steps=np.ceil(train_number*subject_number/batch_size))\n",
        "ValidationResult =model.evaluate_generator(GenValidationData,steps=np.ceil(val_number*subject_number/batch_size))\n",
        "TestResult       =model.evaluate_generator(GenTestData,steps=np.ceil(test_number*subject_number/batch_size))\n",
        "print('     TrainResult ([loss , acc])=',TrainResult)\n",
        "print('ValidationResult ([loss , acc])=',ValidationResult)\n",
        "print('      TestResult ([loss , acc])=',TestResult)\n",
        "\n",
        "#################################################################################################\n",
        "\n"
      ],
      "execution_count": 79,
      "outputs": [
        {
          "output_type": "stream",
          "text": [
            "Epoch 1/20\n",
            "1496/1496 [==============================] - 523s 350ms/step - loss: 0.0953 - acc: 0.9788 - val_loss: 0.0216 - val_acc: 0.9995\n",
            "Epoch 2/20\n",
            "1496/1496 [==============================] - 519s 347ms/step - loss: 0.1033 - acc: 0.9811 - val_loss: 0.0950 - val_acc: 0.9924\n",
            "Epoch 3/20\n",
            "1496/1496 [==============================] - 517s 345ms/step - loss: 0.0965 - acc: 0.9835 - val_loss: 8.3415e-05 - val_acc: 0.9993\n",
            "Epoch 4/20\n",
            "1496/1496 [==============================] - 513s 343ms/step - loss: 0.0962 - acc: 0.9843 - val_loss: 4.2941e-04 - val_acc: 0.9978\n",
            "Epoch 5/20\n",
            "1496/1496 [==============================] - 511s 342ms/step - loss: 0.0988 - acc: 0.9854 - val_loss: 4.0171e-04 - val_acc: 0.9992\n",
            "Epoch 6/20\n",
            "1496/1496 [==============================] - 513s 343ms/step - loss: 0.0876 - acc: 0.9864 - val_loss: 7.3862e-05 - val_acc: 0.9998\n",
            "Epoch 7/20\n",
            "1496/1496 [==============================] - 513s 343ms/step - loss: 0.0930 - acc: 0.9872 - val_loss: 1.3748e-05 - val_acc: 0.9990\n",
            "Epoch 8/20\n",
            "1496/1496 [==============================] - 510s 341ms/step - loss: 0.0840 - acc: 0.9894 - val_loss: 9.1483e-05 - val_acc: 0.9925\n",
            "Epoch 9/20\n",
            "1496/1496 [==============================] - 510s 341ms/step - loss: 0.0880 - acc: 0.9898 - val_loss: 3.5018e-07 - val_acc: 0.9988\n",
            "Epoch 10/20\n",
            "1496/1496 [==============================] - 511s 341ms/step - loss: 0.0742 - acc: 0.9905 - val_loss: 0.6797 - val_acc: 0.9691\n",
            "Epoch 11/20\n",
            "1496/1496 [==============================] - 511s 342ms/step - loss: 0.0782 - acc: 0.9909 - val_loss: 0.0363 - val_acc: 0.9912\n",
            "Epoch 12/20\n",
            "1496/1496 [==============================] - 511s 341ms/step - loss: 0.0810 - acc: 0.9910 - val_loss: 0.0867 - val_acc: 0.9990\n",
            "Epoch 13/20\n",
            "1496/1496 [==============================] - 508s 340ms/step - loss: 0.0866 - acc: 0.9913 - val_loss: 0.0130 - val_acc: 0.9974\n",
            "Epoch 14/20\n",
            "1496/1496 [==============================] - 511s 341ms/step - loss: 0.0777 - acc: 0.9920 - val_loss: 0.6092 - val_acc: 0.9741\n",
            "Epoch 15/20\n",
            "1496/1496 [==============================] - 507s 339ms/step - loss: 0.0740 - acc: 0.9927 - val_loss: 5.5879e-09 - val_acc: 0.9999\n",
            "Epoch 16/20\n",
            "1496/1496 [==============================] - 511s 342ms/step - loss: 0.0853 - acc: 0.9921 - val_loss: 0.0115 - val_acc: 0.9910\n",
            "Epoch 17/20\n",
            "1496/1496 [==============================] - 509s 340ms/step - loss: 0.0900 - acc: 0.9933 - val_loss: 0.0000e+00 - val_acc: 0.9994\n",
            "Epoch 18/20\n",
            "1496/1496 [==============================] - 516s 345ms/step - loss: 0.0961 - acc: 0.9921 - val_loss: 6.2397e-07 - val_acc: 0.9996\n",
            "Epoch 19/20\n",
            "1496/1496 [==============================] - 512s 342ms/step - loss: 0.0915 - acc: 0.9922 - val_loss: 1.7862e-06 - val_acc: 0.9993\n",
            "Epoch 20/20\n",
            "1496/1496 [==============================] - 507s 339ms/step - loss: 0.0814 - acc: 0.9936 - val_loss: 3.7253e-09 - val_acc: 0.9997\n",
            "     TrainResult ([loss , acc])= [0.0, 0.9996657967567444]\n",
            "ValidationResult ([loss , acc])= [4.284077803617947e-08, 0.9997386932373047]\n",
            "      TestResult ([loss , acc])= [2.384786421316676e-05, 0.9998445510864258]\n"
          ],
          "name": "stdout"
        }
      ]
    },
    {
      "cell_type": "code",
      "metadata": {
        "id": "EN2SnEbq326C",
        "colab_type": "code",
        "colab": {
          "base_uri": "https://localhost:8080/",
          "height": 295
        },
        "outputId": "81b40afa-6a4c-42e9-db22-682f9e181777"
      },
      "source": [
        "# plot accuracy\n",
        "#history_dict = history.history \n",
        "historyFineName = path + TryStr + \"my_history.npy\"\n",
        "np.save(historyFineName, history.history)\n",
        "myhistory=np.load(historyFineName, allow_pickle='TRUE').item()\n",
        "\n",
        "acc_values = myhistory ['acc'] \n",
        "val_acc_values = myhistory['val_acc']\n",
        "epochs = range(1, len(acc_values) + 1)\n",
        "\n",
        "#plt.clf()\n",
        "plt.plot(epochs, acc_values, 'bo', label='Training acc') \n",
        "plt.plot(epochs, val_acc_values, 'b', label='Validation acc') \n",
        "plt.title('Training and Validation Accuracy') \n",
        "plt.xlabel('Epochs') \n",
        "plt.ylabel('acc') \n",
        "plt.legend()\n",
        "#plt.show()\n",
        "pdfNameAcc = path + TryStr+ \"_Acc.pdf\"\n",
        "plt.savefig(pdfNameAcc)\n",
        "plt.close()\n",
        "\n",
        "history_dict = history.history \n",
        "loss_values = history_dict ['loss'] \n",
        "val_loss_values = history_dict['val_loss']\n",
        "epochs = range(1, len(loss_values) + 1)\n",
        "\n",
        "plt.plot(epochs, loss_values, 'bo', label='Training loss') \n",
        "plt.plot(epochs, val_loss_values, 'b', label='Validation loss') \n",
        "plt.title('Training and Validation Loss') \n",
        "plt.xlabel('Epochs') \n",
        "plt.ylabel('Loss') \n",
        "plt.legend()\n",
        "#plt.show()\n",
        "pdfNameLoss = path + TryStr+ \"_Loss.pdf\"\n",
        "plt.savefig(pdfNameLoss)"
      ],
      "execution_count": 80,
      "outputs": [
        {
          "output_type": "display_data",
          "data": {
            "image/png": "[encoded data removed]",
            "text/plain": [
              "<Figure size 432x288 with 1 Axes>"
            ]
          },
          "metadata": {
            "tags": [],
            "needs_background": "light"
          }
        }
      ]
    },
    {
      "cell_type": "code",
      "metadata": {
        "id": "EcM6qgQaa-Zb",
        "colab_type": "code",
        "colab": {
          "base_uri": "https://localhost:8080/",
          "height": 67
        },
        "outputId": "590ca574-23b3-4cde-fa95-1c7c46aea5a8"
      },
      "source": [
        "best_model = load_model(fileName)\n",
        "\n",
        "TrainResult =best_model.evaluate_generator(GenTrainData,steps=np.ceil(train_number*subject_number/batch_size))\n",
        "ValidationResult =best_model.evaluate_generator(GenValidationData,steps=np.ceil(val_number*subject_number/batch_size))\n",
        "TestResult =best_model.evaluate_generator(GenTestData,steps=np.ceil(test_number*subject_number/batch_size))\n",
        "\n",
        "print('     TrainResult ([loss , acc])=',TrainResult)\n",
        "print('ValidationResult ([loss , acc])=',ValidationResult)\n",
        "print('      TestResult ([loss , acc])=',TestResult)"
      ],
      "execution_count": 83,
      "outputs": [
        {
          "output_type": "stream",
          "text": [
            "     TrainResult ([loss , acc])= [1.3038510715546181e-08, 0.9995195269584656]\n",
            "ValidationResult ([loss , acc])= [0.0, 0.9994251728057861]\n",
            "      TestResult ([loss , acc])= [3.7620902730850503e-06, 0.9996113181114197]\n"
          ],
          "name": "stdout"
        }
      ]
    },
    {
      "cell_type": "code",
      "metadata": {
        "id": "H2mHCmJOtqvn",
        "colab_type": "code",
        "colab": {}
      },
      "source": [
        "TestResult ([loss , acc])= [0.0, 0.9996113181114197]"
      ],
      "execution_count": 0,
      "outputs": []
    }
  ]
}