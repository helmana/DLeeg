{
  "nbformat": 4,
  "nbformat_minor": 0,
  "metadata": {
    "colab": {
      "name": "Copy of merge 2  model2.ipynb",
      "provenance": [],
      "collapsed_sections": [],
      "machine_shape": "hm",
      "include_colab_link": true
    },
    "kernelspec": {
      "name": "python3",
      "display_name": "Python 3"
    },
    "language_info": {
      "codemirror_mode": {
        "name": "ipython",
        "version": 3
      },
      "file_extension": ".py",
      "mimetype": "text/x-python",
      "name": "python",
      "nbconvert_exporter": "python",
      "pygments_lexer": "ipython3",
      "version": "3.7.3"
    },
    "accelerator": "GPU"
  },
  "cells": [
    {
      "cell_type": "markdown",
      "metadata": {
        "id": "view-in-github",
        "colab_type": "text"
      },
      "source": [
        "<a href=\"https://colab.research.google.com/github/helmana/DLeeg/blob/master/Merge/merge_15%20subject.ipynb\" target=\"_parent\"><img src=\"https://colab.research.google.com/assets/colab-badge.svg\" alt=\"Open In Colab\"/></a>"
      ]
    },
    {
      "cell_type": "code",
      "metadata": {
        "colab_type": "code",
        "id": "YfVnGxljlfpL",
        "outputId": "bd0954c7-2a0a-4644-8e87-8da16850fdef",
        "colab": {
          "base_uri": "https://localhost:8080/",
          "height": 104
        }
      },
      "source": [
        "'''\n",
        "--->>> Merge tow cnn model <<<---\n",
        "\n",
        "* subject number = 15\n",
        "\n",
        "* test acc = 0.8285\n",
        "* test loss = 1.3020\n",
        "\n",
        "× warning : overfitting ?!\n",
        "\n",
        "'''\n",
        "\n",
        "\n",
        "\n",
        "import matplotlib\n",
        "\n",
        "from matplotlib import pyplot as plt\n",
        "import numpy as np\n",
        "\n",
        "import math\n",
        "\n",
        "import keras\n",
        "from keras.utils import to_categorical\n",
        "\n",
        "import random\n",
        "import mne\n",
        "from mne.preprocessing import create_ecg_epochs, create_eog_epochs\n",
        "from mne import io\n",
        "from mne import viz\n",
        "#from mne.datasets import testing\n",
        "from mne import Epochs, io, pick_types\n",
        "from mne.event import define_target_events\n",
        "from mne.time_frequency import psd_welch\n",
        "print(__doc__)"
      ],
      "execution_count": 0,
      "outputs": [
        {
          "output_type": "stream",
          "text": [
            "Using TensorFlow backend.\n",
            "/usr/local/lib/python3.6/dist-packages/numba/decorators.py:146: RuntimeWarning: Caching is not available when the 'parallel' target is in use. Caching is now being disabled to allow execution to continue.\n",
            "  warnings.warn(msg, RuntimeWarning)\n"
          ],
          "name": "stderr"
        },
        {
          "output_type": "stream",
          "text": [
            "Automatically created module for IPython interactive environment\n"
          ],
          "name": "stdout"
        }
      ]
    },
    {
      "cell_type": "code",
      "metadata": {
        "colab_type": "code",
        "id": "9yNNLt7ylhOO",
        "outputId": "79dca738-890f-41b9-e4e1-1fb105a41e06",
        "colab": {
          "base_uri": "https://localhost:8080/",
          "height": 34
        }
      },
      "source": [
        "\n",
        "subject_number=15\n",
        "index_new_subject = subject_number//5 #  \n",
        "train_subject_number = subject_number - index_new_subject\n",
        "task_index = [1] # task: REO\n",
        "task_number = len(task_index)\n",
        "\n",
        "\n",
        "# channels \n",
        "list_channel = [60]\n",
        "ch_number = len(list_channel)\n",
        "\n",
        "task_time = 60\n",
        "\n",
        "sampel_number_per_sec =  160 # sampel rate\n",
        "total_sampel_number =  sampel_number_per_sec *task_time # 60*160\n",
        "\n",
        "inner_sample_shift = 5 # inner step len\n",
        "outer_sample_shift = 160 # outer step len\n",
        "window_len= 20\n",
        "\n",
        "index_new_subject"
      ],
      "execution_count": 0,
      "outputs": [
        {
          "output_type": "execute_result",
          "data": {
            "text/plain": [
              "3"
            ]
          },
          "metadata": {
            "tags": []
          },
          "execution_count": 2
        }
      ]
    },
    {
      "cell_type": "code",
      "metadata": {
        "colab_type": "code",
        "id": "KTfW-74ClnTG",
        "colab": {}
      },
      "source": [
        "# load dataset in array\n",
        "list_raw_fnames = [[0]*task_number]*subject_number\n",
        "for x in range(subject_number):\n",
        "    list_raw_fnames[x] = mne.datasets.eegbci.load_data(x+1,task_index)\n",
        "\n",
        "list_rawdata = np.zeros((subject_number,task_number), dtype='object')\n",
        "\n",
        "for i in range(subject_number):\n",
        "    for j in range(task_number):\n",
        "        list_rawdata[i][j] = mne.io.read_raw_edf(list_raw_fnames[i][j], preload=True)"
      ],
      "execution_count": 0,
      "outputs": []
    },
    {
      "cell_type": "code",
      "metadata": {
        "colab_type": "code",
        "id": "-p_0zaMJly0W",
        "outputId": "2d25e07c-f254-49f0-ffaf-e30fd9399635",
        "colab": {
          "base_uri": "https://localhost:8080/",
          "height": 34
        }
      },
      "source": [
        "# img for each one\n",
        "subject_img_number = math.floor((total_sampel_number - sampel_number_per_sec - (window_len-1 )*inner_sample_shift) / outer_sample_shift) +1\n",
        "test_start_index=subject_img_number - math.floor(subject_img_number * 0.15) \n",
        "\n",
        "train_number =  test_start_index \n",
        "test_number = subject_img_number - test_start_index\n",
        "subject_img_number"
      ],
      "execution_count": 0,
      "outputs": [
        {
          "output_type": "execute_result",
          "data": {
            "text/plain": [
              "59"
            ]
          },
          "metadata": {
            "tags": []
          },
          "execution_count": 4
        }
      ]
    },
    {
      "cell_type": "code",
      "metadata": {
        "colab_type": "code",
        "id": "abG5ER3_l1-u",
        "outputId": "a6bfe162-e571-4c7a-c7ca-2f46fa5b2bf2",
        "colab": {
          "base_uri": "https://localhost:8080/",
          "height": 67
        }
      },
      "source": [
        "train_img = np.zeros((train_number*train_subject_number, ch_number, window_len + 1, 160), dtype = float)\n",
        "train_label =[]\n",
        "\n",
        "\n",
        "test_img = np.zeros((test_number*train_subject_number, ch_number, window_len + 1, 160), dtype = float)\n",
        "test_label =[]\n",
        "new_subject_img = np.zeros((subject_img_number*index_new_subject, ch_number, window_len + 1, 160), dtype = float)\n",
        "\n",
        "print(\" train_img\" ,train_img.shape,'\\n', \"test_img\",test_img.shape,'\\n', \"new_subject_img\", new_subject_img.shape)\n"
      ],
      "execution_count": 0,
      "outputs": [
        {
          "output_type": "stream",
          "text": [
            " train_img (612, 1, 21, 160) \n",
            " test_img (96, 1, 21, 160) \n",
            " new_subject_img (177, 1, 21, 160)\n"
          ],
          "name": "stdout"
        }
      ]
    },
    {
      "cell_type": "code",
      "metadata": {
        "colab_type": "code",
        "id": "A_2Bd6Pkl6DV",
        "colab": {}
      },
      "source": [
        "def normalize_channel_data(ch , i, ch_min, ch_max):\n",
        "    ch = ((ch - ch_min[i]) / (ch_max[i] - ch_min[i] ))\n",
        "    return ch"
      ],
      "execution_count": 0,
      "outputs": []
    },
    {
      "cell_type": "code",
      "metadata": {
        "colab_type": "code",
        "id": "BQ3pO1Ikl8s8",
        "colab": {}
      },
      "source": [
        "\n",
        "list_rawdataTest=list_rawdata.copy()\n",
        "\n",
        "\n",
        "for s in range(subject_number):\n",
        "    ch_max =[]\n",
        "    ch_min =[]\n",
        "    DataChannelsNormal=np.zeros((ch_number,total_sampel_number),dtype = float)\n",
        "    i =0\n",
        "    for ch in list_channel:\n",
        "        DataChannelsRaw, times =list_rawdata[s][0][ch,:total_sampel_number]\n",
        "      \n",
        "        # make a copy\n",
        "        DataChannelsRaw_t=DataChannelsRaw.copy()\n",
        "        times_t=times.copy()\n",
        "      \n",
        "        ch_max = np.append(ch_max, max(DataChannelsRaw_t[0])) # max for each cannel\n",
        "        ch_min = np.append(ch_min, min(DataChannelsRaw_t[0])) # min for each cannel\n",
        "      \n",
        "        # Normalize Channels\n",
        "        DataChannelsNormal[i]=normalize_channel_data(DataChannelsRaw_t, i, ch_min, ch_max)\n",
        "        i=i+1\n",
        "        \n",
        "    if s < index_new_subject:\n",
        "        \n",
        "        for j in range (subject_img_number):\n",
        "            for i in range(ch_number):\n",
        "                for z in range (window_len):\n",
        "              \n",
        "                    ExtractedData = DataChannelsNormal[i,0+ j*outer_sample_shift + z*inner_sample_shift : sampel_number_per_sec+ j*outer_sample_shift + z*inner_sample_shift]\n",
        "                    new_subject_img[s*subject_img_number + j][i][z] = ExtractedData\n",
        "                    if z==window_len-1 :\n",
        "                        new_subject_img[s*subject_img_number + j][i][z+1] = s\n",
        "    else:\n",
        "        \n",
        "        for j in range (subject_img_number):\n",
        "            for i in range(ch_number):\n",
        "                for z in range (window_len):\n",
        "\n",
        "                    ExtractedData = DataChannelsNormal[i,0+ j*outer_sample_shift + z*inner_sample_shift : sampel_number_per_sec+ j*outer_sample_shift + z*inner_sample_shift]\n",
        "\n",
        "                    if j <test_start_index :\n",
        "                        train_img[(s-index_new_subject)* train_number + j][i][z] = ExtractedData\n",
        "                        if z==window_len-1 :\n",
        "                            train_img[(s-index_new_subject)*train_number + j][i][z+1] = s\n",
        "\n",
        "\n",
        "                    else:\n",
        "                        test_img[(s-index_new_subject)* test_number + j - test_start_index][i][z] = ExtractedData\n",
        "                        if z==window_len-1 :\n",
        "                            test_img[(s-index_new_subject)*test_number + j - test_start_index][i][z+1] = s\n",
        "                            \n",
        "           # if j >=test_start_index :\n",
        "               # test_label = np.append(test_label, (s))\n",
        "\n"
      ],
      "execution_count": 0,
      "outputs": []
    },
    {
      "cell_type": "code",
      "metadata": {
        "id": "l85oeIo3m_N5",
        "colab_type": "code",
        "colab": {}
      },
      "source": [
        "#shaffle train img array\n",
        "train_img_shuffle = train_img.copy()\n",
        "\n",
        "np.random.shuffle(train_img_shuffle)"
      ],
      "execution_count": 0,
      "outputs": []
    },
    {
      "cell_type": "code",
      "metadata": {
        "id": "oCB1Fohrm_N-",
        "colab_type": "code",
        "outputId": "3ee766e2-051f-4c70-d178-569e4751cb9c",
        "colab": {
          "base_uri": "https://localhost:8080/",
          "height": 34
        }
      },
      "source": [
        "#create train input1 & input2\n",
        "len_train_img = len(train_img)\n",
        "trian_input_number = int(math.factorial(len_train_img) / (2 * math.factorial(len_train_img-2)))\n",
        "print(trian_input_number)\n",
        "\n",
        "input1 = np.zeros((trian_input_number, ch_number, window_len + 1, 160), dtype = float)\n",
        "input2 = np.zeros((trian_input_number, ch_number, window_len + 1, 160), dtype = float)\n"
      ],
      "execution_count": 0,
      "outputs": [
        {
          "output_type": "stream",
          "text": [
            "186966\n"
          ],
          "name": "stdout"
        }
      ]
    },
    {
      "cell_type": "code",
      "metadata": {
        "id": "x6TnBNx8BnOd",
        "colab_type": "code",
        "colab": {}
      },
      "source": [
        "# fill input train img 1 ,2\n",
        "n=0\n",
        "for i in range(len_train_img):\n",
        "  index1 = train_img_shuffle[0]\n",
        "  \n",
        "  train_img_shuffle = np.delete(train_img_shuffle, 0, axis=0)\n",
        "  \n",
        "  input1[n: n + len(train_img_shuffle)] = train_img_shuffle\n",
        "  input2[n: n + len(train_img_shuffle)] = index1\n",
        "  n =   n + len(train_img_shuffle) \n",
        "\n",
        "del train_img_shuffle"
      ],
      "execution_count": 0,
      "outputs": []
    },
    {
      "cell_type": "code",
      "metadata": {
        "id": "NOEFlEmGVCiH",
        "colab_type": "code",
        "colab": {}
      },
      "source": [
        "#train_label=[]\n",
        "# create train label array\n",
        "for i in range(trian_input_number):\n",
        "  if input1[i][0][window_len][0] == input2[i][0][window_len][0]:\n",
        "    train_label = np.append(train_label, 1)\n",
        "  else:\n",
        "    train_label = np.append(train_label, 0)\n",
        "  #print(i)\n",
        "    \n",
        "    \n",
        "    "
      ],
      "execution_count": 0,
      "outputs": []
    },
    {
      "cell_type": "code",
      "metadata": {
        "id": "DztXv3x-U3rd",
        "colab_type": "code",
        "outputId": "b4468eb7-33b0-4fcb-ba17-d411232125bf",
        "colab": {
          "base_uri": "https://localhost:8080/",
          "height": 34
        }
      },
      "source": [
        "train_label.shape"
      ],
      "execution_count": 0,
      "outputs": [
        {
          "output_type": "execute_result",
          "data": {
            "text/plain": [
              "(186966,)"
            ]
          },
          "metadata": {
            "tags": []
          },
          "execution_count": 12
        }
      ]
    },
    {
      "cell_type": "code",
      "metadata": {
        "id": "x6EkRMeLrrMp",
        "colab_type": "code",
        "colab": {}
      },
      "source": [
        "# remove label row \n",
        "input1_2 = np.zeros((trian_input_number, ch_number, window_len, 160), dtype = float)\n",
        "input2_2 = np.zeros((trian_input_number, ch_number, window_len, 160), dtype = float)\n",
        "  \n",
        "  "
      ],
      "execution_count": 0,
      "outputs": []
    },
    {
      "cell_type": "code",
      "metadata": {
        "id": "rJ-j-3sLvKyK",
        "colab_type": "code",
        "colab": {}
      },
      "source": [
        "def remove_label(input_number, inputx, inputx_2 ):\n",
        "  \n",
        "  for i in range(input_number) :\n",
        "\n",
        "    for j in range (ch_number):\n",
        "\n",
        "      inputx_2[i][j] = np.delete(inputx[i][j], window_len, axis=0)\n",
        "    \n",
        "  return (inputx_2)"
      ],
      "execution_count": 0,
      "outputs": []
    },
    {
      "cell_type": "code",
      "metadata": {
        "id": "G78tNxVeW2Vo",
        "colab_type": "code",
        "outputId": "6d74885c-1fc6-4dfc-aaff-d725b83b1c29",
        "colab": {
          "base_uri": "https://localhost:8080/",
          "height": 34
        }
      },
      "source": [
        "input1_2 = remove_label(trian_input_number, input1, input1_2)\n",
        "input2_2 = remove_label(trian_input_number, input2, input2_2)\n",
        "\n",
        "input2_2.shape\n"
      ],
      "execution_count": 0,
      "outputs": [
        {
          "output_type": "execute_result",
          "data": {
            "text/plain": [
              "(186966, 1, 20, 160)"
            ]
          },
          "metadata": {
            "tags": []
          },
          "execution_count": 15
        }
      ]
    },
    {
      "cell_type": "code",
      "metadata": {
        "id": "_g0XQMDMTsZP",
        "colab_type": "code",
        "colab": {}
      },
      "source": [
        "del input2\n",
        "del input1"
      ],
      "execution_count": 0,
      "outputs": []
    },
    {
      "cell_type": "code",
      "metadata": {
        "id": "d-3vXiQY_B27",
        "colab_type": "code",
        "outputId": "a5e9a709-3e89-4e99-9a0d-417a0d901f5d",
        "colab": {
          "base_uri": "https://localhost:8080/",
          "height": 34
        }
      },
      "source": [
        "###############################  test ##################################\n",
        "# create total test img (part of train img + new subject img)\n",
        "total_test_img = np.concatenate((test_img, new_subject_img))\n",
        "\n",
        "total_test_img.shape\n"
      ],
      "execution_count": 0,
      "outputs": [
        {
          "output_type": "execute_result",
          "data": {
            "text/plain": [
              "(273, 1, 21, 160)"
            ]
          },
          "metadata": {
            "tags": []
          },
          "execution_count": 17
        }
      ]
    },
    {
      "cell_type": "code",
      "metadata": {
        "id": "IoeE2gtTJT7M",
        "colab_type": "code",
        "outputId": "bf0d7b36-a3fa-458c-ff79-34f6645ddbb7",
        "colab": {
          "base_uri": "https://localhost:8080/",
          "height": 34
        }
      },
      "source": [
        "\n",
        "# create 2 input test image\n",
        "len_test_img = len(total_test_img)\n",
        "test_input_number = int(math.factorial(len_test_img) / (2 * math.factorial(len_test_img-2)))\n",
        "print(test_input_number)\n",
        "\n",
        "input1_test = np.zeros((test_input_number, ch_number, window_len + 1, 160), dtype = float)\n",
        "input2_test = np.zeros((test_input_number, ch_number, window_len + 1, 160), dtype = float)\n"
      ],
      "execution_count": 0,
      "outputs": [
        {
          "output_type": "stream",
          "text": [
            "37128\n"
          ],
          "name": "stdout"
        }
      ]
    },
    {
      "cell_type": "code",
      "metadata": {
        "id": "oVhfoecOyRbi",
        "colab_type": "code",
        "colab": {}
      },
      "source": [
        "\n",
        "\n",
        "# fill input test img 1 ,2\n",
        "n=0\n",
        "for i in range(len_test_img):\n",
        "  index1 = total_test_img[0]\n",
        "  total_test_img = np.delete(total_test_img, 0, axis=0)\n",
        "  \n",
        "  input1_test[n: n + len(total_test_img)] = total_test_img\n",
        "  input2_test[n: n + len(total_test_img)] = index1\n",
        "  n =   n + len(total_test_img) \n",
        "\n",
        "#del input2_test\n"
      ],
      "execution_count": 0,
      "outputs": []
    },
    {
      "cell_type": "code",
      "metadata": {
        "id": "qxPmk8IFyVlg",
        "colab_type": "code",
        "colab": {}
      },
      "source": [
        "\n",
        "#test_label=[]\n",
        "# create test label array\n",
        "for i in range(test_input_number):\n",
        "  if input1_test[i][0][window_len][0] == input2_test[i][0][window_len][0]:\n",
        "    test_label = np.append(test_label, 1)\n",
        "    #print(test_label)\n",
        "  else:\n",
        "    test_label = np.append(test_label, 0)\n"
      ],
      "execution_count": 0,
      "outputs": []
    },
    {
      "cell_type": "code",
      "metadata": {
        "id": "uXcbpN7gybVp",
        "colab_type": "code",
        "colab": {}
      },
      "source": [
        "    \n",
        "# remove label row \n",
        "\n",
        "input1_test_2 = np.zeros((test_input_number, ch_number, window_len, 160), dtype = float)\n",
        "input2_test_2 = np.zeros((test_input_number, ch_number, window_len, 160), dtype = float)\n",
        "\n"
      ],
      "execution_count": 0,
      "outputs": []
    },
    {
      "cell_type": "code",
      "metadata": {
        "id": "T7zRW-y0zdRH",
        "colab_type": "code",
        "outputId": "d0942375-1a78-44b1-8b96-28e91049e88c",
        "colab": {
          "base_uri": "https://localhost:8080/",
          "height": 34
        }
      },
      "source": [
        "input1_test_2 = remove_label(test_input_number, input1_test, input1_test_2)\n",
        "input2_test_2 = remove_label(test_input_number, input2_test, input2_test_2)\n",
        "\n",
        "input2_test_2.shape\n"
      ],
      "execution_count": 0,
      "outputs": [
        {
          "output_type": "execute_result",
          "data": {
            "text/plain": [
              "(37128, 1, 20, 160)"
            ]
          },
          "metadata": {
            "tags": []
          },
          "execution_count": 22
        }
      ]
    },
    {
      "cell_type": "code",
      "metadata": {
        "id": "JwCA8suWUBmb",
        "colab_type": "code",
        "colab": {}
      },
      "source": [
        "del input1_test\n",
        "del input2_test"
      ],
      "execution_count": 0,
      "outputs": []
    },
    {
      "cell_type": "code",
      "metadata": {
        "colab_type": "code",
        "id": "UqI6jFCcmMWl",
        "colab": {}
      },
      "source": [
        "# categorical test & train label\n",
        "train_label = to_categorical(train_label, 2)\n",
        "test_label = to_categorical(test_label, 2)\n"
      ],
      "execution_count": 0,
      "outputs": []
    },
    {
      "cell_type": "code",
      "metadata": {
        "id": "vNQF2YqXVIxg",
        "colab_type": "code",
        "outputId": "a9dd4117-e07c-47a4-e983-bd6dd972eb3a",
        "colab": {
          "base_uri": "https://localhost:8080/",
          "height": 1000
        }
      },
      "source": [
        "train_label[:100]"
      ],
      "execution_count": 0,
      "outputs": [
        {
          "output_type": "execute_result",
          "data": {
            "text/plain": [
              "array([[1., 0.],\n",
              "       [1., 0.],\n",
              "       [1., 0.],\n",
              "       [1., 0.],\n",
              "       [1., 0.],\n",
              "       [1., 0.],\n",
              "       [1., 0.],\n",
              "       [1., 0.],\n",
              "       [1., 0.],\n",
              "       [1., 0.],\n",
              "       [1., 0.],\n",
              "       [1., 0.],\n",
              "       [1., 0.],\n",
              "       [1., 0.],\n",
              "       [1., 0.],\n",
              "       [1., 0.],\n",
              "       [1., 0.],\n",
              "       [1., 0.],\n",
              "       [1., 0.],\n",
              "       [1., 0.],\n",
              "       [1., 0.],\n",
              "       [1., 0.],\n",
              "       [1., 0.],\n",
              "       [1., 0.],\n",
              "       [1., 0.],\n",
              "       [1., 0.],\n",
              "       [1., 0.],\n",
              "       [1., 0.],\n",
              "       [1., 0.],\n",
              "       [1., 0.],\n",
              "       [1., 0.],\n",
              "       [1., 0.],\n",
              "       [1., 0.],\n",
              "       [1., 0.],\n",
              "       [1., 0.],\n",
              "       [1., 0.],\n",
              "       [1., 0.],\n",
              "       [1., 0.],\n",
              "       [1., 0.],\n",
              "       [1., 0.],\n",
              "       [1., 0.],\n",
              "       [1., 0.],\n",
              "       [1., 0.],\n",
              "       [1., 0.],\n",
              "       [1., 0.],\n",
              "       [1., 0.],\n",
              "       [1., 0.],\n",
              "       [1., 0.],\n",
              "       [1., 0.],\n",
              "       [0., 1.],\n",
              "       [1., 0.],\n",
              "       [1., 0.],\n",
              "       [1., 0.],\n",
              "       [0., 1.],\n",
              "       [1., 0.],\n",
              "       [1., 0.],\n",
              "       [1., 0.],\n",
              "       [1., 0.],\n",
              "       [1., 0.],\n",
              "       [1., 0.],\n",
              "       [1., 0.],\n",
              "       [1., 0.],\n",
              "       [1., 0.],\n",
              "       [0., 1.],\n",
              "       [1., 0.],\n",
              "       [0., 1.],\n",
              "       [1., 0.],\n",
              "       [1., 0.],\n",
              "       [1., 0.],\n",
              "       [1., 0.],\n",
              "       [1., 0.],\n",
              "       [1., 0.],\n",
              "       [1., 0.],\n",
              "       [1., 0.],\n",
              "       [1., 0.],\n",
              "       [1., 0.],\n",
              "       [1., 0.],\n",
              "       [1., 0.],\n",
              "       [1., 0.],\n",
              "       [1., 0.],\n",
              "       [1., 0.],\n",
              "       [1., 0.],\n",
              "       [1., 0.],\n",
              "       [1., 0.],\n",
              "       [1., 0.],\n",
              "       [1., 0.],\n",
              "       [1., 0.],\n",
              "       [1., 0.],\n",
              "       [1., 0.],\n",
              "       [1., 0.],\n",
              "       [1., 0.],\n",
              "       [1., 0.],\n",
              "       [1., 0.],\n",
              "       [1., 0.],\n",
              "       [1., 0.],\n",
              "       [1., 0.],\n",
              "       [0., 1.],\n",
              "       [1., 0.],\n",
              "       [1., 0.],\n",
              "       [1., 0.]], dtype=float32)"
            ]
          },
          "metadata": {
            "tags": []
          },
          "execution_count": 26
        }
      ]
    },
    {
      "cell_type": "code",
      "metadata": {
        "colab_type": "code",
        "id": "zFe8gV7XmNLV",
        "outputId": "255d281f-db87-47ee-bda3-2b482159b23f",
        "colab": {
          "base_uri": "https://localhost:8080/",
          "height": 34
        }
      },
      "source": [
        "validation_index = math.floor( trian_input_number * 0.2)\n",
        "\n",
        "\n",
        "# validation & train\n",
        "\n",
        "#train\n",
        "x_train_1 =input1_2[validation_index:]\n",
        "x_train_2 =input2_2[validation_index:]\n",
        "\n",
        "y_train =train_label[validation_index:]\n",
        "\n",
        "#validation\n",
        "x_validation_1 =input1_2[:validation_index]\n",
        "x_validation_2 =input2_2[:validation_index] \n",
        "\n",
        "y_valid =train_label[:validation_index]\n",
        "\n",
        "x_validation_1.shape"
      ],
      "execution_count": 0,
      "outputs": [
        {
          "output_type": "execute_result",
          "data": {
            "text/plain": [
              "(37393, 1, 20, 160)"
            ]
          },
          "metadata": {
            "tags": []
          },
          "execution_count": 27
        }
      ]
    },
    {
      "cell_type": "code",
      "metadata": {
        "colab_type": "code",
        "id": "PWPtKkZHmP4m",
        "outputId": "828d5c68-4232-49ea-9b0b-79546f186063",
        "colab": {
          "base_uri": "https://localhost:8080/",
          "height": 577
        }
      },
      "source": [
        "\n",
        "from keras import layers\n",
        "from keras import models\n",
        "from keras import regularizers\n",
        "#from keras.layers import Dense, Merge\n",
        "from keras.layers import *\n",
        "from keras.models import Model\n",
        "\n",
        "\n",
        "cnn1 = models.Sequential()\n",
        "cnn1.add(layers.Conv2D(64, (3,3), activation = 'relu', padding='same', input_shape = (ch_number,window_len,160), data_format= \"channels_first\" ))\n",
        "print(cnn1.output.shape)\n",
        "cnn1.add(layers.MaxPooling2D((2,2)))\n",
        "print(cnn1.output.shape)\n",
        "cnn1.add(layers.Conv2D(128, (3,3), activation = 'relu'))\n",
        "print(cnn1.output.shape)\n",
        "cnn1.add(layers.MaxPooling2D((2,2)))\n",
        "print(cnn1.output.shape)\n",
        "cnn1.add(layers.Conv2D(256, (3,3), activation = 'relu'))\n",
        "print(cnn1.output.shape)\n",
        "cnn1.add(layers.MaxPooling2D((2,2)))\n",
        "#cnn1.add(layers.Flatten())\n",
        "print(cnn1.output.shape)\n",
        "\n",
        "\n",
        "cnn2 = models.Sequential()\n",
        "cnn2.add(layers.Conv2D(64, (3,3), activation = 'relu', padding='same', input_shape = (ch_number,window_len,160), data_format= \"channels_first\" ))\n",
        "print(cnn2.output.shape)\n",
        "cnn2.add(layers.MaxPooling2D((2,2)))\n",
        "print(cnn2.output.shape)\n",
        "cnn2.add(layers.Conv2D(128, (3,3), activation = 'relu'))\n",
        "print(cnn2.output.shape)\n",
        "cnn2.add(layers.MaxPooling2D((2,2)))\n",
        "print(cnn2.output.shape)\n",
        "cnn2.add(layers.Conv2D(256, (3,3), activation = 'relu'))\n",
        "print(cnn2.output.shape)\n",
        "cnn2.add(layers.MaxPooling2D((2,2)))\n",
        "#cnn2.add(layers.Flatten())\n",
        "print(cnn2.output.shape)\n",
        "\n",
        "mergedOut = Add()([cnn1.output,cnn2.output])\n",
        "\n",
        "mergedOut = Flatten()(mergedOut)    \n",
        "mergedOut = Dense(512, activation='relu')(mergedOut)\n",
        "mergedOut = Dropout(.5)(mergedOut)\n",
        "\n",
        "# output layer\n",
        "mergedOut = Dense(2, activation='sigmoid')(mergedOut)\n",
        "\n",
        "newModel = Model([cnn1.input,cnn2.input], mergedOut)\n",
        "\n",
        "#model = models.Sequential()\n",
        "#model.add(layers.Concatenate([cnn1,cnn2]))\n",
        "#model.add(layers.Dense(512, activation = 'relu'))\n",
        "#model.add(layers.Dropout(0.5))\n",
        "#print(model.output.shape)\n",
        "#model.add(layers.Dense(2, activation = 'sigmoid'))\n",
        "#print(model.output.shape)\n",
        "\n",
        "\n",
        "from keras import optimizers\n",
        "\n",
        "newModel.compile(loss= 'binary_crossentropy',\n",
        "              optimizer= optimizers.RMSprop(lr= 1e-4),\n",
        "              metrics = ['acc'])"
      ],
      "execution_count": 0,
      "outputs": [
        {
          "output_type": "stream",
          "text": [
            "WARNING:tensorflow:From /usr/local/lib/python3.6/dist-packages/keras/backend/tensorflow_backend.py:66: The name tf.get_default_graph is deprecated. Please use tf.compat.v1.get_default_graph instead.\n",
            "\n",
            "WARNING:tensorflow:From /usr/local/lib/python3.6/dist-packages/keras/backend/tensorflow_backend.py:541: The name tf.placeholder is deprecated. Please use tf.compat.v1.placeholder instead.\n",
            "\n",
            "WARNING:tensorflow:From /usr/local/lib/python3.6/dist-packages/keras/backend/tensorflow_backend.py:4432: The name tf.random_uniform is deprecated. Please use tf.random.uniform instead.\n",
            "\n",
            "WARNING:tensorflow:From /usr/local/lib/python3.6/dist-packages/keras/backend/tensorflow_backend.py:190: The name tf.get_default_session is deprecated. Please use tf.compat.v1.get_default_session instead.\n",
            "\n",
            "WARNING:tensorflow:From /usr/local/lib/python3.6/dist-packages/keras/backend/tensorflow_backend.py:197: The name tf.ConfigProto is deprecated. Please use tf.compat.v1.ConfigProto instead.\n",
            "\n",
            "(?, 64, 20, 160)\n",
            "WARNING:tensorflow:From /usr/local/lib/python3.6/dist-packages/keras/backend/tensorflow_backend.py:4267: The name tf.nn.max_pool is deprecated. Please use tf.nn.max_pool2d instead.\n",
            "\n",
            "(?, 32, 10, 160)\n",
            "(?, 30, 8, 128)\n",
            "(?, 15, 4, 128)\n",
            "(?, 13, 2, 256)\n",
            "(?, 6, 1, 256)\n",
            "(?, 64, 20, 160)\n",
            "(?, 32, 10, 160)\n",
            "(?, 30, 8, 128)\n",
            "(?, 15, 4, 128)\n",
            "(?, 13, 2, 256)\n",
            "(?, 6, 1, 256)\n",
            "WARNING:tensorflow:From /usr/local/lib/python3.6/dist-packages/keras/backend/tensorflow_backend.py:3733: calling dropout (from tensorflow.python.ops.nn_ops) with keep_prob is deprecated and will be removed in a future version.\n",
            "Instructions for updating:\n",
            "Please use `rate` instead of `keep_prob`. Rate should be set to `rate = 1 - keep_prob`.\n",
            "WARNING:tensorflow:From /usr/local/lib/python3.6/dist-packages/keras/optimizers.py:793: The name tf.train.Optimizer is deprecated. Please use tf.compat.v1.train.Optimizer instead.\n",
            "\n",
            "WARNING:tensorflow:From /usr/local/lib/python3.6/dist-packages/tensorflow/python/ops/nn_impl.py:180: add_dispatch_support.<locals>.wrapper (from tensorflow.python.ops.array_ops) is deprecated and will be removed in a future version.\n",
            "Instructions for updating:\n",
            "Use tf.where in 2.0, which has the same broadcast rule as np.where\n"
          ],
          "name": "stdout"
        }
      ]
    },
    {
      "cell_type": "code",
      "metadata": {
        "colab_type": "code",
        "id": "Cr1zrBTKmTTm",
        "outputId": "06aea79b-46e5-446d-a193-5f2b3cf1883b",
        "colab": {
          "base_uri": "https://localhost:8080/",
          "height": 730
        }
      },
      "source": [
        "history = newModel.fit(\n",
        "        [x_train_1, x_train_2],\n",
        "        y_train,\n",
        "        epochs = 20,\n",
        "        batch_size = 20,\n",
        "        validation_data = ([x_validation_1, x_validation_2], y_valid)\n",
        ")"
      ],
      "execution_count": 0,
      "outputs": [
        {
          "output_type": "stream",
          "text": [
            "Train on 149573 samples, validate on 37393 samples\n",
            "Epoch 1/20\n",
            "149573/149573 [==============================] - 238s 2ms/step - loss: 0.2932 - acc: 0.9182 - val_loss: 0.2884 - val_acc: 0.9178\n",
            "Epoch 2/20\n",
            "149573/149573 [==============================] - 231s 2ms/step - loss: 0.2948 - acc: 0.9183 - val_loss: 0.2852 - val_acc: 0.9178\n",
            "Epoch 3/20\n",
            "149573/149573 [==============================] - 218s 1ms/step - loss: 0.2802 - acc: 0.9192 - val_loss: 0.2282 - val_acc: 0.9242\n",
            "Epoch 4/20\n",
            "149573/149573 [==============================] - 230s 2ms/step - loss: 0.1658 - acc: 0.9332 - val_loss: 0.1498 - val_acc: 0.9305\n",
            "Epoch 5/20\n",
            "149573/149573 [==============================] - 232s 2ms/step - loss: 0.1542 - acc: 0.9353 - val_loss: 0.1533 - val_acc: 0.9351\n",
            "Epoch 6/20\n",
            "149573/149573 [==============================] - 223s 1ms/step - loss: 0.1465 - acc: 0.9378 - val_loss: 0.1450 - val_acc: 0.9400\n",
            "Epoch 7/20\n",
            "149573/149573 [==============================] - 236s 2ms/step - loss: 0.1322 - acc: 0.9422 - val_loss: 0.2220 - val_acc: 0.9196\n",
            "Epoch 8/20\n",
            "149573/149573 [==============================] - 231s 2ms/step - loss: 0.1055 - acc: 0.9519 - val_loss: 0.1309 - val_acc: 0.9495\n",
            "Epoch 9/20\n",
            "149573/149573 [==============================] - 228s 2ms/step - loss: 0.0831 - acc: 0.9640 - val_loss: 0.1761 - val_acc: 0.9428\n",
            "Epoch 10/20\n",
            "149573/149573 [==============================] - 227s 2ms/step - loss: 0.0538 - acc: 0.9798 - val_loss: 0.0963 - val_acc: 0.9686\n",
            "Epoch 11/20\n",
            "149573/149573 [==============================] - 226s 2ms/step - loss: 0.0306 - acc: 0.9910 - val_loss: 0.1396 - val_acc: 0.9677\n",
            "Epoch 12/20\n",
            "149573/149573 [==============================] - 225s 2ms/step - loss: 0.0214 - acc: 0.9947 - val_loss: 0.1327 - val_acc: 0.9693\n",
            "Epoch 13/20\n",
            "149573/149573 [==============================] - 224s 1ms/step - loss: 0.0173 - acc: 0.9963 - val_loss: 0.1984 - val_acc: 0.9685\n",
            "Epoch 14/20\n",
            "149573/149573 [==============================] - 229s 2ms/step - loss: 0.0139 - acc: 0.9972 - val_loss: 0.1833 - val_acc: 0.9710\n",
            "Epoch 15/20\n",
            "149573/149573 [==============================] - 234s 2ms/step - loss: 0.0119 - acc: 0.9977 - val_loss: 0.2041 - val_acc: 0.9690\n",
            "Epoch 16/20\n",
            "149573/149573 [==============================] - 232s 2ms/step - loss: 0.0113 - acc: 0.9979 - val_loss: 0.5996 - val_acc: 0.9353\n",
            "Epoch 17/20\n",
            "149573/149573 [==============================] - 234s 2ms/step - loss: 0.0111 - acc: 0.9980 - val_loss: 0.2641 - val_acc: 0.9663\n",
            "Epoch 18/20\n",
            "149573/149573 [==============================] - 241s 2ms/step - loss: 0.0101 - acc: 0.9983 - val_loss: 0.2612 - val_acc: 0.9654\n",
            "Epoch 19/20\n",
            "149573/149573 [==============================] - 233s 2ms/step - loss: 0.0087 - acc: 0.9985 - val_loss: 0.2104 - val_acc: 0.9725\n",
            "Epoch 20/20\n",
            "149573/149573 [==============================] - 229s 2ms/step - loss: 0.0088 - acc: 0.9985 - val_loss: 0.3308 - val_acc: 0.9593\n"
          ],
          "name": "stdout"
        }
      ]
    },
    {
      "cell_type": "code",
      "metadata": {
        "colab_type": "code",
        "id": "2ScdsPd5mVoE",
        "outputId": "e0ed4a95-8045-438f-d1b8-044ae0d7738e",
        "colab": {
          "base_uri": "https://localhost:8080/",
          "height": 51
        }
      },
      "source": [
        "newModel.evaluate([input1_test_2, input2_test_2], test_label)\n"
      ],
      "execution_count": 0,
      "outputs": [
        {
          "output_type": "stream",
          "text": [
            "37128/37128 [==============================] - 17s 459us/step\n"
          ],
          "name": "stdout"
        },
        {
          "output_type": "execute_result",
          "data": {
            "text/plain": [
              "[1.3020804386466047, 0.828566041801336]"
            ]
          },
          "metadata": {
            "tags": []
          },
          "execution_count": 30
        }
      ]
    },
    {
      "cell_type": "code",
      "metadata": {
        "colab_type": "code",
        "id": "-lp82WjfmgP2",
        "outputId": "23963299-ba7a-4d98-8636-61ed16cd0a5b",
        "colab": {
          "base_uri": "https://localhost:8080/",
          "height": 295
        }
      },
      "source": [
        "import matplotlib.pyplot as plt\n",
        "\n",
        "history_dict = history.history \n",
        "loss_values = history_dict ['loss'] \n",
        "val_loss_values = history_dict['val_loss']\n",
        "epochs = range(1, len(loss_values) + 1)\n",
        "\n",
        "plt.plot(epochs, loss_values, 'bo', label='Training loss') \n",
        "plt.plot(epochs, val_loss_values, 'b', label='Validation loss') \n",
        "plt.title('Training and validation loss') \n",
        "plt.xlabel('Epochs') \n",
        "plt.ylabel('Loss') \n",
        "plt.legend()\n",
        "plt.show()"
      ],
      "execution_count": 0,
      "outputs": [
        {
          "output_type": "display_data",
          "data": {
            "image/png": "[encoded data removed]",
            "text/plain": [
              "<Figure size 432x288 with 1 Axes>"
            ]
          },
          "metadata": {
            "tags": []
          }
        }
      ]
    },
    {
      "cell_type": "code",
      "metadata": {
        "colab_type": "code",
        "id": "-yHvQ8UzmhDE",
        "outputId": "922227ff-51c3-4928-eb0b-6210b8e7e58b",
        "colab": {
          "base_uri": "https://localhost:8080/",
          "height": 295
        }
      },
      "source": [
        "history_dict = history.history \n",
        "acc_values = history_dict ['acc'] \n",
        "val_acc_values = history_dict['val_acc']\n",
        "\n",
        "plt.plot(epochs, acc_values, 'bo', label='Training acc') \n",
        "plt.plot(epochs, val_acc_values, 'b', label='Validation acc') \n",
        "plt.title('Training and validation acc') \n",
        "plt.xlabel('Epochs') \n",
        "plt.ylabel('acc') \n",
        "plt.legend()\n",
        "plt.show()"
      ],
      "execution_count": 0,
      "outputs": [
        {
          "output_type": "display_data",
          "data": {
            "image/png": "[encoded data removed]",
            "text/plain": [
              "<Figure size 432x288 with 1 Axes>"
            ]
          },
          "metadata": {
            "tags": []
          }
        }
      ]
    },
    {
      "cell_type": "code",
      "metadata": {
        "id": "Pv2wh4tsOupa",
        "colab_type": "code",
        "colab": {}
      },
      "source": [
        ""
      ],
      "execution_count": 0,
      "outputs": []
    }
  ]
}