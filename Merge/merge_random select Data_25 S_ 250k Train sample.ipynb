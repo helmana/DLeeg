{
  "nbformat": 4,
  "nbformat_minor": 0,
  "metadata": {
    "colab": {
      "name": "Untitled57.ipynb",
      "provenance": [],
      "collapsed_sections": [],
      "machine_shape": "hm",
      "include_colab_link": true
    },
    "kernelspec": {
      "name": "python3",
      "display_name": "Python 3"
    },
    "accelerator": "GPU"
  },
  "cells": [
    {
      "cell_type": "markdown",
      "metadata": {
        "id": "view-in-github",
        "colab_type": "text"
      },
      "source": [
        "<a href=\"https://colab.research.google.com/github/helmana/DLeeg/blob/master/Merge/merge_random%20select%20Data_25%20S_%20250k%20Train%20sample.ipynb\" target=\"_parent\"><img src=\"https://colab.research.google.com/assets/colab-badge.svg\" alt=\"Open In Colab\"/></a>"
      ]
    },
    {
      "cell_type": "code",
      "metadata": {
        "id": "ecjV_UoMoCP9",
        "colab_type": "code",
        "colab": {}
      },
      "source": [
        "  '''\n",
        "  model: 3 Dense layer after Concatenate\n",
        "  \n",
        "Train_Data_number = 250000\n",
        "Test_Data_number = 50000\n",
        "subject_number=25 (20+5)\n",
        "\n",
        "test 1 - loss, acc :[0.2430, 0.93166]\n",
        "test 2 - loss, acc :[4.3289, 0.59517]\n",
        "test 3 - loss, acc :[1.2540, 0.75434]\n",
        "test 4 - loss, acc :[8.0151, 0.5]\n",
        "  \n",
        "  '''"
      ],
      "execution_count": 0,
      "outputs": []
    },
    {
      "cell_type": "code",
      "metadata": {
        "id": "1FqAv2Or0wZ_",
        "colab_type": "code",
        "outputId": "7dc7d0fd-619c-4c6e-ef16-1cbe550a2f34",
        "colab": {
          "base_uri": "https://localhost:8080/",
          "height": 67
        }
      },
      "source": [
        "! pip install mne"
      ],
      "execution_count": 44,
      "outputs": [
        {
          "output_type": "stream",
          "text": [
            "Requirement already satisfied: mne in /usr/local/lib/python3.6/dist-packages (0.19.0)\n",
            "Requirement already satisfied: numpy>=1.11.3 in /usr/local/lib/python3.6/dist-packages (from mne) (1.16.5)\n",
            "Requirement already satisfied: scipy>=0.17.1 in /usr/local/lib/python3.6/dist-packages (from mne) (1.3.1)\n"
          ],
          "name": "stdout"
        }
      ]
    },
    {
      "cell_type": "code",
      "metadata": {
        "id": "ZvE48Je0_fdz",
        "colab_type": "code",
        "outputId": "2d02867a-9c4e-4938-c6c0-1b77a9433775",
        "colab": {
          "base_uri": "https://localhost:8080/",
          "height": 34
        }
      },
      "source": [
        "\n",
        "import matplotlib\n",
        "\n",
        "from matplotlib import pyplot as plt\n",
        "import numpy as np\n",
        "\n",
        "import math\n",
        "\n",
        "import keras\n",
        "from keras.utils import to_categorical\n",
        "\n",
        "import random\n",
        "import mne\n",
        "from mne.preprocessing import create_ecg_epochs, create_eog_epochs\n",
        "from mne import io\n",
        "from mne import viz\n",
        "#from mne.datasets import testing\n",
        "from mne import Epochs, io, pick_types\n",
        "from mne.event import define_target_events\n",
        "from mne.time_frequency import psd_welch\n",
        "print(__doc__)"
      ],
      "execution_count": 45,
      "outputs": [
        {
          "output_type": "stream",
          "text": [
            "Automatically created module for IPython interactive environment\n"
          ],
          "name": "stdout"
        }
      ]
    },
    {
      "cell_type": "code",
      "metadata": {
        "id": "nGyXA7wppk-x",
        "colab_type": "code",
        "colab": {}
      },
      "source": [
        ""
      ],
      "execution_count": 0,
      "outputs": []
    },
    {
      "cell_type": "code",
      "metadata": {
        "id": "UBEu0-3X_jWT",
        "colab_type": "code",
        "outputId": "62c6666d-f350-49e2-84b4-3874b1e85486",
        "colab": {
          "base_uri": "https://localhost:8080/",
          "height": 34
        }
      },
      "source": [
        "\n",
        "\n",
        "Train_Data_number = 250000\n",
        "Test_Data_number = 50000\n",
        "\n",
        "\n",
        "\n",
        "subject_number=25\n",
        "\n",
        "new_subject_number = subject_number//5 # \n",
        "#index_new_subject = 0\n",
        "\n",
        "train_subject_number = subject_number - new_subject_number\n",
        "new_subject_start_index = train_subject_number\n",
        "task_index = [1] # task: REO\n",
        "task_number = len(task_index)\n",
        "\n",
        "# channels \n",
        "list_channel = [60]\n",
        "ch_number = len(list_channel)\n",
        "\n",
        "task_time = 60\n",
        "\n",
        "sampel_number_per_sec = 160 # sampel rate\n",
        "total_sampel_number =  sampel_number_per_sec *task_time # 60*160\n",
        "\n",
        "inner_sample_shift = 5 # inner step len\n",
        "outer_sample_shift = 5 # outer step len\n",
        "window_len= 20\n",
        "\n",
        "new_subject_start_index"
      ],
      "execution_count": 75,
      "outputs": [
        {
          "output_type": "execute_result",
          "data": {
            "text/plain": [
              "20"
            ]
          },
          "metadata": {
            "tags": []
          },
          "execution_count": 75
        }
      ]
    },
    {
      "cell_type": "code",
      "metadata": {
        "id": "ZcZV2EPKEe3P",
        "colab_type": "code",
        "outputId": "72ab64a0-d35b-4aca-e5b7-dd0c6abd7e10",
        "colab": {
          "base_uri": "https://localhost:8080/",
          "height": 1000
        }
      },
      "source": [
        "# load dataset in array\n",
        "list_raw_fnames = [[0]*task_number]*subject_number\n",
        "for x in range(subject_number):\n",
        "    list_raw_fnames[x] = mne.datasets.eegbci.load_data(x+1,task_index)\n",
        "\n",
        "list_rawdata = np.zeros((subject_number,task_number), dtype='object')\n",
        "\n",
        "for i in range(subject_number):\n",
        "    for j in range(task_number):\n",
        "        list_rawdata[i][j] = mne.io.read_raw_edf(list_raw_fnames[i][j], preload=True)"
      ],
      "execution_count": 76,
      "outputs": [
        {
          "output_type": "stream",
          "text": [
            "Downloading http://www.physionet.org/physiobank/database/eegmmidb/S013/S013R01.edf (1.2 MB)\n",
            "[........................................] 100.00% (  1.2 MB,   1.2 MB/s) \\\n",
            "Downloading http://www.physionet.org/physiobank/database/eegmmidb/S014/S014R01.edf (1.2 MB)\n",
            "[........................................] 100.00% (  1.2 MB,   1.1 MB/s) \\\n",
            "Downloading http://www.physionet.org/physiobank/database/eegmmidb/S015/S015R01.edf (1.2 MB)\n",
            "[........................................] 100.00% (  1.2 MB,   1.1 MB/s) \\\n",
            "Downloading http://www.physionet.org/physiobank/database/eegmmidb/S016/S016R01.edf (1.2 MB)\n",
            "[........................................] 100.00% (  1.2 MB,   1.1 MB/s) \\\n",
            "Downloading http://www.physionet.org/physiobank/database/eegmmidb/S017/S017R01.edf (1.2 MB)\n",
            "[........................................] 100.00% (  1.2 MB,   1.1 MB/s) -\n",
            "Downloading http://www.physionet.org/physiobank/database/eegmmidb/S018/S018R01.edf (1.2 MB)\n",
            "[........................................] 100.00% (  1.2 MB,   1.0 MB/s) \\\n",
            "Downloading http://www.physionet.org/physiobank/database/eegmmidb/S019/S019R01.edf (1.2 MB)\n",
            "[........................................] 100.00% (  1.2 MB,   1.1 MB/s) -\n",
            "Downloading http://www.physionet.org/physiobank/database/eegmmidb/S020/S020R01.edf (1.2 MB)\n",
            "[........................................] 100.00% (  1.2 MB,   1.1 MB/s) /\n",
            "Downloading http://www.physionet.org/physiobank/database/eegmmidb/S021/S021R01.edf (1.2 MB)\n",
            "[........................................] 100.00% (  1.2 MB,   1.0 MB/s) \\\n",
            "Downloading http://www.physionet.org/physiobank/database/eegmmidb/S022/S022R01.edf (1.2 MB)\n",
            "[........................................] 100.00% (  1.2 MB,   1.1 MB/s) |\n",
            "Downloading http://www.physionet.org/physiobank/database/eegmmidb/S023/S023R01.edf (1.2 MB)\n",
            "[........................................] 100.00% (  1.2 MB,   1.1 MB/s) \\\n",
            "Downloading http://www.physionet.org/physiobank/database/eegmmidb/S024/S024R01.edf (1.2 MB)\n",
            "[........................................] 100.00% (  1.2 MB,   1.1 MB/s) \\\n",
            "Downloading http://www.physionet.org/physiobank/database/eegmmidb/S025/S025R01.edf (1.2 MB)\n",
            "[........................................] 100.00% (  1.2 MB,   1.0 MB/s) /\n",
            "Extracting EDF parameters from /root/mne_data/MNE-eegbci-data/physiobank/database/eegmmidb/S001/S001R01.edf...\n",
            "EDF file detected\n",
            "Setting channel info structure...\n",
            "Creating raw.info structure...\n",
            "Reading 0 ... 9759  =      0.000 ...    60.994 secs...\n",
            "Extracting EDF parameters from /root/mne_data/MNE-eegbci-data/physiobank/database/eegmmidb/S002/S002R01.edf...\n",
            "EDF file detected\n",
            "Setting channel info structure...\n",
            "Creating raw.info structure...\n",
            "Reading 0 ... 9759  =      0.000 ...    60.994 secs...\n",
            "Extracting EDF parameters from /root/mne_data/MNE-eegbci-data/physiobank/database/eegmmidb/S003/S003R01.edf...\n",
            "EDF file detected\n",
            "Setting channel info structure...\n",
            "Creating raw.info structure...\n",
            "Reading 0 ... 9759  =      0.000 ...    60.994 secs...\n",
            "Extracting EDF parameters from /root/mne_data/MNE-eegbci-data/physiobank/database/eegmmidb/S004/S004R01.edf...\n",
            "EDF file detected\n",
            "Setting channel info structure...\n",
            "Creating raw.info structure...\n",
            "Reading 0 ... 9759  =      0.000 ...    60.994 secs...\n",
            "Extracting EDF parameters from /root/mne_data/MNE-eegbci-data/physiobank/database/eegmmidb/S005/S005R01.edf...\n",
            "EDF file detected\n",
            "Setting channel info structure...\n",
            "Creating raw.info structure...\n",
            "Reading 0 ... 9759  =      0.000 ...    60.994 secs...\n",
            "Extracting EDF parameters from /root/mne_data/MNE-eegbci-data/physiobank/database/eegmmidb/S006/S006R01.edf...\n",
            "EDF file detected\n",
            "Setting channel info structure...\n",
            "Creating raw.info structure...\n",
            "Reading 0 ... 9759  =      0.000 ...    60.994 secs...\n",
            "Extracting EDF parameters from /root/mne_data/MNE-eegbci-data/physiobank/database/eegmmidb/S007/S007R01.edf...\n",
            "EDF file detected\n",
            "Setting channel info structure...\n",
            "Creating raw.info structure...\n",
            "Reading 0 ... 9759  =      0.000 ...    60.994 secs...\n",
            "Extracting EDF parameters from /root/mne_data/MNE-eegbci-data/physiobank/database/eegmmidb/S008/S008R01.edf...\n",
            "EDF file detected\n",
            "Setting channel info structure...\n",
            "Creating raw.info structure...\n",
            "Reading 0 ... 9759  =      0.000 ...    60.994 secs...\n",
            "Extracting EDF parameters from /root/mne_data/MNE-eegbci-data/physiobank/database/eegmmidb/S009/S009R01.edf...\n",
            "EDF file detected\n",
            "Setting channel info structure...\n",
            "Creating raw.info structure...\n",
            "Reading 0 ... 9759  =      0.000 ...    60.994 secs...\n",
            "Extracting EDF parameters from /root/mne_data/MNE-eegbci-data/physiobank/database/eegmmidb/S010/S010R01.edf...\n",
            "EDF file detected\n",
            "Setting channel info structure...\n",
            "Creating raw.info structure...\n",
            "Reading 0 ... 9759  =      0.000 ...    60.994 secs...\n",
            "Extracting EDF parameters from /root/mne_data/MNE-eegbci-data/physiobank/database/eegmmidb/S011/S011R01.edf...\n",
            "EDF file detected\n",
            "Setting channel info structure...\n",
            "Creating raw.info structure...\n",
            "Reading 0 ... 9759  =      0.000 ...    60.994 secs...\n",
            "Extracting EDF parameters from /root/mne_data/MNE-eegbci-data/physiobank/database/eegmmidb/S012/S012R01.edf...\n",
            "EDF file detected\n",
            "Setting channel info structure...\n",
            "Creating raw.info structure...\n",
            "Reading 0 ... 9759  =      0.000 ...    60.994 secs...\n",
            "Extracting EDF parameters from /root/mne_data/MNE-eegbci-data/physiobank/database/eegmmidb/S013/S013R01.edf...\n",
            "EDF file detected\n",
            "Setting channel info structure...\n",
            "Creating raw.info structure...\n",
            "Reading 0 ... 9759  =      0.000 ...    60.994 secs...\n",
            "Extracting EDF parameters from /root/mne_data/MNE-eegbci-data/physiobank/database/eegmmidb/S014/S014R01.edf...\n",
            "EDF file detected\n",
            "Setting channel info structure...\n",
            "Creating raw.info structure...\n",
            "Reading 0 ... 9599  =      0.000 ...    59.994 secs...\n",
            "Extracting EDF parameters from /root/mne_data/MNE-eegbci-data/physiobank/database/eegmmidb/S015/S015R01.edf...\n",
            "EDF file detected\n",
            "Setting channel info structure...\n",
            "Creating raw.info structure...\n",
            "Reading 0 ... 9759  =      0.000 ...    60.994 secs...\n",
            "Extracting EDF parameters from /root/mne_data/MNE-eegbci-data/physiobank/database/eegmmidb/S016/S016R01.edf...\n",
            "EDF file detected\n",
            "Setting channel info structure...\n",
            "Creating raw.info structure...\n",
            "Reading 0 ... 9759  =      0.000 ...    60.994 secs...\n",
            "Extracting EDF parameters from /root/mne_data/MNE-eegbci-data/physiobank/database/eegmmidb/S017/S017R01.edf...\n",
            "EDF file detected\n",
            "Setting channel info structure...\n",
            "Creating raw.info structure...\n",
            "Reading 0 ... 9759  =      0.000 ...    60.994 secs...\n",
            "Extracting EDF parameters from /root/mne_data/MNE-eegbci-data/physiobank/database/eegmmidb/S018/S018R01.edf...\n",
            "EDF file detected\n",
            "Setting channel info structure...\n",
            "Creating raw.info structure...\n",
            "Reading 0 ... 9759  =      0.000 ...    60.994 secs...\n",
            "Extracting EDF parameters from /root/mne_data/MNE-eegbci-data/physiobank/database/eegmmidb/S019/S019R01.edf...\n",
            "EDF file detected\n",
            "Setting channel info structure...\n",
            "Creating raw.info structure...\n",
            "Reading 0 ... 9759  =      0.000 ...    60.994 secs...\n",
            "Extracting EDF parameters from /root/mne_data/MNE-eegbci-data/physiobank/database/eegmmidb/S020/S020R01.edf...\n",
            "EDF file detected\n",
            "Setting channel info structure...\n",
            "Creating raw.info structure...\n",
            "Reading 0 ... 9759  =      0.000 ...    60.994 secs...\n",
            "Extracting EDF parameters from /root/mne_data/MNE-eegbci-data/physiobank/database/eegmmidb/S021/S021R01.edf...\n",
            "EDF file detected\n",
            "Setting channel info structure...\n",
            "Creating raw.info structure...\n",
            "Reading 0 ... 9759  =      0.000 ...    60.994 secs...\n",
            "Extracting EDF parameters from /root/mne_data/MNE-eegbci-data/physiobank/database/eegmmidb/S022/S022R01.edf...\n",
            "EDF file detected\n",
            "Setting channel info structure...\n",
            "Creating raw.info structure...\n",
            "Reading 0 ... 9759  =      0.000 ...    60.994 secs...\n",
            "Extracting EDF parameters from /root/mne_data/MNE-eegbci-data/physiobank/database/eegmmidb/S023/S023R01.edf...\n",
            "EDF file detected\n",
            "Setting channel info structure...\n",
            "Creating raw.info structure...\n",
            "Reading 0 ... 9759  =      0.000 ...    60.994 secs...\n",
            "Extracting EDF parameters from /root/mne_data/MNE-eegbci-data/physiobank/database/eegmmidb/S024/S024R01.edf...\n",
            "EDF file detected\n",
            "Setting channel info structure...\n",
            "Creating raw.info structure...\n",
            "Reading 0 ... 9759  =      0.000 ...    60.994 secs...\n",
            "Extracting EDF parameters from /root/mne_data/MNE-eegbci-data/physiobank/database/eegmmidb/S025/S025R01.edf...\n",
            "EDF file detected\n",
            "Setting channel info structure...\n",
            "Creating raw.info structure...\n",
            "Reading 0 ... 9759  =      0.000 ...    60.994 secs...\n"
          ],
          "name": "stdout"
        }
      ]
    },
    {
      "cell_type": "code",
      "metadata": {
        "id": "n8UR6JrrP3Zf",
        "colab_type": "code",
        "outputId": "daa6df36-93c0-4653-deeb-2d514377c439",
        "colab": {
          "base_uri": "https://localhost:8080/",
          "height": 34
        }
      },
      "source": [
        "subject_img_number = math.floor((total_sampel_number - sampel_number_per_sec - (window_len-1 )*inner_sample_shift) / outer_sample_shift) +1\n",
        "\n",
        "test_img_number = math.floor(subject_img_number * 0.15)\n",
        "test_img_start_index=subject_img_number - test_img_number\n",
        "train_img_number =  test_img_start_index \n",
        "\n",
        "test_img_start_index\n"
      ],
      "execution_count": 77,
      "outputs": [
        {
          "output_type": "execute_result",
          "data": {
            "text/plain": [
              "1590"
            ]
          },
          "metadata": {
            "tags": []
          },
          "execution_count": 77
        }
      ]
    },
    {
      "cell_type": "code",
      "metadata": {
        "id": "3sbZYspIp9J5",
        "colab_type": "code",
        "colab": {}
      },
      "source": [
        "\n",
        "def normalize_channel_data(ch , i, ch_min, ch_max):\n",
        "    ch = ((ch - ch_min[i]) / (ch_max[i] - ch_min[i] ))\n",
        "    return ch"
      ],
      "execution_count": 0,
      "outputs": []
    },
    {
      "cell_type": "code",
      "metadata": {
        "id": "MA054T3KAZ7J",
        "colab_type": "code",
        "outputId": "a9fc47b1-5d6e-4c69-a5af-3ac1febf0dbb",
        "colab": {
          "base_uri": "https://localhost:8080/",
          "height": 71
        }
      },
      "source": [
        "# All data\n",
        "DataChannelsRaw = np.zeros((subject_number, ch_number,total_sampel_number), dtype = float)\n",
        "\n",
        "for i in range(train_subject_number):\n",
        "  for  j in range(ch_number):\n",
        "    DataChannelsRaw[i][j], times =list_rawdata[i][0][list_channel[j],:total_sampel_number]\n",
        "DataChannelsRaw_t = DataChannelsRaw.copy()\n",
        "\n",
        "#normal all data\n",
        "for i in range(subject_number):\n",
        "  ch_max =[]\n",
        "  ch_min =[]\n",
        "  for  j in range(ch_number):    \n",
        "    ch_max = np.append(ch_max, max(DataChannelsRaw_t[i][j])) # max for each cannel\n",
        "    ch_min = np.append(ch_min, min(DataChannelsRaw_t[i][j])) # min for each cannel\n",
        "    \n",
        "    # Normalize Channels\n",
        "    DataChannelsRaw_t[i][j]=normalize_channel_data(DataChannelsRaw_t[i][j], j, ch_min, ch_max)\n",
        "    \n"
      ],
      "execution_count": 79,
      "outputs": [
        {
          "output_type": "stream",
          "text": [
            "/usr/local/lib/python3.6/dist-packages/ipykernel_launcher.py:3: RuntimeWarning: invalid value encountered in true_divide\n",
            "  This is separate from the ipykernel package so we can avoid doing imports until\n"
          ],
          "name": "stderr"
        }
      ]
    },
    {
      "cell_type": "code",
      "metadata": {
        "id": "GBMeE64EfjWC",
        "colab_type": "code",
        "outputId": "6f0c6c1f-662c-4863-afc3-3515305be627",
        "colab": {
          "base_uri": "https://localhost:8080/",
          "height": 34
        }
      },
      "source": [
        "DataChannelsRaw_t.shape"
      ],
      "execution_count": 80,
      "outputs": [
        {
          "output_type": "execute_result",
          "data": {
            "text/plain": [
              "(25, 1, 9600)"
            ]
          },
          "metadata": {
            "tags": []
          },
          "execution_count": 80
        }
      ]
    },
    {
      "cell_type": "code",
      "metadata": {
        "id": "OLDJuFX34NMe",
        "colab_type": "code",
        "colab": {}
      },
      "source": [
        "def Extract_Data(rand_subject, rand_sample):\n",
        "\n",
        "  Rand_Data =  np.zeros((ch_number, window_len, sampel_number_per_sec), dtype = float)\n",
        "  for i in range(ch_number):\n",
        "    for z in range (window_len):\n",
        "      ExtractedData = DataChannelsRaw_t[rand_subject][i, rand_sample + z*inner_sample_shift: sampel_number_per_sec + rand_sample + z*inner_sample_shift] \n",
        "      Rand_Data[i][z] = ExtractedData\n",
        "      \n",
        "  return Rand_Data"
      ],
      "execution_count": 0,
      "outputs": []
    },
    {
      "cell_type": "code",
      "metadata": {
        "id": "cuaFxl6ucfXJ",
        "colab_type": "code",
        "colab": {}
      },
      "source": [
        "def Fill_input_array(Data_number, first_index_subjectA, last_index_subjectA, first_index_sampleA, last_index_sampleA,   first_index_subjectB, last_index_subjectB, first_index_sampleB, last_index_sampleB):\n",
        "  loop_counter = int(Data_number/2)\n",
        "  \n",
        "  input1 = np.zeros((Data_number, ch_number, window_len , sampel_number_per_sec), dtype = float)\n",
        "  input2 = np.zeros((Data_number, ch_number, window_len, sampel_number_per_sec), dtype = float)\n",
        "  input_label=[]\n",
        "  \n",
        "  for r in range(loop_counter):\n",
        "    # select random subject and sample A\n",
        "    rand_subjectA = random.randint(first_index_subjectA, last_index_subjectA)\n",
        "    rand_sample1_A= random.randint(first_index_sampleA, last_index_sampleA) * outer_sample_shift\n",
        "    rand_sample2_A= random.randint(first_index_sampleA, last_index_sampleA) * outer_sample_shift\n",
        "\n",
        "    # 1: Select random data from subjectA \n",
        "    rand_Data1_subjectA = Extract_Data(rand_subjectA, rand_sample1_A)\n",
        "    input1[r*2:r*2+2] = rand_Data1_subjectA\n",
        "\n",
        "    # 2: Select random data from subjectA \n",
        "    rand_Data2_subjectA = Extract_Data(rand_subjectA, rand_sample2_A)\n",
        "    input2[r*2] = rand_Data2_subjectA\n",
        "\n",
        "    #set label 1\n",
        "    input_label = np.append(input_label, 1) \n",
        "\n",
        "\n",
        "\n",
        "    # select random subject and sample B\n",
        "    rand_sampleB= random.randint(first_index_sampleB, last_index_sampleB) * outer_sample_shift\n",
        "    rand_subjectB = random.randint(first_index_subjectB, last_index_subjectB)\n",
        "    # A != B\n",
        "    while rand_subjectA == rand_subjectB:\n",
        "      rand_subjectB = random.randint(first_index_subjectB, last_index_subjectB)\n",
        "\n",
        "    # Select random data from subjectB\n",
        "    rand_Data_subjectB = Extract_Data(rand_subjectB, rand_sampleB)\n",
        "    input2[r*2+1] = rand_Data_subjectB\n",
        "\n",
        "    #set label 0\n",
        "    input_label = np.append(input_label, 0)\n",
        "    \n",
        "  return input1, input2, input_label\n"
      ],
      "execution_count": 0,
      "outputs": []
    },
    {
      "cell_type": "code",
      "metadata": {
        "id": "9dT3ANO1gsS0",
        "colab_type": "code",
        "colab": {
          "base_uri": "https://localhost:8080/",
          "height": 135
        },
        "outputId": "cf0b3669-0fe2-426d-bc26-76b44a25b004"
      },
      "source": [
        "# **create Train Data \n",
        "\n",
        "Train_input1, Train_input2, train_label = Fill_input_array(Train_Data_number, 0, train_subject_number-1, 0, train_img_number-1, 0, train_subject_number-1, 0, train_img_number-1)\n",
        "\n",
        "train_label = to_categorical(train_label, 2)\n",
        "train_label\n"
      ],
      "execution_count": 83,
      "outputs": [
        {
          "output_type": "execute_result",
          "data": {
            "text/plain": [
              "array([[0., 1.],\n",
              "       [1., 0.],\n",
              "       [0., 1.],\n",
              "       ...,\n",
              "       [1., 0.],\n",
              "       [0., 1.],\n",
              "       [1., 0.]], dtype=float32)"
            ]
          },
          "metadata": {
            "tags": []
          },
          "execution_count": 83
        }
      ]
    },
    {
      "cell_type": "code",
      "metadata": {
        "id": "WGZ4G1VzdSTd",
        "colab_type": "code",
        "colab": {}
      },
      "source": [
        "validation_index = math.floor( Train_Data_number * 0.2)\n",
        "\n",
        "\n",
        "# validation & train\n",
        "\n",
        "#train\n",
        "x_train_1 =Train_input1[validation_index:]\n",
        "x_train_2 =Train_input2[validation_index:]\n",
        "\n",
        "y_train =train_label[validation_index:]\n",
        "\n",
        "#validation\n",
        "x_validation_1 =Train_input1[:validation_index]\n",
        "x_validation_2 =Train_input2[:validation_index] \n",
        "\n",
        "y_valid =train_label[:validation_index]\n",
        "\n",
        "#x_valid.shape"
      ],
      "execution_count": 0,
      "outputs": []
    },
    {
      "cell_type": "code",
      "metadata": {
        "id": "cKAlqekGd97l",
        "colab_type": "code",
        "colab": {}
      },
      "source": [
        "\n",
        "from keras import layers\n",
        "from keras import models\n",
        "from keras import regularizers\n",
        "#from keras.layers import Dense, Merge\n",
        "from keras.layers import *\n",
        "from keras.models import Model\n",
        "\n",
        "\n",
        "cnn1 = models.Sequential()\n",
        "cnn1.add(layers.Conv2D(64, (3,3), activation = 'relu', padding='same', input_shape = (ch_number,window_len,sampel_number_per_sec), data_format= \"channels_first\" ))\n",
        "print(cnn1.output.shape)\n",
        "cnn1.add(layers.MaxPooling2D((2,2)))\n",
        "print(cnn1.output.shape)\n",
        "cnn1.add(layers.Conv2D(128, (3,3), activation = 'relu'))\n",
        "print(cnn1.output.shape)\n",
        "cnn1.add(layers.MaxPooling2D((2,2)))\n",
        "print(cnn1.output.shape)\n",
        "cnn1.add(layers.Conv2D(256, (3,3), activation = 'relu'))\n",
        "print(cnn1.output.shape)\n",
        "cnn1.add(layers.MaxPooling2D((2,2)))\n",
        "cnn1.add(layers.Flatten())\n",
        "print(cnn1.output.shape)\n",
        "\n",
        "\n",
        "cnn2 = models.Sequential()\n",
        "cnn2.add(layers.Conv2D(64, (3,3), activation = 'relu', padding='same', input_shape = (ch_number,window_len,sampel_number_per_sec), data_format= \"channels_first\" ))\n",
        "print(cnn2.output.shape)\n",
        "cnn2.add(layers.MaxPooling2D((2,2)))\n",
        "print(cnn2.output.shape)\n",
        "cnn2.add(layers.Conv2D(128, (3,3), activation = 'relu'))\n",
        "print(cnn2.output.shape)\n",
        "cnn2.add(layers.MaxPooling2D((2,2)))\n",
        "print(cnn2.output.shape)\n",
        "cnn2.add(layers.Conv2D(256, (3,3), activation = 'relu'))\n",
        "print(cnn2.output.shape)\n",
        "cnn2.add(layers.MaxPooling2D((2,2)))\n",
        "cnn2.add(layers.Flatten())\n",
        "print(cnn2.output.shape)\n",
        "\n",
        "mergedOut = Concatenate()([cnn1.output,cnn2.output])\n",
        "\n",
        "#mergedOut = Flatten()(mergedOut)    \n",
        "mergedOut = Dense(512, activation='relu')(mergedOut)\n",
        "mergedOut = Dropout(.5)(mergedOut)\n",
        "mergedOut = Dense(128, activation='relu')(mergedOut)\n",
        "mergedOut = Dense(16, activation='relu')(mergedOut)\n",
        "# output layer\n",
        "mergedOut = Dense(2, activation='sigmoid')(mergedOut)\n",
        "\n",
        "newModel = Model([cnn1.input,cnn2.input], mergedOut)\n",
        "\n",
        "#model = models.Sequential()\n",
        "#model.add(layers.Concatenate([cnn1,cnn2]))\n",
        "#model.add(layers.Dense(512, activation = 'relu'))\n",
        "#model.add(layers.Dropout(0.5))\n",
        "#print(model.output.shape)\n",
        "#model.add(layers.Dense(2, activation = 'sigmoid'))\n",
        "#print(model.output.shape)\n",
        "\n",
        "\n",
        "from keras import optimizers\n",
        "\n",
        "newModel.compile(loss= 'binary_crossentropy',\n",
        "              optimizer= optimizers.RMSprop(lr= 1e-4),\n",
        "              metrics = ['acc'])"
      ],
      "execution_count": 0,
      "outputs": []
    },
    {
      "cell_type": "code",
      "metadata": {
        "id": "HK5XmXSEQZ7B",
        "colab_type": "code",
        "colab": {}
      },
      "source": [
        "newModel.summary()"
      ],
      "execution_count": 0,
      "outputs": []
    },
    {
      "cell_type": "code",
      "metadata": {
        "id": "Xq9Xt7uAeGT1",
        "colab_type": "code",
        "outputId": "8cbfca49-549e-40df-a691-17762ba73d4b",
        "colab": {
          "base_uri": "https://localhost:8080/",
          "height": 561
        }
      },
      "source": [
        "history = newModel.fit(\n",
        "        [x_train_1, x_train_2],\n",
        "        y_train,\n",
        "        epochs = 15,\n",
        "        batch_size = 50,\n",
        "        validation_data = ([x_validation_1, x_validation_2], y_valid)\n",
        ")"
      ],
      "execution_count": 87,
      "outputs": [
        {
          "output_type": "stream",
          "text": [
            "Train on 200000 samples, validate on 50000 samples\n",
            "Epoch 1/15\n",
            "200000/200000 [==============================] - 185s 925us/step - loss: 0.5710 - acc: 0.6388 - val_loss: 0.3526 - val_acc: 0.8431\n",
            "Epoch 2/15\n",
            "200000/200000 [==============================] - 184s 921us/step - loss: 0.2873 - acc: 0.8820 - val_loss: 0.2561 - val_acc: 0.8968\n",
            "Epoch 3/15\n",
            "200000/200000 [==============================] - 184s 921us/step - loss: 0.2515 - acc: 0.9003 - val_loss: 0.2244 - val_acc: 0.9097\n",
            "Epoch 4/15\n",
            "200000/200000 [==============================] - 184s 920us/step - loss: 0.2071 - acc: 0.9218 - val_loss: 0.1883 - val_acc: 0.9275\n",
            "Epoch 5/15\n",
            "200000/200000 [==============================] - 184s 919us/step - loss: 0.1643 - acc: 0.9400 - val_loss: 0.1454 - val_acc: 0.9472\n",
            "Epoch 6/15\n",
            "200000/200000 [==============================] - 184s 919us/step - loss: 0.1395 - acc: 0.9512 - val_loss: 0.1200 - val_acc: 0.9598\n",
            "Epoch 7/15\n",
            "200000/200000 [==============================] - 184s 919us/step - loss: 0.1236 - acc: 0.9580 - val_loss: 0.1381 - val_acc: 0.9536\n",
            "Epoch 8/15\n",
            "200000/200000 [==============================] - 183s 913us/step - loss: 0.1125 - acc: 0.9631 - val_loss: 0.2176 - val_acc: 0.9255\n",
            "Epoch 9/15\n",
            "200000/200000 [==============================] - 183s 916us/step - loss: 0.1059 - acc: 0.9653 - val_loss: 0.1329 - val_acc: 0.9587\n",
            "Epoch 10/15\n",
            "200000/200000 [==============================] - 183s 916us/step - loss: 0.1008 - acc: 0.9673 - val_loss: 0.1084 - val_acc: 0.9637\n",
            "Epoch 11/15\n",
            "200000/200000 [==============================] - 184s 918us/step - loss: 0.0949 - acc: 0.9695 - val_loss: 0.1102 - val_acc: 0.9660\n",
            "Epoch 12/15\n",
            "200000/200000 [==============================] - 183s 917us/step - loss: 0.0924 - acc: 0.9704 - val_loss: 0.1027 - val_acc: 0.9664\n",
            "Epoch 13/15\n",
            "200000/200000 [==============================] - 182s 910us/step - loss: 0.0880 - acc: 0.9723 - val_loss: 0.1129 - val_acc: 0.9638\n",
            "Epoch 14/15\n",
            "200000/200000 [==============================] - 182s 912us/step - loss: 0.0851 - acc: 0.9732 - val_loss: 0.0905 - val_acc: 0.9702\n",
            "Epoch 15/15\n",
            "200000/200000 [==============================] - 182s 912us/step - loss: 0.0822 - acc: 0.9741 - val_loss: 0.1074 - val_acc: 0.9654\n"
          ],
          "name": "stdout"
        }
      ]
    },
    {
      "cell_type": "code",
      "metadata": {
        "id": "sZrVlFdYq05-",
        "colab_type": "code",
        "colab": {}
      },
      "source": [
        "import gc\n",
        "gc.collect()"
      ],
      "execution_count": 0,
      "outputs": []
    },
    {
      "cell_type": "code",
      "metadata": {
        "id": "cMeKOFDYWd5f",
        "colab_type": "code",
        "outputId": "184f0f72-544f-4a76-effe-8ede2beeb64c",
        "colab": {
          "base_uri": "https://localhost:8080/",
          "height": 51
        }
      },
      "source": [
        "# **create Test Data 1 ( A : from train subject , B: from train subject ) \n",
        "\n",
        "test_input1, test_input2, test_label = Fill_input_array(Test_Data_number, 0, train_subject_number-1, test_img_start_index, subject_img_number-1, 0, train_subject_number-1, test_img_start_index, subject_img_number-1)\n",
        "\n",
        "test_label = to_categorical(test_label, 2)\n",
        "newModel.evaluate([test_input1, test_input2], test_label)"
      ],
      "execution_count": 88,
      "outputs": [
        {
          "output_type": "stream",
          "text": [
            "50000/50000 [==============================] - 15s 300us/step\n"
          ],
          "name": "stdout"
        },
        {
          "output_type": "execute_result",
          "data": {
            "text/plain": [
              "[0.24304980319708586, 0.93166]"
            ]
          },
          "metadata": {
            "tags": []
          },
          "execution_count": 88
        }
      ]
    },
    {
      "cell_type": "code",
      "metadata": {
        "id": "x6saO0YcZ7hV",
        "colab_type": "code",
        "outputId": "b49ba473-8e42-4028-fb7a-fdb27f7afab5",
        "colab": {
          "base_uri": "https://localhost:8080/",
          "height": 51
        }
      },
      "source": [
        "# **create Test Data 2 ( A : from train subject , B: from new subject ) \n",
        "\n",
        "test_input1, test_input2, test_label = Fill_input_array(Test_Data_number, 0, train_subject_number-1, test_img_start_index, subject_img_number-1, new_subject_start_index, subject_number-1, 0, subject_img_number-1)\n",
        "test_label = to_categorical(test_label, 2)\n",
        "\n",
        "newModel.evaluate([test_input1, test_input2], test_label)"
      ],
      "execution_count": 89,
      "outputs": [
        {
          "output_type": "stream",
          "text": [
            "50000/50000 [==============================] - 15s 305us/step\n"
          ],
          "name": "stdout"
        },
        {
          "output_type": "execute_result",
          "data": {
            "text/plain": [
              "[4.328945310974121, 0.59517]"
            ]
          },
          "metadata": {
            "tags": []
          },
          "execution_count": 89
        }
      ]
    },
    {
      "cell_type": "code",
      "metadata": {
        "id": "uCSaEZ_MbMp6",
        "colab_type": "code",
        "outputId": "2e6cae0e-d1cd-4e36-fecb-0a0c879de7cf",
        "colab": {
          "base_uri": "https://localhost:8080/",
          "height": 51
        }
      },
      "source": [
        "# **create Test Data 3 ( A : from new subject , B: from train subject ) \n",
        "\n",
        "test_input1, test_input2, test_label = Fill_input_array(Test_Data_number, new_subject_start_index, subject_number-1, 0, subject_img_number-1, 0, train_subject_number-1, test_img_start_index, subject_img_number-1)\n",
        "test_label = to_categorical(test_label, 2)\n",
        "\n",
        "newModel.evaluate([test_input1, test_input2], test_label)"
      ],
      "execution_count": 90,
      "outputs": [
        {
          "output_type": "stream",
          "text": [
            "50000/50000 [==============================] - 15s 302us/step\n"
          ],
          "name": "stdout"
        },
        {
          "output_type": "execute_result",
          "data": {
            "text/plain": [
              "[1.254060850725174, 0.75434]"
            ]
          },
          "metadata": {
            "tags": []
          },
          "execution_count": 90
        }
      ]
    },
    {
      "cell_type": "code",
      "metadata": {
        "id": "8XmqFspqbsDx",
        "colab_type": "code",
        "outputId": "363d6cdb-244a-4f9a-dfd2-8d6a323b9e3c",
        "colab": {
          "base_uri": "https://localhost:8080/",
          "height": 51
        }
      },
      "source": [
        "# **create Test Data 4 ( A : from new subject , B: from new subject ) \n",
        "\n",
        "test_input1, test_input2, test_label = Fill_input_array(Test_Data_number, new_subject_start_index, subject_number-1, 0, subject_img_number-1, new_subject_start_index, subject_number-1, 0, subject_img_number-1)\n",
        "\n",
        "test_label = to_categorical(test_label, 2)\n",
        "newModel.evaluate([test_input1, test_input2], test_label)"
      ],
      "execution_count": 91,
      "outputs": [
        {
          "output_type": "stream",
          "text": [
            "50000/50000 [==============================] - 15s 305us/step\n"
          ],
          "name": "stdout"
        },
        {
          "output_type": "execute_result",
          "data": {
            "text/plain": [
              "[8.015119552612305, 0.5]"
            ]
          },
          "metadata": {
            "tags": []
          },
          "execution_count": 91
        }
      ]
    },
    {
      "cell_type": "code",
      "metadata": {
        "id": "XY7uBufGcc_5",
        "colab_type": "code",
        "outputId": "8679892d-e8d4-4738-afac-08b1b52e4212",
        "colab": {
          "base_uri": "https://localhost:8080/",
          "height": 295
        }
      },
      "source": [
        "import matplotlib.pyplot as plt\n",
        "\n",
        "history_dict = history.history \n",
        "loss_values = history_dict ['loss'] \n",
        "val_loss_values = history_dict['val_loss']\n",
        "epochs = range(1, len(loss_values) + 1)\n",
        "\n",
        "plt.plot(epochs, loss_values, 'bo', label='Training loss') \n",
        "plt.plot(epochs, val_loss_values, 'b', label='Validation loss') \n",
        "plt.title('Training and validation loss') \n",
        "plt.xlabel('Epochs') \n",
        "plt.ylabel('Loss') \n",
        "plt.legend()\n",
        "plt.show()"
      ],
      "execution_count": 92,
      "outputs": [
        {
          "output_type": "display_data",
          "data": {
            "image/png": "[encoded data removed]",
            "text/plain": [
              "<Figure size 432x288 with 1 Axes>"
            ]
          },
          "metadata": {
            "tags": []
          }
        }
      ]
    },
    {
      "cell_type": "code",
      "metadata": {
        "id": "sj6804cknwnW",
        "colab_type": "code",
        "outputId": "aaa31c0f-0159-4550-e707-0cf906e5041e",
        "colab": {
          "base_uri": "https://localhost:8080/",
          "height": 295
        }
      },
      "source": [
        "history_dict = history.history \n",
        "acc_values = history_dict ['acc'] \n",
        "val_acc_values = history_dict['val_acc']\n",
        "\n",
        "plt.plot(epochs, acc_values, 'bo', label='Training acc') \n",
        "plt.plot(epochs, val_acc_values, 'b', label='Validation acc') \n",
        "plt.title('Training and validation acc') \n",
        "plt.xlabel('Epochs') \n",
        "plt.ylabel('acc') \n",
        "plt.legend()\n",
        "plt.show()"
      ],
      "execution_count": 93,
      "outputs": [
        {
          "output_type": "display_data",
          "data": {
            "image/png": "[encoded data removed]",
            "text/plain": [
              "<Figure size 432x288 with 1 Axes>"
            ]
          },
          "metadata": {
            "tags": []
          }
        }
      ]
    },
    {
      "cell_type": "code",
      "metadata": {
        "id": "4DEhc3ZaoFhd",
        "colab_type": "code",
        "colab": {}
      },
      "source": [
        ""
      ],
      "execution_count": 0,
      "outputs": []
    }
  ]
}