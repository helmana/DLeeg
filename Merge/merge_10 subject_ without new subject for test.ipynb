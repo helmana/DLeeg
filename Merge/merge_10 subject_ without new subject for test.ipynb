{
  "nbformat": 4,
  "nbformat_minor": 0,
  "metadata": {
    "colab": {
      "name": "merge _ 10 subject.ipynb",
      "provenance": [],
      "collapsed_sections": [],
      "machine_shape": "hm",
      "include_colab_link": true
    },
    "kernelspec": {
      "name": "python3",
      "display_name": "Python 3"
    },
    "language_info": {
      "codemirror_mode": {
        "name": "ipython",
        "version": 3
      },
      "file_extension": ".py",
      "mimetype": "text/x-python",
      "name": "python",
      "nbconvert_exporter": "python",
      "pygments_lexer": "ipython3",
      "version": "3.7.3"
    },
    "accelerator": "GPU"
  },
  "cells": [
    {
      "cell_type": "markdown",
      "metadata": {
        "id": "view-in-github",
        "colab_type": "text"
      },
      "source": [
        "<a href=\"https://colab.research.google.com/github/helmana/DLeeg/blob/master/Merge/merge_10%20subject_%20without%20new%20subject%20for%20test.ipynb\" target=\"_parent\"><img src=\"https://colab.research.google.com/assets/colab-badge.svg\" alt=\"Open In Colab\"/></a>"
      ]
    },
    {
      "cell_type": "code",
      "metadata": {
        "colab_type": "code",
        "id": "YfVnGxljlfpL",
        "outputId": "8914b2b0-a1ec-4fe5-8029-caafefb6696f",
        "colab": {
          "base_uri": "https://localhost:8080/",
          "height": 155
        }
      },
      "source": [
        "! pip install mne"
      ],
      "execution_count": 1,
      "outputs": [
        {
          "output_type": "stream",
          "text": [
            "Collecting mne\n",
            "\u001b[?25l  Downloading https://files.pythonhosted.org/packages/f5/44/b5b96426623c9dca0dfcdcfdf1f57058bb668f7c1a01bed0b0b867eb8b92/mne-0.19.0-py3-none-any.whl (6.4MB)\n",
            "\u001b[K     |████████████████████████████████| 6.4MB 7.0MB/s \n",
            "\u001b[?25hRequirement already satisfied: scipy>=0.17.1 in /usr/local/lib/python3.6/dist-packages (from mne) (1.3.1)\n",
            "Requirement already satisfied: numpy>=1.11.3 in /usr/local/lib/python3.6/dist-packages (from mne) (1.16.5)\n",
            "Installing collected packages: mne\n",
            "Successfully installed mne-0.19.0\n"
          ],
          "name": "stdout"
        }
      ]
    },
    {
      "cell_type": "code",
      "metadata": {
        "id": "7c_teVZKPyPZ",
        "colab_type": "code",
        "colab": {
          "base_uri": "https://localhost:8080/",
          "height": 307
        },
        "outputId": "c8914781-d4ee-4ef1-ced1-340625e3176b"
      },
      "source": [
        "'''\n",
        "\n",
        "\n",
        "--->>> Concatenate two cnn model <<<---\n",
        "\n",
        "* subject number = 10 \n",
        "[without new subject for test]\n",
        " \n",
        " \n",
        "* test acc = 0.9444\n",
        "* test loss = 0.5521\n",
        "\n",
        "\n",
        "\n",
        "'''\n",
        "\n",
        "import matplotlib\n",
        "\n",
        "from matplotlib import pyplot as plt\n",
        "import numpy as np\n",
        "\n",
        "import math\n",
        "\n",
        "import keras\n",
        "from keras.utils import to_categorical\n",
        "\n",
        "import random\n",
        "import mne\n",
        "from mne.preprocessing import create_ecg_epochs, create_eog_epochs\n",
        "from mne import io\n",
        "from mne import viz\n",
        "#from mne.datasets import testing\n",
        "from mne import Epochs, io, pick_types\n",
        "from mne.event import define_target_events\n",
        "from mne.time_frequency import psd_welch\n",
        "print(__doc__)"
      ],
      "execution_count": 2,
      "outputs": [
        {
          "output_type": "stream",
          "text": [
            "Using TensorFlow backend.\n",
            "/usr/local/lib/python3.6/dist-packages/numba/decorators.py:146: RuntimeWarning: Caching is not available when the 'parallel' target is in use. Caching is now being disabled to allow execution to continue.\n",
            "  warnings.warn(msg, RuntimeWarning)\n"
          ],
          "name": "stderr"
        },
        {
          "output_type": "stream",
          "text": [
            "\n",
            "\n",
            "\n",
            "--->>> Merge two cnn model <<<---\n",
            "\n",
            "* subject number = 10\n",
            "\n",
            "* test acc = 0.7514\n",
            "* test loss = 1.8992\n",
            "\n",
            "\n",
            "\n",
            "\n"
          ],
          "name": "stdout"
        }
      ]
    },
    {
      "cell_type": "code",
      "metadata": {
        "colab_type": "code",
        "id": "9yNNLt7ylhOO",
        "outputId": "9532ac26-433e-415c-9a85-6c7d86cfbe28",
        "colab": {
          "base_uri": "https://localhost:8080/",
          "height": 34
        }
      },
      "source": [
        "\n",
        "subject_number=10\n",
        "index_new_subject = subject_number//5 #  \n",
        "train_subject_number = subject_number - index_new_subject\n",
        "task_index = [1] # task: REO\n",
        "task_number = len(task_index)\n",
        "\n",
        "\n",
        "# channels \n",
        "list_channel = [60]\n",
        "ch_number = len(list_channel)\n",
        "\n",
        "task_time = 60\n",
        "\n",
        "sampel_number_per_sec =  160 # sampel rate\n",
        "total_sampel_number =  sampel_number_per_sec *task_time # 60*160\n",
        "\n",
        "inner_sample_shift = 5 # inner step len\n",
        "outer_sample_shift = 160 # outer step len\n",
        "window_len= 20\n",
        "\n",
        "index_new_subject"
      ],
      "execution_count": 5,
      "outputs": [
        {
          "output_type": "execute_result",
          "data": {
            "text/plain": [
              "2"
            ]
          },
          "metadata": {
            "tags": []
          },
          "execution_count": 5
        }
      ]
    },
    {
      "cell_type": "code",
      "metadata": {
        "colab_type": "code",
        "id": "KTfW-74ClnTG",
        "outputId": "2089b3d7-22d8-4feb-bbe1-bf981555d06b",
        "colab": {
          "base_uri": "https://localhost:8080/",
          "height": 1000
        }
      },
      "source": [
        "# load dataset in array\n",
        "list_raw_fnames = [[0]*task_number]*subject_number\n",
        "for x in range(subject_number):\n",
        "    list_raw_fnames[x] = mne.datasets.eegbci.load_data(x+1,task_index)\n",
        "\n",
        "list_rawdata = np.zeros((subject_number,task_number), dtype='object')\n",
        "\n",
        "for i in range(subject_number):\n",
        "    for j in range(task_number):\n",
        "        list_rawdata[i][j] = mne.io.read_raw_edf(list_raw_fnames[i][j], preload=True)"
      ],
      "execution_count": 6,
      "outputs": [
        {
          "output_type": "stream",
          "text": [
            "Using default location ~/mne_data for EEGBCI...\n",
            "Downloading http://www.physionet.org/physiobank/database/eegmmidb/S001/S001R01.edf (1.2 MB)\n",
            "[........................................] 100.00% (  1.2 MB,   1.1 MB/s) -\n",
            "Do you want to set the path:\n",
            "    /root/mne_data\n",
            "as the default EEGBCI dataset path in the mne-python config [y]/n? y\n",
            "Attempting to create new mne-python configuration file:\n",
            "/root/.mne/mne-python.json\n",
            "Downloading http://www.physionet.org/physiobank/database/eegmmidb/S002/S002R01.edf (1.2 MB)\n",
            "[........................................] 100.00% (  1.2 MB,   1.2 MB/s) /\n",
            "Downloading http://www.physionet.org/physiobank/database/eegmmidb/S003/S003R01.edf (1.2 MB)\n",
            "[........................................] 100.00% (  1.2 MB,   1.1 MB/s) |\n",
            "Downloading http://www.physionet.org/physiobank/database/eegmmidb/S004/S004R01.edf (1.2 MB)\n",
            "[........................................] 100.00% (  1.2 MB,   1.1 MB/s) \\\n",
            "Downloading http://www.physionet.org/physiobank/database/eegmmidb/S005/S005R01.edf (1.2 MB)\n",
            "[........................................] 100.00% (  1.2 MB,   864 kB/s) |\n",
            "Downloading http://www.physionet.org/physiobank/database/eegmmidb/S006/S006R01.edf (1.2 MB)\n",
            "[........................................] 100.00% (  1.2 MB,   1.1 MB/s) |\n",
            "Downloading http://www.physionet.org/physiobank/database/eegmmidb/S007/S007R01.edf (1.2 MB)\n",
            "[........................................] 100.00% (  1.2 MB,   1.1 MB/s) \\\n",
            "Downloading http://www.physionet.org/physiobank/database/eegmmidb/S008/S008R01.edf (1.2 MB)\n",
            "[........................................] 100.00% (  1.2 MB,   1.1 MB/s) \\\n",
            "Downloading http://www.physionet.org/physiobank/database/eegmmidb/S009/S009R01.edf (1.2 MB)\n",
            "[........................................] 100.00% (  1.2 MB,   1.1 MB/s) -\n",
            "Downloading http://www.physionet.org/physiobank/database/eegmmidb/S010/S010R01.edf (1.2 MB)\n",
            "[........................................] 100.00% (  1.2 MB,   1.1 MB/s) |\n",
            "Extracting EDF parameters from /root/mne_data/MNE-eegbci-data/physiobank/database/eegmmidb/S001/S001R01.edf...\n",
            "EDF file detected\n",
            "Setting channel info structure...\n",
            "Creating raw.info structure...\n",
            "Reading 0 ... 9759  =      0.000 ...    60.994 secs...\n",
            "Extracting EDF parameters from /root/mne_data/MNE-eegbci-data/physiobank/database/eegmmidb/S002/S002R01.edf...\n",
            "EDF file detected\n",
            "Setting channel info structure...\n",
            "Creating raw.info structure...\n",
            "Reading 0 ... 9759  =      0.000 ...    60.994 secs...\n",
            "Extracting EDF parameters from /root/mne_data/MNE-eegbci-data/physiobank/database/eegmmidb/S003/S003R01.edf...\n",
            "EDF file detected\n",
            "Setting channel info structure...\n",
            "Creating raw.info structure...\n",
            "Reading 0 ... 9759  =      0.000 ...    60.994 secs...\n",
            "Extracting EDF parameters from /root/mne_data/MNE-eegbci-data/physiobank/database/eegmmidb/S004/S004R01.edf...\n",
            "EDF file detected\n",
            "Setting channel info structure...\n",
            "Creating raw.info structure...\n",
            "Reading 0 ... 9759  =      0.000 ...    60.994 secs...\n",
            "Extracting EDF parameters from /root/mne_data/MNE-eegbci-data/physiobank/database/eegmmidb/S005/S005R01.edf...\n",
            "EDF file detected\n",
            "Setting channel info structure...\n",
            "Creating raw.info structure...\n",
            "Reading 0 ... 9759  =      0.000 ...    60.994 secs...\n",
            "Extracting EDF parameters from /root/mne_data/MNE-eegbci-data/physiobank/database/eegmmidb/S006/S006R01.edf...\n",
            "EDF file detected\n",
            "Setting channel info structure...\n",
            "Creating raw.info structure...\n",
            "Reading 0 ... 9759  =      0.000 ...    60.994 secs...\n",
            "Extracting EDF parameters from /root/mne_data/MNE-eegbci-data/physiobank/database/eegmmidb/S007/S007R01.edf...\n",
            "EDF file detected\n",
            "Setting channel info structure...\n",
            "Creating raw.info structure...\n",
            "Reading 0 ... 9759  =      0.000 ...    60.994 secs...\n",
            "Extracting EDF parameters from /root/mne_data/MNE-eegbci-data/physiobank/database/eegmmidb/S008/S008R01.edf...\n",
            "EDF file detected\n",
            "Setting channel info structure...\n",
            "Creating raw.info structure...\n",
            "Reading 0 ... 9759  =      0.000 ...    60.994 secs...\n",
            "Extracting EDF parameters from /root/mne_data/MNE-eegbci-data/physiobank/database/eegmmidb/S009/S009R01.edf...\n",
            "EDF file detected\n",
            "Setting channel info structure...\n",
            "Creating raw.info structure...\n",
            "Reading 0 ... 9759  =      0.000 ...    60.994 secs...\n",
            "Extracting EDF parameters from /root/mne_data/MNE-eegbci-data/physiobank/database/eegmmidb/S010/S010R01.edf...\n",
            "EDF file detected\n",
            "Setting channel info structure...\n",
            "Creating raw.info structure...\n",
            "Reading 0 ... 9759  =      0.000 ...    60.994 secs...\n"
          ],
          "name": "stdout"
        }
      ]
    },
    {
      "cell_type": "code",
      "metadata": {
        "colab_type": "code",
        "id": "-p_0zaMJly0W",
        "outputId": "7503fb40-aa77-4ee2-c4db-1bf9da9b24a6",
        "colab": {
          "base_uri": "https://localhost:8080/",
          "height": 34
        }
      },
      "source": [
        "# img for each one\n",
        "subject_img_number = math.floor((total_sampel_number - sampel_number_per_sec - (window_len-1 )*inner_sample_shift) / outer_sample_shift) +1\n",
        "test_start_index=subject_img_number - math.floor(subject_img_number * 0.15) \n",
        "\n",
        "train_number =  test_start_index \n",
        "test_number = subject_img_number - test_start_index\n",
        "subject_img_number"
      ],
      "execution_count": 7,
      "outputs": [
        {
          "output_type": "execute_result",
          "data": {
            "text/plain": [
              "59"
            ]
          },
          "metadata": {
            "tags": []
          },
          "execution_count": 7
        }
      ]
    },
    {
      "cell_type": "code",
      "metadata": {
        "colab_type": "code",
        "id": "abG5ER3_l1-u",
        "outputId": "4e1117ae-b478-45d0-92ec-ac560d326682",
        "colab": {
          "base_uri": "https://localhost:8080/",
          "height": 67
        }
      },
      "source": [
        "train_img = np.zeros((train_number*train_subject_number, ch_number, window_len + 1, 160), dtype = float)\n",
        "train_label =[]\n",
        "\n",
        "\n",
        "test_img = np.zeros((test_number*train_subject_number, ch_number, window_len + 1, 160), dtype = float)\n",
        "test_label =[]\n",
        "new_subject_img = np.zeros((subject_img_number*index_new_subject, ch_number, window_len + 1, 160), dtype = float)\n",
        "\n",
        "print(\" train_img\" ,train_img.shape,'\\n', \"test_img\",test_img.shape,'\\n', \"new_subject_img\", new_subject_img.shape)\n"
      ],
      "execution_count": 8,
      "outputs": [
        {
          "output_type": "stream",
          "text": [
            " train_img (408, 1, 21, 160) \n",
            " test_img (64, 1, 21, 160) \n",
            " new_subject_img (118, 1, 21, 160)\n"
          ],
          "name": "stdout"
        }
      ]
    },
    {
      "cell_type": "code",
      "metadata": {
        "colab_type": "code",
        "id": "A_2Bd6Pkl6DV",
        "colab": {}
      },
      "source": [
        "def normalize_channel_data(ch , i, ch_min, ch_max):\n",
        "    ch = ((ch - ch_min[i]) / (ch_max[i] - ch_min[i] ))\n",
        "    return ch"
      ],
      "execution_count": 0,
      "outputs": []
    },
    {
      "cell_type": "code",
      "metadata": {
        "colab_type": "code",
        "id": "BQ3pO1Ikl8s8",
        "colab": {}
      },
      "source": [
        "\n",
        "list_rawdataTest=list_rawdata.copy()\n",
        "\n",
        "\n",
        "for s in range(subject_number):\n",
        "    ch_max =[]\n",
        "    ch_min =[]\n",
        "    DataChannelsNormal=np.zeros((ch_number,total_sampel_number),dtype = float)\n",
        "    i =0\n",
        "    for ch in list_channel:\n",
        "        DataChannelsRaw, times =list_rawdata[s][0][ch,:total_sampel_number]\n",
        "      \n",
        "        # make a copy\n",
        "        DataChannelsRaw_t=DataChannelsRaw.copy()\n",
        "        times_t=times.copy()\n",
        "      \n",
        "        ch_max = np.append(ch_max, max(DataChannelsRaw_t[0])) # max for each cannel\n",
        "        ch_min = np.append(ch_min, min(DataChannelsRaw_t[0])) # min for each cannel\n",
        "      \n",
        "        # Normalize Channels\n",
        "        DataChannelsNormal[i]=normalize_channel_data(DataChannelsRaw_t, i, ch_min, ch_max)\n",
        "        i=i+1\n",
        "        \n",
        "    if s < index_new_subject:\n",
        "        \n",
        "        for j in range (subject_img_number):\n",
        "            for i in range(ch_number):\n",
        "                for z in range (window_len):\n",
        "              \n",
        "                    ExtractedData = DataChannelsNormal[i,0+ j*outer_sample_shift + z*inner_sample_shift : sampel_number_per_sec+ j*outer_sample_shift + z*inner_sample_shift]\n",
        "                    new_subject_img[s*subject_img_number + j][i][z] = ExtractedData\n",
        "                    if z==window_len-1 :\n",
        "                        new_subject_img[s*subject_img_number + j][i][z+1] = s\n",
        "    else:\n",
        "        \n",
        "        for j in range (subject_img_number):\n",
        "            for i in range(ch_number):\n",
        "                for z in range (window_len):\n",
        "\n",
        "                    ExtractedData = DataChannelsNormal[i,0+ j*outer_sample_shift + z*inner_sample_shift : sampel_number_per_sec+ j*outer_sample_shift + z*inner_sample_shift]\n",
        "\n",
        "                    if j <test_start_index :\n",
        "                        train_img[(s-index_new_subject)* train_number + j][i][z] = ExtractedData\n",
        "                        if z==window_len-1 :\n",
        "                            train_img[(s-index_new_subject)*train_number + j][i][z+1] = s\n",
        "\n",
        "\n",
        "                    else:\n",
        "                        test_img[(s-index_new_subject)* test_number + j - test_start_index][i][z] = ExtractedData\n",
        "                        if z==window_len-1 :\n",
        "                            test_img[(s-index_new_subject)*test_number + j - test_start_index][i][z+1] = s\n",
        "                            \n",
        "           # if j >=test_start_index :\n",
        "               # test_label = np.append(test_label, (s))\n",
        "\n"
      ],
      "execution_count": 0,
      "outputs": []
    },
    {
      "cell_type": "code",
      "metadata": {
        "id": "l85oeIo3m_N5",
        "colab_type": "code",
        "colab": {}
      },
      "source": [
        "#shaffle train img array\n",
        "train_img_shuffle = train_img.copy()\n",
        "\n",
        "np.random.shuffle(train_img_shuffle)"
      ],
      "execution_count": 0,
      "outputs": []
    },
    {
      "cell_type": "code",
      "metadata": {
        "id": "oCB1Fohrm_N-",
        "colab_type": "code",
        "outputId": "a8e5b487-e3b3-4d30-b449-faa8255023a4",
        "colab": {
          "base_uri": "https://localhost:8080/",
          "height": 34
        }
      },
      "source": [
        "#create train input1 & input2\n",
        "len_train_img = len(train_img)\n",
        "trian_input_number = int(math.factorial(len_train_img) / (2 * math.factorial(len_train_img-2)))\n",
        "print(trian_input_number)\n",
        "\n",
        "input1 = np.zeros((trian_input_number, ch_number, window_len + 1, 160), dtype = float)\n",
        "input2 = np.zeros((trian_input_number, ch_number, window_len + 1, 160), dtype = float)\n"
      ],
      "execution_count": 12,
      "outputs": [
        {
          "output_type": "stream",
          "text": [
            "83028\n"
          ],
          "name": "stdout"
        }
      ]
    },
    {
      "cell_type": "code",
      "metadata": {
        "id": "x6TnBNx8BnOd",
        "colab_type": "code",
        "colab": {}
      },
      "source": [
        "# fill input train img 1 ,2\n",
        "n=0\n",
        "for i in range(len_train_img):\n",
        "  index1 = train_img_shuffle[0]\n",
        "  \n",
        "  train_img_shuffle = np.delete(train_img_shuffle, 0, axis=0)\n",
        "  \n",
        "  input1[n: n + len(train_img_shuffle)] = train_img_shuffle\n",
        "  input2[n: n + len(train_img_shuffle)] = index1\n",
        "  n =   n + len(train_img_shuffle) \n",
        "\n",
        "del train_img_shuffle"
      ],
      "execution_count": 0,
      "outputs": []
    },
    {
      "cell_type": "code",
      "metadata": {
        "id": "NOEFlEmGVCiH",
        "colab_type": "code",
        "colab": {}
      },
      "source": [
        "train_label=[]\n",
        "# create train label array\n",
        "for i in range(trian_input_number):\n",
        "  if input1[i][0][window_len][0] == input2[i][0][window_len][0]:\n",
        "    train_label = np.append(train_label, 1)\n",
        "  else:\n",
        "    train_label = np.append(train_label, 0)\n",
        "  #print(i)\n",
        "    \n",
        "    \n",
        "    "
      ],
      "execution_count": 0,
      "outputs": []
    },
    {
      "cell_type": "code",
      "metadata": {
        "id": "x6EkRMeLrrMp",
        "colab_type": "code",
        "colab": {}
      },
      "source": [
        "# remove label row \n",
        "input1_2 = np.zeros((trian_input_number, ch_number, window_len, 160), dtype = float)\n",
        "input2_2 = np.zeros((trian_input_number, ch_number, window_len, 160), dtype = float)\n",
        "  \n",
        "  "
      ],
      "execution_count": 0,
      "outputs": []
    },
    {
      "cell_type": "code",
      "metadata": {
        "id": "rJ-j-3sLvKyK",
        "colab_type": "code",
        "colab": {}
      },
      "source": [
        "def remove_label(input_number, inputx, inputx_2 ):\n",
        "  \n",
        "  for i in range(input_number) :\n",
        "\n",
        "    for j in range (ch_number):\n",
        "\n",
        "      inputx_2[i][j] = np.delete(inputx[i][j], window_len, axis=0)\n",
        "    \n",
        "  return (inputx_2)"
      ],
      "execution_count": 0,
      "outputs": []
    },
    {
      "cell_type": "code",
      "metadata": {
        "id": "G78tNxVeW2Vo",
        "colab_type": "code",
        "outputId": "ad36382e-13b5-4759-be9a-4a56457f0845",
        "colab": {
          "base_uri": "https://localhost:8080/",
          "height": 34
        }
      },
      "source": [
        "input1_2 = remove_label(trian_input_number, input1, input1_2)\n",
        "input2_2 = remove_label(trian_input_number, input2, input2_2)\n",
        "\n",
        "input2_2.shape\n"
      ],
      "execution_count": 17,
      "outputs": [
        {
          "output_type": "execute_result",
          "data": {
            "text/plain": [
              "(83028, 1, 20, 160)"
            ]
          },
          "metadata": {
            "tags": []
          },
          "execution_count": 17
        }
      ]
    },
    {
      "cell_type": "code",
      "metadata": {
        "id": "d-3vXiQY_B27",
        "colab_type": "code",
        "outputId": "543114f5-8f97-4d9a-f933-779058032d6f",
        "colab": {
          "base_uri": "https://localhost:8080/",
          "height": 34
        }
      },
      "source": [
        "###############################  test ##################################\n",
        "# create total test img (part of train img + new subject img)\n",
        "#total_test_img = np.concatenate((test_img, new_subject_img))\n",
        "total_test_img = test_img\n",
        "\n",
        "\n",
        "total_test_img.shape\n"
      ],
      "execution_count": 20,
      "outputs": [
        {
          "output_type": "execute_result",
          "data": {
            "text/plain": [
              "(64, 1, 21, 160)"
            ]
          },
          "metadata": {
            "tags": []
          },
          "execution_count": 20
        }
      ]
    },
    {
      "cell_type": "code",
      "metadata": {
        "id": "IoeE2gtTJT7M",
        "colab_type": "code",
        "outputId": "161a59fd-ae91-43e9-d2de-74c371439940",
        "colab": {
          "base_uri": "https://localhost:8080/",
          "height": 34
        }
      },
      "source": [
        "\n",
        "# create 2 input test image\n",
        "len_test_img = len(total_test_img)\n",
        "test_input_number = int(math.factorial(len_test_img) / (2 * math.factorial(len_test_img-2)))\n",
        "print(test_input_number)\n",
        "\n",
        "input1_test = np.zeros((test_input_number, ch_number, window_len + 1, 160), dtype = float)\n",
        "input2_test = np.zeros((test_input_number, ch_number, window_len + 1, 160), dtype = float)\n"
      ],
      "execution_count": 21,
      "outputs": [
        {
          "output_type": "stream",
          "text": [
            "2016\n"
          ],
          "name": "stdout"
        }
      ]
    },
    {
      "cell_type": "code",
      "metadata": {
        "id": "oVhfoecOyRbi",
        "colab_type": "code",
        "colab": {}
      },
      "source": [
        "\n",
        "\n",
        "# fill input test img 1 ,2\n",
        "n=0\n",
        "for i in range(len_test_img):\n",
        "  index1 = total_test_img[0]\n",
        "  total_test_img = np.delete(total_test_img, 0, axis=0)\n",
        "  \n",
        "  input1_test[n: n + len(total_test_img)] = total_test_img\n",
        "  input2_test[n: n + len(total_test_img)] = index1\n",
        "  n =   n + len(total_test_img) \n",
        "\n",
        "#del input2_test\n"
      ],
      "execution_count": 0,
      "outputs": []
    },
    {
      "cell_type": "code",
      "metadata": {
        "id": "qxPmk8IFyVlg",
        "colab_type": "code",
        "colab": {}
      },
      "source": [
        "\n",
        "test_label=[]\n",
        "# create test label array\n",
        "for i in range(test_input_number):\n",
        "  if input1_test[i][0][window_len][0] == input2_test[i][0][window_len][0]:\n",
        "    test_label = np.append(test_label, 1)\n",
        "    #print(test_label)\n",
        "  else:\n",
        "    test_label = np.append(test_label, 0)\n"
      ],
      "execution_count": 0,
      "outputs": []
    },
    {
      "cell_type": "code",
      "metadata": {
        "id": "uXcbpN7gybVp",
        "colab_type": "code",
        "colab": {}
      },
      "source": [
        "    \n",
        "# remove label row \n",
        "\n",
        "input1_test_2 = np.zeros((test_input_number, ch_number, window_len, 160), dtype = float)\n",
        "input2_test_2 = np.zeros((test_input_number, ch_number, window_len, 160), dtype = float)\n",
        "\n"
      ],
      "execution_count": 0,
      "outputs": []
    },
    {
      "cell_type": "code",
      "metadata": {
        "id": "T7zRW-y0zdRH",
        "colab_type": "code",
        "outputId": "f172013d-fc75-4ea1-91b2-c7be76a5035c",
        "colab": {
          "base_uri": "https://localhost:8080/",
          "height": 34
        }
      },
      "source": [
        "input1_test_2 = remove_label(test_input_number, input1_test, input1_test_2)\n",
        "input2_test_2 = remove_label(test_input_number, input2_test, input2_test_2)\n",
        "\n",
        "input2_test_2.shape\n"
      ],
      "execution_count": 25,
      "outputs": [
        {
          "output_type": "execute_result",
          "data": {
            "text/plain": [
              "(2016, 1, 20, 160)"
            ]
          },
          "metadata": {
            "tags": []
          },
          "execution_count": 25
        }
      ]
    },
    {
      "cell_type": "code",
      "metadata": {
        "id": "oZJVEXBGG7PD",
        "colab_type": "code",
        "colab": {}
      },
      "source": [
        "test_label[:1000]\n",
        "\n"
      ],
      "execution_count": 0,
      "outputs": []
    },
    {
      "cell_type": "code",
      "metadata": {
        "colab_type": "code",
        "id": "UqI6jFCcmMWl",
        "outputId": "acae7811-5a57-4f6e-8679-9e5702d83e72",
        "colab": {
          "base_uri": "https://localhost:8080/",
          "height": 135
        }
      },
      "source": [
        "# categorical test & train label\n",
        "train_label = to_categorical(train_label, 2)\n",
        "test_label = to_categorical(test_label, 2)\n",
        "train_label"
      ],
      "execution_count": 28,
      "outputs": [
        {
          "output_type": "execute_result",
          "data": {
            "text/plain": [
              "array([[1., 0.],\n",
              "       [0., 1.],\n",
              "       [1., 0.],\n",
              "       ...,\n",
              "       [1., 0.],\n",
              "       [1., 0.],\n",
              "       [1., 0.]], dtype=float32)"
            ]
          },
          "metadata": {
            "tags": []
          },
          "execution_count": 28
        }
      ]
    },
    {
      "cell_type": "code",
      "metadata": {
        "colab_type": "code",
        "id": "zFe8gV7XmNLV",
        "colab": {}
      },
      "source": [
        "validation_index = math.floor( trian_input_number * 0.2)\n",
        "\n",
        "\n",
        "# validation & train\n",
        "\n",
        "#train\n",
        "x_train_1 =input1_2[validation_index:]\n",
        "x_train_2 =input2_2[validation_index:]\n",
        "\n",
        "y_train =train_label[validation_index:]\n",
        "\n",
        "#validation\n",
        "x_validation_1 =input1_2[:validation_index]\n",
        "x_validation_2 =input2_2[:validation_index] \n",
        "\n",
        "y_valid =train_label[:validation_index]\n",
        "\n",
        "#x_valid.shape"
      ],
      "execution_count": 0,
      "outputs": []
    },
    {
      "cell_type": "code",
      "metadata": {
        "colab_type": "code",
        "id": "PWPtKkZHmP4m",
        "outputId": "9bd35d2e-19d3-4bb9-f5a8-6555105b2b28",
        "colab": {
          "base_uri": "https://localhost:8080/",
          "height": 577
        }
      },
      "source": [
        "\n",
        "from keras import layers\n",
        "from keras import models\n",
        "from keras import regularizers\n",
        "#from keras.layers import Dense, Merge\n",
        "from keras.layers import *\n",
        "from keras.models import Model\n",
        "\n",
        "\n",
        "cnn1 = models.Sequential()\n",
        "cnn1.add(layers.Conv2D(64, (3,3), activation = 'relu', padding='same', input_shape = (ch_number,window_len,160), data_format= \"channels_first\" ))\n",
        "print(cnn1.output.shape)\n",
        "cnn1.add(layers.MaxPooling2D((2,2)))\n",
        "print(cnn1.output.shape)\n",
        "cnn1.add(layers.Conv2D(128, (3,3), activation = 'relu'))\n",
        "print(cnn1.output.shape)\n",
        "cnn1.add(layers.MaxPooling2D((2,2)))\n",
        "print(cnn1.output.shape)\n",
        "cnn1.add(layers.Conv2D(256, (3,3), activation = 'relu'))\n",
        "print(cnn1.output.shape)\n",
        "cnn1.add(layers.MaxPooling2D((2,2)))\n",
        "cnn1.add(layers.Flatten())\n",
        "print(cnn1.output.shape)\n",
        "\n",
        "\n",
        "cnn2 = models.Sequential()\n",
        "cnn2.add(layers.Conv2D(64, (3,3), activation = 'relu', padding='same', input_shape = (ch_number,window_len,160), data_format= \"channels_first\" ))\n",
        "print(cnn2.output.shape)\n",
        "cnn2.add(layers.MaxPooling2D((2,2)))\n",
        "print(cnn2.output.shape)\n",
        "cnn2.add(layers.Conv2D(128, (3,3), activation = 'relu'))\n",
        "print(cnn2.output.shape)\n",
        "cnn2.add(layers.MaxPooling2D((2,2)))\n",
        "print(cnn2.output.shape)\n",
        "cnn2.add(layers.Conv2D(256, (3,3), activation = 'relu'))\n",
        "print(cnn2.output.shape)\n",
        "cnn2.add(layers.MaxPooling2D((2,2)))\n",
        "cnn2.add(layers.Flatten())\n",
        "print(cnn2.output.shape)\n",
        "\n",
        "mergedOut = Concatenate()([cnn1.output,cnn2.output])\n",
        "\n",
        "#mergedOut = Flatten()(mergedOut)    \n",
        "mergedOut = Dense(512, activation='relu')(mergedOut)\n",
        "mergedOut = Dropout(.5)(mergedOut)\n",
        "\n",
        "# output layer\n",
        "mergedOut = Dense(2, activation='sigmoid')(mergedOut)\n",
        "\n",
        "newModel = Model([cnn1.input,cnn2.input], mergedOut)\n",
        "\n",
        "#model = models.Sequential()\n",
        "#model.add(layers.Concatenate([cnn1,cnn2]))\n",
        "#model.add(layers.Dense(512, activation = 'relu'))\n",
        "#model.add(layers.Dropout(0.5))\n",
        "#print(model.output.shape)\n",
        "#model.add(layers.Dense(2, activation = 'sigmoid'))\n",
        "#print(model.output.shape)\n",
        "\n",
        "\n",
        "from keras import optimizers\n",
        "\n",
        "newModel.compile(loss= 'binary_crossentropy',\n",
        "              optimizer= optimizers.RMSprop(lr= 1e-4),\n",
        "              metrics = ['acc'])"
      ],
      "execution_count": 30,
      "outputs": [
        {
          "output_type": "stream",
          "text": [
            "WARNING:tensorflow:From /usr/local/lib/python3.6/dist-packages/keras/backend/tensorflow_backend.py:66: The name tf.get_default_graph is deprecated. Please use tf.compat.v1.get_default_graph instead.\n",
            "\n",
            "WARNING:tensorflow:From /usr/local/lib/python3.6/dist-packages/keras/backend/tensorflow_backend.py:541: The name tf.placeholder is deprecated. Please use tf.compat.v1.placeholder instead.\n",
            "\n",
            "WARNING:tensorflow:From /usr/local/lib/python3.6/dist-packages/keras/backend/tensorflow_backend.py:4432: The name tf.random_uniform is deprecated. Please use tf.random.uniform instead.\n",
            "\n",
            "WARNING:tensorflow:From /usr/local/lib/python3.6/dist-packages/keras/backend/tensorflow_backend.py:190: The name tf.get_default_session is deprecated. Please use tf.compat.v1.get_default_session instead.\n",
            "\n",
            "WARNING:tensorflow:From /usr/local/lib/python3.6/dist-packages/keras/backend/tensorflow_backend.py:197: The name tf.ConfigProto is deprecated. Please use tf.compat.v1.ConfigProto instead.\n",
            "\n",
            "(?, 64, 20, 160)\n",
            "WARNING:tensorflow:From /usr/local/lib/python3.6/dist-packages/keras/backend/tensorflow_backend.py:4267: The name tf.nn.max_pool is deprecated. Please use tf.nn.max_pool2d instead.\n",
            "\n",
            "(?, 32, 10, 160)\n",
            "(?, 30, 8, 128)\n",
            "(?, 15, 4, 128)\n",
            "(?, 13, 2, 256)\n",
            "(?, ?)\n",
            "(?, 64, 20, 160)\n",
            "(?, 32, 10, 160)\n",
            "(?, 30, 8, 128)\n",
            "(?, 15, 4, 128)\n",
            "(?, 13, 2, 256)\n",
            "(?, ?)\n",
            "WARNING:tensorflow:From /usr/local/lib/python3.6/dist-packages/keras/backend/tensorflow_backend.py:3733: calling dropout (from tensorflow.python.ops.nn_ops) with keep_prob is deprecated and will be removed in a future version.\n",
            "Instructions for updating:\n",
            "Please use `rate` instead of `keep_prob`. Rate should be set to `rate = 1 - keep_prob`.\n",
            "WARNING:tensorflow:From /usr/local/lib/python3.6/dist-packages/keras/optimizers.py:793: The name tf.train.Optimizer is deprecated. Please use tf.compat.v1.train.Optimizer instead.\n",
            "\n",
            "WARNING:tensorflow:From /usr/local/lib/python3.6/dist-packages/tensorflow/python/ops/nn_impl.py:180: add_dispatch_support.<locals>.wrapper (from tensorflow.python.ops.array_ops) is deprecated and will be removed in a future version.\n",
            "Instructions for updating:\n",
            "Use tf.where in 2.0, which has the same broadcast rule as np.where\n"
          ],
          "name": "stdout"
        }
      ]
    },
    {
      "cell_type": "code",
      "metadata": {
        "colab_type": "code",
        "id": "Cr1zrBTKmTTm",
        "outputId": "a5cbcfa9-5734-4ac7-d365-774e4ae19739",
        "colab": {
          "base_uri": "https://localhost:8080/",
          "height": 730
        }
      },
      "source": [
        "history = newModel.fit(\n",
        "        [x_train_1, x_train_2],\n",
        "        y_train,\n",
        "        epochs = 20,\n",
        "        batch_size = 20,\n",
        "        validation_data = ([x_validation_1, x_validation_2], y_valid)\n",
        ")"
      ],
      "execution_count": 31,
      "outputs": [
        {
          "output_type": "stream",
          "text": [
            "Train on 66423 samples, validate on 16605 samples\n",
            "Epoch 1/20\n",
            "66423/66423 [==============================] - 94s 1ms/step - loss: 0.3807 - acc: 0.8771 - val_loss: 0.3771 - val_acc: 0.8773\n",
            "Epoch 2/20\n",
            "66423/66423 [==============================] - 90s 1ms/step - loss: 0.3587 - acc: 0.8800 - val_loss: 0.2517 - val_acc: 0.8944\n",
            "Epoch 3/20\n",
            "66423/66423 [==============================] - 90s 1ms/step - loss: 0.1618 - acc: 0.9163 - val_loss: 0.1108 - val_acc: 0.9482\n",
            "Epoch 4/20\n",
            "66423/66423 [==============================] - 90s 1ms/step - loss: 0.0911 - acc: 0.9543 - val_loss: 0.1494 - val_acc: 0.9263\n",
            "Epoch 5/20\n",
            "66423/66423 [==============================] - 91s 1ms/step - loss: 0.0451 - acc: 0.9830 - val_loss: 0.0921 - val_acc: 0.9542\n",
            "Epoch 6/20\n",
            "66423/66423 [==============================] - 90s 1ms/step - loss: 0.0172 - acc: 0.9953 - val_loss: 0.0698 - val_acc: 0.9731\n",
            "Epoch 7/20\n",
            "66423/66423 [==============================] - 90s 1ms/step - loss: 0.0090 - acc: 0.9977 - val_loss: 0.1054 - val_acc: 0.9702\n",
            "Epoch 8/20\n",
            "66423/66423 [==============================] - 90s 1ms/step - loss: 0.0065 - acc: 0.9983 - val_loss: 0.0950 - val_acc: 0.9765\n",
            "Epoch 9/20\n",
            "66423/66423 [==============================] - 90s 1ms/step - loss: 0.0066 - acc: 0.9986 - val_loss: 0.1317 - val_acc: 0.9712\n",
            "Epoch 10/20\n",
            "66423/66423 [==============================] - 90s 1ms/step - loss: 0.0056 - acc: 0.9988 - val_loss: 0.2156 - val_acc: 0.9579\n",
            "Epoch 11/20\n",
            "66423/66423 [==============================] - 90s 1ms/step - loss: 0.0055 - acc: 0.9987 - val_loss: 0.1639 - val_acc: 0.9648\n",
            "Epoch 12/20\n",
            "66423/66423 [==============================] - 90s 1ms/step - loss: 0.0035 - acc: 0.9991 - val_loss: 0.2896 - val_acc: 0.9519\n",
            "Epoch 13/20\n",
            "66423/66423 [==============================] - 90s 1ms/step - loss: 0.0047 - acc: 0.9992 - val_loss: 0.2234 - val_acc: 0.9693\n",
            "Epoch 14/20\n",
            "66423/66423 [==============================] - 90s 1ms/step - loss: 0.0035 - acc: 0.9993 - val_loss: 0.3604 - val_acc: 0.9497\n",
            "Epoch 15/20\n",
            "66423/66423 [==============================] - 90s 1ms/step - loss: 0.0028 - acc: 0.9994 - val_loss: 0.3144 - val_acc: 0.9500\n",
            "Epoch 16/20\n",
            "66423/66423 [==============================] - 90s 1ms/step - loss: 0.0022 - acc: 0.9996 - val_loss: 0.2460 - val_acc: 0.9716\n",
            "Epoch 17/20\n",
            "66423/66423 [==============================] - 90s 1ms/step - loss: 0.0028 - acc: 0.9995 - val_loss: 0.4020 - val_acc: 0.9473\n",
            "Epoch 18/20\n",
            "66423/66423 [==============================] - 90s 1ms/step - loss: 0.0019 - acc: 0.9996 - val_loss: 0.2063 - val_acc: 0.9668\n",
            "Epoch 19/20\n",
            "66423/66423 [==============================] - 90s 1ms/step - loss: 0.0011 - acc: 0.9998 - val_loss: 0.2300 - val_acc: 0.9721\n",
            "Epoch 20/20\n",
            "66423/66423 [==============================] - 90s 1ms/step - loss: 0.0016 - acc: 0.9997 - val_loss: 0.3592 - val_acc: 0.9609\n"
          ],
          "name": "stdout"
        }
      ]
    },
    {
      "cell_type": "code",
      "metadata": {
        "colab_type": "code",
        "id": "2ScdsPd5mVoE",
        "outputId": "aeb7080f-ad3c-4eb2-a12c-0367cb7d54fa",
        "colab": {
          "base_uri": "https://localhost:8080/",
          "height": 51
        }
      },
      "source": [
        "newModel.evaluate([input1_test_2, input2_test_2], test_label)\n"
      ],
      "execution_count": 32,
      "outputs": [
        {
          "output_type": "stream",
          "text": [
            "2016/2016 [==============================] - 1s 421us/step\n"
          ],
          "name": "stdout"
        },
        {
          "output_type": "execute_result",
          "data": {
            "text/plain": [
              "[0.552116695487963, 0.9444444444444444]"
            ]
          },
          "metadata": {
            "tags": []
          },
          "execution_count": 32
        }
      ]
    },
    {
      "cell_type": "code",
      "metadata": {
        "colab_type": "code",
        "id": "-lp82WjfmgP2",
        "outputId": "1a500105-2588-44e4-fc27-e44184b6f20c",
        "colab": {
          "base_uri": "https://localhost:8080/",
          "height": 295
        }
      },
      "source": [
        "import matplotlib.pyplot as plt\n",
        "\n",
        "history_dict = history.history \n",
        "loss_values = history_dict ['loss'] \n",
        "val_loss_values = history_dict['val_loss']\n",
        "epochs = range(1, len(loss_values) + 1)\n",
        "\n",
        "plt.plot(epochs, loss_values, 'bo', label='Training loss') \n",
        "plt.plot(epochs, val_loss_values, 'b', label='Validation loss') \n",
        "plt.title('Training and validation loss') \n",
        "plt.xlabel('Epochs') \n",
        "plt.ylabel('Loss') \n",
        "plt.legend()\n",
        "plt.show()"
      ],
      "execution_count": 33,
      "outputs": [
        {
          "output_type": "display_data",
          "data": {
            "image/png": "[encoded data removed]",
            "text/plain": [
              "<Figure size 432x288 with 1 Axes>"
            ]
          },
          "metadata": {
            "tags": []
          }
        }
      ]
    },
    {
      "cell_type": "code",
      "metadata": {
        "colab_type": "code",
        "id": "-yHvQ8UzmhDE",
        "outputId": "90385ecc-08db-468e-c450-3e18fa13138f",
        "colab": {
          "base_uri": "https://localhost:8080/",
          "height": 295
        }
      },
      "source": [
        "history_dict = history.history \n",
        "acc_values = history_dict ['acc'] \n",
        "val_acc_values = history_dict['val_acc']\n",
        "\n",
        "plt.plot(epochs, acc_values, 'bo', label='Training acc') \n",
        "plt.plot(epochs, val_acc_values, 'b', label='Validation acc') \n",
        "plt.title('Training and validation acc') \n",
        "plt.xlabel('Epochs') \n",
        "plt.ylabel('acc') \n",
        "plt.legend()\n",
        "plt.show()"
      ],
      "execution_count": 34,
      "outputs": [
        {
          "output_type": "display_data",
          "data": {
            "image/png": "[encoded data removed]",
            "text/plain": [
              "<Figure size 432x288 with 1 Axes>"
            ]
          },
          "metadata": {
            "tags": []
          }
        }
      ]
    },
    {
      "cell_type": "code",
      "metadata": {
        "id": "Pv2wh4tsOupa",
        "colab_type": "code",
        "colab": {}
      },
      "source": [
        ""
      ],
      "execution_count": 0,
      "outputs": []
    }
  ]
}