{
  "nbformat": 4,
  "nbformat_minor": 0,
  "metadata": {
    "colab": {
      "name": "merge _ 10 subject.ipynb",
      "provenance": [],
      "collapsed_sections": [],
      "machine_shape": "hm",
      "include_colab_link": true
    },
    "kernelspec": {
      "name": "python3",
      "display_name": "Python 3"
    },
    "language_info": {
      "codemirror_mode": {
        "name": "ipython",
        "version": 3
      },
      "file_extension": ".py",
      "mimetype": "text/x-python",
      "name": "python",
      "nbconvert_exporter": "python",
      "pygments_lexer": "ipython3",
      "version": "3.7.3"
    },
    "accelerator": "GPU"
  },
  "cells": [
    {
      "cell_type": "markdown",
      "metadata": {
        "id": "view-in-github",
        "colab_type": "text"
      },
      "source": [
        "<a href=\"https://colab.research.google.com/github/helmana/DLeeg/blob/master/Merge/merge_5%20subject.ipynb\" target=\"_parent\"><img src=\"https://colab.research.google.com/assets/colab-badge.svg\" alt=\"Open In Colab\"/></a>"
      ]
    },
    {
      "cell_type": "code",
      "metadata": {
        "colab_type": "code",
        "id": "YfVnGxljlfpL",
        "outputId": "58536714-fef7-41f9-ee7c-b5555dbb13b0",
        "colab": {
          "base_uri": "https://localhost:8080/",
          "height": 67
        }
      },
      "source": [
        "! pip install mne"
      ],
      "execution_count": 1,
      "outputs": [
        {
          "output_type": "stream",
          "text": [
            "Requirement already satisfied: mne in /usr/local/lib/python3.6/dist-packages (0.19.0)\n",
            "Requirement already satisfied: numpy>=1.11.3 in /usr/local/lib/python3.6/dist-packages (from mne) (1.16.5)\n",
            "Requirement already satisfied: scipy>=0.17.1 in /usr/local/lib/python3.6/dist-packages (from mne) (1.3.1)\n"
          ],
          "name": "stdout"
        }
      ]
    },
    {
      "cell_type": "code",
      "metadata": {
        "id": "7c_teVZKPyPZ",
        "colab_type": "code",
        "colab": {
          "base_uri": "https://localhost:8080/",
          "height": 321
        },
        "outputId": "902195b8-a7f1-4230-abef-14744d2ad5a3"
      },
      "source": [
        "'''\n",
        "\n",
        "--->>> Concatenate two cnn model <<<---\n",
        "\n",
        "* subject number = 5 + 0 new subject\n",
        "\n",
        "[without new subject for test]\n",
        " \n",
        "* epoch = 10\n",
        "* test acc = 0.8937\n",
        "* test loss = 1.3039\n",
        "\n",
        "task_time = 40\n",
        "outer_sample_shift = 40 # outer step len\n",
        "\n",
        "× warning : overfitting (epoch 2)\n",
        "\n",
        "'''\n",
        "\n",
        "import matplotlib\n",
        "\n",
        "from matplotlib import pyplot as plt\n",
        "import numpy as np\n",
        "\n",
        "import math\n",
        "\n",
        "import keras\n",
        "from keras.utils import to_categorical\n",
        "\n",
        "import random\n",
        "import mne\n",
        "from mne.preprocessing import create_ecg_epochs, create_eog_epochs\n",
        "from mne import io\n",
        "from mne import viz\n",
        "#from mne.datasets import testing\n",
        "from mne import Epochs, io, pick_types\n",
        "from mne.event import define_target_events\n",
        "from mne.time_frequency import psd_welch\n",
        "print(__doc__)"
      ],
      "execution_count": 35,
      "outputs": [
        {
          "output_type": "stream",
          "text": [
            "\n",
            "\n",
            "--->>> Concatenate two cnn model <<<---\n",
            "\n",
            "* subject number = 5 + 0 new subject\n",
            "\n",
            "[without new subject for test]\n",
            " \n",
            "* epoch = 10\n",
            "* test acc = 0.8937\n",
            "* test loss = 1.3039\n",
            "\n",
            "task_time = 40\n",
            "outer_sample_shift = 40 # outer step len\n",
            "\n",
            "× warning : overfitting (epoch 2)\n",
            "\n",
            "\n"
          ],
          "name": "stdout"
        }
      ]
    },
    {
      "cell_type": "code",
      "metadata": {
        "colab_type": "code",
        "id": "9yNNLt7ylhOO",
        "outputId": "26ce5f39-be3a-4182-f8e2-2ddc41fec427",
        "colab": {
          "base_uri": "https://localhost:8080/",
          "height": 34
        }
      },
      "source": [
        "\n",
        "subject_number=5\n",
        "#index_new_subject = subject_number//5 # \n",
        "index_new_subject = 0\n",
        "train_subject_number = subject_number - index_new_subject\n",
        "task_index = [1] # task: REO\n",
        "task_number = len(task_index)\n",
        "\n",
        "\n",
        "# channels \n",
        "list_channel = [60]\n",
        "ch_number = len(list_channel)\n",
        "\n",
        "task_time = 40\n",
        "\n",
        "sampel_number_per_sec =  160 # sampel rate\n",
        "total_sampel_number =  sampel_number_per_sec *task_time # 60*160\n",
        "\n",
        "inner_sample_shift = 5 # inner step len\n",
        "outer_sample_shift = 40 # outer step len\n",
        "window_len= 20\n",
        "\n",
        "index_new_subject"
      ],
      "execution_count": 3,
      "outputs": [
        {
          "output_type": "execute_result",
          "data": {
            "text/plain": [
              "0"
            ]
          },
          "metadata": {
            "tags": []
          },
          "execution_count": 3
        }
      ]
    },
    {
      "cell_type": "code",
      "metadata": {
        "colab_type": "code",
        "id": "KTfW-74ClnTG",
        "outputId": "1aafaf64-4cfb-4ab5-9ae8-26a8c0ee154b",
        "colab": {
          "base_uri": "https://localhost:8080/",
          "height": 439
        }
      },
      "source": [
        "# load dataset in array\n",
        "list_raw_fnames = [[0]*task_number]*subject_number\n",
        "for x in range(subject_number):\n",
        "    list_raw_fnames[x] = mne.datasets.eegbci.load_data(x+1,task_index)\n",
        "\n",
        "list_rawdata = np.zeros((subject_number,task_number), dtype='object')\n",
        "\n",
        "for i in range(subject_number):\n",
        "    for j in range(task_number):\n",
        "        list_rawdata[i][j] = mne.io.read_raw_edf(list_raw_fnames[i][j], preload=True)"
      ],
      "execution_count": 4,
      "outputs": [
        {
          "output_type": "stream",
          "text": [
            "Extracting EDF parameters from /root/mne_data/MNE-eegbci-data/physiobank/database/eegmmidb/S001/S001R01.edf...\n",
            "EDF file detected\n",
            "Setting channel info structure...\n",
            "Creating raw.info structure...\n",
            "Reading 0 ... 9759  =      0.000 ...    60.994 secs...\n",
            "Extracting EDF parameters from /root/mne_data/MNE-eegbci-data/physiobank/database/eegmmidb/S002/S002R01.edf...\n",
            "EDF file detected\n",
            "Setting channel info structure...\n",
            "Creating raw.info structure...\n",
            "Reading 0 ... 9759  =      0.000 ...    60.994 secs...\n",
            "Extracting EDF parameters from /root/mne_data/MNE-eegbci-data/physiobank/database/eegmmidb/S003/S003R01.edf...\n",
            "EDF file detected\n",
            "Setting channel info structure...\n",
            "Creating raw.info structure...\n",
            "Reading 0 ... 9759  =      0.000 ...    60.994 secs...\n",
            "Extracting EDF parameters from /root/mne_data/MNE-eegbci-data/physiobank/database/eegmmidb/S004/S004R01.edf...\n",
            "EDF file detected\n",
            "Setting channel info structure...\n",
            "Creating raw.info structure...\n",
            "Reading 0 ... 9759  =      0.000 ...    60.994 secs...\n",
            "Extracting EDF parameters from /root/mne_data/MNE-eegbci-data/physiobank/database/eegmmidb/S005/S005R01.edf...\n",
            "EDF file detected\n",
            "Setting channel info structure...\n",
            "Creating raw.info structure...\n",
            "Reading 0 ... 9759  =      0.000 ...    60.994 secs...\n"
          ],
          "name": "stdout"
        }
      ]
    },
    {
      "cell_type": "code",
      "metadata": {
        "colab_type": "code",
        "id": "-p_0zaMJly0W",
        "outputId": "7db00c76-1aee-47ec-f3ff-822c4fa31f44",
        "colab": {
          "base_uri": "https://localhost:8080/",
          "height": 34
        }
      },
      "source": [
        "# img for each one\n",
        "subject_img_number = math.floor((total_sampel_number - sampel_number_per_sec - (window_len-1 )*inner_sample_shift) / outer_sample_shift) +1\n",
        "test_start_index=subject_img_number - math.floor(subject_img_number * 0.15) \n",
        "\n",
        "train_number =  test_start_index \n",
        "test_number = subject_img_number - test_start_index\n",
        "subject_img_number"
      ],
      "execution_count": 5,
      "outputs": [
        {
          "output_type": "execute_result",
          "data": {
            "text/plain": [
              "154"
            ]
          },
          "metadata": {
            "tags": []
          },
          "execution_count": 5
        }
      ]
    },
    {
      "cell_type": "code",
      "metadata": {
        "colab_type": "code",
        "id": "abG5ER3_l1-u",
        "outputId": "e784de06-f177-4cca-c7c6-5a132d105c76",
        "colab": {
          "base_uri": "https://localhost:8080/",
          "height": 67
        }
      },
      "source": [
        "train_img = np.zeros((train_number*train_subject_number, ch_number, window_len + 1, 160), dtype = float)\n",
        "train_label =[]\n",
        "\n",
        "\n",
        "test_img = np.zeros((test_number*train_subject_number, ch_number, window_len + 1, 160), dtype = float)\n",
        "test_label =[]\n",
        "#new_subject_img = np.zeros((subject_img_number*index_new_subject, ch_number, window_len + 1, 160), dtype = float)\n",
        "\n",
        "print(\" train_img\" ,train_img.shape,'\\n', \"test_img\",test_img.shape,'\\n')\n",
        "      #\"new_subject_img\", new_subject_img.shape)\n"
      ],
      "execution_count": 6,
      "outputs": [
        {
          "output_type": "stream",
          "text": [
            " train_img (655, 1, 21, 160) \n",
            " test_img (115, 1, 21, 160) \n",
            "\n"
          ],
          "name": "stdout"
        }
      ]
    },
    {
      "cell_type": "code",
      "metadata": {
        "colab_type": "code",
        "id": "A_2Bd6Pkl6DV",
        "colab": {}
      },
      "source": [
        "\n",
        "def normalize_channel_data(ch , i, ch_min, ch_max):\n",
        "    ch = ((ch - ch_min[i]) / (ch_max[i] - ch_min[i] ))\n",
        "    return ch"
      ],
      "execution_count": 0,
      "outputs": []
    },
    {
      "cell_type": "code",
      "metadata": {
        "colab_type": "code",
        "id": "BQ3pO1Ikl8s8",
        "colab": {}
      },
      "source": [
        "\n",
        "list_rawdataTest=list_rawdata.copy()\n",
        "\n",
        "\n",
        "for s in range(subject_number):\n",
        "    ch_max =[]\n",
        "    ch_min =[]\n",
        "    DataChannelsNormal=np.zeros((ch_number,total_sampel_number),dtype = float)\n",
        "    i =0\n",
        "    for ch in list_channel:\n",
        "        DataChannelsRaw, times =list_rawdata[s][0][ch,:total_sampel_number]\n",
        "      \n",
        "        # make a copy\n",
        "        DataChannelsRaw_t=DataChannelsRaw.copy()\n",
        "        times_t=times.copy()\n",
        "      \n",
        "        ch_max = np.append(ch_max, max(DataChannelsRaw_t[0])) # max for each cannel\n",
        "        ch_min = np.append(ch_min, min(DataChannelsRaw_t[0])) # min for each cannel\n",
        "      \n",
        "        # Normalize Channels\n",
        "        DataChannelsNormal[i]=normalize_channel_data(DataChannelsRaw_t, i, ch_min, ch_max)\n",
        "        i=i+1\n",
        "        \n",
        "    if s < index_new_subject:\n",
        "        \n",
        "        for j in range (subject_img_number):\n",
        "            for i in range(ch_number):\n",
        "                for z in range (window_len):\n",
        "              \n",
        "                    ExtractedData = DataChannelsNormal[i,0+ j*outer_sample_shift + z*inner_sample_shift : sampel_number_per_sec+ j*outer_sample_shift + z*inner_sample_shift]\n",
        "                    new_subject_img[s*subject_img_number + j][i][z] = ExtractedData\n",
        "                    if z==window_len-1 :\n",
        "                        new_subject_img[s*subject_img_number + j][i][z+1] = s\n",
        "    else:\n",
        "        \n",
        "        for j in range (subject_img_number):\n",
        "            for i in range(ch_number):\n",
        "                for z in range (window_len):\n",
        "\n",
        "                    ExtractedData = DataChannelsNormal[i,0+ j*outer_sample_shift + z*inner_sample_shift : sampel_number_per_sec+ j*outer_sample_shift + z*inner_sample_shift]\n",
        "\n",
        "                    if j <test_start_index :\n",
        "                        train_img[(s-index_new_subject)* train_number + j][i][z] = ExtractedData\n",
        "                        if z==window_len-1 :\n",
        "                            train_img[(s-index_new_subject)*train_number + j][i][z+1] = s\n",
        "\n",
        "\n",
        "                    else:\n",
        "                        test_img[(s-index_new_subject)* test_number + j - test_start_index][i][z] = ExtractedData\n",
        "                        if z==window_len-1 :\n",
        "                            test_img[(s-index_new_subject)*test_number + j - test_start_index][i][z+1] = s\n",
        "                            \n",
        "           # if j >=test_start_index :\n",
        "               # test_label = np.append(test_label, (s))\n",
        "\n"
      ],
      "execution_count": 0,
      "outputs": []
    },
    {
      "cell_type": "code",
      "metadata": {
        "id": "l85oeIo3m_N5",
        "colab_type": "code",
        "colab": {}
      },
      "source": [
        "#shaffle train img array\n",
        "train_img_shuffle = train_img.copy()\n",
        "\n",
        "np.random.shuffle(train_img_shuffle)"
      ],
      "execution_count": 0,
      "outputs": []
    },
    {
      "cell_type": "code",
      "metadata": {
        "id": "oCB1Fohrm_N-",
        "colab_type": "code",
        "outputId": "9c321723-e870-4825-c91d-d40d709e7436",
        "colab": {
          "base_uri": "https://localhost:8080/",
          "height": 34
        }
      },
      "source": [
        "#create train input1 & input2\n",
        "len_train_img = len(train_img)\n",
        "trian_input_number = int(math.factorial(len_train_img) / (2 * math.factorial(len_train_img-2)))\n",
        "print(trian_input_number)\n",
        "\n",
        "input1 = np.zeros((trian_input_number, ch_number, window_len + 1, 160), dtype = float)\n",
        "input2 = np.zeros((trian_input_number, ch_number, window_len + 1, 160), dtype = float)\n"
      ],
      "execution_count": 10,
      "outputs": [
        {
          "output_type": "stream",
          "text": [
            "214185\n"
          ],
          "name": "stdout"
        }
      ]
    },
    {
      "cell_type": "code",
      "metadata": {
        "id": "x6TnBNx8BnOd",
        "colab_type": "code",
        "colab": {}
      },
      "source": [
        "# fill input train img 1 ,2\n",
        "n=0\n",
        "for i in range(len_train_img):\n",
        "  index1 = train_img_shuffle[0]\n",
        "  \n",
        "  train_img_shuffle = np.delete(train_img_shuffle, 0, axis=0)\n",
        "  \n",
        "  input1[n: n + len(train_img_shuffle)] = train_img_shuffle\n",
        "  input2[n: n + len(train_img_shuffle)] = index1\n",
        "  n =   n + len(train_img_shuffle) \n",
        "\n",
        "del train_img_shuffle"
      ],
      "execution_count": 0,
      "outputs": []
    },
    {
      "cell_type": "code",
      "metadata": {
        "id": "NOEFlEmGVCiH",
        "colab_type": "code",
        "colab": {}
      },
      "source": [
        "train_label=[]\n",
        "# create train label array\n",
        "for i in range(trian_input_number):\n",
        "  if input1[i][0][window_len][0] == input2[i][0][window_len][0]:\n",
        "    train_label = np.append(train_label, 1)\n",
        "  else:\n",
        "    train_label = np.append(train_label, 0)\n",
        "  #print(i)\n",
        "    \n",
        "    \n",
        "    "
      ],
      "execution_count": 0,
      "outputs": []
    },
    {
      "cell_type": "code",
      "metadata": {
        "id": "x6EkRMeLrrMp",
        "colab_type": "code",
        "colab": {}
      },
      "source": [
        "# remove label row \n",
        "input1_2 = np.zeros((trian_input_number, ch_number, window_len, 160), dtype = float)\n",
        "input2_2 = np.zeros((trian_input_number, ch_number, window_len, 160), dtype = float)\n",
        "  \n",
        "  "
      ],
      "execution_count": 0,
      "outputs": []
    },
    {
      "cell_type": "code",
      "metadata": {
        "id": "rJ-j-3sLvKyK",
        "colab_type": "code",
        "colab": {}
      },
      "source": [
        "def remove_label(input_number, inputx, inputx_2 ):\n",
        "  \n",
        "  for i in range(input_number) :\n",
        "\n",
        "    for j in range (ch_number):\n",
        "\n",
        "      inputx_2[i][j] = np.delete(inputx[i][j], window_len, axis=0)\n",
        "    \n",
        "  return (inputx_2)"
      ],
      "execution_count": 0,
      "outputs": []
    },
    {
      "cell_type": "code",
      "metadata": {
        "id": "G78tNxVeW2Vo",
        "colab_type": "code",
        "outputId": "af9dcd31-e8ed-4f17-bb06-e543f8beb77f",
        "colab": {
          "base_uri": "https://localhost:8080/",
          "height": 34
        }
      },
      "source": [
        "input1_2 = remove_label(trian_input_number, input1, input1_2)\n",
        "input2_2 = remove_label(trian_input_number, input2, input2_2)\n",
        "\n",
        "input2_2.shape\n"
      ],
      "execution_count": 15,
      "outputs": [
        {
          "output_type": "execute_result",
          "data": {
            "text/plain": [
              "(214185, 1, 20, 160)"
            ]
          },
          "metadata": {
            "tags": []
          },
          "execution_count": 15
        }
      ]
    },
    {
      "cell_type": "code",
      "metadata": {
        "id": "YaoyDynkhl0R",
        "colab_type": "code",
        "colab": {}
      },
      "source": [
        "del input2_2"
      ],
      "execution_count": 0,
      "outputs": []
    },
    {
      "cell_type": "code",
      "metadata": {
        "id": "d-3vXiQY_B27",
        "colab_type": "code",
        "outputId": "7815e2af-1878-4c55-fb50-35ee223e6c52",
        "colab": {
          "base_uri": "https://localhost:8080/",
          "height": 34
        }
      },
      "source": [
        "###############################  test ##################################\n",
        "# create total test img (part of train img + new subject img)\n",
        "#total_test_img = np.concatenate((test_img, new_subject_img))\n",
        "total_test_img = test_img\n",
        "\n",
        "\n",
        "total_test_img.shape\n"
      ],
      "execution_count": 24,
      "outputs": [
        {
          "output_type": "execute_result",
          "data": {
            "text/plain": [
              "(115, 1, 21, 160)"
            ]
          },
          "metadata": {
            "tags": []
          },
          "execution_count": 24
        }
      ]
    },
    {
      "cell_type": "code",
      "metadata": {
        "id": "IoeE2gtTJT7M",
        "colab_type": "code",
        "outputId": "b0db3792-527c-481e-d0f5-0b81a28e9087",
        "colab": {
          "base_uri": "https://localhost:8080/",
          "height": 34
        }
      },
      "source": [
        "\n",
        "# create 2 input test image\n",
        "len_test_img = len(total_test_img)\n",
        "test_input_number = int(math.factorial(len_test_img) / (2 * math.factorial(len_test_img-2)))\n",
        "print(test_input_number)\n",
        "\n",
        "input1_test = np.zeros((test_input_number, ch_number, window_len + 1, 160), dtype = float)\n",
        "input2_test = np.zeros((test_input_number, ch_number, window_len + 1, 160), dtype = float)\n"
      ],
      "execution_count": 25,
      "outputs": [
        {
          "output_type": "stream",
          "text": [
            "6555\n"
          ],
          "name": "stdout"
        }
      ]
    },
    {
      "cell_type": "code",
      "metadata": {
        "id": "oVhfoecOyRbi",
        "colab_type": "code",
        "colab": {}
      },
      "source": [
        "\n",
        "\n",
        "# fill input test img 1 ,2\n",
        "n=0\n",
        "for i in range(len_test_img):\n",
        "  index1 = total_test_img[0]\n",
        "  total_test_img = np.delete(total_test_img, 0, axis=0)\n",
        "  \n",
        "  input1_test[n: n + len(total_test_img)] = total_test_img\n",
        "  input2_test[n: n + len(total_test_img)] = index1\n",
        "  n =   n + len(total_test_img) \n",
        "\n",
        "#del input2_test\n"
      ],
      "execution_count": 0,
      "outputs": []
    },
    {
      "cell_type": "code",
      "metadata": {
        "id": "qxPmk8IFyVlg",
        "colab_type": "code",
        "colab": {}
      },
      "source": [
        "\n",
        "test_label=[]\n",
        "# create test label array\n",
        "for i in range(test_input_number):\n",
        "  if input1_test[i][0][window_len][0] == input2_test[i][0][window_len][0]:\n",
        "    test_label = np.append(test_label, 1)\n",
        "    #print(test_label)\n",
        "  else:\n",
        "    test_label = np.append(test_label, 0)\n"
      ],
      "execution_count": 0,
      "outputs": []
    },
    {
      "cell_type": "code",
      "metadata": {
        "id": "uXcbpN7gybVp",
        "colab_type": "code",
        "colab": {}
      },
      "source": [
        "    \n",
        "# remove label row \n",
        "\n",
        "input1_test_2 = np.zeros((test_input_number, ch_number, window_len, 160), dtype = float)\n",
        "input2_test_2 = np.zeros((test_input_number, ch_number, window_len, 160), dtype = float)\n",
        "\n"
      ],
      "execution_count": 0,
      "outputs": []
    },
    {
      "cell_type": "code",
      "metadata": {
        "id": "T7zRW-y0zdRH",
        "colab_type": "code",
        "outputId": "1410e658-5fde-4edd-f5e2-42f10509a198",
        "colab": {
          "base_uri": "https://localhost:8080/",
          "height": 34
        }
      },
      "source": [
        "input1_test_2 = remove_label(test_input_number, input1_test, input1_test_2)\n",
        "input2_test_2 = remove_label(test_input_number, input2_test, input2_test_2)\n",
        "\n",
        "input2_test_2.shape\n"
      ],
      "execution_count": 29,
      "outputs": [
        {
          "output_type": "execute_result",
          "data": {
            "text/plain": [
              "(6555, 1, 20, 160)"
            ]
          },
          "metadata": {
            "tags": []
          },
          "execution_count": 29
        }
      ]
    },
    {
      "cell_type": "code",
      "metadata": {
        "id": "oZJVEXBGG7PD",
        "colab_type": "code",
        "colab": {}
      },
      "source": [
        "test_label[:1000]\n",
        "\n"
      ],
      "execution_count": 0,
      "outputs": []
    },
    {
      "cell_type": "code",
      "metadata": {
        "colab_type": "code",
        "id": "UqI6jFCcmMWl",
        "colab": {}
      },
      "source": [
        "# categorical test & train label\n",
        "#train_label = to_categorical(train_label, 2)\n",
        "test_label = to_categorical(test_label, 2)\n",
        "#train_label"
      ],
      "execution_count": 0,
      "outputs": []
    },
    {
      "cell_type": "code",
      "metadata": {
        "id": "5A7fFU-MLaVZ",
        "colab_type": "code",
        "colab": {
          "base_uri": "https://localhost:8080/",
          "height": 186
        },
        "outputId": "15eca0fa-5d14-4647-e2da-aa9af9e55408"
      },
      "source": [
        "test_label[:10]"
      ],
      "execution_count": 31,
      "outputs": [
        {
          "output_type": "execute_result",
          "data": {
            "text/plain": [
              "array([[0., 1.],\n",
              "       [0., 1.],\n",
              "       [0., 1.],\n",
              "       [0., 1.],\n",
              "       [0., 1.],\n",
              "       [0., 1.],\n",
              "       [0., 1.],\n",
              "       [0., 1.],\n",
              "       [0., 1.],\n",
              "       [0., 1.]], dtype=float32)"
            ]
          },
          "metadata": {
            "tags": []
          },
          "execution_count": 31
        }
      ]
    },
    {
      "cell_type": "code",
      "metadata": {
        "colab_type": "code",
        "id": "zFe8gV7XmNLV",
        "colab": {}
      },
      "source": [
        "validation_index = math.floor( trian_input_number * 0.2)\n",
        "\n",
        "\n",
        "# validation & train\n",
        "\n",
        "#train\n",
        "x_train_1 =input1_2[validation_index:]\n",
        "x_train_2 =input2_2[validation_index:]\n",
        "\n",
        "y_train =train_label[validation_index:]\n",
        "\n",
        "#validation\n",
        "x_validation_1 =input1_2[:validation_index]\n",
        "x_validation_2 =input2_2[:validation_index] \n",
        "\n",
        "y_valid =train_label[:validation_index]\n",
        "\n",
        "#x_valid.shape"
      ],
      "execution_count": 0,
      "outputs": []
    },
    {
      "cell_type": "code",
      "metadata": {
        "id": "oeVSddxXKeWJ",
        "colab_type": "code",
        "colab": {
          "base_uri": "https://localhost:8080/",
          "height": 163
        },
        "outputId": "105fa8a3-6937-430d-f6e6-96d5d68af8a0"
      },
      "source": [
        "del input1"
      ],
      "execution_count": 36,
      "outputs": [
        {
          "output_type": "error",
          "ename": "NameError",
          "evalue": "ignored",
          "traceback": [
            "\u001b[0;31m---------------------------------------------------------------------------\u001b[0m",
            "\u001b[0;31mNameError\u001b[0m                                 Traceback (most recent call last)",
            "\u001b[0;32m<ipython-input-36-3d4f150fa2a0>\u001b[0m in \u001b[0;36m<module>\u001b[0;34m()\u001b[0m\n\u001b[0;32m----> 1\u001b[0;31m \u001b[0;32mdel\u001b[0m \u001b[0minput1\u001b[0m\u001b[0;34m\u001b[0m\u001b[0;34m\u001b[0m\u001b[0m\n\u001b[0m",
            "\u001b[0;31mNameError\u001b[0m: name 'input1' is not defined"
          ]
        }
      ]
    },
    {
      "cell_type": "code",
      "metadata": {
        "colab_type": "code",
        "id": "PWPtKkZHmP4m",
        "outputId": "8d2dc5cc-228d-4210-87ee-d2533de74592",
        "colab": {
          "base_uri": "https://localhost:8080/",
          "height": 577
        }
      },
      "source": [
        "\n",
        "from keras import layers\n",
        "from keras import models\n",
        "from keras import regularizers\n",
        "#from keras.layers import Dense, Merge\n",
        "from keras.layers import *\n",
        "from keras.models import Model\n",
        "\n",
        "\n",
        "cnn1 = models.Sequential()\n",
        "cnn1.add(layers.Conv2D(64, (3,3), activation = 'relu', padding='same', input_shape = (ch_number,window_len,160), data_format= \"channels_first\" ))\n",
        "print(cnn1.output.shape)\n",
        "cnn1.add(layers.MaxPooling2D((2,2)))\n",
        "print(cnn1.output.shape)\n",
        "cnn1.add(layers.Conv2D(128, (3,3), activation = 'relu'))\n",
        "print(cnn1.output.shape)\n",
        "cnn1.add(layers.MaxPooling2D((2,2)))\n",
        "print(cnn1.output.shape)\n",
        "cnn1.add(layers.Conv2D(256, (3,3), activation = 'relu'))\n",
        "print(cnn1.output.shape)\n",
        "cnn1.add(layers.MaxPooling2D((2,2)))\n",
        "cnn1.add(layers.Flatten())\n",
        "print(cnn1.output.shape)\n",
        "\n",
        "\n",
        "cnn2 = models.Sequential()\n",
        "cnn2.add(layers.Conv2D(64, (3,3), activation = 'relu', padding='same', input_shape = (ch_number,window_len,160), data_format= \"channels_first\" ))\n",
        "print(cnn2.output.shape)\n",
        "cnn2.add(layers.MaxPooling2D((2,2)))\n",
        "print(cnn2.output.shape)\n",
        "cnn2.add(layers.Conv2D(128, (3,3), activation = 'relu'))\n",
        "print(cnn2.output.shape)\n",
        "cnn2.add(layers.MaxPooling2D((2,2)))\n",
        "print(cnn2.output.shape)\n",
        "cnn2.add(layers.Conv2D(256, (3,3), activation = 'relu'))\n",
        "print(cnn2.output.shape)\n",
        "cnn2.add(layers.MaxPooling2D((2,2)))\n",
        "cnn2.add(layers.Flatten())\n",
        "print(cnn2.output.shape)\n",
        "\n",
        "mergedOut = Concatenate()([cnn1.output,cnn2.output])\n",
        "\n",
        "#mergedOut = Flatten()(mergedOut)    \n",
        "mergedOut = Dense(512, activation='relu')(mergedOut)\n",
        "mergedOut = Dropout(.5)(mergedOut)\n",
        "\n",
        "# output layer\n",
        "mergedOut = Dense(2, activation='sigmoid')(mergedOut)\n",
        "\n",
        "newModel = Model([cnn1.input,cnn2.input], mergedOut)\n",
        "\n",
        "#model = models.Sequential()\n",
        "#model.add(layers.Concatenate([cnn1,cnn2]))\n",
        "#model.add(layers.Dense(512, activation = 'relu'))\n",
        "#model.add(layers.Dropout(0.5))\n",
        "#print(model.output.shape)\n",
        "#model.add(layers.Dense(2, activation = 'sigmoid'))\n",
        "#print(model.output.shape)\n",
        "\n",
        "\n",
        "from keras import optimizers\n",
        "\n",
        "newModel.compile(loss= 'binary_crossentropy',\n",
        "              optimizer= optimizers.RMSprop(lr= 1e-4),\n",
        "              metrics = ['acc'])"
      ],
      "execution_count": 20,
      "outputs": [
        {
          "output_type": "stream",
          "text": [
            "WARNING:tensorflow:From /usr/local/lib/python3.6/dist-packages/keras/backend/tensorflow_backend.py:66: The name tf.get_default_graph is deprecated. Please use tf.compat.v1.get_default_graph instead.\n",
            "\n",
            "WARNING:tensorflow:From /usr/local/lib/python3.6/dist-packages/keras/backend/tensorflow_backend.py:541: The name tf.placeholder is deprecated. Please use tf.compat.v1.placeholder instead.\n",
            "\n",
            "WARNING:tensorflow:From /usr/local/lib/python3.6/dist-packages/keras/backend/tensorflow_backend.py:4432: The name tf.random_uniform is deprecated. Please use tf.random.uniform instead.\n",
            "\n",
            "WARNING:tensorflow:From /usr/local/lib/python3.6/dist-packages/keras/backend/tensorflow_backend.py:190: The name tf.get_default_session is deprecated. Please use tf.compat.v1.get_default_session instead.\n",
            "\n",
            "WARNING:tensorflow:From /usr/local/lib/python3.6/dist-packages/keras/backend/tensorflow_backend.py:197: The name tf.ConfigProto is deprecated. Please use tf.compat.v1.ConfigProto instead.\n",
            "\n",
            "(?, 64, 20, 160)\n",
            "WARNING:tensorflow:From /usr/local/lib/python3.6/dist-packages/keras/backend/tensorflow_backend.py:4267: The name tf.nn.max_pool is deprecated. Please use tf.nn.max_pool2d instead.\n",
            "\n",
            "(?, 32, 10, 160)\n",
            "(?, 30, 8, 128)\n",
            "(?, 15, 4, 128)\n",
            "(?, 13, 2, 256)\n",
            "(?, ?)\n",
            "(?, 64, 20, 160)\n",
            "(?, 32, 10, 160)\n",
            "(?, 30, 8, 128)\n",
            "(?, 15, 4, 128)\n",
            "(?, 13, 2, 256)\n",
            "(?, ?)\n",
            "WARNING:tensorflow:From /usr/local/lib/python3.6/dist-packages/keras/backend/tensorflow_backend.py:3733: calling dropout (from tensorflow.python.ops.nn_ops) with keep_prob is deprecated and will be removed in a future version.\n",
            "Instructions for updating:\n",
            "Please use `rate` instead of `keep_prob`. Rate should be set to `rate = 1 - keep_prob`.\n",
            "WARNING:tensorflow:From /usr/local/lib/python3.6/dist-packages/keras/optimizers.py:793: The name tf.train.Optimizer is deprecated. Please use tf.compat.v1.train.Optimizer instead.\n",
            "\n",
            "WARNING:tensorflow:From /usr/local/lib/python3.6/dist-packages/tensorflow/python/ops/nn_impl.py:180: add_dispatch_support.<locals>.wrapper (from tensorflow.python.ops.array_ops) is deprecated and will be removed in a future version.\n",
            "Instructions for updating:\n",
            "Use tf.where in 2.0, which has the same broadcast rule as np.where\n"
          ],
          "name": "stdout"
        }
      ]
    },
    {
      "cell_type": "code",
      "metadata": {
        "colab_type": "code",
        "id": "Cr1zrBTKmTTm",
        "outputId": "0412ddd0-8f02-47b2-f245-d96f864d80a5",
        "colab": {
          "base_uri": "https://localhost:8080/",
          "height": 392
        }
      },
      "source": [
        "history = newModel.fit(\n",
        "        [x_train_1, x_train_2],\n",
        "        y_train,\n",
        "        epochs = 10,\n",
        "        batch_size = 20,\n",
        "        validation_data = ([x_validation_1, x_validation_2], y_valid)\n",
        ")"
      ],
      "execution_count": 21,
      "outputs": [
        {
          "output_type": "stream",
          "text": [
            "Train on 171348 samples, validate on 42837 samples\n",
            "Epoch 1/10\n",
            "171348/171348 [==============================] - 617s 4ms/step - loss: 0.2195 - acc: 0.8972 - val_loss: 0.1792 - val_acc: 0.8959\n",
            "Epoch 2/10\n",
            "171348/171348 [==============================] - 646s 4ms/step - loss: 0.0292 - acc: 0.9902 - val_loss: 0.1390 - val_acc: 0.9646\n",
            "Epoch 3/10\n",
            "171348/171348 [==============================] - 586s 3ms/step - loss: 0.0096 - acc: 0.9977 - val_loss: 0.1891 - val_acc: 0.9619\n",
            "Epoch 4/10\n",
            "171348/171348 [==============================] - 681s 4ms/step - loss: 0.0091 - acc: 0.9984 - val_loss: 0.2243 - val_acc: 0.9668\n",
            "Epoch 5/10\n",
            "171348/171348 [==============================] - 687s 4ms/step - loss: 0.0071 - acc: 0.9988 - val_loss: 0.2472 - val_acc: 0.9666\n",
            "Epoch 6/10\n",
            "171348/171348 [==============================] - 710s 4ms/step - loss: 0.0069 - acc: 0.9989 - val_loss: 0.2523 - val_acc: 0.9676\n",
            "Epoch 7/10\n",
            "171348/171348 [==============================] - 704s 4ms/step - loss: 0.0055 - acc: 0.9991 - val_loss: 0.2842 - val_acc: 0.9600\n",
            "Epoch 8/10\n",
            "171348/171348 [==============================] - 691s 4ms/step - loss: 0.0046 - acc: 0.9993 - val_loss: 0.3635 - val_acc: 0.9594\n",
            "Epoch 9/10\n",
            "171348/171348 [==============================] - 692s 4ms/step - loss: 0.0041 - acc: 0.9993 - val_loss: 0.3693 - val_acc: 0.9627\n",
            "Epoch 10/10\n",
            "171348/171348 [==============================] - 702s 4ms/step - loss: 0.0036 - acc: 0.9994 - val_loss: 0.3217 - val_acc: 0.9633\n"
          ],
          "name": "stdout"
        }
      ]
    },
    {
      "cell_type": "code",
      "metadata": {
        "colab_type": "code",
        "id": "2ScdsPd5mVoE",
        "outputId": "1f2eba83-2b34-4826-cc64-54b633f79c41",
        "colab": {
          "base_uri": "https://localhost:8080/",
          "height": 51
        }
      },
      "source": [
        "newModel.evaluate([input1_test_2, input2_test_2], test_label)\n"
      ],
      "execution_count": 32,
      "outputs": [
        {
          "output_type": "stream",
          "text": [
            "6555/6555 [==============================] - 10s 2ms/step\n"
          ],
          "name": "stdout"
        },
        {
          "output_type": "execute_result",
          "data": {
            "text/plain": [
              "[1.3039790846768289, 0.8937452326468345]"
            ]
          },
          "metadata": {
            "tags": []
          },
          "execution_count": 32
        }
      ]
    },
    {
      "cell_type": "code",
      "metadata": {
        "colab_type": "code",
        "id": "-lp82WjfmgP2",
        "outputId": "0095bcfc-cf16-4018-9135-a23b1af38971",
        "colab": {
          "base_uri": "https://localhost:8080/",
          "height": 295
        }
      },
      "source": [
        "import matplotlib.pyplot as plt\n",
        "\n",
        "\n",
        "history_dict = history.history \n",
        "loss_values = history_dict ['loss'] \n",
        "val_loss_values = history_dict['val_loss']\n",
        "epochs = range(1, len(loss_values) + 1)\n",
        "\n",
        "plt.plot(epochs, loss_values, 'bo', label='Training loss') \n",
        "plt.plot(epochs, val_loss_values, 'b', label='Validation loss') \n",
        "plt.title('Training and validation loss') \n",
        "plt.xlabel('Epochs') \n",
        "plt.ylabel('Loss') \n",
        "plt.legend()\n",
        "plt.show()"
      ],
      "execution_count": 33,
      "outputs": [
        {
          "output_type": "display_data",
          "data": {
            "image/png": "[encoded data removed]",
            "text/plain": [
              "<Figure size 432x288 with 1 Axes>"
            ]
          },
          "metadata": {
            "tags": []
          }
        }
      ]
    },
    {
      "cell_type": "code",
      "metadata": {
        "colab_type": "code",
        "id": "-yHvQ8UzmhDE",
        "outputId": "58a6d686-1164-46eb-b218-a07596b55d73",
        "colab": {
          "base_uri": "https://localhost:8080/",
          "height": 295
        }
      },
      "source": [
        "history_dict = history.history \n",
        "acc_values = history_dict ['acc'] \n",
        "val_acc_values = history_dict['val_acc']\n",
        "\n",
        "plt.plot(epochs, acc_values, 'bo', label='Training acc') \n",
        "plt.plot(epochs, val_acc_values, 'b', label='Validation acc') \n",
        "plt.title('Training and validation acc') \n",
        "plt.xlabel('Epochs') \n",
        "plt.ylabel('acc') \n",
        "plt.legend()\n",
        "plt.show()"
      ],
      "execution_count": 34,
      "outputs": [
        {
          "output_type": "display_data",
          "data": {
            "image/png": "[encoded data removed]",
            "text/plain": [
              "<Figure size 432x288 with 1 Axes>"
            ]
          },
          "metadata": {
            "tags": []
          }
        }
      ]
    },
    {
      "cell_type": "code",
      "metadata": {
        "id": "Pv2wh4tsOupa",
        "colab_type": "code",
        "colab": {}
      },
      "source": [
        ""
      ],
      "execution_count": 0,
      "outputs": []
    }
  ]
}