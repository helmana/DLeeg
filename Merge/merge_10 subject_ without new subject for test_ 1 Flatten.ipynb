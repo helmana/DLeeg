{
  "nbformat": 4,
  "nbformat_minor": 0,
  "metadata": {
    "colab": {
      "name": "merge _ 10 subject.ipynb",
      "provenance": [],
      "collapsed_sections": [],
      "machine_shape": "hm",
      "include_colab_link": true
    },
    "kernelspec": {
      "name": "python3",
      "display_name": "Python 3"
    },
    "language_info": {
      "codemirror_mode": {
        "name": "ipython",
        "version": 3
      },
      "file_extension": ".py",
      "mimetype": "text/x-python",
      "name": "python",
      "nbconvert_exporter": "python",
      "pygments_lexer": "ipython3",
      "version": "3.7.3"
    },
    "accelerator": "GPU"
  },
  "cells": [
    {
      "cell_type": "markdown",
      "metadata": {
        "id": "view-in-github",
        "colab_type": "text"
      },
      "source": [
        "<a href=\"https://colab.research.google.com/github/helmana/DLeeg/blob/master/Merge/merge_10%20subject_%20without%20new%20subject%20for%20test_%201%20Flatten.ipynb\" target=\"_parent\"><img src=\"https://colab.research.google.com/assets/colab-badge.svg\" alt=\"Open In Colab\"/></a>"
      ]
    },
    {
      "cell_type": "code",
      "metadata": {
        "colab_type": "code",
        "id": "YfVnGxljlfpL",
        "outputId": "8914b2b0-a1ec-4fe5-8029-caafefb6696f",
        "colab": {
          "base_uri": "https://localhost:8080/",
          "height": 155
        }
      },
      "source": [
        "! pip install mne"
      ],
      "execution_count": 1,
      "outputs": [
        {
          "output_type": "stream",
          "text": [
            "Collecting mne\n",
            "\u001b[?25l  Downloading https://files.pythonhosted.org/packages/f5/44/b5b96426623c9dca0dfcdcfdf1f57058bb668f7c1a01bed0b0b867eb8b92/mne-0.19.0-py3-none-any.whl (6.4MB)\n",
            "\u001b[K     |████████████████████████████████| 6.4MB 7.0MB/s \n",
            "\u001b[?25hRequirement already satisfied: scipy>=0.17.1 in /usr/local/lib/python3.6/dist-packages (from mne) (1.3.1)\n",
            "Requirement already satisfied: numpy>=1.11.3 in /usr/local/lib/python3.6/dist-packages (from mne) (1.16.5)\n",
            "Installing collected packages: mne\n",
            "Successfully installed mne-0.19.0\n"
          ],
          "name": "stdout"
        }
      ]
    },
    {
      "cell_type": "code",
      "metadata": {
        "id": "7c_teVZKPyPZ",
        "colab_type": "code",
        "colab": {
          "base_uri": "https://localhost:8080/",
          "height": 270
        },
        "outputId": "faf51263-7ea2-44c6-a318-a9c6cc8e39d5"
      },
      "source": [
        "'''\n",
        "\n",
        "--->>> Concatenate two cnn model <<<---\n",
        "\n",
        "* subject number = 10\n",
        "[without new subject for test]\n",
        " \n",
        "* 1 flatten, flatten layer after Concatenate\n",
        "\n",
        "* test acc = 0.9513\n",
        "* test loss = 0.4869\n",
        "\n",
        "\n",
        "'''\n",
        "\n",
        "import matplotlib\n",
        "\n",
        "from matplotlib import pyplot as plt\n",
        "import numpy as np\n",
        "\n",
        "import math\n",
        "\n",
        "import keras\n",
        "from keras.utils import to_categorical\n",
        "\n",
        "import random\n",
        "import mne\n",
        "from mne.preprocessing import create_ecg_epochs, create_eog_epochs\n",
        "from mne import io\n",
        "from mne import viz\n",
        "#from mne.datasets import testing\n",
        "from mne import Epochs, io, pick_types\n",
        "from mne.event import define_target_events\n",
        "from mne.time_frequency import psd_welch\n",
        "print(__doc__)"
      ],
      "execution_count": 35,
      "outputs": [
        {
          "output_type": "stream",
          "text": [
            "\n",
            "\n",
            "\n",
            "--->>> Concatenate two cnn model <<<---\n",
            "\n",
            "* subject number = 10 \n",
            "[without new subject for test]\n",
            " \n",
            " \n",
            "* test acc = 0.9444\n",
            "* test loss = 0.5521\n",
            "\n",
            "\n",
            "\n",
            "\n"
          ],
          "name": "stdout"
        }
      ]
    },
    {
      "cell_type": "code",
      "metadata": {
        "colab_type": "code",
        "id": "9yNNLt7ylhOO",
        "outputId": "acfc28e4-f3ac-4bcd-bea3-6406e532e504",
        "colab": {
          "base_uri": "https://localhost:8080/",
          "height": 34
        }
      },
      "source": [
        "\n",
        "subject_number=10\n",
        "index_new_subject = subject_number//5 #  \n",
        "train_subject_number = subject_number - index_new_subject\n",
        "task_index = [1] # task: REO\n",
        "task_number = len(task_index)\n",
        "\n",
        "\n",
        "# channels \n",
        "list_channel = [60]\n",
        "ch_number = len(list_channel)\n",
        "\n",
        "task_time = 60\n",
        "\n",
        "sampel_number_per_sec =  160 # sampel rate\n",
        "total_sampel_number =  sampel_number_per_sec *task_time # 60*160\n",
        "\n",
        "inner_sample_shift = 5 # inner step len\n",
        "outer_sample_shift = 160 # outer step len\n",
        "window_len= 20\n",
        "\n",
        "index_new_subject"
      ],
      "execution_count": 36,
      "outputs": [
        {
          "output_type": "execute_result",
          "data": {
            "text/plain": [
              "2"
            ]
          },
          "metadata": {
            "tags": []
          },
          "execution_count": 36
        }
      ]
    },
    {
      "cell_type": "code",
      "metadata": {
        "colab_type": "code",
        "id": "KTfW-74ClnTG",
        "outputId": "dec65b17-3ca0-440c-ffd4-19e3ba6cd798",
        "colab": {
          "base_uri": "https://localhost:8080/",
          "height": 862
        }
      },
      "source": [
        "# load dataset in array\n",
        "list_raw_fnames = [[0]*task_number]*subject_number\n",
        "for x in range(subject_number):\n",
        "    list_raw_fnames[x] = mne.datasets.eegbci.load_data(x+1,task_index)\n",
        "\n",
        "list_rawdata = np.zeros((subject_number,task_number), dtype='object')\n",
        "\n",
        "for i in range(subject_number):\n",
        "    for j in range(task_number):\n",
        "        list_rawdata[i][j] = mne.io.read_raw_edf(list_raw_fnames[i][j], preload=True)"
      ],
      "execution_count": 37,
      "outputs": [
        {
          "output_type": "stream",
          "text": [
            "Extracting EDF parameters from /root/mne_data/MNE-eegbci-data/physiobank/database/eegmmidb/S001/S001R01.edf...\n",
            "EDF file detected\n",
            "Setting channel info structure...\n",
            "Creating raw.info structure...\n",
            "Reading 0 ... 9759  =      0.000 ...    60.994 secs...\n",
            "Extracting EDF parameters from /root/mne_data/MNE-eegbci-data/physiobank/database/eegmmidb/S002/S002R01.edf...\n",
            "EDF file detected\n",
            "Setting channel info structure...\n",
            "Creating raw.info structure...\n",
            "Reading 0 ... 9759  =      0.000 ...    60.994 secs...\n",
            "Extracting EDF parameters from /root/mne_data/MNE-eegbci-data/physiobank/database/eegmmidb/S003/S003R01.edf...\n",
            "EDF file detected\n",
            "Setting channel info structure...\n",
            "Creating raw.info structure...\n",
            "Reading 0 ... 9759  =      0.000 ...    60.994 secs...\n",
            "Extracting EDF parameters from /root/mne_data/MNE-eegbci-data/physiobank/database/eegmmidb/S004/S004R01.edf...\n",
            "EDF file detected\n",
            "Setting channel info structure...\n",
            "Creating raw.info structure...\n",
            "Reading 0 ... 9759  =      0.000 ...    60.994 secs...\n",
            "Extracting EDF parameters from /root/mne_data/MNE-eegbci-data/physiobank/database/eegmmidb/S005/S005R01.edf...\n",
            "EDF file detected\n",
            "Setting channel info structure...\n",
            "Creating raw.info structure...\n",
            "Reading 0 ... 9759  =      0.000 ...    60.994 secs...\n",
            "Extracting EDF parameters from /root/mne_data/MNE-eegbci-data/physiobank/database/eegmmidb/S006/S006R01.edf...\n",
            "EDF file detected\n",
            "Setting channel info structure...\n",
            "Creating raw.info structure...\n",
            "Reading 0 ... 9759  =      0.000 ...    60.994 secs...\n",
            "Extracting EDF parameters from /root/mne_data/MNE-eegbci-data/physiobank/database/eegmmidb/S007/S007R01.edf...\n",
            "EDF file detected\n",
            "Setting channel info structure...\n",
            "Creating raw.info structure...\n",
            "Reading 0 ... 9759  =      0.000 ...    60.994 secs...\n",
            "Extracting EDF parameters from /root/mne_data/MNE-eegbci-data/physiobank/database/eegmmidb/S008/S008R01.edf...\n",
            "EDF file detected\n",
            "Setting channel info structure...\n",
            "Creating raw.info structure...\n",
            "Reading 0 ... 9759  =      0.000 ...    60.994 secs...\n",
            "Extracting EDF parameters from /root/mne_data/MNE-eegbci-data/physiobank/database/eegmmidb/S009/S009R01.edf...\n",
            "EDF file detected\n",
            "Setting channel info structure...\n",
            "Creating raw.info structure...\n",
            "Reading 0 ... 9759  =      0.000 ...    60.994 secs...\n",
            "Extracting EDF parameters from /root/mne_data/MNE-eegbci-data/physiobank/database/eegmmidb/S010/S010R01.edf...\n",
            "EDF file detected\n",
            "Setting channel info structure...\n",
            "Creating raw.info structure...\n",
            "Reading 0 ... 9759  =      0.000 ...    60.994 secs...\n"
          ],
          "name": "stdout"
        }
      ]
    },
    {
      "cell_type": "code",
      "metadata": {
        "colab_type": "code",
        "id": "-p_0zaMJly0W",
        "outputId": "67ba569d-bf9d-4b58-d3f8-7f40aceae739",
        "colab": {
          "base_uri": "https://localhost:8080/",
          "height": 34
        }
      },
      "source": [
        "# img for each one\n",
        "subject_img_number = math.floor((total_sampel_number - sampel_number_per_sec - (window_len-1 )*inner_sample_shift) / outer_sample_shift) +1\n",
        "test_start_index=subject_img_number - math.floor(subject_img_number * 0.15) \n",
        "\n",
        "train_number =  test_start_index \n",
        "test_number = subject_img_number - test_start_index\n",
        "subject_img_number"
      ],
      "execution_count": 38,
      "outputs": [
        {
          "output_type": "execute_result",
          "data": {
            "text/plain": [
              "59"
            ]
          },
          "metadata": {
            "tags": []
          },
          "execution_count": 38
        }
      ]
    },
    {
      "cell_type": "code",
      "metadata": {
        "colab_type": "code",
        "id": "abG5ER3_l1-u",
        "outputId": "1cea9851-59c7-45e6-b664-be55cfcd479c",
        "colab": {
          "base_uri": "https://localhost:8080/",
          "height": 67
        }
      },
      "source": [
        "train_img = np.zeros((train_number*train_subject_number, ch_number, window_len + 1, 160), dtype = float)\n",
        "train_label =[]\n",
        "\n",
        "\n",
        "test_img = np.zeros((test_number*train_subject_number, ch_number, window_len + 1, 160), dtype = float)\n",
        "test_label =[]\n",
        "new_subject_img = np.zeros((subject_img_number*index_new_subject, ch_number, window_len + 1, 160), dtype = float)\n",
        "\n",
        "print(\" train_img\" ,train_img.shape,'\\n', \"test_img\",test_img.shape,'\\n', \"new_subject_img\", new_subject_img.shape)\n"
      ],
      "execution_count": 39,
      "outputs": [
        {
          "output_type": "stream",
          "text": [
            " train_img (408, 1, 21, 160) \n",
            " test_img (64, 1, 21, 160) \n",
            " new_subject_img (118, 1, 21, 160)\n"
          ],
          "name": "stdout"
        }
      ]
    },
    {
      "cell_type": "code",
      "metadata": {
        "colab_type": "code",
        "id": "A_2Bd6Pkl6DV",
        "colab": {}
      },
      "source": [
        "\n",
        "def normalize_channel_data(ch , i, ch_min, ch_max):\n",
        "    ch = ((ch - ch_min[i]) / (ch_max[i] - ch_min[i] ))\n",
        "    return ch"
      ],
      "execution_count": 0,
      "outputs": []
    },
    {
      "cell_type": "code",
      "metadata": {
        "colab_type": "code",
        "id": "BQ3pO1Ikl8s8",
        "colab": {}
      },
      "source": [
        "\n",
        "list_rawdataTest=list_rawdata.copy()\n",
        "\n",
        "\n",
        "for s in range(subject_number):\n",
        "    ch_max =[]\n",
        "    ch_min =[]\n",
        "    DataChannelsNormal=np.zeros((ch_number,total_sampel_number),dtype = float)\n",
        "    i =0\n",
        "    for ch in list_channel:\n",
        "        DataChannelsRaw, times =list_rawdata[s][0][ch,:total_sampel_number]\n",
        "      \n",
        "        # make a copy\n",
        "        DataChannelsRaw_t=DataChannelsRaw.copy()\n",
        "        times_t=times.copy()\n",
        "      \n",
        "        ch_max = np.append(ch_max, max(DataChannelsRaw_t[0])) # max for each cannel\n",
        "        ch_min = np.append(ch_min, min(DataChannelsRaw_t[0])) # min for each cannel\n",
        "      \n",
        "        # Normalize Channels\n",
        "        DataChannelsNormal[i]=normalize_channel_data(DataChannelsRaw_t, i, ch_min, ch_max)\n",
        "        i=i+1\n",
        "        \n",
        "    if s < index_new_subject:\n",
        "        \n",
        "        for j in range (subject_img_number):\n",
        "            for i in range(ch_number):\n",
        "                for z in range (window_len):\n",
        "              \n",
        "                    ExtractedData = DataChannelsNormal[i,0+ j*outer_sample_shift + z*inner_sample_shift : sampel_number_per_sec+ j*outer_sample_shift + z*inner_sample_shift]\n",
        "                    new_subject_img[s*subject_img_number + j][i][z] = ExtractedData\n",
        "                    if z==window_len-1 :\n",
        "                        new_subject_img[s*subject_img_number + j][i][z+1] = s\n",
        "    else:\n",
        "        \n",
        "        for j in range (subject_img_number):\n",
        "            for i in range(ch_number):\n",
        "                for z in range (window_len):\n",
        "\n",
        "                    ExtractedData = DataChannelsNormal[i,0+ j*outer_sample_shift + z*inner_sample_shift : sampel_number_per_sec+ j*outer_sample_shift + z*inner_sample_shift]\n",
        "\n",
        "                    if j <test_start_index :\n",
        "                        train_img[(s-index_new_subject)* train_number + j][i][z] = ExtractedData\n",
        "                        if z==window_len-1 :\n",
        "                            train_img[(s-index_new_subject)*train_number + j][i][z+1] = s\n",
        "\n",
        "\n",
        "                    else:\n",
        "                        test_img[(s-index_new_subject)* test_number + j - test_start_index][i][z] = ExtractedData\n",
        "                        if z==window_len-1 :\n",
        "                            test_img[(s-index_new_subject)*test_number + j - test_start_index][i][z+1] = s\n",
        "                            \n",
        "           # if j >=test_start_index :\n",
        "               # test_label = np.append(test_label, (s))\n",
        "\n"
      ],
      "execution_count": 0,
      "outputs": []
    },
    {
      "cell_type": "code",
      "metadata": {
        "id": "l85oeIo3m_N5",
        "colab_type": "code",
        "colab": {}
      },
      "source": [
        "#shaffle train img array\n",
        "train_img_shuffle = train_img.copy()\n",
        "\n",
        "np.random.shuffle(train_img_shuffle)"
      ],
      "execution_count": 0,
      "outputs": []
    },
    {
      "cell_type": "code",
      "metadata": {
        "id": "oCB1Fohrm_N-",
        "colab_type": "code",
        "outputId": "fd18f246-67b7-4d04-f45f-4dcad91e1643",
        "colab": {
          "base_uri": "https://localhost:8080/",
          "height": 34
        }
      },
      "source": [
        "#create train input1 & input2\n",
        "len_train_img = len(train_img)\n",
        "trian_input_number = int(math.factorial(len_train_img) / (2 * math.factorial(len_train_img-2)))\n",
        "print(trian_input_number)\n",
        "\n",
        "input1 = np.zeros((trian_input_number, ch_number, window_len + 1, 160), dtype = float)\n",
        "input2 = np.zeros((trian_input_number, ch_number, window_len + 1, 160), dtype = float)\n"
      ],
      "execution_count": 43,
      "outputs": [
        {
          "output_type": "stream",
          "text": [
            "83028\n"
          ],
          "name": "stdout"
        }
      ]
    },
    {
      "cell_type": "code",
      "metadata": {
        "id": "x6TnBNx8BnOd",
        "colab_type": "code",
        "colab": {}
      },
      "source": [
        "# fill input train img 1 ,2\n",
        "n=0\n",
        "for i in range(len_train_img):\n",
        "  index1 = train_img_shuffle[0]\n",
        "  \n",
        "  train_img_shuffle = np.delete(train_img_shuffle, 0, axis=0)\n",
        "  \n",
        "  input1[n: n + len(train_img_shuffle)] = train_img_shuffle\n",
        "  input2[n: n + len(train_img_shuffle)] = index1\n",
        "  n =   n + len(train_img_shuffle) \n",
        "\n",
        "del train_img_shuffle"
      ],
      "execution_count": 0,
      "outputs": []
    },
    {
      "cell_type": "code",
      "metadata": {
        "id": "NOEFlEmGVCiH",
        "colab_type": "code",
        "colab": {}
      },
      "source": [
        "train_label=[]\n",
        "# create train label array\n",
        "for i in range(trian_input_number):\n",
        "  if input1[i][0][window_len][0] == input2[i][0][window_len][0]:\n",
        "    train_label = np.append(train_label, 1)\n",
        "  else:\n",
        "    train_label = np.append(train_label, 0)\n",
        "  #print(i)\n",
        "    \n",
        "    \n",
        "    "
      ],
      "execution_count": 0,
      "outputs": []
    },
    {
      "cell_type": "code",
      "metadata": {
        "id": "x6EkRMeLrrMp",
        "colab_type": "code",
        "colab": {}
      },
      "source": [
        "# remove label row \n",
        "input1_2 = np.zeros((trian_input_number, ch_number, window_len, 160), dtype = float)\n",
        "input2_2 = np.zeros((trian_input_number, ch_number, window_len, 160), dtype = float)\n",
        "  \n",
        "  "
      ],
      "execution_count": 0,
      "outputs": []
    },
    {
      "cell_type": "code",
      "metadata": {
        "id": "rJ-j-3sLvKyK",
        "colab_type": "code",
        "colab": {}
      },
      "source": [
        "def remove_label(input_number, inputx, inputx_2 ):\n",
        "  \n",
        "  for i in range(input_number) :\n",
        "\n",
        "    for j in range (ch_number):\n",
        "\n",
        "      inputx_2[i][j] = np.delete(inputx[i][j], window_len, axis=0)\n",
        "    \n",
        "  return (inputx_2)"
      ],
      "execution_count": 0,
      "outputs": []
    },
    {
      "cell_type": "code",
      "metadata": {
        "id": "G78tNxVeW2Vo",
        "colab_type": "code",
        "outputId": "076e6470-ed99-4b40-e212-1e1707b8236d",
        "colab": {
          "base_uri": "https://localhost:8080/",
          "height": 34
        }
      },
      "source": [
        "input1_2 = remove_label(trian_input_number, input1, input1_2)\n",
        "input2_2 = remove_label(trian_input_number, input2, input2_2)\n",
        "\n",
        "input2_2.shape\n"
      ],
      "execution_count": 48,
      "outputs": [
        {
          "output_type": "execute_result",
          "data": {
            "text/plain": [
              "(83028, 1, 20, 160)"
            ]
          },
          "metadata": {
            "tags": []
          },
          "execution_count": 48
        }
      ]
    },
    {
      "cell_type": "code",
      "metadata": {
        "id": "d-3vXiQY_B27",
        "colab_type": "code",
        "outputId": "cb08d0b0-3388-43ff-e8ed-182ab6208c2e",
        "colab": {
          "base_uri": "https://localhost:8080/",
          "height": 34
        }
      },
      "source": [
        "###############################  test ##################################\n",
        "# create total test img (part of train img + new subject img)\n",
        "#total_test_img = np.concatenate((test_img, new_subject_img))\n",
        "total_test_img = test_img\n",
        "\n",
        "\n",
        "total_test_img.shape\n"
      ],
      "execution_count": 49,
      "outputs": [
        {
          "output_type": "execute_result",
          "data": {
            "text/plain": [
              "(64, 1, 21, 160)"
            ]
          },
          "metadata": {
            "tags": []
          },
          "execution_count": 49
        }
      ]
    },
    {
      "cell_type": "code",
      "metadata": {
        "id": "IoeE2gtTJT7M",
        "colab_type": "code",
        "outputId": "fa5733c9-92b4-40cc-8bd7-3410c55c59dd",
        "colab": {
          "base_uri": "https://localhost:8080/",
          "height": 34
        }
      },
      "source": [
        "\n",
        "# create 2 input test image\n",
        "len_test_img = len(total_test_img)\n",
        "test_input_number = int(math.factorial(len_test_img) / (2 * math.factorial(len_test_img-2)))\n",
        "print(test_input_number)\n",
        "\n",
        "input1_test = np.zeros((test_input_number, ch_number, window_len + 1, 160), dtype = float)\n",
        "input2_test = np.zeros((test_input_number, ch_number, window_len + 1, 160), dtype = float)\n"
      ],
      "execution_count": 50,
      "outputs": [
        {
          "output_type": "stream",
          "text": [
            "2016\n"
          ],
          "name": "stdout"
        }
      ]
    },
    {
      "cell_type": "code",
      "metadata": {
        "id": "oVhfoecOyRbi",
        "colab_type": "code",
        "colab": {}
      },
      "source": [
        "\n",
        "\n",
        "# fill input test img 1 ,2\n",
        "n=0\n",
        "for i in range(len_test_img):\n",
        "  index1 = total_test_img[0]\n",
        "  total_test_img = np.delete(total_test_img, 0, axis=0)\n",
        "  \n",
        "  input1_test[n: n + len(total_test_img)] = total_test_img\n",
        "  input2_test[n: n + len(total_test_img)] = index1\n",
        "  n =   n + len(total_test_img) \n",
        "\n",
        "#del input2_test\n"
      ],
      "execution_count": 0,
      "outputs": []
    },
    {
      "cell_type": "code",
      "metadata": {
        "id": "qxPmk8IFyVlg",
        "colab_type": "code",
        "colab": {}
      },
      "source": [
        "\n",
        "test_label=[]\n",
        "# create test label array\n",
        "for i in range(test_input_number):\n",
        "  if input1_test[i][0][window_len][0] == input2_test[i][0][window_len][0]:\n",
        "    test_label = np.append(test_label, 1)\n",
        "    #print(test_label)\n",
        "  else:\n",
        "    test_label = np.append(test_label, 0)\n"
      ],
      "execution_count": 0,
      "outputs": []
    },
    {
      "cell_type": "code",
      "metadata": {
        "id": "uXcbpN7gybVp",
        "colab_type": "code",
        "colab": {}
      },
      "source": [
        "    \n",
        "# remove label row \n",
        "\n",
        "input1_test_2 = np.zeros((test_input_number, ch_number, window_len, 160), dtype = float)\n",
        "input2_test_2 = np.zeros((test_input_number, ch_number, window_len, 160), dtype = float)\n",
        "\n"
      ],
      "execution_count": 0,
      "outputs": []
    },
    {
      "cell_type": "code",
      "metadata": {
        "id": "T7zRW-y0zdRH",
        "colab_type": "code",
        "outputId": "69148f38-53be-47a1-9715-86823d03e35e",
        "colab": {
          "base_uri": "https://localhost:8080/",
          "height": 34
        }
      },
      "source": [
        "input1_test_2 = remove_label(test_input_number, input1_test, input1_test_2)\n",
        "input2_test_2 = remove_label(test_input_number, input2_test, input2_test_2)\n",
        "\n",
        "input2_test_2.shape\n"
      ],
      "execution_count": 54,
      "outputs": [
        {
          "output_type": "execute_result",
          "data": {
            "text/plain": [
              "(2016, 1, 20, 160)"
            ]
          },
          "metadata": {
            "tags": []
          },
          "execution_count": 54
        }
      ]
    },
    {
      "cell_type": "code",
      "metadata": {
        "id": "oZJVEXBGG7PD",
        "colab_type": "code",
        "colab": {}
      },
      "source": [
        "test_label[:1000]\n",
        "\n"
      ],
      "execution_count": 0,
      "outputs": []
    },
    {
      "cell_type": "code",
      "metadata": {
        "colab_type": "code",
        "id": "UqI6jFCcmMWl",
        "outputId": "fcc6cf3f-e85f-473d-b83a-78d7c7ebd419",
        "colab": {
          "base_uri": "https://localhost:8080/",
          "height": 135
        }
      },
      "source": [
        "# categorical test & train label\n",
        "train_label = to_categorical(train_label, 2)\n",
        "test_label = to_categorical(test_label, 2)\n",
        "train_label"
      ],
      "execution_count": 56,
      "outputs": [
        {
          "output_type": "execute_result",
          "data": {
            "text/plain": [
              "array([[1., 0.],\n",
              "       [1., 0.],\n",
              "       [1., 0.],\n",
              "       ...,\n",
              "       [1., 0.],\n",
              "       [1., 0.],\n",
              "       [0., 1.]], dtype=float32)"
            ]
          },
          "metadata": {
            "tags": []
          },
          "execution_count": 56
        }
      ]
    },
    {
      "cell_type": "code",
      "metadata": {
        "colab_type": "code",
        "id": "zFe8gV7XmNLV",
        "colab": {}
      },
      "source": [
        "validation_index = math.floor( trian_input_number * 0.2)\n",
        "\n",
        "\n",
        "# validation & train\n",
        "\n",
        "#train\n",
        "x_train_1 =input1_2[validation_index:]\n",
        "x_train_2 =input2_2[validation_index:]\n",
        "\n",
        "y_train =train_label[validation_index:]\n",
        "\n",
        "#validation\n",
        "x_validation_1 =input1_2[:validation_index]\n",
        "x_validation_2 =input2_2[:validation_index] \n",
        "\n",
        "y_valid =train_label[:validation_index]\n",
        "\n",
        "#x_valid.shape"
      ],
      "execution_count": 0,
      "outputs": []
    },
    {
      "cell_type": "code",
      "metadata": {
        "colab_type": "code",
        "id": "PWPtKkZHmP4m",
        "outputId": "c24de42b-d1be-4b9e-bafc-7dfcc79dca44",
        "colab": {
          "base_uri": "https://localhost:8080/",
          "height": 220
        }
      },
      "source": [
        "\n",
        "from keras import layers\n",
        "from keras import models\n",
        "from keras import regularizers\n",
        "#from keras.layers import Dense, Merge\n",
        "from keras.layers import *\n",
        "from keras.models import Model\n",
        "\n",
        "\n",
        "cnn1 = models.Sequential()\n",
        "cnn1.add(layers.Conv2D(64, (3,3), activation = 'relu', padding='same', input_shape = (ch_number,window_len,160), data_format= \"channels_first\" ))\n",
        "print(cnn1.output.shape)\n",
        "cnn1.add(layers.MaxPooling2D((2,2)))\n",
        "print(cnn1.output.shape)\n",
        "cnn1.add(layers.Conv2D(128, (3,3), activation = 'relu'))\n",
        "print(cnn1.output.shape)\n",
        "cnn1.add(layers.MaxPooling2D((2,2)))\n",
        "print(cnn1.output.shape)\n",
        "cnn1.add(layers.Conv2D(256, (3,3), activation = 'relu'))\n",
        "print(cnn1.output.shape)\n",
        "cnn1.add(layers.MaxPooling2D((2,2)))\n",
        "#cnn1.add(layers.Flatten())\n",
        "print(cnn1.output.shape)\n",
        "\n",
        "\n",
        "cnn2 = models.Sequential()\n",
        "cnn2.add(layers.Conv2D(64, (3,3), activation = 'relu', padding='same', input_shape = (ch_number,window_len,160), data_format= \"channels_first\" ))\n",
        "print(cnn2.output.shape)\n",
        "cnn2.add(layers.MaxPooling2D((2,2)))\n",
        "print(cnn2.output.shape)\n",
        "cnn2.add(layers.Conv2D(128, (3,3), activation = 'relu'))\n",
        "print(cnn2.output.shape)\n",
        "cnn2.add(layers.MaxPooling2D((2,2)))\n",
        "print(cnn2.output.shape)\n",
        "cnn2.add(layers.Conv2D(256, (3,3), activation = 'relu'))\n",
        "print(cnn2.output.shape)\n",
        "cnn2.add(layers.MaxPooling2D((2,2)))\n",
        "#cnn2.add(layers.Flatten())\n",
        "print(cnn2.output.shape)\n",
        "\n",
        "mergedOut = Concatenate()([cnn1.output,cnn2.output])\n",
        "\n",
        "mergedOut = Flatten()(mergedOut)    \n",
        "mergedOut = Dense(512, activation='relu')(mergedOut)\n",
        "mergedOut = Dropout(.5)(mergedOut)\n",
        "\n",
        "# output layer\n",
        "mergedOut = Dense(2, activation='sigmoid')(mergedOut)\n",
        "\n",
        "newModel = Model([cnn1.input,cnn2.input], mergedOut)\n",
        "\n",
        "#model = models.Sequential()\n",
        "#model.add(layers.Concatenate([cnn1,cnn2]))\n",
        "#model.add(layers.Dense(512, activation = 'relu'))\n",
        "#model.add(layers.Dropout(0.5))\n",
        "#print(model.output.shape)\n",
        "#model.add(layers.Dense(2, activation = 'sigmoid'))\n",
        "#print(model.output.shape)\n",
        "\n",
        "\n",
        "from keras import optimizers\n",
        "\n",
        "newModel.compile(loss= 'binary_crossentropy',\n",
        "              optimizer= optimizers.RMSprop(lr= 1e-4),\n",
        "              metrics = ['acc'])"
      ],
      "execution_count": 58,
      "outputs": [
        {
          "output_type": "stream",
          "text": [
            "(?, 64, 20, 160)\n",
            "(?, 32, 10, 160)\n",
            "(?, 30, 8, 128)\n",
            "(?, 15, 4, 128)\n",
            "(?, 13, 2, 256)\n",
            "(?, 6, 1, 256)\n",
            "(?, 64, 20, 160)\n",
            "(?, 32, 10, 160)\n",
            "(?, 30, 8, 128)\n",
            "(?, 15, 4, 128)\n",
            "(?, 13, 2, 256)\n",
            "(?, 6, 1, 256)\n"
          ],
          "name": "stdout"
        }
      ]
    },
    {
      "cell_type": "code",
      "metadata": {
        "colab_type": "code",
        "id": "Cr1zrBTKmTTm",
        "outputId": "034d4842-bcbd-45e3-f1c7-f420c2f2c319",
        "colab": {
          "base_uri": "https://localhost:8080/",
          "height": 730
        }
      },
      "source": [
        "history = newModel.fit(\n",
        "        [x_train_1, x_train_2],\n",
        "        y_train,\n",
        "        epochs = 20,\n",
        "        batch_size = 20,\n",
        "        validation_data = ([x_validation_1, x_validation_2], y_valid)\n",
        ")"
      ],
      "execution_count": 59,
      "outputs": [
        {
          "output_type": "stream",
          "text": [
            "Train on 66423 samples, validate on 16605 samples\n",
            "Epoch 1/20\n",
            "66423/66423 [==============================] - 91s 1ms/step - loss: 0.3823 - acc: 0.8769 - val_loss: 0.3738 - val_acc: 0.8776\n",
            "Epoch 2/20\n",
            "66423/66423 [==============================] - 91s 1ms/step - loss: 0.3804 - acc: 0.8770 - val_loss: 0.3791 - val_acc: 0.8776\n",
            "Epoch 3/20\n",
            "66423/66423 [==============================] - 91s 1ms/step - loss: 0.2862 - acc: 0.8885 - val_loss: 0.1199 - val_acc: 0.9385\n",
            "Epoch 4/20\n",
            "66423/66423 [==============================] - 90s 1ms/step - loss: 0.1306 - acc: 0.9310 - val_loss: 0.1808 - val_acc: 0.9100\n",
            "Epoch 5/20\n",
            "66423/66423 [==============================] - 90s 1ms/step - loss: 0.0901 - acc: 0.9549 - val_loss: 0.0702 - val_acc: 0.9620\n",
            "Epoch 6/20\n",
            "66423/66423 [==============================] - 90s 1ms/step - loss: 0.0686 - acc: 0.9640 - val_loss: 0.1150 - val_acc: 0.9516\n",
            "Epoch 7/20\n",
            "66423/66423 [==============================] - 90s 1ms/step - loss: 0.0408 - acc: 0.9869 - val_loss: 0.0736 - val_acc: 0.9722\n",
            "Epoch 8/20\n",
            "66423/66423 [==============================] - 91s 1ms/step - loss: 0.0184 - acc: 0.9958 - val_loss: 0.0768 - val_acc: 0.9734\n",
            "Epoch 9/20\n",
            "66423/66423 [==============================] - 91s 1ms/step - loss: 0.0138 - acc: 0.9971 - val_loss: 0.1030 - val_acc: 0.9734\n",
            "Epoch 10/20\n",
            "66423/66423 [==============================] - 91s 1ms/step - loss: 0.0119 - acc: 0.9977 - val_loss: 0.1071 - val_acc: 0.9745\n",
            "Epoch 11/20\n",
            "66423/66423 [==============================] - 90s 1ms/step - loss: 0.0118 - acc: 0.9980 - val_loss: 0.1138 - val_acc: 0.9733\n",
            "Epoch 12/20\n",
            "66423/66423 [==============================] - 88s 1ms/step - loss: 0.0113 - acc: 0.9980 - val_loss: 0.1257 - val_acc: 0.9737\n",
            "Epoch 13/20\n",
            "66423/66423 [==============================] - 89s 1ms/step - loss: 0.0085 - acc: 0.9986 - val_loss: 0.1641 - val_acc: 0.9678\n",
            "Epoch 14/20\n",
            "66423/66423 [==============================] - 90s 1ms/step - loss: 0.0072 - acc: 0.9986 - val_loss: 0.1490 - val_acc: 0.9733\n",
            "Epoch 15/20\n",
            "66423/66423 [==============================] - 89s 1ms/step - loss: 0.0084 - acc: 0.9988 - val_loss: 0.1679 - val_acc: 0.9721\n",
            "Epoch 16/20\n",
            "66423/66423 [==============================] - 89s 1ms/step - loss: 0.0093 - acc: 0.9987 - val_loss: 0.1570 - val_acc: 0.9721\n",
            "Epoch 17/20\n",
            "66423/66423 [==============================] - 89s 1ms/step - loss: 0.0088 - acc: 0.9988 - val_loss: 0.1528 - val_acc: 0.9743\n",
            "Epoch 18/20\n",
            "66423/66423 [==============================] - 89s 1ms/step - loss: 0.0077 - acc: 0.9989 - val_loss: 0.1682 - val_acc: 0.9736\n",
            "Epoch 19/20\n",
            "66423/66423 [==============================] - 90s 1ms/step - loss: 0.0069 - acc: 0.9990 - val_loss: 0.2205 - val_acc: 0.9691\n",
            "Epoch 20/20\n",
            "66423/66423 [==============================] - 89s 1ms/step - loss: 0.0056 - acc: 0.9992 - val_loss: 0.2557 - val_acc: 0.9706\n"
          ],
          "name": "stdout"
        }
      ]
    },
    {
      "cell_type": "code",
      "metadata": {
        "colab_type": "code",
        "id": "2ScdsPd5mVoE",
        "outputId": "c1876ed5-034d-4d07-e46b-9521aceadec4",
        "colab": {
          "base_uri": "https://localhost:8080/",
          "height": 51
        }
      },
      "source": [
        "newModel.evaluate([input1_test_2, input2_test_2], test_label)\n"
      ],
      "execution_count": 60,
      "outputs": [
        {
          "output_type": "stream",
          "text": [
            "2016/2016 [==============================] - 1s 354us/step\n"
          ],
          "name": "stdout"
        },
        {
          "output_type": "execute_result",
          "data": {
            "text/plain": [
              "[0.4869389327631082, 0.9513888888888888]"
            ]
          },
          "metadata": {
            "tags": []
          },
          "execution_count": 60
        }
      ]
    },
    {
      "cell_type": "code",
      "metadata": {
        "colab_type": "code",
        "id": "-lp82WjfmgP2",
        "outputId": "8b2946b5-1f56-4d13-b6ce-0e70b80c7bee",
        "colab": {
          "base_uri": "https://localhost:8080/",
          "height": 295
        }
      },
      "source": [
        "import matplotlib.pyplot as plt\n",
        "\n",
        "history_dict = history.history \n",
        "loss_values = history_dict ['loss'] \n",
        "val_loss_values = history_dict['val_loss']\n",
        "epochs = range(1, len(loss_values) + 1)\n",
        "\n",
        "plt.plot(epochs, loss_values, 'bo', label='Training loss') \n",
        "plt.plot(epochs, val_loss_values, 'b', label='Validation loss') \n",
        "plt.title('Training and validation loss') \n",
        "plt.xlabel('Epochs') \n",
        "plt.ylabel('Loss') \n",
        "plt.legend()\n",
        "plt.show()"
      ],
      "execution_count": 61,
      "outputs": [
        {
          "output_type": "display_data",
          "data": {
            "image/png": "[encoded data removed]",
            "text/plain": [
              "<Figure size 432x288 with 1 Axes>"
            ]
          },
          "metadata": {
            "tags": []
          }
        }
      ]
    },
    {
      "cell_type": "code",
      "metadata": {
        "colab_type": "code",
        "id": "-yHvQ8UzmhDE",
        "outputId": "866500df-55a3-4d7c-e518-f1066e206502",
        "colab": {
          "base_uri": "https://localhost:8080/",
          "height": 295
        }
      },
      "source": [
        "history_dict = history.history \n",
        "acc_values = history_dict ['acc'] \n",
        "val_acc_values = history_dict['val_acc']\n",
        "\n",
        "plt.plot(epochs, acc_values, 'bo', label='Training acc') \n",
        "plt.plot(epochs, val_acc_values, 'b', label='Validation acc') \n",
        "plt.title('Training and validation acc') \n",
        "plt.xlabel('Epochs') \n",
        "plt.ylabel('acc') \n",
        "plt.legend()\n",
        "plt.show()"
      ],
      "execution_count": 62,
      "outputs": [
        {
          "output_type": "display_data",
          "data": {
            "image/png": "[encoded data removed]",
            "text/plain": [
              "<Figure size 432x288 with 1 Axes>"
            ]
          },
          "metadata": {
            "tags": []
          }
        }
      ]
    },
    {
      "cell_type": "code",
      "metadata": {
        "id": "Pv2wh4tsOupa",
        "colab_type": "code",
        "colab": {}
      },
      "source": [
        ""
      ],
      "execution_count": 0,
      "outputs": []
    }
  ]
}