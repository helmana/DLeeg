{
  "nbformat": 4,
  "nbformat_minor": 0,
  "metadata": {
    "colab": {
      "name": "Untitled57.ipynb",
      "provenance": [],
      "collapsed_sections": [],
      "machine_shape": "hm",
      "include_colab_link": true
    },
    "kernelspec": {
      "name": "python3",
      "display_name": "Python 3"
    },
    "accelerator": "GPU"
  },
  "cells": [
    {
      "cell_type": "markdown",
      "metadata": {
        "id": "view-in-github",
        "colab_type": "text"
      },
      "source": [
        "<a href=\"https://colab.research.google.com/github/helmana/DLeeg/blob/master/Merge/merge_random%20select%20Data_12%20S_%20100k%20Train%20sample.ipynb\" target=\"_parent\"><img src=\"https://colab.research.google.com/assets/colab-badge.svg\" alt=\"Open In Colab\"/></a>"
      ]
    },
    {
      "cell_type": "code",
      "metadata": {
        "id": "ecjV_UoMoCP9",
        "colab_type": "code",
        "colab": {}
      },
      "source": [
        "  '''\n",
        "  model: 3 Dense layer after Concatenate\n",
        "  \n",
        "Train_Data_number = 100000\n",
        "Test_Data_number = 50000\n",
        "subject_number=12 (9+3)\n",
        "\n",
        "test 1 - loss, acc :[0.1369, 0.96073]\n",
        "test 2 - loss, acc :[0.7284, 0.87319]\n",
        "test 3 - loss, acc :[0.3144, 0.91454]\n",
        "test 4 - loss, acc :[3.5040, 0.5]\n",
        "\n",
        "  \n",
        "  '''"
      ],
      "execution_count": 0,
      "outputs": []
    },
    {
      "cell_type": "code",
      "metadata": {
        "id": "1FqAv2Or0wZ_",
        "colab_type": "code",
        "outputId": "7dc7d0fd-619c-4c6e-ef16-1cbe550a2f34",
        "colab": {
          "base_uri": "https://localhost:8080/",
          "height": 67
        }
      },
      "source": [
        "! pip install mne"
      ],
      "execution_count": 44,
      "outputs": [
        {
          "output_type": "stream",
          "text": [
            "Requirement already satisfied: mne in /usr/local/lib/python3.6/dist-packages (0.19.0)\n",
            "Requirement already satisfied: numpy>=1.11.3 in /usr/local/lib/python3.6/dist-packages (from mne) (1.16.5)\n",
            "Requirement already satisfied: scipy>=0.17.1 in /usr/local/lib/python3.6/dist-packages (from mne) (1.3.1)\n"
          ],
          "name": "stdout"
        }
      ]
    },
    {
      "cell_type": "code",
      "metadata": {
        "id": "ZvE48Je0_fdz",
        "colab_type": "code",
        "outputId": "2d02867a-9c4e-4938-c6c0-1b77a9433775",
        "colab": {
          "base_uri": "https://localhost:8080/",
          "height": 34
        }
      },
      "source": [
        "\n",
        "import matplotlib\n",
        "\n",
        "from matplotlib import pyplot as plt\n",
        "import numpy as np\n",
        "\n",
        "import math\n",
        "\n",
        "import keras\n",
        "from keras.utils import to_categorical\n",
        "\n",
        "import random\n",
        "import mne\n",
        "from mne.preprocessing import create_ecg_epochs, create_eog_epochs\n",
        "from mne import io\n",
        "from mne import viz\n",
        "#from mne.datasets import testing\n",
        "from mne import Epochs, io, pick_types\n",
        "from mne.event import define_target_events\n",
        "from mne.time_frequency import psd_welch\n",
        "print(__doc__)"
      ],
      "execution_count": 45,
      "outputs": [
        {
          "output_type": "stream",
          "text": [
            "Automatically created module for IPython interactive environment\n"
          ],
          "name": "stdout"
        }
      ]
    },
    {
      "cell_type": "code",
      "metadata": {
        "id": "UBEu0-3X_jWT",
        "colab_type": "code",
        "outputId": "63991c04-0993-4d99-9b3d-47608e5ffef4",
        "colab": {
          "base_uri": "https://localhost:8080/",
          "height": 34
        }
      },
      "source": [
        "\n",
        "\n",
        "Train_Data_number = 100000\n",
        "Test_Data_number = 50000\n",
        "\n",
        "\n",
        "\n",
        "subject_number=12\n",
        "\n",
        "new_subject_number = subject_number//4 # \n",
        "#index_new_subject = 0\n",
        "\n",
        "train_subject_number = subject_number - new_subject_number\n",
        "new_subject_start_index = train_subject_number\n",
        "task_index = [1] # task: REO\n",
        "task_number = len(task_index)\n",
        "\n",
        "# channels \n",
        "list_channel = [60]\n",
        "ch_number = len(list_channel)\n",
        "\n",
        "task_time = 60\n",
        "\n",
        "sampel_number_per_sec = 160 # sampel rate\n",
        "total_sampel_number =  sampel_number_per_sec *task_time # 60*160\n",
        "\n",
        "inner_sample_shift = 5 # inner step len\n",
        "outer_sample_shift = 5 # outer step len\n",
        "window_len= 20\n",
        "\n",
        "new_subject_start_index"
      ],
      "execution_count": 47,
      "outputs": [
        {
          "output_type": "execute_result",
          "data": {
            "text/plain": [
              "9"
            ]
          },
          "metadata": {
            "tags": []
          },
          "execution_count": 47
        }
      ]
    },
    {
      "cell_type": "code",
      "metadata": {
        "id": "ZcZV2EPKEe3P",
        "colab_type": "code",
        "outputId": "6eb4f772-9932-42ae-d574-bce55b496413",
        "colab": {
          "base_uri": "https://localhost:8080/",
          "height": 1000
        }
      },
      "source": [
        "# load dataset in array\n",
        "list_raw_fnames = [[0]*task_number]*subject_number\n",
        "for x in range(subject_number):\n",
        "    list_raw_fnames[x] = mne.datasets.eegbci.load_data(x+1,task_index)\n",
        "\n",
        "list_rawdata = np.zeros((subject_number,task_number), dtype='object')\n",
        "\n",
        "for i in range(subject_number):\n",
        "    for j in range(task_number):\n",
        "        list_rawdata[i][j] = mne.io.read_raw_edf(list_raw_fnames[i][j], preload=True)"
      ],
      "execution_count": 48,
      "outputs": [
        {
          "output_type": "stream",
          "text": [
            "Extracting EDF parameters from /root/mne_data/MNE-eegbci-data/physiobank/database/eegmmidb/S001/S001R01.edf...\n",
            "EDF file detected\n",
            "Setting channel info structure...\n",
            "Creating raw.info structure...\n",
            "Reading 0 ... 9759  =      0.000 ...    60.994 secs...\n",
            "Extracting EDF parameters from /root/mne_data/MNE-eegbci-data/physiobank/database/eegmmidb/S002/S002R01.edf...\n",
            "EDF file detected\n",
            "Setting channel info structure...\n",
            "Creating raw.info structure...\n",
            "Reading 0 ... 9759  =      0.000 ...    60.994 secs...\n",
            "Extracting EDF parameters from /root/mne_data/MNE-eegbci-data/physiobank/database/eegmmidb/S003/S003R01.edf...\n",
            "EDF file detected\n",
            "Setting channel info structure...\n",
            "Creating raw.info structure...\n",
            "Reading 0 ... 9759  =      0.000 ...    60.994 secs...\n",
            "Extracting EDF parameters from /root/mne_data/MNE-eegbci-data/physiobank/database/eegmmidb/S004/S004R01.edf...\n",
            "EDF file detected\n",
            "Setting channel info structure...\n",
            "Creating raw.info structure...\n",
            "Reading 0 ... 9759  =      0.000 ...    60.994 secs...\n",
            "Extracting EDF parameters from /root/mne_data/MNE-eegbci-data/physiobank/database/eegmmidb/S005/S005R01.edf...\n",
            "EDF file detected\n",
            "Setting channel info structure...\n",
            "Creating raw.info structure...\n",
            "Reading 0 ... 9759  =      0.000 ...    60.994 secs...\n",
            "Extracting EDF parameters from /root/mne_data/MNE-eegbci-data/physiobank/database/eegmmidb/S006/S006R01.edf...\n",
            "EDF file detected\n",
            "Setting channel info structure...\n",
            "Creating raw.info structure...\n",
            "Reading 0 ... 9759  =      0.000 ...    60.994 secs...\n",
            "Extracting EDF parameters from /root/mne_data/MNE-eegbci-data/physiobank/database/eegmmidb/S007/S007R01.edf...\n",
            "EDF file detected\n",
            "Setting channel info structure...\n",
            "Creating raw.info structure...\n",
            "Reading 0 ... 9759  =      0.000 ...    60.994 secs...\n",
            "Extracting EDF parameters from /root/mne_data/MNE-eegbci-data/physiobank/database/eegmmidb/S008/S008R01.edf...\n",
            "EDF file detected\n",
            "Setting channel info structure...\n",
            "Creating raw.info structure...\n",
            "Reading 0 ... 9759  =      0.000 ...    60.994 secs...\n",
            "Extracting EDF parameters from /root/mne_data/MNE-eegbci-data/physiobank/database/eegmmidb/S009/S009R01.edf...\n",
            "EDF file detected\n",
            "Setting channel info structure...\n",
            "Creating raw.info structure...\n",
            "Reading 0 ... 9759  =      0.000 ...    60.994 secs...\n",
            "Extracting EDF parameters from /root/mne_data/MNE-eegbci-data/physiobank/database/eegmmidb/S010/S010R01.edf...\n",
            "EDF file detected\n",
            "Setting channel info structure...\n",
            "Creating raw.info structure...\n",
            "Reading 0 ... 9759  =      0.000 ...    60.994 secs...\n",
            "Extracting EDF parameters from /root/mne_data/MNE-eegbci-data/physiobank/database/eegmmidb/S011/S011R01.edf...\n",
            "EDF file detected\n",
            "Setting channel info structure...\n",
            "Creating raw.info structure...\n",
            "Reading 0 ... 9759  =      0.000 ...    60.994 secs...\n",
            "Extracting EDF parameters from /root/mne_data/MNE-eegbci-data/physiobank/database/eegmmidb/S012/S012R01.edf...\n",
            "EDF file detected\n",
            "Setting channel info structure...\n",
            "Creating raw.info structure...\n",
            "Reading 0 ... 9759  =      0.000 ...    60.994 secs...\n"
          ],
          "name": "stdout"
        }
      ]
    },
    {
      "cell_type": "code",
      "metadata": {
        "id": "n8UR6JrrP3Zf",
        "colab_type": "code",
        "outputId": "3eaeba2f-be08-4178-b17a-4c05f4e16a2f",
        "colab": {
          "base_uri": "https://localhost:8080/",
          "height": 34
        }
      },
      "source": [
        "subject_img_number = math.floor((total_sampel_number - sampel_number_per_sec - (window_len-1 )*inner_sample_shift) / outer_sample_shift) +1\n",
        "\n",
        "test_img_number = math.floor(subject_img_number * 0.15)\n",
        "test_img_start_index=subject_img_number - test_img_number\n",
        "train_img_number =  test_img_start_index \n",
        "\n",
        "test_img_start_index\n"
      ],
      "execution_count": 49,
      "outputs": [
        {
          "output_type": "execute_result",
          "data": {
            "text/plain": [
              "1590"
            ]
          },
          "metadata": {
            "tags": []
          },
          "execution_count": 49
        }
      ]
    },
    {
      "cell_type": "code",
      "metadata": {
        "id": "3sbZYspIp9J5",
        "colab_type": "code",
        "colab": {}
      },
      "source": [
        "\n",
        "def normalize_channel_data(ch , i, ch_min, ch_max):\n",
        "    ch = ((ch - ch_min[i]) / (ch_max[i] - ch_min[i] ))\n",
        "    return ch"
      ],
      "execution_count": 0,
      "outputs": []
    },
    {
      "cell_type": "code",
      "metadata": {
        "id": "MA054T3KAZ7J",
        "colab_type": "code",
        "outputId": "110623ac-6a18-492a-8088-470688e445d0",
        "colab": {
          "base_uri": "https://localhost:8080/",
          "height": 71
        }
      },
      "source": [
        "# All data\n",
        "DataChannelsRaw = np.zeros((subject_number, ch_number,total_sampel_number), dtype = float)\n",
        "\n",
        "for i in range(train_subject_number):\n",
        "  for  j in range(ch_number):\n",
        "    DataChannelsRaw[i][j], times =list_rawdata[i][0][list_channel[j],:total_sampel_number]\n",
        "DataChannelsRaw_t = DataChannelsRaw.copy()\n",
        "\n",
        "#normal all data\n",
        "for i in range(subject_number):\n",
        "  ch_max =[]\n",
        "  ch_min =[]\n",
        "  for  j in range(ch_number):    \n",
        "    ch_max = np.append(ch_max, max(DataChannelsRaw_t[i][j])) # max for each cannel\n",
        "    ch_min = np.append(ch_min, min(DataChannelsRaw_t[i][j])) # min for each cannel\n",
        "    \n",
        "    # Normalize Channels\n",
        "    DataChannelsRaw_t[i][j]=normalize_channel_data(DataChannelsRaw_t[i][j], j, ch_min, ch_max)\n",
        "    \n"
      ],
      "execution_count": 51,
      "outputs": [
        {
          "output_type": "stream",
          "text": [
            "/usr/local/lib/python3.6/dist-packages/ipykernel_launcher.py:3: RuntimeWarning: invalid value encountered in true_divide\n",
            "  This is separate from the ipykernel package so we can avoid doing imports until\n"
          ],
          "name": "stderr"
        }
      ]
    },
    {
      "cell_type": "code",
      "metadata": {
        "id": "GBMeE64EfjWC",
        "colab_type": "code",
        "outputId": "bd54558e-9c01-43b0-ed3d-4e77f7c908d2",
        "colab": {
          "base_uri": "https://localhost:8080/",
          "height": 34
        }
      },
      "source": [
        "DataChannelsRaw_t.shape"
      ],
      "execution_count": 52,
      "outputs": [
        {
          "output_type": "execute_result",
          "data": {
            "text/plain": [
              "(12, 1, 9600)"
            ]
          },
          "metadata": {
            "tags": []
          },
          "execution_count": 52
        }
      ]
    },
    {
      "cell_type": "code",
      "metadata": {
        "id": "OLDJuFX34NMe",
        "colab_type": "code",
        "colab": {}
      },
      "source": [
        "def Extract_Data(rand_subject, rand_sample):\n",
        "\n",
        "  Rand_Data =  np.zeros((ch_number, window_len, sampel_number_per_sec), dtype = float)\n",
        "  for i in range(ch_number):\n",
        "    for z in range (window_len):\n",
        "      ExtractedData = DataChannelsRaw_t[rand_subject][i, rand_sample + z*inner_sample_shift: sampel_number_per_sec + rand_sample + z*inner_sample_shift] \n",
        "      Rand_Data[i][z] = ExtractedData\n",
        "      \n",
        "  return Rand_Data"
      ],
      "execution_count": 0,
      "outputs": []
    },
    {
      "cell_type": "code",
      "metadata": {
        "id": "cuaFxl6ucfXJ",
        "colab_type": "code",
        "colab": {}
      },
      "source": [
        "def Fill_input_array(Data_number, first_index_subjectA, last_index_subjectA, first_index_sampleA, last_index_sampleA,   first_index_subjectB, last_index_subjectB, first_index_sampleB, last_index_sampleB):\n",
        "  loop_counter = int(Data_number/2)\n",
        "  \n",
        "  input1 = np.zeros((Data_number, ch_number, window_len , sampel_number_per_sec), dtype = float)\n",
        "  input2 = np.zeros((Data_number, ch_number, window_len, sampel_number_per_sec), dtype = float)\n",
        "  input_label=[]\n",
        "  \n",
        "  for r in range(loop_counter):\n",
        "    # select random subject and sample A\n",
        "    rand_subjectA = random.randint(first_index_subjectA, last_index_subjectA)\n",
        "    rand_sample1_A= random.randint(first_index_sampleA, last_index_sampleA) * outer_sample_shift\n",
        "    rand_sample2_A= random.randint(first_index_sampleA, last_index_sampleA) * outer_sample_shift\n",
        "\n",
        "    # 1: Select random data from subjectA \n",
        "    rand_Data1_subjectA = Extract_Data(rand_subjectA, rand_sample1_A)\n",
        "    input1[r*2:r*2+2] = rand_Data1_subjectA\n",
        "\n",
        "    # 2: Select random data from subjectA \n",
        "    rand_Data2_subjectA = Extract_Data(rand_subjectA, rand_sample2_A)\n",
        "    input2[r*2] = rand_Data2_subjectA\n",
        "\n",
        "    #set label 1\n",
        "    input_label = np.append(input_label, 1) \n",
        "\n",
        "\n",
        "\n",
        "    # select random subject and sample B\n",
        "    rand_sampleB= random.randint(first_index_sampleB, last_index_sampleB) * outer_sample_shift\n",
        "    rand_subjectB = random.randint(first_index_subjectB, last_index_subjectB)\n",
        "    # A != B\n",
        "    while rand_subjectA == rand_subjectB:\n",
        "      rand_subjectB = random.randint(first_index_subjectB, last_index_subjectB)\n",
        "\n",
        "    # Select random data from subjectB\n",
        "    rand_Data_subjectB = Extract_Data(rand_subjectB, rand_sampleB)\n",
        "    input2[r*2+1] = rand_Data_subjectB\n",
        "\n",
        "    #set label 0\n",
        "    input_label = np.append(input_label, 0)\n",
        "    \n",
        "  return input1, input2, input_label\n"
      ],
      "execution_count": 0,
      "outputs": []
    },
    {
      "cell_type": "code",
      "metadata": {
        "id": "9dT3ANO1gsS0",
        "colab_type": "code",
        "colab": {}
      },
      "source": [
        "# **create Train Data \n",
        "\n",
        "Train_input1, Train_input2, train_label = Fill_input_array(Train_Data_number, 0, train_subject_number-1, 0, train_img_number-1, 0, train_subject_number-1, 0, train_img_number-1)\n",
        "\n",
        "#train_label = to_categorical(train_label, 2)\n"
      ],
      "execution_count": 0,
      "outputs": []
    },
    {
      "cell_type": "code",
      "metadata": {
        "id": "iuPXm-TMfuD4",
        "colab_type": "code",
        "colab": {}
      },
      "source": [
        "train_label = to_categorical(train_label, 2)"
      ],
      "execution_count": 0,
      "outputs": []
    },
    {
      "cell_type": "code",
      "metadata": {
        "id": "a9KcOphdgAi5",
        "colab_type": "code",
        "outputId": "ba5f8729-2da6-4253-8977-079cb71a00f5",
        "colab": {
          "base_uri": "https://localhost:8080/",
          "height": 135
        }
      },
      "source": [
        "train_label"
      ],
      "execution_count": 57,
      "outputs": [
        {
          "output_type": "execute_result",
          "data": {
            "text/plain": [
              "array([[0., 1.],\n",
              "       [1., 0.],\n",
              "       [0., 1.],\n",
              "       ...,\n",
              "       [1., 0.],\n",
              "       [0., 1.],\n",
              "       [1., 0.]], dtype=float32)"
            ]
          },
          "metadata": {
            "tags": []
          },
          "execution_count": 57
        }
      ]
    },
    {
      "cell_type": "code",
      "metadata": {
        "id": "WGZ4G1VzdSTd",
        "colab_type": "code",
        "colab": {}
      },
      "source": [
        "validation_index = math.floor( Train_Data_number * 0.2)\n",
        "\n",
        "\n",
        "# validation & train\n",
        "\n",
        "#train\n",
        "x_train_1 =Train_input1[validation_index:]\n",
        "x_train_2 =Train_input2[validation_index:]\n",
        "\n",
        "y_train =train_label[validation_index:]\n",
        "\n",
        "#validation\n",
        "x_validation_1 =Train_input1[:validation_index]\n",
        "x_validation_2 =Train_input2[:validation_index] \n",
        "\n",
        "y_valid =train_label[:validation_index]\n",
        "\n",
        "#x_valid.shape"
      ],
      "execution_count": 0,
      "outputs": []
    },
    {
      "cell_type": "code",
      "metadata": {
        "id": "cKAlqekGd97l",
        "colab_type": "code",
        "outputId": "47c7f0d7-05ca-49e9-85f4-4eb92072da7f",
        "colab": {
          "base_uri": "https://localhost:8080/",
          "height": 324
        }
      },
      "source": [
        "\n",
        "from keras import layers\n",
        "from keras import models\n",
        "from keras import regularizers\n",
        "#from keras.layers import Dense, Merge\n",
        "from keras.layers import *\n",
        "from keras.models import Model\n",
        "\n",
        "\n",
        "cnn1 = models.Sequential()\n",
        "cnn1.add(layers.Conv2D(64, (3,3), activation = 'relu', padding='same', input_shape = (ch_number,window_len,sampel_number_per_sec), data_format= \"channels_first\" ))\n",
        "print(cnn1.output.shape)\n",
        "cnn1.add(layers.MaxPooling2D((2,2)))\n",
        "print(cnn1.output.shape)\n",
        "cnn1.add(layers.Conv2D(128, (3,3), activation = 'relu'))\n",
        "print(cnn1.output.shape)\n",
        "cnn1.add(layers.MaxPooling2D((2,2)))\n",
        "print(cnn1.output.shape)\n",
        "cnn1.add(layers.Conv2D(256, (3,3), activation = 'relu'))\n",
        "print(cnn1.output.shape)\n",
        "cnn1.add(layers.MaxPooling2D((2,2)))\n",
        "cnn1.add(layers.Flatten())\n",
        "print(cnn1.output.shape)\n",
        "\n",
        "\n",
        "cnn2 = models.Sequential()\n",
        "cnn2.add(layers.Conv2D(64, (3,3), activation = 'relu', padding='same', input_shape = (ch_number,window_len,sampel_number_per_sec), data_format= \"channels_first\" ))\n",
        "print(cnn2.output.shape)\n",
        "cnn2.add(layers.MaxPooling2D((2,2)))\n",
        "print(cnn2.output.shape)\n",
        "cnn2.add(layers.Conv2D(128, (3,3), activation = 'relu'))\n",
        "print(cnn2.output.shape)\n",
        "cnn2.add(layers.MaxPooling2D((2,2)))\n",
        "print(cnn2.output.shape)\n",
        "cnn2.add(layers.Conv2D(256, (3,3), activation = 'relu'))\n",
        "print(cnn2.output.shape)\n",
        "cnn2.add(layers.MaxPooling2D((2,2)))\n",
        "cnn2.add(layers.Flatten())\n",
        "print(cnn2.output.shape)\n",
        "\n",
        "mergedOut = Concatenate()([cnn1.output,cnn2.output])\n",
        "\n",
        "#mergedOut = Flatten()(mergedOut)    \n",
        "mergedOut = Dense(512, activation='relu')(mergedOut)\n",
        "mergedOut = Dropout(.5)(mergedOut)\n",
        "mergedOut = Dense(128, activation='relu')(mergedOut)\n",
        "mergedOut = Dense(16, activation='relu')(mergedOut)\n",
        "# output layer\n",
        "mergedOut = Dense(2, activation='sigmoid')(mergedOut)\n",
        "\n",
        "newModel = Model([cnn1.input,cnn2.input], mergedOut)\n",
        "\n",
        "#model = models.Sequential()\n",
        "#model.add(layers.Concatenate([cnn1,cnn2]))\n",
        "#model.add(layers.Dense(512, activation = 'relu'))\n",
        "#model.add(layers.Dropout(0.5))\n",
        "#print(model.output.shape)\n",
        "#model.add(layers.Dense(2, activation = 'sigmoid'))\n",
        "#print(model.output.shape)\n",
        "\n",
        "\n",
        "from keras import optimizers\n",
        "\n",
        "newModel.compile(loss= 'binary_crossentropy',\n",
        "              optimizer= optimizers.RMSprop(lr= 1e-4),\n",
        "              metrics = ['acc'])"
      ],
      "execution_count": 59,
      "outputs": [
        {
          "output_type": "stream",
          "text": [
            "(?, 64, 20, 160)\n",
            "(?, 32, 10, 160)\n",
            "(?, 30, 8, 128)\n",
            "(?, 15, 4, 128)\n",
            "(?, 13, 2, 256)\n",
            "(?, ?)\n",
            "(?, 64, 20, 160)\n",
            "(?, 32, 10, 160)\n",
            "(?, 30, 8, 128)\n",
            "(?, 15, 4, 128)\n",
            "(?, 13, 2, 256)\n",
            "(?, ?)\n",
            "WARNING:tensorflow:From /usr/local/lib/python3.6/dist-packages/keras/backend/tensorflow_backend.py:148: The name tf.placeholder_with_default is deprecated. Please use tf.compat.v1.placeholder_with_default instead.\n",
            "\n",
            "WARNING:tensorflow:From /usr/local/lib/python3.6/dist-packages/keras/backend/tensorflow_backend.py:3733: calling dropout (from tensorflow.python.ops.nn_ops) with keep_prob is deprecated and will be removed in a future version.\n",
            "Instructions for updating:\n",
            "Please use `rate` instead of `keep_prob`. Rate should be set to `rate = 1 - keep_prob`.\n"
          ],
          "name": "stdout"
        }
      ]
    },
    {
      "cell_type": "code",
      "metadata": {
        "id": "HK5XmXSEQZ7B",
        "colab_type": "code",
        "colab": {}
      },
      "source": [
        "newModel.summary()"
      ],
      "execution_count": 0,
      "outputs": []
    },
    {
      "cell_type": "code",
      "metadata": {
        "id": "Xq9Xt7uAeGT1",
        "colab_type": "code",
        "outputId": "4923e698-03ed-48f8-e69c-96c8c0f3837c",
        "colab": {
          "base_uri": "https://localhost:8080/",
          "height": 561
        }
      },
      "source": [
        "history = newModel.fit(\n",
        "        [x_train_1, x_train_2],\n",
        "        y_train,\n",
        "        epochs = 15,\n",
        "        batch_size = 50,\n",
        "        validation_data = ([x_validation_1, x_validation_2], y_valid)\n",
        ")"
      ],
      "execution_count": 60,
      "outputs": [
        {
          "output_type": "stream",
          "text": [
            "Train on 80000 samples, validate on 20000 samples\n",
            "Epoch 1/15\n",
            "80000/80000 [==============================] - 79s 983us/step - loss: 0.6933 - acc: 0.4975 - val_loss: 0.6931 - val_acc: 0.5000\n",
            "Epoch 2/15\n",
            "80000/80000 [==============================] - 78s 971us/step - loss: 0.6932 - acc: 0.4982 - val_loss: 0.6931 - val_acc: 0.5000\n",
            "Epoch 3/15\n",
            "80000/80000 [==============================] - 78s 972us/step - loss: 0.3840 - acc: 0.7952 - val_loss: 0.2261 - val_acc: 0.9134\n",
            "Epoch 4/15\n",
            "80000/80000 [==============================] - 78s 973us/step - loss: 0.1955 - acc: 0.9295 - val_loss: 0.1526 - val_acc: 0.9477\n",
            "Epoch 5/15\n",
            "80000/80000 [==============================] - 78s 970us/step - loss: 0.1519 - acc: 0.9496 - val_loss: 0.1284 - val_acc: 0.9582\n",
            "Epoch 6/15\n",
            "80000/80000 [==============================] - 78s 972us/step - loss: 0.1339 - acc: 0.9575 - val_loss: 0.1176 - val_acc: 0.9626\n",
            "Epoch 7/15\n",
            "80000/80000 [==============================] - 78s 971us/step - loss: 0.1198 - acc: 0.9621 - val_loss: 0.1102 - val_acc: 0.9642\n",
            "Epoch 8/15\n",
            "80000/80000 [==============================] - 78s 972us/step - loss: 0.1121 - acc: 0.9645 - val_loss: 0.2004 - val_acc: 0.9350\n",
            "Epoch 9/15\n",
            "80000/80000 [==============================] - 78s 972us/step - loss: 0.1059 - acc: 0.9664 - val_loss: 0.0958 - val_acc: 0.9696\n",
            "Epoch 10/15\n",
            "80000/80000 [==============================] - 78s 971us/step - loss: 0.1006 - acc: 0.9672 - val_loss: 0.1083 - val_acc: 0.9667\n",
            "Epoch 11/15\n",
            "80000/80000 [==============================] - 78s 971us/step - loss: 0.0941 - acc: 0.9691 - val_loss: 0.0894 - val_acc: 0.9713\n",
            "Epoch 12/15\n",
            "80000/80000 [==============================] - 78s 970us/step - loss: 0.0868 - acc: 0.9715 - val_loss: 0.0689 - val_acc: 0.9780\n",
            "Epoch 13/15\n",
            "80000/80000 [==============================] - 78s 971us/step - loss: 0.0764 - acc: 0.9752 - val_loss: 0.0532 - val_acc: 0.9819\n",
            "Epoch 14/15\n",
            "80000/80000 [==============================] - 78s 970us/step - loss: 0.0688 - acc: 0.9779 - val_loss: 0.0482 - val_acc: 0.9844\n",
            "Epoch 15/15\n",
            "80000/80000 [==============================] - 78s 970us/step - loss: 0.0646 - acc: 0.9801 - val_loss: 0.0474 - val_acc: 0.9854\n"
          ],
          "name": "stdout"
        }
      ]
    },
    {
      "cell_type": "code",
      "metadata": {
        "id": "cMeKOFDYWd5f",
        "colab_type": "code",
        "outputId": "40ebf1c2-1f37-411f-9b90-237cf47c480c",
        "colab": {
          "base_uri": "https://localhost:8080/",
          "height": 51
        }
      },
      "source": [
        "# **create Test Data 1 ( A : from train subject , B: from train subject ) \n",
        "\n",
        "test_input1, test_input2, test_label = Fill_input_array(Test_Data_number, 0, train_subject_number-1, test_img_start_index, subject_img_number-1, 0, train_subject_number-1, test_img_start_index, subject_img_number-1)\n",
        "\n",
        "test_label = to_categorical(test_label, 2)\n",
        "newModel.evaluate([test_input1, test_input2], test_label)"
      ],
      "execution_count": 61,
      "outputs": [
        {
          "output_type": "stream",
          "text": [
            "50000/50000 [==============================] - 30s 593us/step\n"
          ],
          "name": "stdout"
        },
        {
          "output_type": "execute_result",
          "data": {
            "text/plain": [
              "[0.1369910411031544, 0.96073]"
            ]
          },
          "metadata": {
            "tags": []
          },
          "execution_count": 61
        }
      ]
    },
    {
      "cell_type": "code",
      "metadata": {
        "id": "x6saO0YcZ7hV",
        "colab_type": "code",
        "outputId": "be05eab7-ca26-4d17-d3ba-c8770cb11db6",
        "colab": {
          "base_uri": "https://localhost:8080/",
          "height": 51
        }
      },
      "source": [
        "# **create Test Data 2 ( A : from train subject , B: from new subject ) \n",
        "\n",
        "test_input1, test_input2, test_label = Fill_input_array(Test_Data_number, 0, train_subject_number-1, test_img_start_index, subject_img_number-1, new_subject_start_index, subject_number-1, 0, subject_img_number-1)\n",
        "test_label = to_categorical(test_label, 2)\n",
        "\n",
        "newModel.evaluate([test_input1, test_input2], test_label)"
      ],
      "execution_count": 63,
      "outputs": [
        {
          "output_type": "stream",
          "text": [
            "50000/50000 [==============================] - 27s 538us/step\n"
          ],
          "name": "stdout"
        },
        {
          "output_type": "execute_result",
          "data": {
            "text/plain": [
              "[0.7284375040638447, 0.87319]"
            ]
          },
          "metadata": {
            "tags": []
          },
          "execution_count": 63
        }
      ]
    },
    {
      "cell_type": "code",
      "metadata": {
        "id": "uCSaEZ_MbMp6",
        "colab_type": "code",
        "outputId": "48628b8e-424f-434b-d7e8-147736584099",
        "colab": {
          "base_uri": "https://localhost:8080/",
          "height": 51
        }
      },
      "source": [
        "# **create Test Data 3 ( A : from new subject , B: from train subject ) \n",
        "\n",
        "test_input1, test_input2, test_label = Fill_input_array(Test_Data_number, new_subject_start_index, subject_number-1, 0, subject_img_number-1, 0, train_subject_number-1, test_img_start_index, subject_img_number-1)\n",
        "test_label = to_categorical(test_label, 2)\n",
        "\n",
        "newModel.evaluate([test_input1, test_input2], test_label)"
      ],
      "execution_count": 69,
      "outputs": [
        {
          "output_type": "stream",
          "text": [
            "50000/50000 [==============================] - 27s 543us/step\n"
          ],
          "name": "stdout"
        },
        {
          "output_type": "execute_result",
          "data": {
            "text/plain": [
              "[0.3144060532477498, 0.91454]"
            ]
          },
          "metadata": {
            "tags": []
          },
          "execution_count": 69
        }
      ]
    },
    {
      "cell_type": "code",
      "metadata": {
        "id": "8XmqFspqbsDx",
        "colab_type": "code",
        "outputId": "5f54095c-9864-4de6-8654-fc78807e928e",
        "colab": {
          "base_uri": "https://localhost:8080/",
          "height": 51
        }
      },
      "source": [
        "# **create Test Data 4 ( A : from new subject , B: from new subject ) \n",
        "\n",
        "test_input1, test_input2, test_label = Fill_input_array(Test_Data_number, new_subject_start_index, subject_number-1, 0, subject_img_number-1, new_subject_start_index, subject_number-1, 0, subject_img_number-1)\n",
        "\n",
        "test_label = to_categorical(test_label, 2)\n",
        "newModel.evaluate([test_input1, test_input2], test_label)"
      ],
      "execution_count": 66,
      "outputs": [
        {
          "output_type": "stream",
          "text": [
            "50000/50000 [==============================] - 30s 590us/step\n"
          ],
          "name": "stdout"
        },
        {
          "output_type": "execute_result",
          "data": {
            "text/plain": [
              "[3.504089595718384, 0.5]"
            ]
          },
          "metadata": {
            "tags": []
          },
          "execution_count": 66
        }
      ]
    },
    {
      "cell_type": "code",
      "metadata": {
        "id": "XY7uBufGcc_5",
        "colab_type": "code",
        "outputId": "ea5c012c-49c7-46a7-9696-6cec8bba3087",
        "colab": {
          "base_uri": "https://localhost:8080/",
          "height": 295
        }
      },
      "source": [
        "import matplotlib.pyplot as plt\n",
        "\n",
        "history_dict = history.history \n",
        "loss_values = history_dict ['loss'] \n",
        "val_loss_values = history_dict['val_loss']\n",
        "epochs = range(1, len(loss_values) + 1)\n",
        "\n",
        "plt.plot(epochs, loss_values, 'bo', label='Training loss') \n",
        "plt.plot(epochs, val_loss_values, 'b', label='Validation loss') \n",
        "plt.title('Training and validation loss') \n",
        "plt.xlabel('Epochs') \n",
        "plt.ylabel('Loss') \n",
        "plt.legend()\n",
        "plt.show()"
      ],
      "execution_count": 67,
      "outputs": [
        {
          "output_type": "display_data",
          "data": {
            "image/png": "[encoded data removed]",
            "text/plain": [
              "<Figure size 432x288 with 1 Axes>"
            ]
          },
          "metadata": {
            "tags": []
          }
        }
      ]
    },
    {
      "cell_type": "code",
      "metadata": {
        "id": "sj6804cknwnW",
        "colab_type": "code",
        "outputId": "889b27ef-fe6b-4068-85f8-8b7faf99ef31",
        "colab": {
          "base_uri": "https://localhost:8080/",
          "height": 295
        }
      },
      "source": [
        "history_dict = history.history \n",
        "acc_values = history_dict ['acc'] \n",
        "val_acc_values = history_dict['val_acc']\n",
        "\n",
        "plt.plot(epochs, acc_values, 'bo', label='Training acc') \n",
        "plt.plot(epochs, val_acc_values, 'b', label='Validation acc') \n",
        "plt.title('Training and validation acc') \n",
        "plt.xlabel('Epochs') \n",
        "plt.ylabel('acc') \n",
        "plt.legend()\n",
        "plt.show()"
      ],
      "execution_count": 68,
      "outputs": [
        {
          "output_type": "display_data",
          "data": {
            "image/png": "[encoded data removed]",
            "text/plain": [
              "<Figure size 432x288 with 1 Axes>"
            ]
          },
          "metadata": {
            "tags": []
          }
        }
      ]
    },
    {
      "cell_type": "code",
      "metadata": {
        "id": "4DEhc3ZaoFhd",
        "colab_type": "code",
        "colab": {}
      },
      "source": [
        ""
      ],
      "execution_count": 0,
      "outputs": []
    }
  ]
}