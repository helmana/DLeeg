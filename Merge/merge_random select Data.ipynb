{
  "nbformat": 4,
  "nbformat_minor": 0,
  "metadata": {
    "colab": {
      "name": "Untitled57.ipynb",
      "provenance": [],
      "collapsed_sections": [],
      "include_colab_link": true
    },
    "kernelspec": {
      "name": "python3",
      "display_name": "Python 3"
    },
    "accelerator": "GPU"
  },
  "cells": [
    {
      "cell_type": "markdown",
      "metadata": {
        "id": "view-in-github",
        "colab_type": "text"
      },
      "source": [
        "<a href=\"https://colab.research.google.com/github/helmana/DLeeg/blob/master/Merge/merge_random%20select%20Data.ipynb\" target=\"_parent\"><img src=\"https://colab.research.google.com/assets/colab-badge.svg\" alt=\"Open In Colab\"/></a>"
      ]
    },
    {
      "cell_type": "code",
      "metadata": {
        "id": "1FqAv2Or0wZ_",
        "colab_type": "code",
        "colab": {
          "base_uri": "https://localhost:8080/",
          "height": 155
        },
        "outputId": "dd0c4f53-8418-4957-c434-6319a33c9aec"
      },
      "source": [
        "! pip install mne"
      ],
      "execution_count": 1,
      "outputs": [
        {
          "output_type": "stream",
          "text": [
            "Collecting mne\n",
            "\u001b[?25l  Downloading https://files.pythonhosted.org/packages/f5/44/b5b96426623c9dca0dfcdcfdf1f57058bb668f7c1a01bed0b0b867eb8b92/mne-0.19.0-py3-none-any.whl (6.4MB)\n",
            "\u001b[K     |████████████████████████████████| 6.4MB 3.4MB/s \n",
            "\u001b[?25hRequirement already satisfied: scipy>=0.17.1 in /usr/local/lib/python3.6/dist-packages (from mne) (1.3.1)\n",
            "Requirement already satisfied: numpy>=1.11.3 in /usr/local/lib/python3.6/dist-packages (from mne) (1.16.5)\n",
            "Installing collected packages: mne\n",
            "Successfully installed mne-0.19.0\n"
          ],
          "name": "stdout"
        }
      ]
    },
    {
      "cell_type": "code",
      "metadata": {
        "id": "ZvE48Je0_fdz",
        "colab_type": "code",
        "colab": {
          "base_uri": "https://localhost:8080/",
          "height": 104
        },
        "outputId": "87650b4b-9725-4bd8-b380-5aaa21fa7b9d"
      },
      "source": [
        "\n",
        "import matplotlib\n",
        "\n",
        "from matplotlib import pyplot as plt\n",
        "import numpy as np\n",
        "\n",
        "import math\n",
        "\n",
        "import keras\n",
        "from keras.utils import to_categorical\n",
        "\n",
        "import random\n",
        "import mne\n",
        "from mne.preprocessing import create_ecg_epochs, create_eog_epochs\n",
        "from mne import io\n",
        "from mne import viz\n",
        "#from mne.datasets import testing\n",
        "from mne import Epochs, io, pick_types\n",
        "from mne.event import define_target_events\n",
        "from mne.time_frequency import psd_welch\n",
        "print(__doc__)"
      ],
      "execution_count": 2,
      "outputs": [
        {
          "output_type": "stream",
          "text": [
            "Using TensorFlow backend.\n",
            "/usr/local/lib/python3.6/dist-packages/numba/decorators.py:146: RuntimeWarning: Caching is not available when the 'parallel' target is in use. Caching is now being disabled to allow execution to continue.\n",
            "  warnings.warn(msg, RuntimeWarning)\n"
          ],
          "name": "stderr"
        },
        {
          "output_type": "stream",
          "text": [
            "Automatically created module for IPython interactive environment\n"
          ],
          "name": "stdout"
        }
      ]
    },
    {
      "cell_type": "code",
      "metadata": {
        "id": "UBEu0-3X_jWT",
        "colab_type": "code",
        "outputId": "dc4a5da4-7ac8-4fff-e80f-7ea0174fc6df",
        "colab": {
          "base_uri": "https://localhost:8080/",
          "height": 34
        }
      },
      "source": [
        "\n",
        "\n",
        "Train_Data_number = 30000\n",
        "Test_Data_number = 10000\n",
        "\n",
        "\n",
        "\n",
        "subject_number=10\n",
        "\n",
        "new_subject_number = subject_number//5 # \n",
        "#index_new_subject = 0\n",
        "\n",
        "train_subject_number = subject_number - new_subject_number\n",
        "new_subject_start_index = train_subject_number\n",
        "task_index = [1] # task: REO\n",
        "task_number = len(task_index)\n",
        "\n",
        "# channels \n",
        "list_channel = [60]\n",
        "ch_number = len(list_channel)\n",
        "\n",
        "task_time = 60\n",
        "\n",
        "sampel_number_per_sec = 160 # sampel rate\n",
        "total_sampel_number =  sampel_number_per_sec *task_time # 60*160\n",
        "\n",
        "inner_sample_shift = 5 # inner step len\n",
        "outer_sample_shift = 20 # outer step len\n",
        "window_len= 20\n",
        "\n",
        "new_subject_start_index"
      ],
      "execution_count": 42,
      "outputs": [
        {
          "output_type": "execute_result",
          "data": {
            "text/plain": [
              "8"
            ]
          },
          "metadata": {
            "tags": []
          },
          "execution_count": 42
        }
      ]
    },
    {
      "cell_type": "code",
      "metadata": {
        "id": "ZcZV2EPKEe3P",
        "colab_type": "code",
        "colab": {
          "base_uri": "https://localhost:8080/",
          "height": 862
        },
        "outputId": "45d07b42-6588-4669-89d8-eaf4919e12a6"
      },
      "source": [
        "# load dataset in array\n",
        "list_raw_fnames = [[0]*task_number]*subject_number\n",
        "for x in range(subject_number):\n",
        "    list_raw_fnames[x] = mne.datasets.eegbci.load_data(x+1,task_index)\n",
        "\n",
        "list_rawdata = np.zeros((subject_number,task_number), dtype='object')\n",
        "\n",
        "for i in range(subject_number):\n",
        "    for j in range(task_number):\n",
        "        list_rawdata[i][j] = mne.io.read_raw_edf(list_raw_fnames[i][j], preload=True)"
      ],
      "execution_count": 43,
      "outputs": [
        {
          "output_type": "stream",
          "text": [
            "Extracting EDF parameters from /root/mne_data/MNE-eegbci-data/physiobank/database/eegmmidb/S001/S001R01.edf...\n",
            "EDF file detected\n",
            "Setting channel info structure...\n",
            "Creating raw.info structure...\n",
            "Reading 0 ... 9759  =      0.000 ...    60.994 secs...\n",
            "Extracting EDF parameters from /root/mne_data/MNE-eegbci-data/physiobank/database/eegmmidb/S002/S002R01.edf...\n",
            "EDF file detected\n",
            "Setting channel info structure...\n",
            "Creating raw.info structure...\n",
            "Reading 0 ... 9759  =      0.000 ...    60.994 secs...\n",
            "Extracting EDF parameters from /root/mne_data/MNE-eegbci-data/physiobank/database/eegmmidb/S003/S003R01.edf...\n",
            "EDF file detected\n",
            "Setting channel info structure...\n",
            "Creating raw.info structure...\n",
            "Reading 0 ... 9759  =      0.000 ...    60.994 secs...\n",
            "Extracting EDF parameters from /root/mne_data/MNE-eegbci-data/physiobank/database/eegmmidb/S004/S004R01.edf...\n",
            "EDF file detected\n",
            "Setting channel info structure...\n",
            "Creating raw.info structure...\n",
            "Reading 0 ... 9759  =      0.000 ...    60.994 secs...\n",
            "Extracting EDF parameters from /root/mne_data/MNE-eegbci-data/physiobank/database/eegmmidb/S005/S005R01.edf...\n",
            "EDF file detected\n",
            "Setting channel info structure...\n",
            "Creating raw.info structure...\n",
            "Reading 0 ... 9759  =      0.000 ...    60.994 secs...\n",
            "Extracting EDF parameters from /root/mne_data/MNE-eegbci-data/physiobank/database/eegmmidb/S006/S006R01.edf...\n",
            "EDF file detected\n",
            "Setting channel info structure...\n",
            "Creating raw.info structure...\n",
            "Reading 0 ... 9759  =      0.000 ...    60.994 secs...\n",
            "Extracting EDF parameters from /root/mne_data/MNE-eegbci-data/physiobank/database/eegmmidb/S007/S007R01.edf...\n",
            "EDF file detected\n",
            "Setting channel info structure...\n",
            "Creating raw.info structure...\n",
            "Reading 0 ... 9759  =      0.000 ...    60.994 secs...\n",
            "Extracting EDF parameters from /root/mne_data/MNE-eegbci-data/physiobank/database/eegmmidb/S008/S008R01.edf...\n",
            "EDF file detected\n",
            "Setting channel info structure...\n",
            "Creating raw.info structure...\n",
            "Reading 0 ... 9759  =      0.000 ...    60.994 secs...\n",
            "Extracting EDF parameters from /root/mne_data/MNE-eegbci-data/physiobank/database/eegmmidb/S009/S009R01.edf...\n",
            "EDF file detected\n",
            "Setting channel info structure...\n",
            "Creating raw.info structure...\n",
            "Reading 0 ... 9759  =      0.000 ...    60.994 secs...\n",
            "Extracting EDF parameters from /root/mne_data/MNE-eegbci-data/physiobank/database/eegmmidb/S010/S010R01.edf...\n",
            "EDF file detected\n",
            "Setting channel info structure...\n",
            "Creating raw.info structure...\n",
            "Reading 0 ... 9759  =      0.000 ...    60.994 secs...\n"
          ],
          "name": "stdout"
        }
      ]
    },
    {
      "cell_type": "code",
      "metadata": {
        "id": "n8UR6JrrP3Zf",
        "colab_type": "code",
        "colab": {
          "base_uri": "https://localhost:8080/",
          "height": 34
        },
        "outputId": "2d276e65-2044-4d47-a871-87284915ee06"
      },
      "source": [
        "subject_img_number = math.floor((total_sampel_number - sampel_number_per_sec - (window_len-1 )*inner_sample_shift) / outer_sample_shift) +1\n",
        "\n",
        "test_img_number = math.floor(subject_img_number * 0.15)\n",
        "test_img_start_index=subject_img_number - test_img_number\n",
        "train_img_number =  test_img_start_index \n",
        "\n",
        "test_img_start_index\n"
      ],
      "execution_count": 44,
      "outputs": [
        {
          "output_type": "execute_result",
          "data": {
            "text/plain": [
              "398"
            ]
          },
          "metadata": {
            "tags": []
          },
          "execution_count": 44
        }
      ]
    },
    {
      "cell_type": "code",
      "metadata": {
        "id": "3sbZYspIp9J5",
        "colab_type": "code",
        "colab": {}
      },
      "source": [
        "\n",
        "def normalize_channel_data(ch , i, ch_min, ch_max):\n",
        "    ch = ((ch - ch_min[i]) / (ch_max[i] - ch_min[i] ))\n",
        "    return ch"
      ],
      "execution_count": 0,
      "outputs": []
    },
    {
      "cell_type": "code",
      "metadata": {
        "id": "MA054T3KAZ7J",
        "colab_type": "code",
        "colab": {
          "base_uri": "https://localhost:8080/",
          "height": 71
        },
        "outputId": "6e320245-db70-4ae1-9f10-6dd80a407426"
      },
      "source": [
        "# All data\n",
        "DataChannelsRaw = np.zeros((subject_number, ch_number,total_sampel_number), dtype = float)\n",
        "\n",
        "for i in range(train_subject_number):\n",
        "  for  j in range(ch_number):\n",
        "    DataChannelsRaw[i][j], times =list_rawdata[i][0][list_channel[j],:total_sampel_number]\n",
        "DataChannelsRaw_t = DataChannelsRaw.copy()\n",
        "\n",
        "#normal all data\n",
        "for i in range(subject_number):\n",
        "  ch_max =[]\n",
        "  ch_min =[]\n",
        "  for  j in range(ch_number):    \n",
        "    ch_max = np.append(ch_max, max(DataChannelsRaw_t[i][j])) # max for each cannel\n",
        "    ch_min = np.append(ch_min, min(DataChannelsRaw_t[i][j])) # min for each cannel\n",
        "    \n",
        "    # Normalize Channels\n",
        "    DataChannelsRaw_t[i][j]=normalize_channel_data(DataChannelsRaw_t[i][j], j, ch_min, ch_max)\n",
        "    \n"
      ],
      "execution_count": 46,
      "outputs": [
        {
          "output_type": "stream",
          "text": [
            "/usr/local/lib/python3.6/dist-packages/ipykernel_launcher.py:3: RuntimeWarning: invalid value encountered in true_divide\n",
            "  This is separate from the ipykernel package so we can avoid doing imports until\n"
          ],
          "name": "stderr"
        }
      ]
    },
    {
      "cell_type": "code",
      "metadata": {
        "id": "GBMeE64EfjWC",
        "colab_type": "code",
        "colab": {
          "base_uri": "https://localhost:8080/",
          "height": 34
        },
        "outputId": "b8543faa-b798-4e23-e054-c71fee82dfa7"
      },
      "source": [
        "DataChannelsRaw_t.shape"
      ],
      "execution_count": 47,
      "outputs": [
        {
          "output_type": "execute_result",
          "data": {
            "text/plain": [
              "(10, 1, 9600)"
            ]
          },
          "metadata": {
            "tags": []
          },
          "execution_count": 47
        }
      ]
    },
    {
      "cell_type": "code",
      "metadata": {
        "id": "OLDJuFX34NMe",
        "colab_type": "code",
        "colab": {}
      },
      "source": [
        "def Extract_Data(rand_subject, rand_sample):\n",
        "\n",
        "  Rand_Data =  np.zeros((ch_number, window_len, sampel_number_per_sec), dtype = float)\n",
        "  for i in range(ch_number):\n",
        "    for z in range (window_len):\n",
        "      ExtractedData = DataChannelsRaw_t[rand_subject][i, rand_sample + z*inner_sample_shift: sampel_number_per_sec + rand_sample + z*inner_sample_shift] \n",
        "      Rand_Data[i][z] = ExtractedData\n",
        "      \n",
        "  return Rand_Data"
      ],
      "execution_count": 0,
      "outputs": []
    },
    {
      "cell_type": "code",
      "metadata": {
        "id": "cuaFxl6ucfXJ",
        "colab_type": "code",
        "colab": {}
      },
      "source": [
        "def Fill_input_array(Data_number, first_index_subjectA, last_index_subjectA, first_index_sampleA, last_index_sampleA,   first_index_subjectB, last_index_subjectB, first_index_sampleB, last_index_sampleB):\n",
        "  loop_counter = int(Data_number/2)\n",
        "  \n",
        "  input1 = np.zeros((Data_number, ch_number, window_len , sampel_number_per_sec), dtype = float)\n",
        "  input2 = np.zeros((Data_number, ch_number, window_len, sampel_number_per_sec), dtype = float)\n",
        "  input_label=[]\n",
        "  \n",
        "  for r in range(loop_counter):\n",
        "    # select random subject and sample A\n",
        "    rand_subjectA = random.randint(first_index_subjectA, last_index_subjectA)\n",
        "    rand_sample1_A= random.randint(first_index_sampleA, last_index_sampleA) * outer_sample_shift\n",
        "    rand_sample2_A= random.randint(first_index_sampleA, last_index_sampleA) * outer_sample_shift\n",
        "\n",
        "    # 1: Select random data from subjectA \n",
        "    rand_Data1_subjectA = Extract_Data(rand_subjectA, rand_sample1_A)\n",
        "    input1[r*2:r*2+2] = rand_Data1_subjectA\n",
        "\n",
        "    # 2: Select random data from subjectA \n",
        "    rand_Data2_subjectA = Extract_Data(rand_subjectA, rand_sample2_A)\n",
        "    input2[r*2] = rand_Data2_subjectA\n",
        "\n",
        "    #set label 1\n",
        "    input_label = np.append(input_label, 1) \n",
        "\n",
        "\n",
        "\n",
        "    # select random subject and sample B\n",
        "    rand_sampleB= random.randint(first_index_sampleB, last_index_sampleB) * outer_sample_shift\n",
        "    rand_subjectB = random.randint(first_index_subjectB, last_index_subjectB)\n",
        "    # A != B\n",
        "    while rand_subjectA == rand_subjectB:\n",
        "      rand_subjectB = random.randint(first_index_subjectB, last_index_subjectB)\n",
        "\n",
        "    # Select random data from subjectB\n",
        "    rand_Data_subjectB = Extract_Data(rand_subjectB, rand_sampleB)\n",
        "    input2[r*2+1] = rand_Data_subjectB\n",
        "\n",
        "    #set label 0\n",
        "    input_label = np.append(input_label, 0)\n",
        "    \n",
        "  return input1, input2, input_label\n"
      ],
      "execution_count": 0,
      "outputs": []
    },
    {
      "cell_type": "code",
      "metadata": {
        "id": "9dT3ANO1gsS0",
        "colab_type": "code",
        "colab": {}
      },
      "source": [
        "# **create Train Data \n",
        "\n",
        "Train_input1, Train_input2, train_label = Fill_input_array(Train_Data_number, 0, train_subject_number-1, 0, train_img_number-1, 0, train_subject_number-1, 0, train_img_number-1)\n",
        "\n",
        "train_label = to_categorical(train_label, 2)\n"
      ],
      "execution_count": 0,
      "outputs": []
    },
    {
      "cell_type": "code",
      "metadata": {
        "id": "a9KcOphdgAi5",
        "colab_type": "code",
        "colab": {
          "base_uri": "https://localhost:8080/",
          "height": 135
        },
        "outputId": "c2a20f9e-74ba-428f-871b-ca8d4b455712"
      },
      "source": [
        "train_label"
      ],
      "execution_count": 52,
      "outputs": [
        {
          "output_type": "execute_result",
          "data": {
            "text/plain": [
              "array([[0., 1.],\n",
              "       [1., 0.],\n",
              "       [0., 1.],\n",
              "       ...,\n",
              "       [1., 0.],\n",
              "       [0., 1.],\n",
              "       [1., 0.]], dtype=float32)"
            ]
          },
          "metadata": {
            "tags": []
          },
          "execution_count": 52
        }
      ]
    },
    {
      "cell_type": "code",
      "metadata": {
        "id": "WGZ4G1VzdSTd",
        "colab_type": "code",
        "colab": {}
      },
      "source": [
        "validation_index = math.floor( Train_Data_number * 0.2)\n",
        "\n",
        "\n",
        "# validation & train\n",
        "\n",
        "#train\n",
        "x_train_1 =Train_input1[validation_index:]\n",
        "x_train_2 =Train_input2[validation_index:]\n",
        "\n",
        "y_train =train_label[validation_index:]\n",
        "\n",
        "#validation\n",
        "x_validation_1 =Train_input1[:validation_index]\n",
        "x_validation_2 =Train_input2[:validation_index] \n",
        "\n",
        "y_valid =train_label[:validation_index]\n",
        "\n",
        "#x_valid.shape"
      ],
      "execution_count": 0,
      "outputs": []
    },
    {
      "cell_type": "code",
      "metadata": {
        "id": "cKAlqekGd97l",
        "colab_type": "code",
        "colab": {
          "base_uri": "https://localhost:8080/",
          "height": 220
        },
        "outputId": "ca0eb5a6-7451-40fd-9c8d-4211306ddfb7"
      },
      "source": [
        "\n",
        "from keras import layers\n",
        "from keras import models\n",
        "from keras import regularizers\n",
        "#from keras.layers import Dense, Merge\n",
        "from keras.layers import *\n",
        "from keras.models import Model\n",
        "\n",
        "\n",
        "cnn1 = models.Sequential()\n",
        "cnn1.add(layers.Conv2D(64, (3,3), activation = 'relu', padding='same', input_shape = (ch_number,window_len,sampel_number_per_sec), data_format= \"channels_first\" ))\n",
        "print(cnn1.output.shape)\n",
        "cnn1.add(layers.MaxPooling2D((2,2)))\n",
        "print(cnn1.output.shape)\n",
        "cnn1.add(layers.Conv2D(128, (3,3), activation = 'relu'))\n",
        "print(cnn1.output.shape)\n",
        "cnn1.add(layers.MaxPooling2D((2,2)))\n",
        "print(cnn1.output.shape)\n",
        "cnn1.add(layers.Conv2D(256, (3,3), activation = 'relu'))\n",
        "print(cnn1.output.shape)\n",
        "cnn1.add(layers.MaxPooling2D((2,2)))\n",
        "cnn1.add(layers.Flatten())\n",
        "print(cnn1.output.shape)\n",
        "\n",
        "\n",
        "cnn2 = models.Sequential()\n",
        "cnn2.add(layers.Conv2D(64, (3,3), activation = 'relu', padding='same', input_shape = (ch_number,window_len,sampel_number_per_sec), data_format= \"channels_first\" ))\n",
        "print(cnn2.output.shape)\n",
        "cnn2.add(layers.MaxPooling2D((2,2)))\n",
        "print(cnn2.output.shape)\n",
        "cnn2.add(layers.Conv2D(128, (3,3), activation = 'relu'))\n",
        "print(cnn2.output.shape)\n",
        "cnn2.add(layers.MaxPooling2D((2,2)))\n",
        "print(cnn2.output.shape)\n",
        "cnn2.add(layers.Conv2D(256, (3,3), activation = 'relu'))\n",
        "print(cnn2.output.shape)\n",
        "cnn2.add(layers.MaxPooling2D((2,2)))\n",
        "cnn2.add(layers.Flatten())\n",
        "print(cnn2.output.shape)\n",
        "\n",
        "mergedOut = Concatenate()([cnn1.output,cnn2.output])\n",
        "\n",
        "#mergedOut = Flatten()(mergedOut)    \n",
        "mergedOut = Dense(512, activation='relu')(mergedOut)\n",
        "mergedOut = Dropout(.5)(mergedOut)\n",
        "\n",
        "# output layer\n",
        "mergedOut = Dense(2, activation='sigmoid')(mergedOut)\n",
        "\n",
        "newModel = Model([cnn1.input,cnn2.input], mergedOut)\n",
        "\n",
        "#model = models.Sequential()\n",
        "#model.add(layers.Concatenate([cnn1,cnn2]))\n",
        "#model.add(layers.Dense(512, activation = 'relu'))\n",
        "#model.add(layers.Dropout(0.5))\n",
        "#print(model.output.shape)\n",
        "#model.add(layers.Dense(2, activation = 'sigmoid'))\n",
        "#print(model.output.shape)\n",
        "\n",
        "\n",
        "from keras import optimizers\n",
        "\n",
        "newModel.compile(loss= 'binary_crossentropy',\n",
        "              optimizer= optimizers.RMSprop(lr= 1e-4),\n",
        "              metrics = ['acc'])"
      ],
      "execution_count": 54,
      "outputs": [
        {
          "output_type": "stream",
          "text": [
            "(?, 64, 20, 160)\n",
            "(?, 32, 10, 160)\n",
            "(?, 30, 8, 128)\n",
            "(?, 15, 4, 128)\n",
            "(?, 13, 2, 256)\n",
            "(?, ?)\n",
            "(?, 64, 20, 160)\n",
            "(?, 32, 10, 160)\n",
            "(?, 30, 8, 128)\n",
            "(?, 15, 4, 128)\n",
            "(?, 13, 2, 256)\n",
            "(?, ?)\n"
          ],
          "name": "stdout"
        }
      ]
    },
    {
      "cell_type": "code",
      "metadata": {
        "id": "Xq9Xt7uAeGT1",
        "colab_type": "code",
        "colab": {
          "base_uri": "https://localhost:8080/",
          "height": 561
        },
        "outputId": "b2cca068-7bd7-4f8c-c30b-c25276f1e9ea"
      },
      "source": [
        "history = newModel.fit(\n",
        "        [x_train_1, x_train_2],\n",
        "        y_train,\n",
        "        epochs = 15,\n",
        "        batch_size = 30,\n",
        "        validation_data = ([x_validation_1, x_validation_2], y_valid)\n",
        ")"
      ],
      "execution_count": 55,
      "outputs": [
        {
          "output_type": "stream",
          "text": [
            "Train on 24000 samples, validate on 6000 samples\n",
            "Epoch 1/15\n",
            "24000/24000 [==============================] - 30s 1ms/step - loss: 0.6850 - acc: 0.5290 - val_loss: 0.5860 - val_acc: 0.6111\n",
            "Epoch 2/15\n",
            "24000/24000 [==============================] - 27s 1ms/step - loss: 0.3099 - acc: 0.8663 - val_loss: 0.1919 - val_acc: 0.9222\n",
            "Epoch 3/15\n",
            "24000/24000 [==============================] - 27s 1ms/step - loss: 0.1940 - acc: 0.9175 - val_loss: 0.1566 - val_acc: 0.9386\n",
            "Epoch 4/15\n",
            "24000/24000 [==============================] - 27s 1ms/step - loss: 0.1607 - acc: 0.9329 - val_loss: 0.1238 - val_acc: 0.9472\n",
            "Epoch 5/15\n",
            "24000/24000 [==============================] - 27s 1ms/step - loss: 0.1293 - acc: 0.9502 - val_loss: 0.0964 - val_acc: 0.9647\n",
            "Epoch 6/15\n",
            "24000/24000 [==============================] - 27s 1ms/step - loss: 0.1129 - acc: 0.9584 - val_loss: 0.0821 - val_acc: 0.9754\n",
            "Epoch 7/15\n",
            "24000/24000 [==============================] - 27s 1ms/step - loss: 0.1018 - acc: 0.9637 - val_loss: 0.0771 - val_acc: 0.9766\n",
            "Epoch 8/15\n",
            "24000/24000 [==============================] - 28s 1ms/step - loss: 0.0940 - acc: 0.9679 - val_loss: 0.0703 - val_acc: 0.9781\n",
            "Epoch 9/15\n",
            "24000/24000 [==============================] - 29s 1ms/step - loss: 0.0889 - acc: 0.9690 - val_loss: 0.1332 - val_acc: 0.9545\n",
            "Epoch 10/15\n",
            "24000/24000 [==============================] - 29s 1ms/step - loss: 0.0846 - acc: 0.9706 - val_loss: 0.0634 - val_acc: 0.9802\n",
            "Epoch 11/15\n",
            "24000/24000 [==============================] - 29s 1ms/step - loss: 0.0780 - acc: 0.9731 - val_loss: 0.1078 - val_acc: 0.9622\n",
            "Epoch 12/15\n",
            "24000/24000 [==============================] - 29s 1ms/step - loss: 0.0723 - acc: 0.9742 - val_loss: 0.1275 - val_acc: 0.9615\n",
            "Epoch 13/15\n",
            "24000/24000 [==============================] - 29s 1ms/step - loss: 0.0660 - acc: 0.9771 - val_loss: 0.0505 - val_acc: 0.9824\n",
            "Epoch 14/15\n",
            "24000/24000 [==============================] - 29s 1ms/step - loss: 0.0589 - acc: 0.9789 - val_loss: 0.1585 - val_acc: 0.9654\n",
            "Epoch 15/15\n",
            "24000/24000 [==============================] - 29s 1ms/step - loss: 0.0537 - acc: 0.9815 - val_loss: 0.0472 - val_acc: 0.9840\n"
          ],
          "name": "stdout"
        }
      ]
    },
    {
      "cell_type": "code",
      "metadata": {
        "id": "cMeKOFDYWd5f",
        "colab_type": "code",
        "colab": {
          "base_uri": "https://localhost:8080/",
          "height": 51
        },
        "outputId": "f8bab668-a193-4a85-bde0-4cf646a2f407"
      },
      "source": [
        "# **create Test Data 1 ( A : from train subject , B: from train subject ) \n",
        "\n",
        "test_input1, test_input2, test_label = Fill_input_array(Test_Data_number, 0, train_subject_number-1, test_img_start_index, subject_img_number-1, 0, train_subject_number-1, test_img_start_index, subject_img_number-1)\n",
        "\n",
        "test_label = to_categorical(test_label, 2)\n",
        "newModel.evaluate([test_input1, test_input2], test_label)"
      ],
      "execution_count": 73,
      "outputs": [
        {
          "output_type": "stream",
          "text": [
            "10000/10000 [==============================] - 5s 503us/step\n"
          ],
          "name": "stdout"
        },
        {
          "output_type": "execute_result",
          "data": {
            "text/plain": [
              "[0.06542070447262377, 0.97785]"
            ]
          },
          "metadata": {
            "tags": []
          },
          "execution_count": 73
        }
      ]
    },
    {
      "cell_type": "code",
      "metadata": {
        "id": "x6saO0YcZ7hV",
        "colab_type": "code",
        "colab": {
          "base_uri": "https://localhost:8080/",
          "height": 51
        },
        "outputId": "ac4f6498-66ea-409d-9ac5-10d2a7ed9c84"
      },
      "source": [
        "# **create Test Data 2 ( A : from train subject , B: from new subject ) \n",
        "\n",
        "test_input1, test_input2, test_label = Fill_input_array(Test_Data_number, 0, train_subject_number-1, test_img_start_index, subject_img_number-1, new_subject_start_index, subject_number-1, 0, subject_img_number-1)\n",
        "test_label = to_categorical(test_label, 2)\n",
        "\n",
        "newModel.evaluate([test_input1, test_input2], test_label)"
      ],
      "execution_count": 74,
      "outputs": [
        {
          "output_type": "stream",
          "text": [
            "10000/10000 [==============================] - 7s 701us/step\n"
          ],
          "name": "stdout"
        },
        {
          "output_type": "execute_result",
          "data": {
            "text/plain": [
              "[0.09371985532604157, 0.957]"
            ]
          },
          "metadata": {
            "tags": []
          },
          "execution_count": 74
        }
      ]
    },
    {
      "cell_type": "code",
      "metadata": {
        "id": "uCSaEZ_MbMp6",
        "colab_type": "code",
        "colab": {
          "base_uri": "https://localhost:8080/",
          "height": 51
        },
        "outputId": "74eebe6b-5167-494d-b745-7a189f4abe6b"
      },
      "source": [
        "# **create Test Data 3 ( A : from new subject , B: from train subject ) \n",
        "\n",
        "test_input1, test_input2, test_label = Fill_input_array(Test_Data_number, new_subject_start_index, subject_number-1, 0, subject_img_number-1, 0, train_subject_number-1, test_img_start_index, subject_img_number-1)\n",
        "test_label = to_categorical(test_label, 2)\n",
        "\n",
        "newModel.evaluate([test_input1, test_input2], test_label)"
      ],
      "execution_count": 75,
      "outputs": [
        {
          "output_type": "stream",
          "text": [
            "10000/10000 [==============================] - 5s 526us/step\n"
          ],
          "name": "stdout"
        },
        {
          "output_type": "execute_result",
          "data": {
            "text/plain": [
              "[0.5971478731155395, 0.8767]"
            ]
          },
          "metadata": {
            "tags": []
          },
          "execution_count": 75
        }
      ]
    },
    {
      "cell_type": "code",
      "metadata": {
        "id": "8XmqFspqbsDx",
        "colab_type": "code",
        "colab": {
          "base_uri": "https://localhost:8080/",
          "height": 51
        },
        "outputId": "e30b121f-fa0c-4f82-da76-d91412f9e982"
      },
      "source": [
        "# **create Test Data 4 ( A : from new subject , B: from new subject ) \n",
        "\n",
        "test_input1, test_input2, test_label = Fill_input_array(Test_Data_number, new_subject_start_index, subject_number-1, 0, subject_img_number-1, new_subject_start_index, subject_number-1, 0, subject_img_number-1)\n",
        "\n",
        "test_label = to_categorical(test_label, 2)\n",
        "newModel.evaluate([test_input1, test_input2], test_label)"
      ],
      "execution_count": 76,
      "outputs": [
        {
          "output_type": "stream",
          "text": [
            "10000/10000 [==============================] - 7s 652us/step\n"
          ],
          "name": "stdout"
        },
        {
          "output_type": "execute_result",
          "data": {
            "text/plain": [
              "[0.698938250541687, 0.5]"
            ]
          },
          "metadata": {
            "tags": []
          },
          "execution_count": 76
        }
      ]
    },
    {
      "cell_type": "code",
      "metadata": {
        "id": "XY7uBufGcc_5",
        "colab_type": "code",
        "colab": {
          "base_uri": "https://localhost:8080/",
          "height": 295
        },
        "outputId": "0dd8e6c0-12f9-48a7-c3f7-8fac2abc6d4f"
      },
      "source": [
        "import matplotlib.pyplot as plt\n",
        "\n",
        "history_dict = history.history \n",
        "loss_values = history_dict ['loss'] \n",
        "val_loss_values = history_dict['val_loss']\n",
        "epochs = range(1, len(loss_values) + 1)\n",
        "\n",
        "plt.plot(epochs, loss_values, 'bo', label='Training loss') \n",
        "plt.plot(epochs, val_loss_values, 'b', label='Validation loss') \n",
        "plt.title('Training and validation loss') \n",
        "plt.xlabel('Epochs') \n",
        "plt.ylabel('Loss') \n",
        "plt.legend()\n",
        "plt.show()"
      ],
      "execution_count": 63,
      "outputs": [
        {
          "output_type": "display_data",
          "data": {
            "image/png": "[encoded data removed]",
            "text/plain": [
              "<Figure size 432x288 with 1 Axes>"
            ]
          },
          "metadata": {
            "tags": []
          }
        }
      ]
    },
    {
      "cell_type": "code",
      "metadata": {
        "id": "sj6804cknwnW",
        "colab_type": "code",
        "colab": {
          "base_uri": "https://localhost:8080/",
          "height": 295
        },
        "outputId": "0f41f9d3-ca57-4e36-ff57-7863f0b680ba"
      },
      "source": [
        "history_dict = history.history \n",
        "acc_values = history_dict ['acc'] \n",
        "val_acc_values = history_dict['val_acc']\n",
        "\n",
        "plt.plot(epochs, acc_values, 'bo', label='Training acc') \n",
        "plt.plot(epochs, val_acc_values, 'b', label='Validation acc') \n",
        "plt.title('Training and validation acc') \n",
        "plt.xlabel('Epochs') \n",
        "plt.ylabel('acc') \n",
        "plt.legend()\n",
        "plt.show()"
      ],
      "execution_count": 60,
      "outputs": [
        {
          "output_type": "display_data",
          "data": {
            "image/png": "[encoded data removed]",
            "text/plain": [
              "<Figure size 432x288 with 1 Axes>"
            ]
          },
          "metadata": {
            "tags": []
          }
        }
      ]
    },
    {
      "cell_type": "code",
      "metadata": {
        "id": "4DEhc3ZaoFhd",
        "colab_type": "code",
        "colab": {}
      },
      "source": [
        ""
      ],
      "execution_count": 0,
      "outputs": []
    }
  ]
}