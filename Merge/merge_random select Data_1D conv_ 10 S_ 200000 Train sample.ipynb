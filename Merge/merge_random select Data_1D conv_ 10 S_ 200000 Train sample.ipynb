{
  "nbformat": 4,
  "nbformat_minor": 0,
  "metadata": {
    "colab": {
      "name": "Untitled57.ipynb",
      "provenance": [],
      "collapsed_sections": [],
      "machine_shape": "hm",
      "include_colab_link": true
    },
    "kernelspec": {
      "name": "python3",
      "display_name": "Python 3"
    },
    "accelerator": "GPU"
  },
  "cells": [
    {
      "cell_type": "markdown",
      "metadata": {
        "id": "view-in-github",
        "colab_type": "text"
      },
      "source": [
        "<a href=\"https://colab.research.google.com/github/helmana/DLeeg/blob/master/Merge/merge_random%20select%20Data_1D%20conv_%2010%20S_%20200000%20Train%20sample.ipynb\" target=\"_parent\"><img src=\"https://colab.research.google.com/assets/colab-badge.svg\" alt=\"Open In Colab\"/></a>"
      ]
    },
    {
      "cell_type": "code",
      "metadata": {
        "id": "PVUWKPX6hVrJ",
        "colab_type": "code",
        "colab": {
          "base_uri": "https://localhost:8080/",
          "height": 240
        },
        "outputId": "76b1af1b-9e04-4a7e-b235-d6aa5d737d09"
      },
      "source": [
        "from google.colab import drive\n",
        "drive.mount('/content/drive')\n",
        "!pip install mne"
      ],
      "execution_count": 1,
      "outputs": [
        {
          "output_type": "stream",
          "text": [
            "Go to this URL in a browser: https://accounts.google.com/o/oauth2/auth?client_id=947318989803-6bn6qk8qdgf4n4g3pfee6491hc0brc4i.apps.googleusercontent.com&redirect_uri=urn%3Aietf%3Awg%3Aoauth%3A2.0%3Aoob&scope=email%20https%3A%2F%2Fwww.googleapis.com%2Fauth%2Fdocs.test%20https%3A%2F%2Fwww.googleapis.com%2Fauth%2Fdrive%20https%3A%2F%2Fwww.googleapis.com%2Fauth%2Fdrive.photos.readonly%20https%3A%2F%2Fwww.googleapis.com%2Fauth%2Fpeopleapi.readonly&response_type=code\n",
            "\n",
            "Enter your authorization code:\n",
            "··········\n",
            "Mounted at /content/drive\n",
            "Collecting mne\n",
            "\u001b[?25l  Downloading https://files.pythonhosted.org/packages/f5/44/b5b96426623c9dca0dfcdcfdf1f57058bb668f7c1a01bed0b0b867eb8b92/mne-0.19.0-py3-none-any.whl (6.4MB)\n",
            "\u001b[K     |████████████████████████████████| 6.4MB 2.6MB/s \n",
            "\u001b[?25hRequirement already satisfied: scipy>=0.17.1 in /usr/local/lib/python3.6/dist-packages (from mne) (1.3.1)\n",
            "Requirement already satisfied: numpy>=1.11.3 in /usr/local/lib/python3.6/dist-packages (from mne) (1.16.5)\n",
            "Installing collected packages: mne\n",
            "Successfully installed mne-0.19.0\n"
          ],
          "name": "stdout"
        }
      ]
    },
    {
      "cell_type": "code",
      "metadata": {
        "id": "f2OGp0hm2Cbv",
        "colab_type": "code",
        "colab": {}
      },
      "source": [
        "'''\n",
        "\n",
        "Train_Data_number = 200000\n",
        "Test_Data_number = 50000\n",
        "subject_number=10\n",
        "\n",
        "test 1 - loss, acc :[0.1709, 0.97203]\n",
        "test 2 - loss, acc :[0.4854, 0.93682]\n",
        "test 3 - loss, acc :[1.9932, 0.40926]\n",
        "test 4 - loss, acc :[1.4679, 0.5]\n",
        "\n",
        "'''"
      ],
      "execution_count": 0,
      "outputs": []
    },
    {
      "cell_type": "code",
      "metadata": {
        "id": "ZvE48Je0_fdz",
        "colab_type": "code",
        "outputId": "00d5214c-52d7-4a8a-ff1b-05372a334466",
        "colab": {
          "base_uri": "https://localhost:8080/",
          "height": 104
        }
      },
      "source": [
        "\n",
        "\n",
        "\n",
        "import matplotlib\n",
        "\n",
        "from matplotlib import pyplot as plt\n",
        "import numpy as np\n",
        "\n",
        "import math\n",
        "\n",
        "import keras\n",
        "from keras.utils import to_categorical\n",
        "\n",
        "import random\n",
        "import mne\n",
        "from mne.preprocessing import create_ecg_epochs, create_eog_epochs\n",
        "from mne import io\n",
        "from mne import viz\n",
        "#from mne.datasets import testing\n",
        "from mne import Epochs, io, pick_types\n",
        "from mne.event import define_target_events\n",
        "from mne.time_frequency import psd_welch\n",
        "print(__doc__)"
      ],
      "execution_count": 2,
      "outputs": [
        {
          "output_type": "stream",
          "text": [
            "Using TensorFlow backend.\n",
            "/usr/local/lib/python3.6/dist-packages/numba/decorators.py:146: RuntimeWarning: Caching is not available when the 'parallel' target is in use. Caching is now being disabled to allow execution to continue.\n",
            "  warnings.warn(msg, RuntimeWarning)\n"
          ],
          "name": "stderr"
        },
        {
          "output_type": "stream",
          "text": [
            "Automatically created module for IPython interactive environment\n"
          ],
          "name": "stdout"
        }
      ]
    },
    {
      "cell_type": "code",
      "metadata": {
        "id": "UBEu0-3X_jWT",
        "colab_type": "code",
        "outputId": "a2ffb42f-b75b-4e28-a224-3958dd2a294e",
        "colab": {
          "base_uri": "https://localhost:8080/",
          "height": 34
        }
      },
      "source": [
        "\n",
        "\n",
        "Train_Data_number = 200000\n",
        "Test_Data_number = 50000\n",
        "\n",
        "\n",
        "\n",
        "subject_number=10\n",
        "\n",
        "new_subject_number = subject_number//5 # \n",
        "#index_new_subject = 0\n",
        "\n",
        "train_subject_number = subject_number - new_subject_number\n",
        "\n",
        "new_subject_start_index = train_subject_number\n",
        "#train_subject_number =8\n",
        "task_index = [1] # task: REO\n",
        "task_number = len(task_index)\n",
        "\n",
        "# channels \n",
        "list_channel = [60,61,62]\n",
        "ch_number = len(list_channel)\n",
        "\n",
        "task_time = 60\n",
        "\n",
        "sampel_number_per_sec = 160 # sampel rate\n",
        "total_sampel_number =  sampel_number_per_sec *task_time # 60*160\n",
        "\n",
        "inner_sample_shift = 0 # inner step len\n",
        "outer_sample_shift = 10 # outer step len\n",
        "#window_len= 20\n",
        "\n",
        "new_subject_start_index"
      ],
      "execution_count": 6,
      "outputs": [
        {
          "output_type": "execute_result",
          "data": {
            "text/plain": [
              "8"
            ]
          },
          "metadata": {
            "tags": []
          },
          "execution_count": 6
        }
      ]
    },
    {
      "cell_type": "code",
      "metadata": {
        "id": "ZcZV2EPKEe3P",
        "colab_type": "code",
        "outputId": "d590926e-2bd4-4dad-8913-e03df27a6d71",
        "colab": {
          "base_uri": "https://localhost:8080/",
          "height": 882
        }
      },
      "source": [
        "\n",
        "# load dataset in array\n",
        "list_raw_fnames = [[0]*task_number]*subject_number\n",
        "for x in range(subject_number):\n",
        "  list_raw_fnames[x] = mne.datasets.eegbci.load_data(x+1,task_index,path='/content/drive/My Drive/Deep Results/Database',update_path=False)\n",
        "\n",
        "list_rawdata = np.zeros((subject_number,task_number), dtype='object')\n",
        "\n",
        "for i in range(subject_number):\n",
        "  for j in range(task_number):\n",
        "    list_rawdata[i][j] = mne.io.read_raw_edf(list_raw_fnames[i][j], preload=True)\n",
        "\n",
        "       "
      ],
      "execution_count": 4,
      "outputs": [
        {
          "output_type": "stream",
          "text": [
            "Extracting EDF parameters from /content/drive/My Drive/Deep Results/Database/MNE-eegbci-data/physiobank/database/eegmmidb/S001/S001R01.edf...\n",
            "EDF file detected\n",
            "Setting channel info structure...\n",
            "Creating raw.info structure...\n",
            "Reading 0 ... 9759  =      0.000 ...    60.994 secs...\n",
            "Extracting EDF parameters from /content/drive/My Drive/Deep Results/Database/MNE-eegbci-data/physiobank/database/eegmmidb/S002/S002R01.edf...\n",
            "EDF file detected\n",
            "Setting channel info structure...\n",
            "Creating raw.info structure...\n",
            "Reading 0 ... 9759  =      0.000 ...    60.994 secs...\n",
            "Extracting EDF parameters from /content/drive/My Drive/Deep Results/Database/MNE-eegbci-data/physiobank/database/eegmmidb/S003/S003R01.edf...\n",
            "EDF file detected\n",
            "Setting channel info structure...\n",
            "Creating raw.info structure...\n",
            "Reading 0 ... 9759  =      0.000 ...    60.994 secs...\n",
            "Extracting EDF parameters from /content/drive/My Drive/Deep Results/Database/MNE-eegbci-data/physiobank/database/eegmmidb/S004/S004R01.edf...\n",
            "EDF file detected\n",
            "Setting channel info structure...\n",
            "Creating raw.info structure...\n",
            "Reading 0 ... 9759  =      0.000 ...    60.994 secs...\n",
            "Extracting EDF parameters from /content/drive/My Drive/Deep Results/Database/MNE-eegbci-data/physiobank/database/eegmmidb/S005/S005R01.edf...\n",
            "EDF file detected\n",
            "Setting channel info structure...\n",
            "Creating raw.info structure...\n",
            "Reading 0 ... 9759  =      0.000 ...    60.994 secs...\n",
            "Extracting EDF parameters from /content/drive/My Drive/Deep Results/Database/MNE-eegbci-data/physiobank/database/eegmmidb/S006/S006R01.edf...\n",
            "EDF file detected\n",
            "Setting channel info structure...\n",
            "Creating raw.info structure...\n",
            "Reading 0 ... 9759  =      0.000 ...    60.994 secs...\n",
            "Extracting EDF parameters from /content/drive/My Drive/Deep Results/Database/MNE-eegbci-data/physiobank/database/eegmmidb/S007/S007R01.edf...\n",
            "EDF file detected\n",
            "Setting channel info structure...\n",
            "Creating raw.info structure...\n",
            "Reading 0 ... 9759  =      0.000 ...    60.994 secs...\n",
            "Extracting EDF parameters from /content/drive/My Drive/Deep Results/Database/MNE-eegbci-data/physiobank/database/eegmmidb/S008/S008R01.edf...\n",
            "EDF file detected\n",
            "Setting channel info structure...\n",
            "Creating raw.info structure...\n",
            "Reading 0 ... 9759  =      0.000 ...    60.994 secs...\n",
            "Extracting EDF parameters from /content/drive/My Drive/Deep Results/Database/MNE-eegbci-data/physiobank/database/eegmmidb/S009/S009R01.edf...\n",
            "EDF file detected\n",
            "Setting channel info structure...\n",
            "Creating raw.info structure...\n",
            "Reading 0 ... 9759  =      0.000 ...    60.994 secs...\n",
            "Extracting EDF parameters from /content/drive/My Drive/Deep Results/Database/MNE-eegbci-data/physiobank/database/eegmmidb/S010/S010R01.edf...\n",
            "EDF file detected\n",
            "Setting channel info structure...\n",
            "Creating raw.info structure...\n",
            "Reading 0 ... 9759  =      0.000 ...    60.994 secs...\n"
          ],
          "name": "stdout"
        }
      ]
    },
    {
      "cell_type": "code",
      "metadata": {
        "id": "n8UR6JrrP3Zf",
        "colab_type": "code",
        "outputId": "7dbfa1a4-bb51-4acd-8d0e-cf33a3a066f7",
        "colab": {
          "base_uri": "https://localhost:8080/",
          "height": 34
        }
      },
      "source": [
        "subject_img_number = math.floor((total_sampel_number - sampel_number_per_sec - (window_len-1 )*inner_sample_shift) / outer_sample_shift) +1\n",
        "\n",
        "test_img_number = math.floor(subject_img_number * 0.15)\n",
        "test_img_start_index=subject_img_number - test_img_number\n",
        "train_img_number =  test_img_start_index \n",
        "\n",
        "test_img_start_index\n"
      ],
      "execution_count": 7,
      "outputs": [
        {
          "output_type": "execute_result",
          "data": {
            "text/plain": [
              "804"
            ]
          },
          "metadata": {
            "tags": []
          },
          "execution_count": 7
        }
      ]
    },
    {
      "cell_type": "code",
      "metadata": {
        "id": "3sbZYspIp9J5",
        "colab_type": "code",
        "colab": {}
      },
      "source": [
        "\n",
        "def normalize_channel_data(ch , i, ch_min, ch_max):\n",
        "    ch = ((ch - ch_min[i]) / (ch_max[i] - ch_min[i] ))\n",
        "    return ch"
      ],
      "execution_count": 0,
      "outputs": []
    },
    {
      "cell_type": "code",
      "metadata": {
        "id": "MA054T3KAZ7J",
        "colab_type": "code",
        "outputId": "1ce24fa6-e4ef-4c28-dc35-367d39a06395",
        "colab": {
          "base_uri": "https://localhost:8080/",
          "height": 71
        }
      },
      "source": [
        "# All data\n",
        "DataChannelsRaw = np.zeros((subject_number, ch_number,total_sampel_number), dtype = float)\n",
        "\n",
        "for i in range(train_subject_number):\n",
        "  for  j in range(ch_number):\n",
        "    DataChannelsRaw[i][j], times =list_rawdata[i][0][list_channel[j],:total_sampel_number]\n",
        "DataChannelsRaw_t = DataChannelsRaw.copy()\n",
        "\n",
        "#normal all data\n",
        "for i in range(subject_number):\n",
        "  ch_max =[]\n",
        "  ch_min =[]\n",
        "  for  j in range(ch_number):    \n",
        "    ch_max = np.append(ch_max, max(DataChannelsRaw_t[i][j])) # max for each cannel\n",
        "    ch_min = np.append(ch_min, min(DataChannelsRaw_t[i][j])) # min for each cannel\n",
        "    \n",
        "    # Normalize Channels\n",
        "    DataChannelsRaw_t[i][j]=normalize_channel_data(DataChannelsRaw_t[i][j], j, ch_min, ch_max)\n",
        "    \n"
      ],
      "execution_count": 9,
      "outputs": [
        {
          "output_type": "stream",
          "text": [
            "/usr/local/lib/python3.6/dist-packages/ipykernel_launcher.py:3: RuntimeWarning: invalid value encountered in true_divide\n",
            "  This is separate from the ipykernel package so we can avoid doing imports until\n"
          ],
          "name": "stderr"
        }
      ]
    },
    {
      "cell_type": "code",
      "metadata": {
        "id": "GBMeE64EfjWC",
        "colab_type": "code",
        "outputId": "1621f738-aed4-43c0-feed-0fcbb0b698d8",
        "colab": {
          "base_uri": "https://localhost:8080/",
          "height": 34
        }
      },
      "source": [
        "DataChannelsRaw_t.shape"
      ],
      "execution_count": 10,
      "outputs": [
        {
          "output_type": "execute_result",
          "data": {
            "text/plain": [
              "(10, 3, 9600)"
            ]
          },
          "metadata": {
            "tags": []
          },
          "execution_count": 10
        }
      ]
    },
    {
      "cell_type": "code",
      "metadata": {
        "id": "OLDJuFX34NMe",
        "colab_type": "code",
        "colab": {}
      },
      "source": [
        "def Extract_Data(rand_subject, rand_sample):\n",
        "\n",
        "  Rand_Data =  np.zeros((ch_number, sampel_number_per_sec), dtype = float)\n",
        "  for i in range(ch_number):\n",
        "    \n",
        "    ExtractedData = DataChannelsRaw_t[rand_subject][i, rand_sample : sampel_number_per_sec + rand_sample] \n",
        "    Rand_Data[i] = ExtractedData\n",
        "    Rand_Data_transposed = Rand_Data.T\n",
        "  return Rand_Data_transposed"
      ],
      "execution_count": 0,
      "outputs": []
    },
    {
      "cell_type": "code",
      "metadata": {
        "id": "cuaFxl6ucfXJ",
        "colab_type": "code",
        "colab": {}
      },
      "source": [
        "def Fill_input_array(Data_number, first_index_subjectA, last_index_subjectA, first_index_sampleA, last_index_sampleA,   first_index_subjectB, last_index_subjectB, first_index_sampleB, last_index_sampleB):\n",
        "  loop_counter = int(Data_number/2)\n",
        "  \n",
        "  input1 = np.zeros((Data_number, sampel_number_per_sec, ch_number), dtype = float)\n",
        "  input2 = np.zeros((Data_number, sampel_number_per_sec, ch_number), dtype = float)\n",
        "  input_label=[]\n",
        "  \n",
        "  for r in range(loop_counter):\n",
        "    # select random subject and sample A\n",
        "    rand_subjectA = random.randint(first_index_subjectA, last_index_subjectA)\n",
        "    rand_sample1_A= random.randint(first_index_sampleA, last_index_sampleA) * outer_sample_shift\n",
        "    rand_sample2_A= random.randint(first_index_sampleA, last_index_sampleA) * outer_sample_shift\n",
        "\n",
        "    # 1: Select random data from subjectA \n",
        "    rand_Data1_subjectA = Extract_Data(rand_subjectA, rand_sample1_A)\n",
        "    input1[r*2:r*2+2] = rand_Data1_subjectA\n",
        "\n",
        "    # 2: Select random data from subjectA \n",
        "    rand_Data2_subjectA = Extract_Data(rand_subjectA, rand_sample2_A)\n",
        "    input2[r*2] = rand_Data2_subjectA\n",
        "\n",
        "    #set label 1\n",
        "    input_label = np.append(input_label, 1) \n",
        "\n",
        "\n",
        "\n",
        "    # select random subject and sample B\n",
        "    rand_sampleB= random.randint(first_index_sampleB, last_index_sampleB) * outer_sample_shift\n",
        "    rand_subjectB = random.randint(first_index_subjectB, last_index_subjectB)\n",
        "    # A != B\n",
        "    while rand_subjectA == rand_subjectB:\n",
        "      rand_subjectB = random.randint(first_index_subjectB, last_index_subjectB)\n",
        "\n",
        "    # Select random data from subjectB\n",
        "    rand_Data_subjectB = Extract_Data(rand_subjectB, rand_sampleB)\n",
        "    input2[r*2+1] = rand_Data_subjectB\n",
        "\n",
        "    #set label 0\n",
        "    input_label = np.append(input_label, 0)\n",
        "    \n",
        "  return input1, input2, input_label\n"
      ],
      "execution_count": 0,
      "outputs": []
    },
    {
      "cell_type": "code",
      "metadata": {
        "id": "9dT3ANO1gsS0",
        "colab_type": "code",
        "colab": {}
      },
      "source": [
        "# **create Train Data \n",
        "\n",
        "Train_input1, Train_input2, train_label = Fill_input_array(Train_Data_number, 0, train_subject_number-1, 0, train_img_number-1, 0, train_subject_number-1, 0, train_img_number-1)\n",
        "\n",
        "train_label = to_categorical(train_label, 2)\n"
      ],
      "execution_count": 0,
      "outputs": []
    },
    {
      "cell_type": "code",
      "metadata": {
        "id": "8OP_wCi8EZtx",
        "colab_type": "code",
        "colab": {
          "base_uri": "https://localhost:8080/",
          "height": 34
        },
        "outputId": "eeb68bab-7a5d-4464-d983-237eb0c4ce6f"
      },
      "source": [
        "\n",
        "\n",
        "'''\n",
        "\n",
        "Train_input1_transpose = Train_input1.T\n",
        "Train_input2_transpose = Train_input2.T\n",
        "Train_input1_transpose.shape\n",
        "'''"
      ],
      "execution_count": 35,
      "outputs": [
        {
          "output_type": "execute_result",
          "data": {
            "text/plain": [
              "(160, 3, 200000)"
            ]
          },
          "metadata": {
            "tags": []
          },
          "execution_count": 35
        }
      ]
    },
    {
      "cell_type": "code",
      "metadata": {
        "id": "a9KcOphdgAi5",
        "colab_type": "code",
        "outputId": "7518d82f-218d-4757-a9d9-fdd679adf199",
        "colab": {
          "base_uri": "https://localhost:8080/",
          "height": 135
        }
      },
      "source": [
        "train_label"
      ],
      "execution_count": 39,
      "outputs": [
        {
          "output_type": "execute_result",
          "data": {
            "text/plain": [
              "array([[0., 1.],\n",
              "       [1., 0.],\n",
              "       [0., 1.],\n",
              "       ...,\n",
              "       [1., 0.],\n",
              "       [0., 1.],\n",
              "       [1., 0.]], dtype=float32)"
            ]
          },
          "metadata": {
            "tags": []
          },
          "execution_count": 39
        }
      ]
    },
    {
      "cell_type": "code",
      "metadata": {
        "id": "WGZ4G1VzdSTd",
        "colab_type": "code",
        "colab": {}
      },
      "source": [
        "validation_index = math.floor( Train_Data_number * 0.2)\n",
        "\n",
        "\n",
        "# validation & train\n",
        "\n",
        "#train\n",
        "x_train_1 =Train_input1[validation_index:]\n",
        "x_train_2 =Train_input2[validation_index:]\n",
        "\n",
        "y_train =train_label[validation_index:]\n",
        "\n",
        "#validation\n",
        "x_validation_1 =Train_input1[:validation_index]\n",
        "x_validation_2 =Train_input2[:validation_index] \n",
        "\n",
        "y_valid =train_label[:validation_index]\n",
        "\n",
        "#x_valid.shape"
      ],
      "execution_count": 0,
      "outputs": []
    },
    {
      "cell_type": "code",
      "metadata": {
        "id": "cKAlqekGd97l",
        "colab_type": "code",
        "colab": {}
      },
      "source": [
        "\n",
        "from keras import layers\n",
        "from keras import models\n",
        "from keras import regularizers\n",
        "#from keras.layers import Dense, Merge\n",
        "from keras.layers import *\n",
        "from keras.layers import Conv1D\n",
        "from keras.models import Model\n",
        "\n",
        "\n",
        "\n",
        "'''\n",
        "model = Sequential()\n",
        "\tmodel.add(Conv1D(filters=64, kernel_size=3, activation='relu', input_shape=(n_timesteps,n_features)))\n",
        "\tmodel.add(Conv1D(filters=64, kernel_size=3, activation='relu'))\n",
        "\tmodel.add(Dropout(0.5))\n",
        "\tmodel.add(MaxPooling1D(pool_size=2))\n",
        "\tmodel.add(Flatten())\n",
        "'''\n",
        "cnn1 = models.Sequential()\n",
        "cnn1.add(layers.Conv1D(filters=64, kernel_size=3, activation='relu', input_shape= (sampel_number_per_sec, ch_number) ))\n",
        "cnn1.add(layers.Conv1D(filters=64, kernel_size=3, activation='relu'))\n",
        "cnn1.add(layers.Flatten())\n",
        "\n",
        "\n",
        "cnn2 = models.Sequential()\n",
        "cnn2.add(layers.Conv1D(filters=64, kernel_size=3, activation='relu', input_shape= (sampel_number_per_sec, ch_number) ))\n",
        "cnn2.add(layers.Conv1D(filters=64, kernel_size=3, activation='relu'))\n",
        "cnn2.add(layers.Flatten())\n",
        "\n",
        "\n",
        "'''\n",
        "print(cnn1.output.shape)\n",
        "cnn1.add(layers.MaxPooling2D((2,2)))\n",
        "print(cnn1.output.shape)\n",
        "cnn1.add(layers.Conv2D(128, (3,3), activation = 'relu'))\n",
        "print(cnn1.output.shape)\n",
        "cnn1.add(layers.MaxPooling2D((2,2)))\n",
        "print(cnn1.output.shape)\n",
        "cnn1.add(layers.Conv2D(256, (3,3), activation = 'relu'))\n",
        "print(cnn1.output.shape)\n",
        "cnn1.add(layers.MaxPooling2D((2,2)))\n",
        "cnn1.add(layers.Flatten())\n",
        "print(cnn1.output.shape)\n",
        "\n",
        "'''\n",
        "\n",
        "'''\n",
        "cnn2 = models.Sequential()\n",
        "cnn2.add(layers.Conv2D(64, (3,3), activation = 'relu', padding='same', input_shape = (ch_number,window_len,sampel_number_per_sec), data_format= \"channels_first\" ))\n",
        "print(cnn2.output.shape)\n",
        "cnn2.add(layers.MaxPooling2D((2,2)))\n",
        "print(cnn2.output.shape)\n",
        "cnn2.add(layers.Conv2D(128, (3,3), activation = 'relu'))\n",
        "print(cnn2.output.shape)\n",
        "cnn2.add(layers.MaxPooling2D((2,2)))\n",
        "print(cnn2.output.shape)\n",
        "cnn2.add(layers.Conv2D(256, (3,3), activation = 'relu'))\n",
        "print(cnn2.output.shape)\n",
        "cnn2.add(layers.MaxPooling2D((2,2)))\n",
        "cnn2.add(layers.Flatten())\n",
        "print(cnn2.output.shape)\n",
        "'''\n",
        "\n",
        "\n",
        "mergedOut = Concatenate()([cnn1.output,cnn2.output])\n",
        "\n",
        "#mergedOut = Flatten()(mergedOut)    \n",
        "mergedOut = Dense(64, activation='relu')(mergedOut)\n",
        "#mergedOut = Dropout(.5)(mergedOut)\n",
        "\n",
        "# output layer\n",
        "mergedOut = Dense(2, activation='sigmoid')(mergedOut)\n",
        "\n",
        "newModel = Model([cnn1.input,cnn2.input], mergedOut)\n",
        "\n",
        "#model = models.Sequential()\n",
        "#model.add(layers.Concatenate([cnn1,cnn2]))\n",
        "#model.add(layers.Dense(512, activation = 'relu'))\n",
        "#model.add(layers.Dropout(0.5))\n",
        "#print(model.output.shape)\n",
        "#model.add(layers.Dense(2, activation = 'sigmoid'))\n",
        "#print(model.output.shape)\n",
        "\n",
        "\n",
        "from keras import optimizers\n",
        "\n",
        "newModel.compile(loss= 'binary_crossentropy',\n",
        "              optimizer= optimizers.RMSprop(lr= 1e-4),\n",
        "              metrics = ['acc'])"
      ],
      "execution_count": 0,
      "outputs": []
    },
    {
      "cell_type": "code",
      "metadata": {
        "id": "Xq9Xt7uAeGT1",
        "colab_type": "code",
        "outputId": "5545192b-21c2-4452-dccc-b581085988e7",
        "colab": {
          "base_uri": "https://localhost:8080/",
          "height": 392
        }
      },
      "source": [
        "history = newModel.fit(\n",
        "        [x_train_1, x_train_2],\n",
        "        y_train,\n",
        "        epochs = 10,\n",
        "        batch_size = 50,\n",
        "        validation_data = ([x_validation_1, x_validation_2], y_valid)\n",
        ")"
      ],
      "execution_count": 61,
      "outputs": [
        {
          "output_type": "stream",
          "text": [
            "Train on 160000 samples, validate on 40000 samples\n",
            "Epoch 1/10\n",
            "160000/160000 [==============================] - 32s 200us/step - loss: 0.5394 - acc: 0.6836 - val_loss: 0.4203 - val_acc: 0.8518\n",
            "Epoch 2/10\n",
            "160000/160000 [==============================] - 31s 193us/step - loss: 0.3123 - acc: 0.8745 - val_loss: 0.2330 - val_acc: 0.9224\n",
            "Epoch 3/10\n",
            "160000/160000 [==============================] - 31s 193us/step - loss: 0.1755 - acc: 0.9365 - val_loss: 0.1339 - val_acc: 0.9527\n",
            "Epoch 4/10\n",
            "160000/160000 [==============================] - 31s 194us/step - loss: 0.1292 - acc: 0.9563 - val_loss: 0.1112 - val_acc: 0.9626\n",
            "Epoch 5/10\n",
            "160000/160000 [==============================] - 31s 193us/step - loss: 0.1084 - acc: 0.9649 - val_loss: 0.0979 - val_acc: 0.9652\n",
            "Epoch 6/10\n",
            "160000/160000 [==============================] - 31s 194us/step - loss: 0.0937 - acc: 0.9691 - val_loss: 0.0844 - val_acc: 0.9763\n",
            "Epoch 7/10\n",
            "160000/160000 [==============================] - 31s 195us/step - loss: 0.0835 - acc: 0.9724 - val_loss: 0.0693 - val_acc: 0.9765\n",
            "Epoch 8/10\n",
            "160000/160000 [==============================] - 31s 194us/step - loss: 0.0744 - acc: 0.9755 - val_loss: 0.0649 - val_acc: 0.9785\n",
            "Epoch 9/10\n",
            "160000/160000 [==============================] - 31s 196us/step - loss: 0.0664 - acc: 0.9787 - val_loss: 0.0706 - val_acc: 0.9762\n",
            "Epoch 10/10\n",
            "160000/160000 [==============================] - 31s 196us/step - loss: 0.0604 - acc: 0.9808 - val_loss: 0.0518 - val_acc: 0.9854\n"
          ],
          "name": "stdout"
        }
      ]
    },
    {
      "cell_type": "code",
      "metadata": {
        "id": "cMeKOFDYWd5f",
        "colab_type": "code",
        "outputId": "48dd32d3-6349-481a-fe5b-cde572b192a3",
        "colab": {
          "base_uri": "https://localhost:8080/",
          "height": 51
        }
      },
      "source": [
        "# **create Test Data 1 ( A : from train subject , B: from train subject ) \n",
        "\n",
        "test_input1, test_input2, test_label = Fill_input_array(Test_Data_number, 0, train_subject_number-1, test_img_start_index, subject_img_number-1, 0, train_subject_number-1, test_img_start_index, subject_img_number-1)\n",
        "\n",
        "test_label = to_categorical(test_label, 2)\n",
        "newModel.evaluate([test_input1, test_input2], test_label)"
      ],
      "execution_count": 62,
      "outputs": [
        {
          "output_type": "stream",
          "text": [
            "50000/50000 [==============================] - 5s 95us/step\n"
          ],
          "name": "stdout"
        },
        {
          "output_type": "execute_result",
          "data": {
            "text/plain": [
              "[0.04810248671501875, 0.98349]"
            ]
          },
          "metadata": {
            "tags": []
          },
          "execution_count": 62
        }
      ]
    },
    {
      "cell_type": "code",
      "metadata": {
        "id": "x6saO0YcZ7hV",
        "colab_type": "code",
        "outputId": "32dc648d-5d1f-4e79-b37c-afc2a833d28c",
        "colab": {
          "base_uri": "https://localhost:8080/",
          "height": 51
        }
      },
      "source": [
        "# **create Test Data 2 ( A : from train subject , B: from new subject ) \n",
        "\n",
        "test_input1, test_input2, test_label = Fill_input_array(Test_Data_number, 0, train_subject_number-1, 9, subject_img_number-1, new_subject_start_index, subject_number-1, 0, subject_img_number-1)\n",
        "test_label = to_categorical(test_label, 2)\n",
        "\n",
        "newModel.evaluate([test_input1, test_input2], test_label)"
      ],
      "execution_count": 63,
      "outputs": [
        {
          "output_type": "stream",
          "text": [
            "50000/50000 [==============================] - 5s 96us/step\n"
          ],
          "name": "stdout"
        },
        {
          "output_type": "execute_result",
          "data": {
            "text/plain": [
              "[0.06217972362366505, 0.98373]"
            ]
          },
          "metadata": {
            "tags": []
          },
          "execution_count": 63
        }
      ]
    },
    {
      "cell_type": "code",
      "metadata": {
        "id": "uCSaEZ_MbMp6",
        "colab_type": "code",
        "outputId": "99668692-8bbc-4c54-e968-22d95f750814",
        "colab": {
          "base_uri": "https://localhost:8080/",
          "height": 51
        }
      },
      "source": [
        "# **create Test Data 3 ( A : from new subject , B: from train subject ) \n",
        "\n",
        "test_input1, test_input2, test_label = Fill_input_array(Test_Data_number, new_subject_start_index, subject_number-1, 0, subject_img_number-1, 0, train_subject_number-1, test_img_start_index, subject_img_number-1)\n",
        "test_label = to_categorical(test_label, 2)\n",
        "\n",
        "newModel.evaluate([test_input1, test_input2], test_label)"
      ],
      "execution_count": 64,
      "outputs": [
        {
          "output_type": "stream",
          "text": [
            "50000/50000 [==============================] - 5s 96us/step\n"
          ],
          "name": "stdout"
        },
        {
          "output_type": "execute_result",
          "data": {
            "text/plain": [
              "[0.16500932476520538, 1.0]"
            ]
          },
          "metadata": {
            "tags": []
          },
          "execution_count": 64
        }
      ]
    },
    {
      "cell_type": "code",
      "metadata": {
        "id": "8XmqFspqbsDx",
        "colab_type": "code",
        "outputId": "bed1e01e-ca7b-44ae-c14a-5ef99b650144",
        "colab": {
          "base_uri": "https://localhost:8080/",
          "height": 51
        }
      },
      "source": [
        "# **create Test Data 4 ( A : from new subject , B: from new subject ) \n",
        "\n",
        "test_input1, test_input2, test_label = Fill_input_array(Test_Data_number, new_subject_start_index, subject_number-1, 0, subject_img_number-1, new_subject_start_index, subject_number-1, 0, subject_img_number-1)\n",
        "\n",
        "test_label = to_categorical(test_label, 2)\n",
        "newModel.evaluate([test_input1, test_input2], test_label)"
      ],
      "execution_count": 65,
      "outputs": [
        {
          "output_type": "stream",
          "text": [
            "50000/50000 [==============================] - 5s 96us/step\n"
          ],
          "name": "stdout"
        },
        {
          "output_type": "execute_result",
          "data": {
            "text/plain": [
              "[0.8122519254684448, 0.5]"
            ]
          },
          "metadata": {
            "tags": []
          },
          "execution_count": 65
        }
      ]
    },
    {
      "cell_type": "code",
      "metadata": {
        "id": "XY7uBufGcc_5",
        "colab_type": "code",
        "outputId": "c5ffe986-a672-446d-ab0d-b1b46fd0916f",
        "colab": {
          "base_uri": "https://localhost:8080/",
          "height": 295
        }
      },
      "source": [
        "import matplotlib.pyplot as plt\n",
        "\n",
        "history_dict = history.history \n",
        "loss_values = history_dict ['loss'] \n",
        "val_loss_values = history_dict['val_loss']\n",
        "epochs = range(1, len(loss_values) + 1)\n",
        "\n",
        "plt.plot(epochs, loss_values, 'bo', label='Training loss') \n",
        "plt.plot(epochs, val_loss_values, 'b', label='Validation loss') \n",
        "plt.title('Training and validation loss') \n",
        "plt.xlabel('Epochs') \n",
        "plt.ylabel('Loss') \n",
        "plt.legend()\n",
        "plt.show()"
      ],
      "execution_count": 66,
      "outputs": [
        {
          "output_type": "display_data",
          "data": {
            "image/png": "[encoded data removed]",
            "text/plain": [
              "<Figure size 432x288 with 1 Axes>"
            ]
          },
          "metadata": {
            "tags": []
          }
        }
      ]
    },
    {
      "cell_type": "code",
      "metadata": {
        "id": "sj6804cknwnW",
        "colab_type": "code",
        "outputId": "ba6e0bde-7957-417f-a084-198055be8147",
        "colab": {
          "base_uri": "https://localhost:8080/",
          "height": 295
        }
      },
      "source": [
        "history_dict = history.history \n",
        "acc_values = history_dict ['acc'] \n",
        "val_acc_values = history_dict['val_acc']\n",
        "\n",
        "plt.plot(epochs, acc_values, 'bo', label='Training acc') \n",
        "plt.plot(epochs, val_acc_values, 'b', label='Validation acc') \n",
        "plt.title('Training and validation acc') \n",
        "plt.xlabel('Epochs') \n",
        "plt.ylabel('acc') \n",
        "plt.legend()\n",
        "plt.show()"
      ],
      "execution_count": 67,
      "outputs": [
        {
          "output_type": "display_data",
          "data": {
            "image/png": "[encoded data removed]",
            "text/plain": [
              "<Figure size 432x288 with 1 Axes>"
            ]
          },
          "metadata": {
            "tags": []
          }
        }
      ]
    },
    {
      "cell_type": "code",
      "metadata": {
        "id": "4DEhc3ZaoFhd",
        "colab_type": "code",
        "colab": {}
      },
      "source": [
        ""
      ],
      "execution_count": 0,
      "outputs": []
    }
  ]
}